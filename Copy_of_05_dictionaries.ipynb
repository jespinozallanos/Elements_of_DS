{
  "nbformat": 4,
  "nbformat_minor": 0,
  "metadata": {
    "kernelspec": {
      "display_name": "Python 3",
      "language": "python",
      "name": "python3"
    },
    "language_info": {
      "codemirror_mode": {
        "name": "ipython",
        "version": 3
      },
      "file_extension": ".py",
      "mimetype": "text/x-python",
      "name": "python",
      "nbconvert_exporter": "python",
      "pygments_lexer": "ipython3",
      "version": "3.7.4"
    },
    "colab": {
      "name": "Copy of 05_dictionaries.ipynb",
      "provenance": [],
      "collapsed_sections": [],
      "include_colab_link": true
    }
  },
  "cells": [
    {
      "cell_type": "markdown",
      "metadata": {
        "id": "view-in-github",
        "colab_type": "text"
      },
      "source": [
        "<a href=\"https://colab.research.google.com/github/mindyng/Elements_of_DS/blob/master/Copy_of_05_dictionaries.ipynb\" target=\"_parent\"><img src=\"https://colab.research.google.com/assets/colab-badge.svg\" alt=\"Open In Colab\"/></a>"
      ]
    },
    {
      "cell_type": "markdown",
      "metadata": {
        "id": "1-am3q7EOLjA",
        "colab_type": "text"
      },
      "source": [
        "# Dictionaries\n",
        "\n",
        "Elements of Data Science\n",
        "\n",
        "by [Allen Downey](https://allendowney.com)\n",
        "\n",
        "[MIT License](https://opensource.org/licenses/MIT)\n",
        "\n",
        "### Goals\n",
        "\n",
        "In the previous notebook we used a `for` loop to read a file and count the words.  In this notebook, you'll learn about a new type called a \"dictionary\", and we will use it to count the number of unique words and the number of times each one appears.\n",
        "\n",
        "Along the way, you will also see how to use an index to select an element from a sequence (tuple, list, or array).  And you will learn a little about Unicode, which is used to represent letters, numbers, and punctuation for almost every language in the world."
      ]
    },
    {
      "cell_type": "markdown",
      "metadata": {
        "id": "uDKb6zBpOLjM",
        "colab_type": "text"
      },
      "source": [
        "## Indexing\n",
        "\n",
        "Suppose you have a variable named `t` that refers to a list or tuple.\n",
        "You can select an element using the bracket operator, `[]`.  \n",
        "\n",
        "For example, here's a tuple of strings:"
      ]
    },
    {
      "cell_type": "code",
      "metadata": {
        "id": "BOmcSEHHOLjU",
        "colab_type": "code",
        "colab": {}
      },
      "source": [
        "t = 'zero', 'one', 'two'"
      ],
      "execution_count": 0,
      "outputs": []
    },
    {
      "cell_type": "markdown",
      "metadata": {
        "id": "LJdl0BaWOLjq",
        "colab_type": "text"
      },
      "source": [
        "To select the first element, we put `0` in brackets:"
      ]
    },
    {
      "cell_type": "code",
      "metadata": {
        "id": "SAl86BdJOLjt",
        "colab_type": "code",
        "outputId": "3b802bf9-2ea2-4450-db24-74659439f692",
        "colab": {
          "base_uri": "https://localhost:8080/",
          "height": 34
        }
      },
      "source": [
        "t[0]"
      ],
      "execution_count": 0,
      "outputs": [
        {
          "output_type": "execute_result",
          "data": {
            "text/plain": [
              "'zero'"
            ]
          },
          "metadata": {
            "tags": []
          },
          "execution_count": 2
        }
      ]
    },
    {
      "cell_type": "markdown",
      "metadata": {
        "id": "ZUvNhlDwOLj5",
        "colab_type": "text"
      },
      "source": [
        "To select the second element, we put `1` in brackets:"
      ]
    },
    {
      "cell_type": "code",
      "metadata": {
        "id": "tpQr5yAxOLj8",
        "colab_type": "code",
        "outputId": "200164a8-1d6b-4468-abe8-44b08f0122b3",
        "colab": {
          "base_uri": "https://localhost:8080/",
          "height": 34
        }
      },
      "source": [
        "t[1]"
      ],
      "execution_count": 0,
      "outputs": [
        {
          "output_type": "execute_result",
          "data": {
            "text/plain": [
              "'one'"
            ]
          },
          "metadata": {
            "tags": []
          },
          "execution_count": 3
        }
      ]
    },
    {
      "cell_type": "markdown",
      "metadata": {
        "id": "e2GVq-8EOLkK",
        "colab_type": "text"
      },
      "source": [
        "\n",
        "To select the third element, we put `2` in brackets:"
      ]
    },
    {
      "cell_type": "code",
      "metadata": {
        "id": "rKHgninfOLkN",
        "colab_type": "code",
        "outputId": "4ca136b7-e50e-4e03-bef3-ef35d9039a0a",
        "colab": {
          "base_uri": "https://localhost:8080/",
          "height": 34
        }
      },
      "source": [
        "t[2]"
      ],
      "execution_count": 0,
      "outputs": [
        {
          "output_type": "execute_result",
          "data": {
            "text/plain": [
              "'two'"
            ]
          },
          "metadata": {
            "tags": []
          },
          "execution_count": 4
        }
      ]
    },
    {
      "cell_type": "markdown",
      "metadata": {
        "id": "zJV6kiA1OLkZ",
        "colab_type": "text"
      },
      "source": [
        "The number in brackets is called an \"index\" because it indicates which element we want.\n",
        "\n",
        "Tuples and lists use [zero-based numbering](https://en.wikipedia.org/wiki/Zero-based_numbering); that is, the index of the first element is 0.  Some other programming languages use one-based numbering.  There are pros and cons of both systems.\n",
        "\n",
        "The index in brackets can also be a variable:"
      ]
    },
    {
      "cell_type": "code",
      "metadata": {
        "id": "y2eXjHyIOLkc",
        "colab_type": "code",
        "outputId": "5aacb2e4-63bd-457f-a80a-50ba94c3ff8f",
        "colab": {
          "base_uri": "https://localhost:8080/",
          "height": 34
        }
      },
      "source": [
        "i = 1\n",
        "t[i]"
      ],
      "execution_count": 0,
      "outputs": [
        {
          "output_type": "execute_result",
          "data": {
            "text/plain": [
              "'one'"
            ]
          },
          "metadata": {
            "tags": []
          },
          "execution_count": 5
        }
      ]
    },
    {
      "cell_type": "markdown",
      "metadata": {
        "id": "c1s2dGqMOLkn",
        "colab_type": "text"
      },
      "source": [
        "Or an expression with variables, values, and operators:"
      ]
    },
    {
      "cell_type": "code",
      "metadata": {
        "id": "gv0FQnSzOLkp",
        "colab_type": "code",
        "outputId": "829c8314-3e07-4765-bdf7-78f2363e0e3a",
        "colab": {
          "base_uri": "https://localhost:8080/",
          "height": 34
        }
      },
      "source": [
        "t[i+1]"
      ],
      "execution_count": 0,
      "outputs": [
        {
          "output_type": "execute_result",
          "data": {
            "text/plain": [
              "'two'"
            ]
          },
          "metadata": {
            "tags": []
          },
          "execution_count": 6
        }
      ]
    },
    {
      "cell_type": "markdown",
      "metadata": {
        "id": "e4sjAYx1OLkv",
        "colab_type": "text"
      },
      "source": [
        "But if the index goes past the end of the list or tuple, you get an error:"
      ]
    },
    {
      "cell_type": "code",
      "metadata": {
        "id": "538CBo5eOLkw",
        "colab_type": "code",
        "outputId": "7519e43f-77c9-49f8-e800-bec2f3717b42",
        "colab": {
          "base_uri": "https://localhost:8080/",
          "height": 164
        }
      },
      "source": [
        "t[3]"
      ],
      "execution_count": 0,
      "outputs": [
        {
          "output_type": "error",
          "ename": "IndexError",
          "evalue": "ignored",
          "traceback": [
            "\u001b[0;31m---------------------------------------------------------------------------\u001b[0m",
            "\u001b[0;31mIndexError\u001b[0m                                Traceback (most recent call last)",
            "\u001b[0;32m<ipython-input-7-ffabd0b4a246>\u001b[0m in \u001b[0;36m<module>\u001b[0;34m()\u001b[0m\n\u001b[0;32m----> 1\u001b[0;31m \u001b[0mt\u001b[0m\u001b[0;34m[\u001b[0m\u001b[0;36m3\u001b[0m\u001b[0;34m]\u001b[0m\u001b[0;34m\u001b[0m\u001b[0;34m\u001b[0m\u001b[0m\n\u001b[0m",
            "\u001b[0;31mIndexError\u001b[0m: tuple index out of range"
          ]
        }
      ]
    },
    {
      "cell_type": "markdown",
      "metadata": {
        "id": "mI0CAYUZOLk4",
        "colab_type": "text"
      },
      "source": [
        "The index has to be an integer; if it is any other type, you get an error."
      ]
    },
    {
      "cell_type": "code",
      "metadata": {
        "id": "3eTO4Mv0OLk7",
        "colab_type": "code",
        "outputId": "8d9ea6b8-c0ac-465a-e87a-4fe6f89cc9f0",
        "colab": {
          "base_uri": "https://localhost:8080/",
          "height": 164
        }
      },
      "source": [
        "t[1.5]"
      ],
      "execution_count": 0,
      "outputs": [
        {
          "output_type": "error",
          "ename": "TypeError",
          "evalue": "ignored",
          "traceback": [
            "\u001b[0;31m---------------------------------------------------------------------------\u001b[0m",
            "\u001b[0;31mTypeError\u001b[0m                                 Traceback (most recent call last)",
            "\u001b[0;32m<ipython-input-8-9db65ba33973>\u001b[0m in \u001b[0;36m<module>\u001b[0;34m()\u001b[0m\n\u001b[0;32m----> 1\u001b[0;31m \u001b[0mt\u001b[0m\u001b[0;34m[\u001b[0m\u001b[0;36m1.5\u001b[0m\u001b[0;34m]\u001b[0m\u001b[0;34m\u001b[0m\u001b[0;34m\u001b[0m\u001b[0m\n\u001b[0m",
            "\u001b[0;31mTypeError\u001b[0m: tuple indices must be integers or slices, not float"
          ]
        }
      ]
    },
    {
      "cell_type": "code",
      "metadata": {
        "id": "lORl6bZYOLlB",
        "colab_type": "code",
        "outputId": "e2a55ec1-dfae-4fec-d795-61a23509fa04",
        "colab": {
          "base_uri": "https://localhost:8080/",
          "height": 164
        }
      },
      "source": [
        "t['index']"
      ],
      "execution_count": 0,
      "outputs": [
        {
          "output_type": "error",
          "ename": "TypeError",
          "evalue": "ignored",
          "traceback": [
            "\u001b[0;31m---------------------------------------------------------------------------\u001b[0m",
            "\u001b[0;31mTypeError\u001b[0m                                 Traceback (most recent call last)",
            "\u001b[0;32m<ipython-input-9-261e48520458>\u001b[0m in \u001b[0;36m<module>\u001b[0;34m()\u001b[0m\n\u001b[0;32m----> 1\u001b[0;31m \u001b[0mt\u001b[0m\u001b[0;34m[\u001b[0m\u001b[0;34m'index'\u001b[0m\u001b[0;34m]\u001b[0m\u001b[0;34m\u001b[0m\u001b[0;34m\u001b[0m\u001b[0m\n\u001b[0m",
            "\u001b[0;31mTypeError\u001b[0m: tuple indices must be integers or slices, not str"
          ]
        }
      ]
    },
    {
      "cell_type": "markdown",
      "metadata": {
        "id": "nWVfFEQmOLlI",
        "colab_type": "text"
      },
      "source": [
        "**Exercise:** You can use negative integers as indices.  Try using `-1` and `-2` as indices, and see if you can figure out what they do. "
      ]
    },
    {
      "cell_type": "code",
      "metadata": {
        "id": "Ej7I_n2sOLlK",
        "colab_type": "code",
        "outputId": "1a7e4bd9-4ee6-42cd-b6d4-5a4bc76dca10",
        "colab": {
          "base_uri": "https://localhost:8080/",
          "height": 34
        }
      },
      "source": [
        "t[-1]"
      ],
      "execution_count": 0,
      "outputs": [
        {
          "output_type": "execute_result",
          "data": {
            "text/plain": [
              "'two'"
            ]
          },
          "metadata": {
            "tags": []
          },
          "execution_count": 10
        }
      ]
    },
    {
      "cell_type": "code",
      "metadata": {
        "id": "yYOCWwSnOLlS",
        "colab_type": "code",
        "outputId": "0d0da326-5068-46f4-9659-ddfa52103adb",
        "colab": {
          "base_uri": "https://localhost:8080/",
          "height": 34
        }
      },
      "source": [
        "t[-2]"
      ],
      "execution_count": 0,
      "outputs": [
        {
          "output_type": "execute_result",
          "data": {
            "text/plain": [
              "'one'"
            ]
          },
          "metadata": {
            "tags": []
          },
          "execution_count": 11
        }
      ]
    },
    {
      "cell_type": "markdown",
      "metadata": {
        "id": "pbZR6VABOLlZ",
        "colab_type": "text"
      },
      "source": [
        "## Dictionaries\n",
        "\n",
        "A dictionary is similar to a tuple or list, but in a dictionary, the index can be almost any type, not just an integer.\n",
        "\n",
        "We can create an empty dictionary like this:"
      ]
    },
    {
      "cell_type": "code",
      "metadata": {
        "id": "ayyogiB8OLla",
        "colab_type": "code",
        "colab": {}
      },
      "source": [
        "d = {}"
      ],
      "execution_count": 0,
      "outputs": []
    },
    {
      "cell_type": "markdown",
      "metadata": {
        "id": "4J8H4I5EOLll",
        "colab_type": "text"
      },
      "source": [
        "Then we can add elements like this:"
      ]
    },
    {
      "cell_type": "code",
      "metadata": {
        "id": "jR9tQnYNOLlm",
        "colab_type": "code",
        "colab": {}
      },
      "source": [
        "d['one'] = 1\n",
        "d['two'] = 2"
      ],
      "execution_count": 0,
      "outputs": []
    },
    {
      "cell_type": "markdown",
      "metadata": {
        "id": "TX-KH0tWOLlu",
        "colab_type": "text"
      },
      "source": [
        "If you display the dictionary, it shows each index and the corresponding value. "
      ]
    },
    {
      "cell_type": "code",
      "metadata": {
        "id": "mq4uTQTCOLlv",
        "colab_type": "code",
        "outputId": "03f4b706-f666-42e7-8310-479f160d8b56",
        "colab": {
          "base_uri": "https://localhost:8080/",
          "height": 34
        }
      },
      "source": [
        "d"
      ],
      "execution_count": 0,
      "outputs": [
        {
          "output_type": "execute_result",
          "data": {
            "text/plain": [
              "{'one': 1, 'two': 2}"
            ]
          },
          "metadata": {
            "tags": []
          },
          "execution_count": 14
        }
      ]
    },
    {
      "cell_type": "markdown",
      "metadata": {
        "id": "osYxHXJHOLl2",
        "colab_type": "text"
      },
      "source": [
        "Instead of creating an empty dictionary and then adding elements, you can create a dictionary and specify the elements at the same time:"
      ]
    },
    {
      "cell_type": "code",
      "metadata": {
        "id": "frKCBP1_OLl4",
        "colab_type": "code",
        "outputId": "9ae6bc9f-fdcf-4300-b563-5e3599399bfa",
        "colab": {
          "base_uri": "https://localhost:8080/",
          "height": 34
        }
      },
      "source": [
        "d = {'one': 1, 'two': 2, 'three': 3}\n",
        "d"
      ],
      "execution_count": 0,
      "outputs": [
        {
          "output_type": "execute_result",
          "data": {
            "text/plain": [
              "{'one': 1, 'three': 3, 'two': 2}"
            ]
          },
          "metadata": {
            "tags": []
          },
          "execution_count": 15
        }
      ]
    },
    {
      "cell_type": "markdown",
      "metadata": {
        "id": "-yR34ZrcOLl-",
        "colab_type": "text"
      },
      "source": [
        "When we are talking about dictionaries, an index is usually called a \"key\".  In this example, the keys are strings and the corresponding values are integers.\n",
        "\n",
        "A dictionary is also called a \"map\", because it represents a mapping, in the sense of a correspondence, between keys and values.  So we might say that this dictionary \"maps from\" English number names to the corresponding integers.\n",
        "\n",
        "You can use the bracket operator to select an element from a dictionary, like this:"
      ]
    },
    {
      "cell_type": "code",
      "metadata": {
        "id": "a7wDc7rNOLmA",
        "colab_type": "code",
        "outputId": "b32204bb-c573-425a-d452-691bc7af86fe",
        "colab": {
          "base_uri": "https://localhost:8080/",
          "height": 34
        }
      },
      "source": [
        "d['two']"
      ],
      "execution_count": 0,
      "outputs": [
        {
          "output_type": "execute_result",
          "data": {
            "text/plain": [
              "2"
            ]
          },
          "metadata": {
            "tags": []
          },
          "execution_count": 16
        }
      ]
    },
    {
      "cell_type": "markdown",
      "metadata": {
        "id": "oLrOcMKrOLmK",
        "colab_type": "text"
      },
      "source": [
        "But don't forget the quotation marks.  If you write something like this:"
      ]
    },
    {
      "cell_type": "code",
      "metadata": {
        "id": "YWTMD-vDOLmM",
        "colab_type": "code",
        "outputId": "29f28f47-c905-4eb8-c1b4-fea80605fb65",
        "colab": {
          "base_uri": "https://localhost:8080/",
          "height": 164
        }
      },
      "source": [
        "d[two]"
      ],
      "execution_count": 0,
      "outputs": [
        {
          "output_type": "error",
          "ename": "NameError",
          "evalue": "ignored",
          "traceback": [
            "\u001b[0;31m---------------------------------------------------------------------------\u001b[0m",
            "\u001b[0;31mNameError\u001b[0m                                 Traceback (most recent call last)",
            "\u001b[0;32m<ipython-input-17-59afea98a974>\u001b[0m in \u001b[0;36m<module>\u001b[0;34m()\u001b[0m\n\u001b[0;32m----> 1\u001b[0;31m \u001b[0md\u001b[0m\u001b[0;34m[\u001b[0m\u001b[0mtwo\u001b[0m\u001b[0;34m]\u001b[0m\u001b[0;34m\u001b[0m\u001b[0;34m\u001b[0m\u001b[0m\n\u001b[0m",
            "\u001b[0;31mNameError\u001b[0m: name 'two' is not defined"
          ]
        }
      ]
    },
    {
      "cell_type": "markdown",
      "metadata": {
        "id": "vf10rYkSOLmR",
        "colab_type": "text"
      },
      "source": [
        "Python looks for a variable named `two` and doesn't find one."
      ]
    },
    {
      "cell_type": "markdown",
      "metadata": {
        "id": "YYhSIBCfOLmU",
        "colab_type": "text"
      },
      "source": [
        "To check whether a particular key is in a dictionary, you can use the special word `in`:"
      ]
    },
    {
      "cell_type": "code",
      "metadata": {
        "id": "5PfxOyxeOLmX",
        "colab_type": "code",
        "outputId": "15383bbd-aa1b-43a3-e8d0-3f5a465cc0ad",
        "colab": {
          "base_uri": "https://localhost:8080/",
          "height": 34
        }
      },
      "source": [
        "'one' in d"
      ],
      "execution_count": 0,
      "outputs": [
        {
          "output_type": "execute_result",
          "data": {
            "text/plain": [
              "True"
            ]
          },
          "metadata": {
            "tags": []
          },
          "execution_count": 18
        }
      ]
    },
    {
      "cell_type": "code",
      "metadata": {
        "id": "tNrs26cvOLmf",
        "colab_type": "code",
        "outputId": "75d4b560-e4c7-493d-d1fc-30e50df52f0a",
        "colab": {
          "base_uri": "https://localhost:8080/",
          "height": 34
        }
      },
      "source": [
        "'zero' in d"
      ],
      "execution_count": 0,
      "outputs": [
        {
          "output_type": "execute_result",
          "data": {
            "text/plain": [
              "False"
            ]
          },
          "metadata": {
            "tags": []
          },
          "execution_count": 19
        }
      ]
    },
    {
      "cell_type": "markdown",
      "metadata": {
        "id": "NJIHIw-EOLmk",
        "colab_type": "text"
      },
      "source": [
        "The word `in` is actually an operator in Python, so you can't use it as a variable name:"
      ]
    },
    {
      "cell_type": "code",
      "metadata": {
        "id": "SmDYaQAzOLmn",
        "colab_type": "code",
        "outputId": "ca49c5bd-b6b0-47bb-811a-fa4019bcefdd",
        "colab": {
          "base_uri": "https://localhost:8080/",
          "height": 130
        }
      },
      "source": [
        "in = 5"
      ],
      "execution_count": 0,
      "outputs": [
        {
          "output_type": "error",
          "ename": "SyntaxError",
          "evalue": "ignored",
          "traceback": [
            "\u001b[0;36m  File \u001b[0;32m\"<ipython-input-20-0e0c90d245a5>\"\u001b[0;36m, line \u001b[0;32m1\u001b[0m\n\u001b[0;31m    in = 5\u001b[0m\n\u001b[0m     ^\u001b[0m\n\u001b[0;31mSyntaxError\u001b[0m\u001b[0;31m:\u001b[0m invalid syntax\n"
          ]
        }
      ]
    },
    {
      "cell_type": "markdown",
      "metadata": {
        "id": "UBHIoNIpOLmv",
        "colab_type": "text"
      },
      "source": [
        "If a key is already in a dictionary, adding it again has no effect:"
      ]
    },
    {
      "cell_type": "code",
      "metadata": {
        "id": "HPm3mRDcOLmz",
        "colab_type": "code",
        "outputId": "58986f2b-dd0a-4cd1-d24a-5d68c0c47ab5",
        "colab": {
          "base_uri": "https://localhost:8080/",
          "height": 34
        }
      },
      "source": [
        "d"
      ],
      "execution_count": 0,
      "outputs": [
        {
          "output_type": "execute_result",
          "data": {
            "text/plain": [
              "{'one': 1, 'three': 3, 'two': 2}"
            ]
          },
          "metadata": {
            "tags": []
          },
          "execution_count": 21
        }
      ]
    },
    {
      "cell_type": "code",
      "metadata": {
        "id": "birxkeElOLm4",
        "colab_type": "code",
        "outputId": "a77ec1f8-3288-4506-9949-5d328ab4c4d2",
        "colab": {
          "base_uri": "https://localhost:8080/",
          "height": 34
        }
      },
      "source": [
        "d['one'] = 1\n",
        "d"
      ],
      "execution_count": 0,
      "outputs": [
        {
          "output_type": "execute_result",
          "data": {
            "text/plain": [
              "{'one': 1, 'three': 3, 'two': 2}"
            ]
          },
          "metadata": {
            "tags": []
          },
          "execution_count": 22
        }
      ]
    },
    {
      "cell_type": "markdown",
      "metadata": {
        "id": "GR3nkUM9OLm_",
        "colab_type": "text"
      },
      "source": [
        "But you can also change the value associated with a key:"
      ]
    },
    {
      "cell_type": "code",
      "metadata": {
        "id": "GNRqj1HMOLnC",
        "colab_type": "code",
        "outputId": "276af78d-2eef-4264-a953-e077dec8cf3f",
        "colab": {
          "base_uri": "https://localhost:8080/",
          "height": 34
        }
      },
      "source": [
        "d['one'] = 100\n",
        "d"
      ],
      "execution_count": 0,
      "outputs": [
        {
          "output_type": "execute_result",
          "data": {
            "text/plain": [
              "{'one': 100, 'three': 3, 'two': 2}"
            ]
          },
          "metadata": {
            "tags": []
          },
          "execution_count": 23
        }
      ]
    },
    {
      "cell_type": "markdown",
      "metadata": {
        "id": "IxdSxLvIOLnN",
        "colab_type": "text"
      },
      "source": [
        "You can loop through the keys in a dictionary like this:"
      ]
    },
    {
      "cell_type": "code",
      "metadata": {
        "id": "woPz8e72OLnO",
        "colab_type": "code",
        "outputId": "c17cbdfe-4920-4c2a-9a50-e9d96f401770",
        "colab": {
          "base_uri": "https://localhost:8080/",
          "height": 68
        }
      },
      "source": [
        "for key in d:\n",
        "    print(key)"
      ],
      "execution_count": 0,
      "outputs": [
        {
          "output_type": "stream",
          "text": [
            "one\n",
            "two\n",
            "three\n"
          ],
          "name": "stdout"
        }
      ]
    },
    {
      "cell_type": "markdown",
      "metadata": {
        "id": "EXT9h51yOLnV",
        "colab_type": "text"
      },
      "source": [
        "If you want the keys and the values, a simple way to get them is to loop through the keys and look up the values:"
      ]
    },
    {
      "cell_type": "code",
      "metadata": {
        "id": "XLbvg56JOLnW",
        "colab_type": "code",
        "outputId": "7c7fa28b-497f-43cd-df85-393663b5f118",
        "colab": {
          "base_uri": "https://localhost:8080/",
          "height": 68
        }
      },
      "source": [
        "for key in d:\n",
        "    print(key, d[key])"
      ],
      "execution_count": 0,
      "outputs": [
        {
          "output_type": "stream",
          "text": [
            "one 100\n",
            "two 2\n",
            "three 3\n"
          ],
          "name": "stdout"
        }
      ]
    },
    {
      "cell_type": "markdown",
      "metadata": {
        "id": "JPxkce1XOLnh",
        "colab_type": "text"
      },
      "source": [
        "Or you can loop through both at the same time, like this:"
      ]
    },
    {
      "cell_type": "code",
      "metadata": {
        "id": "6gQlOUQhOLnj",
        "colab_type": "code",
        "outputId": "790d54ec-5f61-42b3-e156-529f8a13012d",
        "colab": {
          "base_uri": "https://localhost:8080/",
          "height": 68
        }
      },
      "source": [
        "for key, value in d.items():\n",
        "    print(key, value)"
      ],
      "execution_count": 0,
      "outputs": [
        {
          "output_type": "stream",
          "text": [
            "one 100\n",
            "two 2\n",
            "three 3\n"
          ],
          "name": "stdout"
        }
      ]
    },
    {
      "cell_type": "markdown",
      "metadata": {
        "id": "SGnK3nJoOLnq",
        "colab_type": "text"
      },
      "source": [
        "The `items` method loops through the key-value pairs in the dictionary; each time through the loop, they are assigned to `key` and `value`."
      ]
    },
    {
      "cell_type": "markdown",
      "metadata": {
        "id": "HH5enaEtOLnr",
        "colab_type": "text"
      },
      "source": [
        "**Exercise:** Make a dictionary with the numbers `1`, `2`, and `3` as keys and strings as values.  The strings should be the numbers \"one\", \"two\", and \"three\" in any language you know.\n",
        "\n",
        "Write a loop that prints just the values from the dictionary."
      ]
    },
    {
      "cell_type": "code",
      "metadata": {
        "id": "uIC5vlsKOLnu",
        "colab_type": "code",
        "outputId": "51585cfc-365f-4283-f3c7-5fb375381f38",
        "colab": {
          "base_uri": "https://localhost:8080/",
          "height": 34
        }
      },
      "source": [
        "d2 = {1:'yat', 2:'yee', 3:'sam'}\n",
        "d2"
      ],
      "execution_count": 0,
      "outputs": [
        {
          "output_type": "execute_result",
          "data": {
            "text/plain": [
              "{1: 'yat', 2: 'yee', 3: 'sam'}"
            ]
          },
          "metadata": {
            "tags": []
          },
          "execution_count": 29
        }
      ]
    },
    {
      "cell_type": "code",
      "metadata": {
        "id": "eZ-yOeHcOLn4",
        "colab_type": "code",
        "outputId": "62435d0e-9c66-4513-e013-208acbe548dc",
        "colab": {
          "base_uri": "https://localhost:8080/",
          "height": 68
        }
      },
      "source": [
        "for key in d2:\n",
        "  print(d2[key])"
      ],
      "execution_count": 0,
      "outputs": [
        {
          "output_type": "stream",
          "text": [
            "yat\n",
            "yee\n",
            "sam\n"
          ],
          "name": "stdout"
        }
      ]
    },
    {
      "cell_type": "markdown",
      "metadata": {
        "id": "6PXOdParOLoA",
        "colab_type": "text"
      },
      "source": [
        "## Unique words\n",
        "\n",
        "In the previous notebook we downloaded *War and Peace* from [Project Gutenberg](https://www.gutenberg.org) and counted the number of lines and words.\n",
        "\n",
        "Now that we have dictionaries, we can also count the number of unique words and the number of times each one appears.\n",
        "\n",
        "First, let's download the book again.  If you run the following cell, it checks to see whether you already have a file named `2600-0.txt`; if not, it uses `wget` to copy the file from Project Gutenberg to your computer.  "
      ]
    },
    {
      "cell_type": "code",
      "metadata": {
        "id": "wXugeutHOLoC",
        "colab_type": "code",
        "outputId": "626e7632-f07a-4238-f857-dd7fd7915e55",
        "colab": {
          "base_uri": "https://localhost:8080/",
          "height": 204
        }
      },
      "source": [
        "import os\n",
        "\n",
        "if not os.path.exists('2600-0.txt'):\n",
        "    !wget https://www.gutenberg.org/files/2600/2600-0.txt"
      ],
      "execution_count": 0,
      "outputs": [
        {
          "output_type": "stream",
          "text": [
            "--2020-01-28 18:27:41--  https://www.gutenberg.org/files/2600/2600-0.txt\n",
            "Resolving www.gutenberg.org (www.gutenberg.org)... 152.19.134.47, 2610:28:3090:3000:0:bad:cafe:47\n",
            "Connecting to www.gutenberg.org (www.gutenberg.org)|152.19.134.47|:443... connected.\n",
            "HTTP request sent, awaiting response... 200 OK\n",
            "Length: 3359549 (3.2M) [text/plain]\n",
            "Saving to: ‘2600-0.txt’\n",
            "\n",
            "2600-0.txt          100%[===================>]   3.20M  1.09MB/s    in 2.9s    \n",
            "\n",
            "2020-01-28 18:27:45 (1.09 MB/s) - ‘2600-0.txt’ saved [3359549/3359549]\n",
            "\n"
          ],
          "name": "stdout"
        }
      ]
    },
    {
      "cell_type": "markdown",
      "metadata": {
        "id": "EMuCU6Z8OLoH",
        "colab_type": "text"
      },
      "source": [
        "Now we can read the file and count the words as we did in the previous notebook:"
      ]
    },
    {
      "cell_type": "code",
      "metadata": {
        "id": "bASfR6P2OLoK",
        "colab_type": "code",
        "outputId": "3db28449-2b0c-4a7b-e87f-15f87eb50093",
        "colab": {
          "base_uri": "https://localhost:8080/",
          "height": 34
        }
      },
      "source": [
        "fp = open('2600-0.txt')\n",
        "count = 0\n",
        "for line in fp:\n",
        "    count += len(line.split())\n",
        "    \n",
        "count"
      ],
      "execution_count": 0,
      "outputs": [
        {
          "output_type": "execute_result",
          "data": {
            "text/plain": [
              "566311"
            ]
          },
          "metadata": {
            "tags": []
          },
          "execution_count": 32
        }
      ]
    },
    {
      "cell_type": "markdown",
      "metadata": {
        "id": "KGHxLm79OLoS",
        "colab_type": "text"
      },
      "source": [
        "To count the number of unique words, I'll loop through the words in each line and add as keys in a dictionary:"
      ]
    },
    {
      "cell_type": "code",
      "metadata": {
        "id": "Qyt9qVTNOLoT",
        "colab_type": "code",
        "colab": {}
      },
      "source": [
        "fp = open('2600-0.txt')\n",
        "unique_words = {}\n",
        "for line in fp:\n",
        "    for word in line.split():\n",
        "        unique_words[word] = 1"
      ],
      "execution_count": 0,
      "outputs": []
    },
    {
      "cell_type": "markdown",
      "metadata": {
        "id": "Tgh65ZJ0OLoY",
        "colab_type": "text"
      },
      "source": [
        "This is the first example we've seen with one loop inside another.\n",
        "\n",
        "* The outer loop runs through the lines in the file.\n",
        "\n",
        "* The inner loops runs through the words in each line.\n",
        "\n",
        "Each time through the inner loop, we add a word as a key in the dictionary, with the value 1.  If the same word appears more than once, it gets added to the dictionary again, which has no effect.  So the dictionary contains only one copy of each unique word in the file.\n",
        "\n",
        "At the end of the loop, we can display the first 10 keys:"
      ]
    },
    {
      "cell_type": "code",
      "metadata": {
        "id": "cO1K8lS5OLoa",
        "colab_type": "code",
        "outputId": "2c50ed46-5b7a-44a4-c15c-0a2ca4c80953",
        "colab": {
          "base_uri": "https://localhost:8080/",
          "height": 187
        }
      },
      "source": [
        "i = 0\n",
        "for key in unique_words:\n",
        "    print(key)\n",
        "    i += 1\n",
        "    if i == 10:\n",
        "        break"
      ],
      "execution_count": 0,
      "outputs": [
        {
          "output_type": "stream",
          "text": [
            "﻿\n",
            "The\n",
            "Project\n",
            "Gutenberg\n",
            "EBook\n",
            "of\n",
            "War\n",
            "and\n",
            "Peace,\n",
            "by\n"
          ],
          "name": "stdout"
        }
      ]
    },
    {
      "cell_type": "markdown",
      "metadata": {
        "id": "4o9IhtqIOLop",
        "colab_type": "text"
      },
      "source": [
        "So far, it looks like all the words in the file, in order.\n",
        "\n",
        "But each word only appears once, so the number of keys is the number of unique words:"
      ]
    },
    {
      "cell_type": "code",
      "metadata": {
        "id": "1eSdBryNOLov",
        "colab_type": "code",
        "outputId": "1f428252-3af6-4eb9-a63d-5fc8bff723b4",
        "colab": {
          "base_uri": "https://localhost:8080/",
          "height": 34
        }
      },
      "source": [
        "len(unique_words)"
      ],
      "execution_count": 0,
      "outputs": [
        {
          "output_type": "execute_result",
          "data": {
            "text/plain": [
              "41993"
            ]
          },
          "metadata": {
            "tags": []
          },
          "execution_count": 38
        }
      ]
    },
    {
      "cell_type": "markdown",
      "metadata": {
        "id": "n0R7rxW-OLo3",
        "colab_type": "text"
      },
      "source": [
        "It looks like there are about 42,000 different words in the book, which is substantially less than the total number of words, about 560,000. \n",
        "\n",
        "But that's not quite right, because we have not taken into account capitalization and punctuation."
      ]
    },
    {
      "cell_type": "markdown",
      "metadata": {
        "id": "UzbodEMbOLo5",
        "colab_type": "text"
      },
      "source": [
        "**Exercise:** Before we deal with those problems, let's practice with \"nested loops\", that is, one loop inside another.\n",
        "\n",
        "Suppose you have a list of words, like this:"
      ]
    },
    {
      "cell_type": "code",
      "metadata": {
        "id": "BWewL-0rOLo6",
        "colab_type": "code",
        "colab": {}
      },
      "source": [
        "line = ['War', 'and', 'Peace']"
      ],
      "execution_count": 0,
      "outputs": []
    },
    {
      "cell_type": "markdown",
      "metadata": {
        "id": "1JN3XGJsOLpF",
        "colab_type": "text"
      },
      "source": [
        "Write a nested loop that iterates through each word in the list, and each letter in each word, and prints the letters on separate lines."
      ]
    },
    {
      "cell_type": "code",
      "metadata": {
        "id": "SI_UF5qjOLpJ",
        "colab_type": "code",
        "outputId": "688b5c4e-e286-40ff-c26d-4b5e76b6eaec",
        "colab": {
          "base_uri": "https://localhost:8080/",
          "height": 204
        }
      },
      "source": [
        "for word in line:\n",
        "  for letter in word:\n",
        "    print(letter)"
      ],
      "execution_count": 0,
      "outputs": [
        {
          "output_type": "stream",
          "text": [
            "W\n",
            "a\n",
            "r\n",
            "a\n",
            "n\n",
            "d\n",
            "P\n",
            "e\n",
            "a\n",
            "c\n",
            "e\n"
          ],
          "name": "stdout"
        }
      ]
    },
    {
      "cell_type": "markdown",
      "metadata": {
        "id": "L2zWKVRnOLpW",
        "colab_type": "text"
      },
      "source": [
        "## Capitalization\n",
        "\n",
        "When we count unique words, we probably want to treat `The` and `the` as the same word.  We can do that by converting all words to lower case, using the `lower` function:"
      ]
    },
    {
      "cell_type": "code",
      "metadata": {
        "id": "HpguxsCfOLpY",
        "colab_type": "code",
        "outputId": "61a9a0c1-08c1-4ff6-cdfa-f6f9563e20ad",
        "colab": {
          "base_uri": "https://localhost:8080/",
          "height": 34
        }
      },
      "source": [
        "word = 'The'\n",
        "word.lower()"
      ],
      "execution_count": 0,
      "outputs": [
        {
          "output_type": "execute_result",
          "data": {
            "text/plain": [
              "'the'"
            ]
          },
          "metadata": {
            "tags": []
          },
          "execution_count": 41
        }
      ]
    },
    {
      "cell_type": "code",
      "metadata": {
        "id": "yeGVCngmOLpf",
        "colab_type": "code",
        "outputId": "ebdfc200-88b9-419b-efff-baf38fc53cdb",
        "colab": {
          "base_uri": "https://localhost:8080/",
          "height": 34
        }
      },
      "source": [
        "word = 'the'\n",
        "word.lower()"
      ],
      "execution_count": 0,
      "outputs": [
        {
          "output_type": "execute_result",
          "data": {
            "text/plain": [
              "'the'"
            ]
          },
          "metadata": {
            "tags": []
          },
          "execution_count": 42
        }
      ]
    },
    {
      "cell_type": "markdown",
      "metadata": {
        "id": "-vxrqvuWOLpo",
        "colab_type": "text"
      },
      "source": [
        "`lower` creates a new string; it does not modify the original string.  "
      ]
    },
    {
      "cell_type": "code",
      "metadata": {
        "id": "OpHgY9kCOLpq",
        "colab_type": "code",
        "outputId": "3313366a-2e05-4762-832f-6fcccaca298f",
        "colab": {
          "base_uri": "https://localhost:8080/",
          "height": 34
        }
      },
      "source": [
        "word = 'THE'\n",
        "word.lower()"
      ],
      "execution_count": 0,
      "outputs": [
        {
          "output_type": "execute_result",
          "data": {
            "text/plain": [
              "'the'"
            ]
          },
          "metadata": {
            "tags": []
          },
          "execution_count": 43
        }
      ]
    },
    {
      "cell_type": "code",
      "metadata": {
        "id": "IjkXFdcNOLpx",
        "colab_type": "code",
        "outputId": "bfd78d49-962b-42f4-ee8b-1d041f2beba7",
        "colab": {
          "base_uri": "https://localhost:8080/",
          "height": 34
        }
      },
      "source": [
        "word"
      ],
      "execution_count": 0,
      "outputs": [
        {
          "output_type": "execute_result",
          "data": {
            "text/plain": [
              "'THE'"
            ]
          },
          "metadata": {
            "tags": []
          },
          "execution_count": 44
        }
      ]
    },
    {
      "cell_type": "markdown",
      "metadata": {
        "id": "NLwCaSTEOLp7",
        "colab_type": "text"
      },
      "source": [
        "However, you can assign the new string back to the existing variable, like this:"
      ]
    },
    {
      "cell_type": "code",
      "metadata": {
        "id": "q6Rc9R8vOLp-",
        "colab_type": "code",
        "colab": {}
      },
      "source": [
        "word = 'THE'\n",
        "word = word.lower()"
      ],
      "execution_count": 0,
      "outputs": []
    },
    {
      "cell_type": "markdown",
      "metadata": {
        "id": "9q0idpRyOLqD",
        "colab_type": "text"
      },
      "source": [
        "Now if we can display the new value of `word`, we get the lowercase version:"
      ]
    },
    {
      "cell_type": "code",
      "metadata": {
        "id": "KNgXv-SAOLqH",
        "colab_type": "code",
        "outputId": "6db1f147-0469-484b-ac09-2b35759c0c02",
        "colab": {
          "base_uri": "https://localhost:8080/",
          "height": 34
        }
      },
      "source": [
        "word"
      ],
      "execution_count": 0,
      "outputs": [
        {
          "output_type": "execute_result",
          "data": {
            "text/plain": [
              "'the'"
            ]
          },
          "metadata": {
            "tags": []
          },
          "execution_count": 46
        }
      ]
    },
    {
      "cell_type": "markdown",
      "metadata": {
        "id": "4H6W2Vk6OLqU",
        "colab_type": "text"
      },
      "source": [
        "**Exercise:** Modify the previous loop so it makes a lowercase version of each word before adding it to the dictionary.  How many unique words are there, if we ignore the difference between uppercase and lowercase?"
      ]
    },
    {
      "cell_type": "code",
      "metadata": {
        "id": "NwdlfGvsOLqY",
        "colab_type": "code",
        "colab": {}
      },
      "source": [
        "fp = open('2600-0.txt')\n",
        "unique_words = {}\n",
        "for line in fp:\n",
        "    for word in line.split():\n",
        "        word = word.lower()\n",
        "        unique_words[word] = 1"
      ],
      "execution_count": 0,
      "outputs": []
    },
    {
      "cell_type": "code",
      "metadata": {
        "id": "z7iUUcDTfDsp",
        "colab_type": "code",
        "outputId": "ecabf207-675f-4092-e0fb-1d91ec5f86a4",
        "colab": {
          "base_uri": "https://localhost:8080/",
          "height": 34
        }
      },
      "source": [
        "len(unique_words) #as expected, this has decreased in value since words that are the same but capitalized merged with non-capitalized words to create 1 count of the same word"
      ],
      "execution_count": 0,
      "outputs": [
        {
          "output_type": "execute_result",
          "data": {
            "text/plain": [
              "40132"
            ]
          },
          "metadata": {
            "tags": []
          },
          "execution_count": 49
        }
      ]
    },
    {
      "cell_type": "markdown",
      "metadata": {
        "id": "eNkANlHROLqc",
        "colab_type": "text"
      },
      "source": [
        "## Punctuation\n",
        "\n",
        "To remove punctuation from the words, we can use `strip`, which removes specified characters from the beginning and end of a string.  Here's an example:"
      ]
    },
    {
      "cell_type": "code",
      "metadata": {
        "id": "DDODLwS8OLqd",
        "colab_type": "code",
        "outputId": "2b10d931-4b12-4c7a-8652-fe0e470f98c0",
        "colab": {
          "base_uri": "https://localhost:8080/",
          "height": 34
        }
      },
      "source": [
        "word = 'abracadabra'\n",
        "word.strip('ab')"
      ],
      "execution_count": 0,
      "outputs": [
        {
          "output_type": "execute_result",
          "data": {
            "text/plain": [
              "'racadabr'"
            ]
          },
          "metadata": {
            "tags": []
          },
          "execution_count": 50
        }
      ]
    },
    {
      "cell_type": "markdown",
      "metadata": {
        "id": "MYpv8xZ5OLqh",
        "colab_type": "text"
      },
      "source": [
        "In this example, `strip` removes all instances of `a` and `b` from the beginning and end of the word, but not from the middle.\n",
        "\n",
        "But note that it makes a new word; it doesn't modify the original:"
      ]
    },
    {
      "cell_type": "code",
      "metadata": {
        "id": "z8X_aPItOLqj",
        "colab_type": "code",
        "outputId": "964ccd31-02dd-47ab-b11a-2e0813c3da99",
        "colab": {
          "base_uri": "https://localhost:8080/",
          "height": 34
        }
      },
      "source": [
        "word"
      ],
      "execution_count": 0,
      "outputs": [
        {
          "output_type": "execute_result",
          "data": {
            "text/plain": [
              "'abracadabra'"
            ]
          },
          "metadata": {
            "tags": []
          },
          "execution_count": 51
        }
      ]
    },
    {
      "cell_type": "markdown",
      "metadata": {
        "id": "T7IsKFX_OLqp",
        "colab_type": "text"
      },
      "source": [
        "To remove punctuation, we can use the `string` library, which provides a variable named `punctuation`."
      ]
    },
    {
      "cell_type": "code",
      "metadata": {
        "id": "tgjfGHqVOLqq",
        "colab_type": "code",
        "outputId": "43754720-8a9c-4d91-da08-de3630b7250d",
        "colab": {
          "base_uri": "https://localhost:8080/",
          "height": 34
        }
      },
      "source": [
        "import string\n",
        "\n",
        "string.punctuation"
      ],
      "execution_count": 0,
      "outputs": [
        {
          "output_type": "execute_result",
          "data": {
            "text/plain": [
              "'!\"#$%&\\'()*+,-./:;<=>?@[\\\\]^_`{|}~'"
            ]
          },
          "metadata": {
            "tags": []
          },
          "execution_count": 52
        }
      ]
    },
    {
      "cell_type": "markdown",
      "metadata": {
        "id": "fxhqYQQyOLqu",
        "colab_type": "text"
      },
      "source": [
        "`string.punctuation` contains the most common punctuation marks, but as we'll see, not all of them.\n",
        "\n",
        "Nevertheless, we can use it to handle most cases.  Here's an example:"
      ]
    },
    {
      "cell_type": "code",
      "metadata": {
        "id": "slyuJ9ViOLqw",
        "colab_type": "code",
        "outputId": "c342f622-03fa-4223-890a-767a50c0eac7",
        "colab": {
          "base_uri": "https://localhost:8080/",
          "height": 204
        }
      },
      "source": [
        "line = \"It's not given to people to judge what's right or wrong.\"\n",
        "\n",
        "for word in line.split():\n",
        "    word = word.strip(string.punctuation)\n",
        "    print(word) #output still has apostrophe's..."
      ],
      "execution_count": 0,
      "outputs": [
        {
          "output_type": "stream",
          "text": [
            "It's\n",
            "not\n",
            "given\n",
            "to\n",
            "people\n",
            "to\n",
            "judge\n",
            "what's\n",
            "right\n",
            "or\n",
            "wrong\n"
          ],
          "name": "stdout"
        }
      ]
    },
    {
      "cell_type": "markdown",
      "metadata": {
        "id": "9pBGEax7OLq1",
        "colab_type": "text"
      },
      "source": [
        "Notice that `strip` does not remove the apostrophe from the middle of `don't`, which is probably what we want.\n",
        "\n",
        "To see how well it works, I'll select an arbitrary line from the file:"
      ]
    },
    {
      "cell_type": "code",
      "metadata": {
        "id": "kPyrflWyOLq3",
        "colab_type": "code",
        "outputId": "6a6d153b-caad-4b22-80c1-902dc92becae",
        "colab": {
          "base_uri": "https://localhost:8080/",
          "height": 34
        }
      },
      "source": [
        "fp = open('2600-0.txt')\n",
        "count = 0\n",
        "for line in fp:\n",
        "    if count == 1000:\n",
        "        break\n",
        "    count += 1\n",
        "    \n",
        "line"
      ],
      "execution_count": 0,
      "outputs": [
        {
          "output_type": "execute_result",
          "data": {
            "text/plain": [
              "'anyone, and so you don’t deserve to have them.”\\n'"
            ]
          },
          "metadata": {
            "tags": []
          },
          "execution_count": 54
        }
      ]
    },
    {
      "cell_type": "markdown",
      "metadata": {
        "id": "oSoF4zwhOLrA",
        "colab_type": "text"
      },
      "source": [
        "And try to remove punctuation from the words:"
      ]
    },
    {
      "cell_type": "code",
      "metadata": {
        "id": "gBsmQP4oOLrC",
        "colab_type": "code",
        "outputId": "411b0a57-24dd-44b4-fefc-573505ef70ee",
        "colab": {
          "base_uri": "https://localhost:8080/",
          "height": 170
        }
      },
      "source": [
        "for word in line.split():\n",
        "    word = word.strip(string.punctuation)\n",
        "    print(word)"
      ],
      "execution_count": 0,
      "outputs": [
        {
          "output_type": "stream",
          "text": [
            "anyone\n",
            "and\n",
            "so\n",
            "you\n",
            "don’t\n",
            "deserve\n",
            "to\n",
            "have\n",
            "them.”\n"
          ],
          "name": "stdout"
        }
      ]
    },
    {
      "cell_type": "markdown",
      "metadata": {
        "id": "brz0Q39BOLrG",
        "colab_type": "text"
      },
      "source": [
        "It words pretty well, but the last word is a problem because it ends with a quotation mark that is not in `string.punctuation`.  To fix this problem, we'll use the following loop, which\n",
        "\n",
        "1. Reads the file and builds a dictionary that contains all punctuation marks that appear in the book, then\n",
        "\n",
        "2. It uses the `join` function to concatenate the keys of the dictionary in a single string.\n",
        "\n",
        "You don't have to understand everything about how it works, but you should read it and see how much you can figure out.  You can read [the documentation of the `unicodedata` library here](https://docs.python.org/3/library/unicodedata.html)."
      ]
    },
    {
      "cell_type": "code",
      "metadata": {
        "id": "czMX9-oDOLrJ",
        "colab_type": "code",
        "outputId": "b8c3304b-85da-4cca-af51-8d667e8bcf4a",
        "colab": {
          "base_uri": "https://localhost:8080/",
          "height": 34
        }
      },
      "source": [
        "import unicodedata\n",
        "\n",
        "fp = open('2600-0.txt')\n",
        "punc_marks = {}\n",
        "for line in fp:\n",
        "    for x in line:\n",
        "        category = unicodedata.category(x)\n",
        "        if category[0] == 'P':\n",
        "            punc_marks[x] = 1\n",
        "        \n",
        "all_punctuation = ''.join(punc_marks)\n",
        "print(all_punctuation)"
      ],
      "execution_count": 0,
      "outputs": [
        {
          "output_type": "stream",
          "text": [
            ",.-:[#]*/“’—‘!?”;()%@\n"
          ],
          "name": "stdout"
        }
      ]
    },
    {
      "cell_type": "markdown",
      "metadata": {
        "id": "dH-6QVkwOLrP",
        "colab_type": "text"
      },
      "source": [
        "**Exercise:** Modify the word-counting loop from the previous section to convert words to lower case *and* strip punctuation before adding them to the dictionary.  Now how many unique words are there?\n",
        "\n",
        "Optional: You might want to skip over the frontmatter and start with the text of Chapter 1, and skip over the license at the end, as we did in the previous notebook."
      ]
    },
    {
      "cell_type": "code",
      "metadata": {
        "id": "uiZK7luDOLrR",
        "colab_type": "code",
        "colab": {}
      },
      "source": [
        "first_line = \"CHAPTER I\\n\"\n",
        "last_line = \"End of the Project Gutenberg EBook of War and Peace, by Leo Tolstoy\\n\"\n",
        "\n",
        "fp = open('2600-0.txt')\n",
        "\n",
        "for line in fp:\n",
        "    if line == first_line:\n",
        "        break\n",
        "\n",
        "unique_words = {}\n",
        "#count = 0\n",
        "for line in fp:\n",
        "    for word in line.split():\n",
        "        word = word.lower() \n",
        "        word = word.strip(all_punctuation)\n",
        "        unique_words[word] = 1 \n",
        "    \n",
        "    \n",
        "    if line == last_line:\n",
        "        break  "
      ],
      "execution_count": 0,
      "outputs": []
    },
    {
      "cell_type": "code",
      "metadata": {
        "id": "MVRpSnPOnxV3",
        "colab_type": "code",
        "outputId": "e7de0c57-e3cb-4caa-fe8d-5ee7d366a16c",
        "colab": {
          "base_uri": "https://localhost:8080/",
          "height": 204
        }
      },
      "source": [
        "count = 0\n",
        "for k,v in unique_words.items():\n",
        "  print(k,v)\n",
        "  if count == 10:\n",
        "    break\n",
        "  count+=1"
      ],
      "execution_count": 0,
      "outputs": [
        {
          "output_type": "stream",
          "text": [
            "well 1\n",
            "prince 1\n",
            "so 1\n",
            "genoa 1\n",
            "and 1\n",
            "lucca 1\n",
            "are 1\n",
            "now 1\n",
            "just 1\n",
            "family 1\n",
            "estates 1\n"
          ],
          "name": "stdout"
        }
      ]
    },
    {
      "cell_type": "markdown",
      "metadata": {
        "id": "hgh0E0dNOLrV",
        "colab_type": "text"
      },
      "source": [
        "## Word frequencies\n",
        "\n",
        "In the previous section we counted the number of unique words, but we might also want to know how often each word appears.  Then we can find the most common and least common words in the book.\n",
        "\n",
        "To count the frequency of each word, we'll make a dictionary that maps from each word to the number of times it appears.\n",
        "\n",
        "Here's an example that loops through a string and counts the number of times each letter appears."
      ]
    },
    {
      "cell_type": "code",
      "metadata": {
        "id": "bFHlcjRGOLrY",
        "colab_type": "code",
        "outputId": "30e23812-04af-4ec8-f1b6-d6905378b4ad",
        "colab": {
          "base_uri": "https://localhost:8080/",
          "height": 391
        }
      },
      "source": [
        "line = 'If everyone fought for their own convictions there would be no war.'\n",
        "\n",
        "letter_counts = {}\n",
        "for x in line:\n",
        "    if x in letter_counts:\n",
        "        letter_counts[x] += 1\n",
        "    else:\n",
        "        letter_counts[x] = 1\n",
        "        \n",
        "letter_counts"
      ],
      "execution_count": 0,
      "outputs": [
        {
          "output_type": "execute_result",
          "data": {
            "text/plain": [
              "{' ': 11,\n",
              " '.': 1,\n",
              " 'I': 1,\n",
              " 'a': 1,\n",
              " 'b': 1,\n",
              " 'c': 2,\n",
              " 'd': 1,\n",
              " 'e': 7,\n",
              " 'f': 3,\n",
              " 'g': 1,\n",
              " 'h': 3,\n",
              " 'i': 3,\n",
              " 'l': 1,\n",
              " 'n': 5,\n",
              " 'o': 8,\n",
              " 'r': 5,\n",
              " 's': 1,\n",
              " 't': 4,\n",
              " 'u': 2,\n",
              " 'v': 2,\n",
              " 'w': 3,\n",
              " 'y': 1}"
            ]
          },
          "metadata": {
            "tags": []
          },
          "execution_count": 59
        }
      ]
    },
    {
      "cell_type": "markdown",
      "metadata": {
        "id": "eNaYnblCOLrl",
        "colab_type": "text"
      },
      "source": [
        "The `if` statement in the previous example uses a feature we have not seen before, an `else` clause.\n",
        "\n",
        "Here's how it works.\n",
        "\n",
        "1. First, it checks whether the letter is already a key in the dictionary, `letter_counts`.\n",
        "\n",
        "2. If so, it runs the first statement, `letter_counts[x] += 1`, which increments the value associated with the letter, `x`.\n",
        "\n",
        "3. Otherwise, it runs the second statement, `letter_counts[x] = 1`, which adds `x` as a new key, with the value `1` indicating that we have seen the new letter once.\n",
        "\n",
        "The result is a dictionary that maps from each letter to the number of times it appears."
      ]
    },
    {
      "cell_type": "markdown",
      "metadata": {
        "id": "Ze6BsX6uOLrn",
        "colab_type": "text"
      },
      "source": [
        "To get the most common letters, we can use a `Counter`, which is similar to a dictionary.  To use it, we have to import a library called `collections`: "
      ]
    },
    {
      "cell_type": "code",
      "metadata": {
        "id": "p3llRQMsOLrp",
        "colab_type": "code",
        "colab": {}
      },
      "source": [
        "import collections"
      ],
      "execution_count": 0,
      "outputs": []
    },
    {
      "cell_type": "markdown",
      "metadata": {
        "id": "7q-V9f_DOLry",
        "colab_type": "text"
      },
      "source": [
        "Then we use `collections.Counter` as a function to convert the dictionary to a `Counter` value:"
      ]
    },
    {
      "cell_type": "code",
      "metadata": {
        "id": "HcghFClqOLr0",
        "colab_type": "code",
        "outputId": "d15094e0-0974-4284-a0fb-a2f543d17165",
        "colab": {
          "base_uri": "https://localhost:8080/",
          "height": 34
        }
      },
      "source": [
        "counter = collections.Counter(letter_counts)\n",
        "type(counter)"
      ],
      "execution_count": 0,
      "outputs": [
        {
          "output_type": "execute_result",
          "data": {
            "text/plain": [
              "collections.Counter"
            ]
          },
          "metadata": {
            "tags": []
          },
          "execution_count": 63
        }
      ]
    },
    {
      "cell_type": "markdown",
      "metadata": {
        "id": "4i5GFQ8zOLr9",
        "colab_type": "text"
      },
      "source": [
        "`Counter` provides a function called `most_common` we can use to get the most common characters:"
      ]
    },
    {
      "cell_type": "code",
      "metadata": {
        "id": "gw3HIGMcOLr_",
        "colab_type": "code",
        "outputId": "1669f741-b1d5-407b-c6d6-c695e11f8b8e",
        "colab": {
          "base_uri": "https://localhost:8080/",
          "height": 34
        }
      },
      "source": [
        "counter.most_common(3)"
      ],
      "execution_count": 0,
      "outputs": [
        {
          "output_type": "execute_result",
          "data": {
            "text/plain": [
              "[(' ', 11), ('o', 8), ('e', 7)]"
            ]
          },
          "metadata": {
            "tags": []
          },
          "execution_count": 64
        }
      ]
    },
    {
      "cell_type": "markdown",
      "metadata": {
        "id": "GJyDaqdmOLsE",
        "colab_type": "text"
      },
      "source": [
        "The result is a list of tuples, where each tuple contains a character and an integer.\n",
        "\n",
        "The most common character is a space, followed by `o` and `e`."
      ]
    },
    {
      "cell_type": "markdown",
      "metadata": {
        "id": "rJVjKkuOOLsG",
        "colab_type": "text"
      },
      "source": [
        "**Exercise:** Modify the loop from the previous exercise to count the frequency of the words in *War and Peace*; then print the 20 most common words and the number of times each one appears."
      ]
    },
    {
      "cell_type": "code",
      "metadata": {
        "id": "RW82bfqFOLsI",
        "colab_type": "code",
        "outputId": "ac72d6c8-2930-4213-a3fd-0d078dfd5dce",
        "colab": {
          "base_uri": "https://localhost:8080/",
          "height": 357
        }
      },
      "source": [
        "fp = open('2600-0.txt')\n",
        "\n",
        "letter_counts = {}\n",
        "for line in fp:\n",
        "\n",
        "  \n",
        "  for word in line.split():\n",
        "    word = word.lower() \n",
        "    word = word.strip(all_punctuation)\n",
        "    if word in letter_counts:\n",
        "      letter_counts[word] += 1\n",
        "    else:\n",
        "      letter_counts[word] = 1\n",
        "\n",
        "letter_counts\n",
        "\n",
        "counter = collections.Counter(letter_counts)\n",
        "counter.most_common(20)"
      ],
      "execution_count": 0,
      "outputs": [
        {
          "output_type": "execute_result",
          "data": {
            "text/plain": [
              "[('the', 34563),\n",
              " ('and', 22151),\n",
              " ('to', 16709),\n",
              " ('of', 14989),\n",
              " ('a', 10494),\n",
              " ('he', 9811),\n",
              " ('in', 8927),\n",
              " ('his', 7965),\n",
              " ('that', 7806),\n",
              " ('was', 7328),\n",
              " ('with', 5694),\n",
              " ('had', 5354),\n",
              " ('it', 5179),\n",
              " ('her', 4697),\n",
              " ('not', 4658),\n",
              " ('him', 4571),\n",
              " ('at', 4535),\n",
              " ('i', 4106),\n",
              " ('but', 4012),\n",
              " ('on', 3996)]"
            ]
          },
          "metadata": {
            "tags": []
          },
          "execution_count": 73
        }
      ]
    },
    {
      "cell_type": "markdown",
      "metadata": {
        "id": "j5kFHWKJOLsR",
        "colab_type": "text"
      },
      "source": [
        "**Exercise:** You can run `most_common` with no value in parentheses, like this:\n",
        "\n",
        "```\n",
        "word_freq_pairs = counter.most_common()\n",
        "```\n",
        "\n",
        "The result is a list of tuples, with one tuple for every unique word in the book.  Assign the result to a variable so it doesn't get displayed.  Then answer the following questions:\n",
        "\n",
        "1. How many times does the #1 ranked word appear (that is, the first element of the list)?\n",
        "\n",
        "2. How many times does the #10 ranked word appear?\n",
        "\n",
        "3. How many times does the #100 ranked word appear?\n",
        "\n",
        "4. How many times does the #1000 ranked word appear?\n",
        "\n",
        "5. How many times does the #10000 ranked word appear?\n",
        "\n",
        "Do you see a pattern in the results?  We will explore this pattern more in the next notebook."
      ]
    },
    {
      "cell_type": "code",
      "metadata": {
        "id": "LvkKabYxwTWt",
        "colab_type": "code",
        "colab": {}
      },
      "source": [
        "word_freq_pairs = counter.most_common()"
      ],
      "execution_count": 0,
      "outputs": []
    },
    {
      "cell_type": "code",
      "metadata": {
        "id": "Z-74jNeZOLsT",
        "colab_type": "code",
        "outputId": "9063c0f6-091d-4815-cc34-33978f78ad4f",
        "colab": {
          "base_uri": "https://localhost:8080/",
          "height": 34
        }
      },
      "source": [
        "# Solution #1\n",
        "word_freq_pairs[0]"
      ],
      "execution_count": 0,
      "outputs": [
        {
          "output_type": "execute_result",
          "data": {
            "text/plain": [
              "('the', 34563)"
            ]
          },
          "metadata": {
            "tags": []
          },
          "execution_count": 75
        }
      ]
    },
    {
      "cell_type": "code",
      "metadata": {
        "id": "EtKG8fPeOLsb",
        "colab_type": "code",
        "outputId": "3ea2e3d5-fc9e-4211-8d26-3a6a18f3b0fc",
        "colab": {
          "base_uri": "https://localhost:8080/",
          "height": 34
        }
      },
      "source": [
        "# Solution #2\n",
        "word_freq_pairs[9]"
      ],
      "execution_count": 0,
      "outputs": [
        {
          "output_type": "execute_result",
          "data": {
            "text/plain": [
              "('was', 7328)"
            ]
          },
          "metadata": {
            "tags": []
          },
          "execution_count": 76
        }
      ]
    },
    {
      "cell_type": "code",
      "metadata": {
        "id": "OLj_gjMGOLsf",
        "colab_type": "code",
        "outputId": "e94c601c-e1aa-4be1-e6a7-66445c14fc69",
        "colab": {
          "base_uri": "https://localhost:8080/",
          "height": 34
        }
      },
      "source": [
        "# Solution #3\n",
        "word_freq_pairs[99]"
      ],
      "execution_count": 0,
      "outputs": [
        {
          "output_type": "execute_result",
          "data": {
            "text/plain": [
              "('came', 681)"
            ]
          },
          "metadata": {
            "tags": []
          },
          "execution_count": 77
        }
      ]
    },
    {
      "cell_type": "code",
      "metadata": {
        "id": "vlkfSrKkOLsm",
        "colab_type": "code",
        "outputId": "bba2d8eb-0310-4f4c-f3d2-e133c03d1a57",
        "colab": {
          "base_uri": "https://localhost:8080/",
          "height": 34
        }
      },
      "source": [
        "# Solution #4\n",
        "word_freq_pairs[999]"
      ],
      "execution_count": 0,
      "outputs": [
        {
          "output_type": "execute_result",
          "data": {
            "text/plain": [
              "('tall', 59)"
            ]
          },
          "metadata": {
            "tags": []
          },
          "execution_count": 78
        }
      ]
    },
    {
      "cell_type": "code",
      "metadata": {
        "id": "hTskcLYjOLsq",
        "colab_type": "code",
        "outputId": "cde2b0bb-d7eb-4db9-cb5c-bf7f2e871981",
        "colab": {
          "base_uri": "https://localhost:8080/",
          "height": 34
        }
      },
      "source": [
        "# Solution #5\n",
        "word_freq_pairs[9999]"
      ],
      "execution_count": 0,
      "outputs": [
        {
          "output_type": "execute_result",
          "data": {
            "text/plain": [
              "('iss', 2)"
            ]
          },
          "metadata": {
            "tags": []
          },
          "execution_count": 79
        }
      ]
    },
    {
      "cell_type": "markdown",
      "metadata": {
        "id": "seVLJgxnOLst",
        "colab_type": "text"
      },
      "source": [
        "**Exercise:** Write a loop that counts how many words appear 200 times.  What are they?  How many words appear 100 times, 50 times, and 20 times?\n",
        "\n",
        "**Optional:** If you know how to define a function, write a function that takes a `Counter` and a frequency as arguments, prints all words with that frequency, and returns the number of words with that frequency."
      ]
    },
    {
      "cell_type": "code",
      "metadata": {
        "id": "LaaBhsT1yMf8",
        "colab_type": "code",
        "outputId": "1f6e8a44-336b-4698-f22e-d558d41bed39",
        "colab": {
          "base_uri": "https://localhost:8080/",
          "height": 34
        }
      },
      "source": [
        "test = word_freq_pairs[:5]\n",
        "test"
      ],
      "execution_count": 0,
      "outputs": [
        {
          "output_type": "execute_result",
          "data": {
            "text/plain": [
              "[('the', 34563), ('and', 22151), ('to', 16709), ('of', 14989), ('a', 10494)]"
            ]
          },
          "metadata": {
            "tags": []
          },
          "execution_count": 80
        }
      ]
    },
    {
      "cell_type": "code",
      "metadata": {
        "id": "HzIJ_ifryNDn",
        "colab_type": "code",
        "outputId": "d17cac7e-f225-4df1-a618-ce556075a6dd",
        "colab": {
          "base_uri": "https://localhost:8080/",
          "height": 102
        }
      },
      "source": [
        "for i in test:\n",
        "  print(i[1])"
      ],
      "execution_count": 0,
      "outputs": [
        {
          "output_type": "stream",
          "text": [
            "34563\n",
            "22151\n",
            "16709\n",
            "14989\n",
            "10494\n"
          ],
          "name": "stdout"
        }
      ]
    },
    {
      "cell_type": "code",
      "metadata": {
        "id": "cnOmFh5GOLsx",
        "colab_type": "code",
        "outputId": "5981625e-48f4-4167-e527-65a278cb8327",
        "colab": {
          "base_uri": "https://localhost:8080/",
          "height": 1000
        }
      },
      "source": [
        "# Solution goes here\n",
        "fp = open('2600-0.txt')\n",
        "\n",
        "letter_counts = {}\n",
        "for line in fp:\n",
        "\n",
        "  \n",
        "  for word in line.split():\n",
        "    word = word.lower() \n",
        "    word = word.strip(all_punctuation)\n",
        "    if word in letter_counts:\n",
        "      letter_counts[word] += 1\n",
        "    else:\n",
        "      letter_counts[word] = 1\n",
        "\n",
        "letter_counts\n",
        "\n",
        "counter = collections.Counter(letter_counts)\n",
        "word_freq_pairs = counter.most_common()\n",
        "\n",
        "\n",
        "count_200 = 0\n",
        "count_100 = 0\n",
        "count_50 = 0\n",
        "count_20 = 0\n",
        "\n",
        "list_200 = []\n",
        "list_100 = []\n",
        "list_50 = []\n",
        "list_20 = []\n",
        "\n",
        "\n",
        "\n",
        "\n",
        "for i in word_freq_pairs:\n",
        "  if i[1] == 200:\n",
        "    count_200 += 1\n",
        "    list_200.append(i[0])\n",
        "  if i[1] == 100:\n",
        "    count_100 += 1\n",
        "    list_100.append(i[0])\n",
        "  if i[1] == 50:\n",
        "    count_50 += 1\n",
        "    list_50.append(i[0])\n",
        "  if i[1] == 20:\n",
        "    count_20 += 1\n",
        "    list_20.append(i[0])\n",
        "# for each freq, need count of freq and words of that freq\n",
        "final_count = []\n",
        "final_count.append(count_200)\n",
        "final_count.append(count_100)\n",
        "final_count.append(count_50)\n",
        "final_count.append(count_20)\n",
        "\n",
        "final_words = []\n",
        "final_words.append(list_200)\n",
        "final_words.append(list_100)\n",
        "final_words.append(list_50)\n",
        "final_words.append(list_20)\n",
        "\n",
        "dictionary = dict(zip(final_count, final_words))\n",
        "dictionary\n"
      ],
      "execution_count": 0,
      "outputs": [
        {
          "output_type": "execute_result",
          "data": {
            "text/plain": [
              "{1: ['orders'],\n",
              " 10: ['project',\n",
              "  'decided',\n",
              "  'child',\n",
              "  'country',\n",
              "  'however',\n",
              "  'run',\n",
              "  'aim',\n",
              "  'ought',\n",
              "  'captain',\n",
              "  'guns'],\n",
              " 16: ['king',\n",
              "  'mentioned',\n",
              "  'gesture',\n",
              "  'relation',\n",
              "  'nose',\n",
              "  'wine',\n",
              "  'shouts',\n",
              "  'loud',\n",
              "  'common',\n",
              "  'interests',\n",
              "  'purpose',\n",
              "  'journey',\n",
              "  'darkness',\n",
              "  'division',\n",
              "  'burned',\n",
              "  'austerlitz'],\n",
              " 86: ['alexander’s',\n",
              "  'education',\n",
              "  'revealed',\n",
              "  'samovar',\n",
              "  'altered',\n",
              "  'merrily',\n",
              "  'george',\n",
              "  'powerful',\n",
              "  'affectionate',\n",
              "  'sons',\n",
              "  'drop',\n",
              "  'reward',\n",
              "  'fled',\n",
              "  'signs',\n",
              "  'shawl',\n",
              "  'gently',\n",
              "  'woman’s',\n",
              "  'husband’s',\n",
              "  'gossip',\n",
              "  'qualities',\n",
              "  'glasses',\n",
              "  'respected',\n",
              "  'seize',\n",
              "  'he’ll',\n",
              "  'forgot',\n",
              "  'conversations',\n",
              "  'ivánovna',\n",
              "  'failed',\n",
              "  'pávlograd',\n",
              "  'vanished',\n",
              "  'examined',\n",
              "  'pair',\n",
              "  'upset',\n",
              "  'coldly',\n",
              "  'inquiry',\n",
              "  'support',\n",
              "  'exchanged',\n",
              "  'nowhere',\n",
              "  'band',\n",
              "  'thrust',\n",
              "  'resolution',\n",
              "  'request',\n",
              "  'pose',\n",
              "  'maneuvers',\n",
              "  'pieces',\n",
              "  'risen',\n",
              "  'pillow',\n",
              "  'problem',\n",
              "  'pure',\n",
              "  'eternal',\n",
              "  'sleeping',\n",
              "  'attacking',\n",
              "  'european',\n",
              "  'tranquil',\n",
              "  'coach',\n",
              "  'smart',\n",
              "  'win',\n",
              "  'aid',\n",
              "  'encounter',\n",
              "  'dragging',\n",
              "  'ear',\n",
              "  'scoundrel',\n",
              "  'confirmed',\n",
              "  'heights',\n",
              "  'roar',\n",
              "  'yards',\n",
              "  'inevitably',\n",
              "  'losses',\n",
              "  'transport',\n",
              "  'theater',\n",
              "  'enemies',\n",
              "  'mild',\n",
              "  'bodies',\n",
              "  'arrangements',\n",
              "  'proclamation',\n",
              "  'cries',\n",
              "  'militiamen',\n",
              "  'nephew',\n",
              "  'drops',\n",
              "  'niemen',\n",
              "  'numbers',\n",
              "  'balagá',\n",
              "  'hive',\n",
              "  'michaud',\n",
              "  'vyázma',\n",
              "  'flèches']}"
            ]
          },
          "metadata": {
            "tags": []
          },
          "execution_count": 104
        }
      ]
    },
    {
      "cell_type": "code",
      "metadata": {
        "id": "O1gsg17zOLs9",
        "colab_type": "code",
        "outputId": "56759943-af41-4918-c424-2c001cc80797",
        "colab": {
          "base_uri": "https://localhost:8080/",
          "height": 34
        }
      },
      "source": [
        "#Optional: If you know how to define a function, write a function that takes a Counter and a frequency as arguments, \n",
        "#prints all words with that frequency, and returns the number of words with that frequency.\n",
        "\n",
        "\n",
        "def freq_info(counter2, freq):\n",
        "\n",
        "  word_freq_pairs = counter2.most_common()\n",
        "\n",
        "  count_freq = 0\n",
        "  list_freq = []\n",
        "\n",
        "  for i in word_freq_pairs:\n",
        "    if i[1] == freq:\n",
        "      count_freq += 1\n",
        "      list_freq.append(i[0])\n",
        "\n",
        "\n",
        "  final_count = []\n",
        "  final_count.append(count_freq)\n",
        "\n",
        "\n",
        "  dictionary = dict(zip(final_count, list_freq))\n",
        "  return dictionary\n",
        "\n",
        "freq_info(counter, 200)"
      ],
      "execution_count": 0,
      "outputs": [
        {
          "output_type": "execute_result",
          "data": {
            "text/plain": [
              "{1: 'orders'}"
            ]
          },
          "metadata": {
            "tags": []
          },
          "execution_count": 110
        }
      ]
    }
  ]
}