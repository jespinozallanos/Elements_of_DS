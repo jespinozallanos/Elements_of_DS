{
  "nbformat": 4,
  "nbformat_minor": 0,
  "metadata": {
    "kernelspec": {
      "display_name": "Python 3",
      "language": "python",
      "name": "python3"
    },
    "language_info": {
      "codemirror_mode": {
        "name": "ipython",
        "version": 3
      },
      "file_extension": ".py",
      "mimetype": "text/x-python",
      "name": "python",
      "nbconvert_exporter": "python",
      "pygments_lexer": "ipython3",
      "version": "3.7.4"
    },
    "colab": {
      "name": "Copy of 10_regression.ipynb",
      "provenance": [],
      "collapsed_sections": [],
      "toc_visible": true,
      "machine_shape": "hm",
      "include_colab_link": true
    }
  },
  "cells": [
    {
      "cell_type": "markdown",
      "metadata": {
        "id": "view-in-github",
        "colab_type": "text"
      },
      "source": [
        "<a href=\"https://colab.research.google.com/github/mindyng/Elements_of_DS/blob/master/Copy_of_10_regression.ipynb\" target=\"_parent\"><img src=\"https://colab.research.google.com/assets/colab-badge.svg\" alt=\"Open In Colab\"/></a>"
      ]
    },
    {
      "cell_type": "markdown",
      "metadata": {
        "id": "5t2qpTWPsGvk",
        "colab_type": "text"
      },
      "source": [
        "# Regression\n",
        "\n",
        "Elements of Data Science\n",
        "\n",
        "by [Allen Downey](https://allendowney.com)\n",
        "\n",
        "[MIT License](https://opensource.org/licenses/MIT)\n",
        "\n",
        "### Goals\n",
        "\n",
        "In the previous notebook we used simple regression to quantify the relationship between two variables.\n",
        "\n",
        "In this notebook we'll get farther into regression, including multiple regression and one of my all-time favorite tools, logistic regression.\n",
        "\n",
        "These tools will allow us to explore relationships among sets of variables.  As an example, we will use data from the GSS to explore the relationship between income, education, age, and sex.\n",
        "\n",
        "But first let's understand the limits of single regression."
      ]
    },
    {
      "cell_type": "code",
      "metadata": {
        "id": "jFiA0pv4sGvs",
        "colab_type": "code",
        "colab": {
          "base_uri": "https://localhost:8080/",
          "height": 34
        },
        "outputId": "db4de890-6bf6-486b-927c-228983ed15e5"
      },
      "source": [
        "# If we're running on Colab, install empiricaldist\n",
        "# https://pypi.org/project/empiricaldist/\n",
        "\n",
        "import sys\n",
        "IN_COLAB = 'google.colab' in sys.modules\n",
        "\n",
        "if IN_COLAB:\n",
        "    !pip install empiricaldist"
      ],
      "execution_count": 106,
      "outputs": [
        {
          "output_type": "stream",
          "text": [
            "Requirement already satisfied: empiricaldist in /usr/local/lib/python3.6/dist-packages (0.3.4)\n"
          ],
          "name": "stdout"
        }
      ]
    },
    {
      "cell_type": "markdown",
      "metadata": {
        "id": "XOb2vVzHsGv3",
        "colab_type": "text"
      },
      "source": [
        "## Limits of single regression\n",
        "\n",
        "In a previous exercise, you made a scatter plot of vegetable consumption as a function of income, and plotted a line of best fit.\n",
        "\n",
        "Here's what it looks like:\n",
        "\n",
        "![](https://github.com/AllenDowney/ElementsOfDataScience/raw/master/figs/fig08-01.png)\n",
        "\n",
        "The slope of the line is 0.07, which means that the difference between the lowest and highest income brackets is about 0.49 servings per day.\n",
        "\n",
        "So that's not a very big difference.\n",
        "\n",
        "But it was an arbitrary choice to plot vegetables as a function of income.  We could have plotted it the other way around, like this.\n",
        "\n",
        "![](https://github.com/AllenDowney/ElementsOfDataScience/raw/master/figs/fig08-02.png)\n",
        "\n",
        "The slope of this line is about 0.2, which means that the difference between 0 and 10 servings per day is about 2 income levels, roughly from level 5 to level 7.\n",
        "\n",
        "And the difference between income levels 5 and 7 is about $30,000 per year, which is substantial.\n",
        "\n",
        "So if we use vegetable consumption to predict income, we see a big difference.  But when we used income to predict vegetable consumption, we saw a small difference.\n",
        "\n",
        "This example shows that regression is not symmetric; the regression of A onto B is not the same as the regression of B onto A.\n",
        "\n",
        "We can see that more clearly by putting the two figures side by side and plotting both regression lines on both figures.\n",
        "\n",
        "![](https://github.com/AllenDowney/ElementsOfDataScience/raw/master/figs/fig08-03.png)\n",
        "\n",
        "They are different because they are based on different assumptions.  \n",
        "\n",
        "* On the left, we treat income as a known quantity and vegetable consumption as random.\n",
        "\n",
        "* On the right, vegetable consumption is known and income is random.\n",
        "\n",
        "When you run a regression model, you make decisions about how to treat the data, and those decisions affect the results you get.\n",
        "\n",
        "This example is meant to demonstrate another point, which is that regression doesn't tell you much about causation.\n",
        "\n",
        "If you think people with lower income can't afford vegetables, you might look at the figure on the left and conclude that it doesn't make much difference.\n",
        "\n",
        "If you think better diet increases income, the figure on the right might make you think it does.\n",
        "\n",
        "But in general, regression can't tell you what causes what.  If you see a relationship between any two variables, A and B, the reason for the relationship might be that A causes B, B causes A, or there might be other factors that cause both A and B.\n",
        "\n",
        "Regression alone can't tell you which way it goes.\n",
        "\n",
        "However, we have tools for teasing apart relationships among multiple variables; one of the most important is multiple regression.\n",
        "\n",
        "SciPy doesn't do multiple regression, so we'll to switch to a new library, StatsModels.  Here's the import statement."
      ]
    },
    {
      "cell_type": "code",
      "metadata": {
        "id": "tJvqpWdJsGv8",
        "colab_type": "code",
        "colab": {}
      },
      "source": [
        "import statsmodels.formula.api as smf"
      ],
      "execution_count": 0,
      "outputs": []
    },
    {
      "cell_type": "markdown",
      "metadata": {
        "id": "1LbwrLuqsGwI",
        "colab_type": "text"
      },
      "source": [
        "For the first example, we'll load data from the Behavioral Risk Factor Surveillance Survey (BRFSS), which we saw in the previous notebook."
      ]
    },
    {
      "cell_type": "code",
      "metadata": {
        "id": "1hmnWIpPsGwM",
        "colab_type": "code",
        "colab": {}
      },
      "source": [
        "# Get the data file\n",
        "\n",
        "import os\n",
        "\n",
        "if not os.path.exists('brfss.hdf5'):\n",
        "    !wget https://github.com/AllenDowney/ElementsOfDataScience/raw/master/brfss.hdf5"
      ],
      "execution_count": 0,
      "outputs": []
    },
    {
      "cell_type": "code",
      "metadata": {
        "id": "o3dBQfuSsGwT",
        "colab_type": "code",
        "colab": {}
      },
      "source": [
        "import pandas as pd\n",
        "\n",
        "brfss = pd.read_hdf('brfss.hdf5', 'brfss')"
      ],
      "execution_count": 0,
      "outputs": []
    },
    {
      "cell_type": "markdown",
      "metadata": {
        "id": "5alSqjAZsGwb",
        "colab_type": "text"
      },
      "source": [
        "Now we can use StatsModels to fit a regression mode.  The name of the function is `ols`, which stands for \"ordinary least squares\", another name for regression."
      ]
    },
    {
      "cell_type": "code",
      "metadata": {
        "id": "1j07-tQrsGwe",
        "colab_type": "code",
        "colab": {}
      },
      "source": [
        "results = smf.ols('INCOME2 ~ _VEGESU1', data=brfss).fit()"
      ],
      "execution_count": 0,
      "outputs": []
    },
    {
      "cell_type": "markdown",
      "metadata": {
        "id": "Q5lTFCMisGwn",
        "colab_type": "text"
      },
      "source": [
        "The first argument is a formula string that specifies that we want to regress income as a function of vegetable consumption.\n",
        "\n",
        "The second argument is the BRFSS DataFrame.  The names in the formula correspond to columns in the DataFrame.\n",
        "\n",
        "The result from `ols()` represents the model; then we run `fit()` to get the results."
      ]
    },
    {
      "cell_type": "code",
      "metadata": {
        "id": "weaaPjuAsGwr",
        "colab_type": "code",
        "colab": {
          "base_uri": "https://localhost:8080/",
          "height": 34
        },
        "outputId": "4ff4f84f-c689-4545-a58f-cf0a7b4ef342"
      },
      "source": [
        "type(results)"
      ],
      "execution_count": 111,
      "outputs": [
        {
          "output_type": "execute_result",
          "data": {
            "text/plain": [
              "statsmodels.regression.linear_model.RegressionResultsWrapper"
            ]
          },
          "metadata": {
            "tags": []
          },
          "execution_count": 111
        }
      ]
    },
    {
      "cell_type": "markdown",
      "metadata": {
        "id": "9NM58mxJsGwy",
        "colab_type": "text"
      },
      "source": [
        "Results is a `RegressionResultsWrapper`, which contains a lot of information, but the first thing we'll look at is the attribute `params`, which contains the estimated intercept and the slope associated with `_VEGESU1`."
      ]
    },
    {
      "cell_type": "code",
      "metadata": {
        "id": "c6E_PHe6sGw0",
        "colab_type": "code",
        "colab": {
          "base_uri": "https://localhost:8080/",
          "height": 68
        },
        "outputId": "89e8f6f8-fc7b-4cf2-f61d-46a46694cb27"
      },
      "source": [
        "results.params"
      ],
      "execution_count": 112,
      "outputs": [
        {
          "output_type": "execute_result",
          "data": {
            "text/plain": [
              "Intercept    5.450700\n",
              "_VEGESU1     0.204935\n",
              "dtype: float64"
            ]
          },
          "metadata": {
            "tags": []
          },
          "execution_count": 112
        }
      ]
    },
    {
      "cell_type": "markdown",
      "metadata": {
        "id": "yXXLoV6XsGw8",
        "colab_type": "text"
      },
      "source": [
        "And we get the same results we got from SciPy, so that's good!\n",
        "\n",
        "In the next section we'll move on to multiple regression.  But first, some exercises."
      ]
    },
    {
      "cell_type": "markdown",
      "metadata": {
        "id": "1SL-JdtCsGw-",
        "colab_type": "text"
      },
      "source": [
        "**Exercise:** In the BRFSS dataset, there is a strong relationship between vegetable consumption and income. The income of people who eat 8 servings of vegetables per day is double the income of people who eat none, on average.\n",
        "\n",
        "Which of the following conclusions can we draw from this data?\n",
        "\n",
        "A.  Eating a good diet leads to better health and higher income.\n",
        "\n",
        "B.  People with higher income can afford a better diet.\n",
        "\n",
        "C.  People with high income are more likely to be vegetarians."
      ]
    },
    {
      "cell_type": "code",
      "metadata": {
        "id": "IKS0dkUgsGxB",
        "colab_type": "code",
        "colab": {}
      },
      "source": [
        "# Solution goes here\n",
        "#A"
      ],
      "execution_count": 0,
      "outputs": []
    },
    {
      "cell_type": "markdown",
      "metadata": {
        "id": "Lq3vrxx7sGxH",
        "colab_type": "text"
      },
      "source": [
        "**Exercise:** Let's run a regression using SciPy and StatsModels, and confirm we get the same results.\n",
        "\n",
        "- Compute the regression of `_VEGESU1` as a function of `INCOME2` using SciPy's `linregress()`.\n",
        "\n",
        "- Compute the regression of `_VEGESU1` as a function of `INCOME2` using StatsModels' `smf.ols()`."
      ]
    },
    {
      "cell_type": "code",
      "metadata": {
        "id": "ZW12ILGLsGxJ",
        "colab_type": "code",
        "colab": {
          "base_uri": "https://localhost:8080/",
          "height": 54
        },
        "outputId": "f15b36f8-d9b9-4331-e4b6-9e9e9773df3f"
      },
      "source": [
        "# Solution goes here\n",
        "from scipy.stats import linregress\n",
        "#linregress(x,y)\n",
        "subset = brfss.dropna(subset=['INCOME2', '_VEGESU1'])\n",
        "results2 = linregress(subset['INCOME2'], subset['_VEGESU1'])\n",
        "results2"
      ],
      "execution_count": 114,
      "outputs": [
        {
          "output_type": "execute_result",
          "data": {
            "text/plain": [
              "LinregressResult(slope=0.06988048092105019, intercept=1.5287786243363106, rvalue=0.11967005884864107, pvalue=1.378503916247615e-238, stderr=0.002110976356332332)"
            ]
          },
          "metadata": {
            "tags": []
          },
          "execution_count": 114
        }
      ]
    },
    {
      "cell_type": "code",
      "metadata": {
        "id": "byt8EembsGxP",
        "colab_type": "code",
        "colab": {
          "base_uri": "https://localhost:8080/",
          "height": 68
        },
        "outputId": "744e96e0-082a-4a1a-8eaa-35ac88949d8e"
      },
      "source": [
        "# Solution goes here\n",
        "#smf.ols(Y,X)\n",
        "results3 = smf.ols('_VEGESU1 ~ INCOME2', data=brfss).fit()\n",
        "results3.params"
      ],
      "execution_count": 115,
      "outputs": [
        {
          "output_type": "execute_result",
          "data": {
            "text/plain": [
              "Intercept    1.528779\n",
              "INCOME2      0.069880\n",
              "dtype: float64"
            ]
          },
          "metadata": {
            "tags": []
          },
          "execution_count": 115
        }
      ]
    },
    {
      "cell_type": "code",
      "metadata": {
        "id": "JvwKuXbjc9hu",
        "colab_type": "code",
        "colab": {}
      },
      "source": [
        "#Yay!  Slope and Intercept are the same!"
      ],
      "execution_count": 0,
      "outputs": []
    },
    {
      "cell_type": "markdown",
      "metadata": {
        "id": "ilciJUSssGxW",
        "colab_type": "text"
      },
      "source": [
        "## Multiple regression\n",
        "\n",
        "Now that we have StatsModels, getting from single to multiple regression is easy.\n",
        "\n",
        "As an example, we'll use data from the General Social Survey, which we saw in Notebook 7, and we'll explore variables that are related to income.\n",
        "\n",
        "First, let's load the GSS data."
      ]
    },
    {
      "cell_type": "code",
      "metadata": {
        "id": "NEazDAA6sGxY",
        "colab_type": "code",
        "colab": {}
      },
      "source": [
        "# Get the data file\n",
        "\n",
        "import os\n",
        "\n",
        "if not os.path.exists('gss.hdf5'):\n",
        "    !wget https://github.com/AllenDowney/ElementsOfDataScience/raw/master/gss.hdf5"
      ],
      "execution_count": 0,
      "outputs": []
    },
    {
      "cell_type": "code",
      "metadata": {
        "id": "9Snv9ABAsGxf",
        "colab_type": "code",
        "colab": {}
      },
      "source": [
        "import pandas as pd\n",
        "\n",
        "gss = pd.read_hdf('gss.hdf5', 'gss')"
      ],
      "execution_count": 0,
      "outputs": []
    },
    {
      "cell_type": "markdown",
      "metadata": {
        "id": "6wdS9gTnsGxn",
        "colab_type": "text"
      },
      "source": [
        "Then we run a regression of real income as a function of years of education.  The first argument of `ols()` is a formula that specifies the variables in the regression:"
      ]
    },
    {
      "cell_type": "code",
      "metadata": {
        "id": "4qsXElnHsGxq",
        "colab_type": "code",
        "colab": {
          "base_uri": "https://localhost:8080/",
          "height": 68
        },
        "outputId": "93e45851-d5f9-47d6-e42e-8876497d4b5a"
      },
      "source": [
        "results = smf.ols('realinc ~ educ', data=gss).fit()\n",
        "results.params"
      ],
      "execution_count": 119,
      "outputs": [
        {
          "output_type": "execute_result",
          "data": {
            "text/plain": [
              "Intercept   -11539.147837\n",
              "educ          3586.523659\n",
              "dtype: float64"
            ]
          },
          "metadata": {
            "tags": []
          },
          "execution_count": 119
        }
      ]
    },
    {
      "cell_type": "markdown",
      "metadata": {
        "id": "PNHBAdHxsGxz",
        "colab_type": "text"
      },
      "source": [
        "On the left, \"real income\" is the variable we are trying to predict; on the right, \"education\" is the variable we are using to inform the predictions.\n",
        "\n",
        "And here are the results.  The estimated slope is almost 3600, which means that each additional year of education is associated with an additional $3600 of income.\n",
        "\n",
        "But income also depends on age, so it would be good to include that in the model, too.\n",
        "\n",
        "Here's how: "
      ]
    },
    {
      "cell_type": "code",
      "metadata": {
        "id": "PbUdU0pFsGx1",
        "colab_type": "code",
        "colab": {
          "base_uri": "https://localhost:8080/",
          "height": 85
        },
        "outputId": "64edd397-cf3a-4589-a84b-039e2976304e"
      },
      "source": [
        "results = smf.ols('realinc ~ educ + age', data=gss).fit()\n",
        "results.params"
      ],
      "execution_count": 120,
      "outputs": [
        {
          "output_type": "execute_result",
          "data": {
            "text/plain": [
              "Intercept   -16117.275684\n",
              "educ          3655.166921\n",
              "age             83.731804\n",
              "dtype: float64"
            ]
          },
          "metadata": {
            "tags": []
          },
          "execution_count": 120
        }
      ]
    },
    {
      "cell_type": "markdown",
      "metadata": {
        "id": "ywuPw0VqsGx7",
        "colab_type": "text"
      },
      "source": [
        "On the right side of the formula, you can list as many variables as you like, in this case, education and age.\n",
        "\n",
        "The `plus` sign indicates that we expect the contributions of the two variables to be additive, which is a common assumption for models like this.\n",
        "\n",
        "The estimated slope for education is a little higher than what we saw before, about $3650 per year.\n",
        "\n",
        "The estimated slope for `age` is only about $80 per year, which is surprisingly small.\n",
        "\n",
        "To see what's going on, let's look more closely at the relationship between income and age."
      ]
    },
    {
      "cell_type": "markdown",
      "metadata": {
        "id": "Op4Y23V7sGx_",
        "colab_type": "text"
      },
      "source": [
        "## Groupby\n",
        "\n",
        "I'll use `groupby()`, which is a Pandas feature we have not seen before, to divide the DataFrame into age groups.  The result is a `GroupBy` object that contains one group for each value of `age`."
      ]
    },
    {
      "cell_type": "code",
      "metadata": {
        "id": "3QanSLUOsGyD",
        "colab_type": "code",
        "colab": {
          "base_uri": "https://localhost:8080/",
          "height": 34
        },
        "outputId": "c6a16727-e064-4afc-bb57-88decb9261bf"
      },
      "source": [
        "grouped = gss.groupby('age')\n",
        "type(grouped)"
      ],
      "execution_count": 121,
      "outputs": [
        {
          "output_type": "execute_result",
          "data": {
            "text/plain": [
              "pandas.core.groupby.generic.DataFrameGroupBy"
            ]
          },
          "metadata": {
            "tags": []
          },
          "execution_count": 121
        }
      ]
    },
    {
      "cell_type": "markdown",
      "metadata": {
        "id": "vInnmq-NsGyJ",
        "colab_type": "text"
      },
      "source": [
        "The `GroupBy` object behaves like a DataFrame in many ways.  You can use brackets to select a column, like `realinc` in this example, and then invoke a method like `mean()`."
      ]
    },
    {
      "cell_type": "code",
      "metadata": {
        "id": "0BBT8OxLsGyK",
        "colab_type": "code",
        "colab": {}
      },
      "source": [
        "mean_income_by_age = grouped['realinc'].mean()"
      ],
      "execution_count": 0,
      "outputs": []
    },
    {
      "cell_type": "markdown",
      "metadata": {
        "id": "6IINSoMmsGyS",
        "colab_type": "text"
      },
      "source": [
        "The result is a Pandas series that contains the mean income for each age group, which we can plot like this."
      ]
    },
    {
      "cell_type": "code",
      "metadata": {
        "id": "UrQ9nIGrsGyT",
        "colab_type": "code",
        "colab": {
          "base_uri": "https://localhost:8080/",
          "height": 295
        },
        "outputId": "d5c0b775-f31c-43f5-863b-913b23597fb5"
      },
      "source": [
        "import matplotlib.pyplot as plt\n",
        "\n",
        "plt.plot(mean_income_by_age, 'o', alpha=0.5)\n",
        "plt.xlabel('Age (years)')\n",
        "plt.ylabel('Income (1986 $)')\n",
        "plt.title('Average income, grouped by age');"
      ],
      "execution_count": 123,
      "outputs": [
        {
          "output_type": "display_data",
          "data": {
            "image/png": "[encoded data removed]",
            "text/plain": [
              "<Figure size 432x288 with 1 Axes>"
            ]
          },
          "metadata": {
            "tags": []
          }
        }
      ]
    },
    {
      "cell_type": "markdown",
      "metadata": {
        "id": "4vwcpABXsGyZ",
        "colab_type": "text"
      },
      "source": [
        "Average income increases from age 20 to age 50, then starts to fall.  \n",
        "\n",
        "And that explains why the estimated slope is so small, because the relationship is non-linear.  Remember that correlation and single regression can't measure non-linear relationships.  \n",
        "\n",
        "But multiple regression can!  To describe a non-linear relationship, one option is to add a new variable that is a non-linear combination of other variables.\n",
        "\n",
        "As an example, I'll create a new variable called `age2` that equals `age` squared."
      ]
    },
    {
      "cell_type": "code",
      "metadata": {
        "id": "pIeNa4xQsGya",
        "colab_type": "code",
        "colab": {}
      },
      "source": [
        "gss['age2'] = gss['age']**2"
      ],
      "execution_count": 0,
      "outputs": []
    },
    {
      "cell_type": "markdown",
      "metadata": {
        "id": "jo_5h4MNsGyg",
        "colab_type": "text"
      },
      "source": [
        "Now we can run a regression with both `age` and `age2` on the right side."
      ]
    },
    {
      "cell_type": "code",
      "metadata": {
        "id": "-CDqizQSsGyn",
        "colab_type": "code",
        "colab": {
          "base_uri": "https://localhost:8080/",
          "height": 102
        },
        "outputId": "2926df51-5e59-463b-ff20-842a97741650"
      },
      "source": [
        "model = smf.ols('realinc ~ educ + age + age2', data=gss)\n",
        "results = model.fit()\n",
        "results.params"
      ],
      "execution_count": 125,
      "outputs": [
        {
          "output_type": "execute_result",
          "data": {
            "text/plain": [
              "Intercept   -48058.679679\n",
              "educ          3442.447178\n",
              "age           1748.232631\n",
              "age2           -17.437552\n",
              "dtype: float64"
            ]
          },
          "metadata": {
            "tags": []
          },
          "execution_count": 125
        }
      ]
    },
    {
      "cell_type": "markdown",
      "metadata": {
        "id": "-qHy3P5HsGyv",
        "colab_type": "text"
      },
      "source": [
        "The slope associated with age is substantial, about $1700 per year.  \n",
        "\n",
        "The slope associated with `age2` is about -$17, but that's harder to interpret.\n",
        "\n",
        "In the next section, we'll see methods to interpret multivariate models and visualize the results.  But first, let's practice multiple regression."
      ]
    },
    {
      "cell_type": "markdown",
      "metadata": {
        "id": "laMZtGB8sGyy",
        "colab_type": "text"
      },
      "source": [
        "**Exercise:** To get a closer look at the relationship between income and education, let's use the variable `educ` to group the data, then plot mean income in each group.\n",
        "\n",
        "- Group `gss` by `educ`. Store the result in `grouped`.\n",
        "\n",
        "- From `grouped`, extract `realinc` and compute the mean.\n",
        "\n",
        "- Plot mean income in each education group as a scatter plot.\n",
        "\n",
        "What can you say about the relationship between education and income?  Does it look like a linear relationship?"
      ]
    },
    {
      "cell_type": "code",
      "metadata": {
        "id": "AKo4Wkv0sGy0",
        "colab_type": "code",
        "colab": {
          "base_uri": "https://localhost:8080/",
          "height": 295
        },
        "outputId": "14f323b1-7d74-4b8f-9548-9dff10a73d64"
      },
      "source": [
        "# Solution goes here\n",
        "grouped = gss.groupby('educ')\n",
        "mean_income_by_educ = grouped['realinc'].mean()\n",
        "\n",
        "plt.plot(mean_income_by_educ, 'o', alpha=0.5)\n",
        "plt.xlabel('Education by category')\n",
        "plt.ylabel('Income (1986 $)')\n",
        "plt.title('Average income, grouped by Education');"
      ],
      "execution_count": 126,
      "outputs": [
        {
          "output_type": "display_data",
          "data": {
            "image/png": "[encoded data removed]",
            "text/plain": [
              "<Figure size 432x288 with 1 Axes>"
            ]
          },
          "metadata": {
            "tags": []
          }
        }
      ]
    },
    {
      "cell_type": "code",
      "metadata": {
        "id": "dfwILz5mrxar",
        "colab_type": "code",
        "colab": {}
      },
      "source": [
        "# The relationship between education and income is positive and somewhat linear,\n",
        "# but the relationship is not the strongest due to the inital data points. So it is\n",
        "# a non-linear relationship."
      ],
      "execution_count": 0,
      "outputs": []
    },
    {
      "cell_type": "markdown",
      "metadata": {
        "id": "r7yi90RIsGy7",
        "colab_type": "text"
      },
      "source": [
        "**Exercise:** The graph in the previous exercise suggests that the relationship between income and education is non-linear.  So let's try fitting a non-linear model.\n",
        "\n",
        "- Add a column named `educ2` to the `gss` DataFrame; it should contain the values from `educ` squared.  \n",
        "\n",
        "- Run a regression model that uses `educ`, `educ2`, `age`, and `age2` to predict `realinc`.\n"
      ]
    },
    {
      "cell_type": "code",
      "metadata": {
        "id": "Kn164-I4sGy8",
        "colab_type": "code",
        "colab": {
          "base_uri": "https://localhost:8080/",
          "height": 119
        },
        "outputId": "12f44ed6-81a1-45f6-8bf2-548ade316ab0"
      },
      "source": [
        "# Solution goes here\n",
        "educ2 = gss['educ']**2\n",
        "model = smf.ols('realinc ~ educ + educ2 + + age + age2', data=gss)\n",
        "results = model.fit()\n",
        "results.params"
      ],
      "execution_count": 128,
      "outputs": [
        {
          "output_type": "execute_result",
          "data": {
            "text/plain": [
              "Intercept   -23241.884034\n",
              "educ          -528.309369\n",
              "educ2          159.966740\n",
              "age           1696.717149\n",
              "age2           -17.196984\n",
              "dtype: float64"
            ]
          },
          "metadata": {
            "tags": []
          },
          "execution_count": 128
        }
      ]
    },
    {
      "cell_type": "code",
      "metadata": {
        "id": "2jkHCi0AtCmT",
        "colab_type": "code",
        "colab": {}
      },
      "source": [
        "# We see here with the new var educ2 added to the model to preduct income, we see that the contribution of age is \n",
        "# $1697 which is substantial. So for each increment of age, there is approximately $1700 more in income."
      ],
      "execution_count": 0,
      "outputs": []
    },
    {
      "cell_type": "markdown",
      "metadata": {
        "id": "5vB2EyD2sGzE",
        "colab_type": "text"
      },
      "source": [
        "## Visualizing regression results\n",
        "\n",
        "In the previous section we ran a multiple regression model to characterize the relationships between income, age, and education.\n",
        "\n",
        "Because the model includes quadratic terms, the parameters are hard to interpret. For example, you might notice that the parameter for `educ` is negative, and that might be a surprise, because it suggests that higher education is associated with lower income.\n",
        "\n",
        "But the parameter for `educ2` is positive, and that makes a big difference.  In this section we'll see a way to interpret the model visually and validate it against data.\n",
        "\n",
        "Here's the model from the previous exercise."
      ]
    },
    {
      "cell_type": "code",
      "metadata": {
        "id": "pwehamJksGzG",
        "colab_type": "code",
        "colab": {
          "base_uri": "https://localhost:8080/",
          "height": 119
        },
        "outputId": "be869bab-45e8-4ce9-dbbd-bb7a271cca9c"
      },
      "source": [
        "gss['age2'] = gss['age']**2\n",
        "gss['educ2'] = gss['educ']**2\n",
        "\n",
        "model = smf.ols('realinc ~ educ + educ2 + age + age2', data=gss)\n",
        "results = model.fit()\n",
        "results.params"
      ],
      "execution_count": 130,
      "outputs": [
        {
          "output_type": "execute_result",
          "data": {
            "text/plain": [
              "Intercept   -23241.884034\n",
              "educ          -528.309369\n",
              "educ2          159.966740\n",
              "age           1696.717149\n",
              "age2           -17.196984\n",
              "dtype: float64"
            ]
          },
          "metadata": {
            "tags": []
          },
          "execution_count": 130
        }
      ]
    },
    {
      "cell_type": "markdown",
      "metadata": {
        "id": "K3J3Eh7GsGzM",
        "colab_type": "text"
      },
      "source": [
        "Sometimes we can understand a model by looking at its parameters, but often it is better to look at its predictions.\n",
        "\n",
        "The regression results provide a method called `predict()` that uses the model to generate predictions.\n",
        "\n",
        "It takes a DataFrame as a parameter and returns a Series with a prediction for each row in the DataFrame.\n",
        "\n",
        "To use it, I'll create a new DataFrame with `age` running from 18 to 89, and `age2` set to `age` squared."
      ]
    },
    {
      "cell_type": "code",
      "metadata": {
        "id": "JMLDC1WWsGzP",
        "colab_type": "code",
        "colab": {}
      },
      "source": [
        "import numpy as np\n",
        "\n",
        "df = pd.DataFrame()\n",
        "df['age'] = np.linspace(18, 89)\n",
        "df['age2'] = df['age']**2"
      ],
      "execution_count": 0,
      "outputs": []
    },
    {
      "cell_type": "markdown",
      "metadata": {
        "id": "kMF-pumbsGzW",
        "colab_type": "text"
      },
      "source": [
        "Next, I'll pick a level for `educ`, like 12 years, which is the most common value.  When you assign a single value to a column in a DataFrame, Pandas makes a copy for each respondent."
      ]
    },
    {
      "cell_type": "code",
      "metadata": {
        "id": "BsHNfE3fsGzY",
        "colab_type": "code",
        "colab": {}
      },
      "source": [
        "df['educ'] = 12\n",
        "df['educ2'] = df['educ']**2"
      ],
      "execution_count": 0,
      "outputs": []
    },
    {
      "cell_type": "markdown",
      "metadata": {
        "id": "oUHYLhEFsGzf",
        "colab_type": "text"
      },
      "source": [
        "Then we can use `results` to predict the average income for each age group, holding education constant."
      ]
    },
    {
      "cell_type": "code",
      "metadata": {
        "id": "f-_Xna1jsGzg",
        "colab_type": "code",
        "colab": {}
      },
      "source": [
        "pred12 = results.predict(df)"
      ],
      "execution_count": 0,
      "outputs": []
    },
    {
      "cell_type": "markdown",
      "metadata": {
        "id": "-q2hkVVgsGzn",
        "colab_type": "text"
      },
      "source": [
        "The result from `predict()` is a Series with one prediction for each row.  So we can plot it with age on the `x` axis and the predicted income for each age group on the `y` axis.\n",
        "\n",
        "And we can plot the data for comparison."
      ]
    },
    {
      "cell_type": "code",
      "metadata": {
        "id": "-b1t4tSKsGzp",
        "colab_type": "code",
        "colab": {
          "base_uri": "https://localhost:8080/",
          "height": 295
        },
        "outputId": "41585fd7-c69a-47a7-d171-a4cb7eeee09d"
      },
      "source": [
        "plt.plot(mean_income_by_age, 'o', alpha=0.5)\n",
        "\n",
        "plt.plot(df['age'], pred12, label='High school', color='C4')\n",
        "\n",
        "plt.xlabel('Age (years)')\n",
        "plt.ylabel('Income (1986 $)')\n",
        "plt.title('Income versus age, grouped by education level')\n",
        "plt.legend();"
      ],
      "execution_count": 134,
      "outputs": [
        {
          "output_type": "display_data",
          "data": {
            "image/png": "[encoded data removed]",
            "text/plain": [
              "<Figure size 432x288 with 1 Axes>"
            ]
          },
          "metadata": {
            "tags": []
          }
        }
      ]
    },
    {
      "cell_type": "markdown",
      "metadata": {
        "id": "VvCe99FbsGzt",
        "colab_type": "text"
      },
      "source": [
        "The blue dots show the average income in each age group.\n",
        "\n",
        "The orange line shows the predictions generated by the model, holding education constant.\n",
        "\n",
        "This plot shows the shape of the model, a downward-facing parabola.\n",
        "\n",
        "We can do the same thing with other levels of education, like 14 years, which is the nominal time to each an Associate's degree, and 16 years, which is the nominal time to earn a Bachelor's degree."
      ]
    },
    {
      "cell_type": "code",
      "metadata": {
        "id": "ehVXxeXhsGz1",
        "colab_type": "code",
        "colab": {
          "base_uri": "https://localhost:8080/",
          "height": 295
        },
        "outputId": "68a5a277-bc19-4f88-8827-aac9ed611c4c"
      },
      "source": [
        "plt.plot(mean_income_by_age, 'o', alpha=0.5)\n",
        "\n",
        "df['educ'] = 16\n",
        "df['educ2'] = df['educ']**2\n",
        "pred16 = results.predict(df)\n",
        "plt.plot(df['age'], pred16, label='Bachelor')\n",
        "\n",
        "df['educ'] = 14\n",
        "df['educ2'] = df['educ']**2\n",
        "pred14 = results.predict(df)\n",
        "plt.plot(df['age'], pred14, label='Associate')\n",
        "\n",
        "plt.plot(df['age'], pred12, label='High school', color='C4')\n",
        "\n",
        "plt.xlabel('Age (years)')\n",
        "plt.ylabel('Income (1986 $)')\n",
        "plt.title('Income versus age, grouped by education level')\n",
        "plt.legend();"
      ],
      "execution_count": 135,
      "outputs": [
        {
          "output_type": "display_data",
          "data": {
            "image/png": "[encoded data removed]",
            "text/plain": [
              "<Figure size 432x288 with 1 Axes>"
            ]
          },
          "metadata": {
            "tags": []
          }
        }
      ]
    },
    {
      "cell_type": "markdown",
      "metadata": {
        "id": "U6jGIKJisGz8",
        "colab_type": "text"
      },
      "source": [
        "The lines show mean income, as predicted by the model, as a function of age, for three levels of education.\n",
        "\n",
        "This visualization helps validate the model, since we can compare the predictions with the data.  And it helps us interpret the model since we can see the separate contributions of age and education.\n",
        "\n",
        "In the exercises, you'll have a chance to run a multiple regression, generate predictions, and visualize the results."
      ]
    },
    {
      "cell_type": "markdown",
      "metadata": {
        "id": "_bL4OXmEsGz_",
        "colab_type": "text"
      },
      "source": [
        "**Exercise:** At this point, we have a model that predicts income using age, education, and sex.\n",
        "\n",
        "Let's see what it predicts for different levels of education, holding `age` constant.\n",
        "\n",
        "- Create an empty DataFrame named `df`.\n",
        "\n",
        "- Using `np.linspace()`, add a variable named `educ` to `df` with a range of values from `0` to `20`.\n",
        "\n",
        "- Add a variable named `age` with the constant value `30`.\n",
        "\n",
        "- Use `df` to generate predicted income as a function of education."
      ]
    },
    {
      "cell_type": "code",
      "metadata": {
        "id": "j-QgAyUCsG0A",
        "colab_type": "code",
        "colab": {}
      },
      "source": [
        "# Solution goes here\n",
        "df = pd.DataFrame()\n",
        "df['educ'] = np.linspace(0, 20)\n",
        "df['age'] = 30\n",
        "df['age2'] = df['age']**2\n",
        "df['educ2'] = df['educ']**2"
      ],
      "execution_count": 0,
      "outputs": []
    },
    {
      "cell_type": "code",
      "metadata": {
        "id": "khOrIubtsG0I",
        "colab_type": "code",
        "colab": {}
      },
      "source": [
        "# Solution goes here\n",
        "pred30 = results.predict(df)"
      ],
      "execution_count": 0,
      "outputs": []
    },
    {
      "cell_type": "markdown",
      "metadata": {
        "id": "cBpjgsVDsG0O",
        "colab_type": "text"
      },
      "source": [
        "**Exercise:** Now let's visualize the results from the previous exercise!\n",
        "\n",
        "- Group the GSS data by `educ` and compute the mean income in each education group.\n",
        "\n",
        "- Plot mean income for each education group as a scatter plot.\n",
        "\n",
        "- Plot the predictions from the previous exercise.\n",
        "\n",
        "How do the predictions compare with the data?"
      ]
    },
    {
      "cell_type": "code",
      "metadata": {
        "id": "oTEiqDHasG0P",
        "colab_type": "code",
        "colab": {
          "base_uri": "https://localhost:8080/",
          "height": 295
        },
        "outputId": "f3ae8a92-30b1-4c5a-8a4b-ca3da2b93bfb"
      },
      "source": [
        "# Solution goes here\n",
        "grouped = gss.groupby('educ')\n",
        "mean_income_by_educ = grouped['realinc'].mean()\n",
        "\n",
        "plt.plot(mean_income_by_educ, 'o', alpha=0.5)\n",
        "plt.plot(df['educ'], pred30, label='Age: 30', color='C4')\n",
        "\n",
        "plt.xlabel('Education by years')\n",
        "plt.ylabel('Income (1986 $)')\n",
        "plt.title('Income versus education level')\n",
        "plt.legend();"
      ],
      "execution_count": 138,
      "outputs": [
        {
          "output_type": "display_data",
          "data": {
            "image/png": "[encoded data removed]",
            "text/plain": [
              "<Figure size 432x288 with 1 Axes>"
            ]
          },
          "metadata": {
            "tags": []
          }
        }
      ]
    },
    {
      "cell_type": "code",
      "metadata": {
        "id": "O6nAL9P63sMr",
        "colab_type": "code",
        "colab": {}
      },
      "source": [
        "# Those 30 years of age fit the income vs education non-linear curve pretty well. \n",
        "# Let's take a look at other ages and see how they fit the non-linear curve."
      ],
      "execution_count": 0,
      "outputs": []
    },
    {
      "cell_type": "markdown",
      "metadata": {
        "id": "XTfpOWfAsG0W",
        "colab_type": "text"
      },
      "source": [
        "**Optional Exercise:** Extend the previous exercise to include predictions for a few other age levels. "
      ]
    },
    {
      "cell_type": "code",
      "metadata": {
        "id": "L_1mq54S4LKh",
        "colab_type": "code",
        "colab": {
          "base_uri": "https://localhost:8080/",
          "height": 295
        },
        "outputId": "392da444-9080-4b5c-aaa8-3476f857fec5"
      },
      "source": [
        "plt.plot(mean_income_by_educ, 'o', alpha=0.5)\n",
        "\n",
        "df['age'] = 20\n",
        "df['age2'] = df['age']**2\n",
        "pred20 = results.predict(df)\n",
        "plt.plot(df['educ'], pred20, label='Age 20')\n",
        "\n",
        "df['age'] = 50\n",
        "df['age2'] = df['age']**2\n",
        "pred50 = results.predict(df)\n",
        "plt.plot(df['educ'], pred50, label='Age 50')\n",
        "\n",
        "plt.plot(df['educ'], pred30, label='Age: 30', color='C4')\n",
        "\n",
        "plt.xlabel('Education by years')\n",
        "plt.ylabel('Income (1986 $)')\n",
        "plt.title('Income versus education, grouped by age')\n",
        "plt.legend();"
      ],
      "execution_count": 140,
      "outputs": [
        {
          "output_type": "display_data",
          "data": {
            "image/png": "[encoded data removed]",
            "text/plain": [
              "<Figure size 432x288 with 1 Axes>"
            ]
          },
          "metadata": {
            "tags": []
          }
        }
      ]
    },
    {
      "cell_type": "code",
      "metadata": {
        "id": "fPYMQscb8Dq_",
        "colab_type": "code",
        "colab": {}
      },
      "source": [
        "# Looks like the 30 yr age curve fits the original scatter plot best since it is  \n",
        "# either the most represented age in the dateset or it is the midpoint between Age 20 and Age 50.\n",
        "# Curves do make sense since all curves have increased income as level of education increases. \n",
        "# Also, as the age increases, more income is generated per years of education since older people have more experience\n",
        "# which would generate more income."
      ],
      "execution_count": 0,
      "outputs": []
    },
    {
      "cell_type": "markdown",
      "metadata": {
        "id": "WYu2TQA8sG0Y",
        "colab_type": "text"
      },
      "source": [
        "## Logistic regression\n",
        "\n",
        "At last we have come to one of my favorite topics, logistic regression.\n",
        "\n",
        "To understand logistic regression, we have to start with categorical variables.\n",
        "\n",
        "Most of the variables we have used so far --- like income, age, and education --- are numerical.\n",
        "\n",
        "But variables like sex and race are categorical; that is, each respondent belongs to one of a specified set of categories.\n",
        "\n",
        "With StatsModels, it is easy to include a categorical variable as part of a regression model.\n",
        "\n",
        "Here's how.  In the formula string, the letter C indicates that `sex` is a categorical variable."
      ]
    },
    {
      "cell_type": "code",
      "metadata": {
        "id": "jHh_XXvssG0Z",
        "colab_type": "code",
        "colab": {
          "base_uri": "https://localhost:8080/",
          "height": 136
        },
        "outputId": "7b5f511b-ead6-4523-ba27-cd69aa6cbad7"
      },
      "source": [
        "formula = 'realinc ~ educ + educ2 + age + age2 + C(sex)'\n",
        "results = smf.ols(formula, data=gss).fit()\n",
        "results.params"
      ],
      "execution_count": 142,
      "outputs": [
        {
          "output_type": "execute_result",
          "data": {
            "text/plain": [
              "Intercept     -22369.453641\n",
              "C(sex)[T.2]    -4156.113865\n",
              "educ            -310.247419\n",
              "educ2            150.514091\n",
              "age             1703.047502\n",
              "age2             -17.238711\n",
              "dtype: float64"
            ]
          },
          "metadata": {
            "tags": []
          },
          "execution_count": 142
        }
      ]
    },
    {
      "cell_type": "markdown",
      "metadata": {
        "id": "gcRieI40sG0i",
        "colab_type": "text"
      },
      "source": [
        "The regression treats the value `sex=1`, which is male, as the default, and reports the difference associated with the value `sex=2`, which is female.\n",
        "\n",
        "So this result indicates that income for women is about $4100 less than for men, after controlling for age and education.\n",
        "\n",
        "If a categorical variable has only two values, it's called a boolean variable.  For example, one of the questions in the General Social Survey asks \"Would you favor or oppose a law which would require a person to obtain a police permit before he or she could buy a gun?\"\n",
        "\n",
        "The column is called `gunlaw`, and here are the values.  '1' means yes and `2` means no, so most respondents are in favor.\n",
        "\n",
        "To explore the relationship between this variable and factors like age, sex, and education, we can use logistic regression.\n",
        "\n",
        "StatsModels provides logistic regression, but to use it, we have to recode the variable so `1` means `yes` and 0 means no.  We can do that by replacing `2` with `0`."
      ]
    },
    {
      "cell_type": "code",
      "metadata": {
        "id": "7Ds29coOsG0n",
        "colab_type": "code",
        "colab": {
          "base_uri": "https://localhost:8080/",
          "height": 68
        },
        "outputId": "a7baa708-1404-4975-c96d-23f61b8cff76"
      },
      "source": [
        "gss['gunlaw'].value_counts()"
      ],
      "execution_count": 143,
      "outputs": [
        {
          "output_type": "execute_result",
          "data": {
            "text/plain": [
              "1.0    30918\n",
              "2.0     9632\n",
              "Name: gunlaw, dtype: int64"
            ]
          },
          "metadata": {
            "tags": []
          },
          "execution_count": 143
        }
      ]
    },
    {
      "cell_type": "code",
      "metadata": {
        "id": "DAEGmPKGsG01",
        "colab_type": "code",
        "colab": {}
      },
      "source": [
        "gss['gunlaw'].replace([2], [0], inplace=True)"
      ],
      "execution_count": 0,
      "outputs": []
    },
    {
      "cell_type": "markdown",
      "metadata": {
        "id": "Yd6_zJeLsG09",
        "colab_type": "text"
      },
      "source": [
        "The keyword argument `inplace=True` means that this function modifies the `gunlaw` column \"in place\"; that is, it modifies the column in the DataFrame rather than making a new Series.\n",
        "\n",
        "And we can check the results."
      ]
    },
    {
      "cell_type": "code",
      "metadata": {
        "id": "XYRt--KbsG0-",
        "colab_type": "code",
        "colab": {
          "base_uri": "https://localhost:8080/",
          "height": 68
        },
        "outputId": "92e34aea-fe93-4ed2-d76d-e5b9bb107eef"
      },
      "source": [
        "gss['gunlaw'].value_counts()"
      ],
      "execution_count": 145,
      "outputs": [
        {
          "output_type": "execute_result",
          "data": {
            "text/plain": [
              "1.0    30918\n",
              "0.0     9632\n",
              "Name: gunlaw, dtype: int64"
            ]
          },
          "metadata": {
            "tags": []
          },
          "execution_count": 145
        }
      ]
    },
    {
      "cell_type": "markdown",
      "metadata": {
        "id": "6mR7euDnsG1J",
        "colab_type": "text"
      },
      "source": [
        "Now we can run the regression.  Instead of `ols()`, we use `logit()`, which is named for the logit function, which is related to logistic regression."
      ]
    },
    {
      "cell_type": "code",
      "metadata": {
        "id": "nZ7ZUun_sG1N",
        "colab_type": "code",
        "colab": {
          "base_uri": "https://localhost:8080/",
          "height": 68
        },
        "outputId": "ad3a019c-42e5-4c3c-93d2-9cc7caaf45c0"
      },
      "source": [
        "formula = 'gunlaw ~ age + age2 + educ + educ2 + C(sex)'\n",
        "results = smf.logit(formula, data=gss).fit()"
      ],
      "execution_count": 146,
      "outputs": [
        {
          "output_type": "stream",
          "text": [
            "Optimization terminated successfully.\n",
            "         Current function value: 0.533674\n",
            "         Iterations 6\n"
          ],
          "name": "stdout"
        }
      ]
    },
    {
      "cell_type": "markdown",
      "metadata": {
        "id": "97Mqn2EksG1U",
        "colab_type": "text"
      },
      "source": [
        "Estimating the parameters for the logistic model is an iterative process, so the output contains information about the number of iterations.\n",
        "\n",
        "Other than that, everything is the same as what we have seen before.\n",
        "\n",
        "And here are the results.  "
      ]
    },
    {
      "cell_type": "code",
      "metadata": {
        "id": "3dcMnT8-sG1W",
        "colab_type": "code",
        "colab": {
          "base_uri": "https://localhost:8080/",
          "height": 136
        },
        "outputId": "1dcafc25-1295-4d26-d9c2-a9e350150fd3"
      },
      "source": [
        "results.params"
      ],
      "execution_count": 147,
      "outputs": [
        {
          "output_type": "execute_result",
          "data": {
            "text/plain": [
              "Intercept      1.653862\n",
              "C(sex)[T.2]    0.757249\n",
              "age           -0.018849\n",
              "age2           0.000189\n",
              "educ          -0.124373\n",
              "educ2          0.006653\n",
              "dtype: float64"
            ]
          },
          "metadata": {
            "tags": []
          },
          "execution_count": 147
        }
      ]
    },
    {
      "cell_type": "markdown",
      "metadata": {
        "id": "jJVmLcmWsG1b",
        "colab_type": "text"
      },
      "source": [
        "The parameters are in the form of \"log odds\", which you may or may not be familiar with.  I won't explain them in detail here, except to say that positive values are associated with things that make the outcome more likely; negative values make the outcome less likely.\n",
        "\n",
        "For example, the parameter associated with `sex=2` is 0.75, which indicates that women are more likely to support this form of gun control.  To see how much more likely, we can generate and predict distributions, as we did with linear regression.\n",
        "\n",
        "As an example, I'll generate predictions for different ages and sexes, with education held constant.\n",
        "\n",
        "First we need a DataFrame with `age` and `educ`."
      ]
    },
    {
      "cell_type": "code",
      "metadata": {
        "id": "YYyxK-gIsG1h",
        "colab_type": "code",
        "colab": {}
      },
      "source": [
        "df = pd.DataFrame()\n",
        "df['age'] = np.linspace(18, 89)\n",
        "df['educ'] = 12"
      ],
      "execution_count": 0,
      "outputs": []
    },
    {
      "cell_type": "markdown",
      "metadata": {
        "id": "lzWmuDxLsG1r",
        "colab_type": "text"
      },
      "source": [
        "Then we can compute `age2` and `educ2`."
      ]
    },
    {
      "cell_type": "code",
      "metadata": {
        "id": "az1F5ir-sG1s",
        "colab_type": "code",
        "colab": {}
      },
      "source": [
        "df['age2'] = df['age']**2\n",
        "df['educ2'] = df['educ']**2"
      ],
      "execution_count": 0,
      "outputs": []
    },
    {
      "cell_type": "markdown",
      "metadata": {
        "id": "zusijrzOsG1w",
        "colab_type": "text"
      },
      "source": [
        "We can generate predictions for men like this."
      ]
    },
    {
      "cell_type": "code",
      "metadata": {
        "id": "nSS7WIKpsG1y",
        "colab_type": "code",
        "colab": {}
      },
      "source": [
        "df['sex'] = 1\n",
        "pred1 = results.predict(df)"
      ],
      "execution_count": 0,
      "outputs": []
    },
    {
      "cell_type": "markdown",
      "metadata": {
        "id": "xCKcZ-VnsG12",
        "colab_type": "text"
      },
      "source": [
        "And for women like this."
      ]
    },
    {
      "cell_type": "code",
      "metadata": {
        "id": "mgbK1k7YsG15",
        "colab_type": "code",
        "colab": {}
      },
      "source": [
        "df['sex'] = 2\n",
        "pred2 = results.predict(df)"
      ],
      "execution_count": 0,
      "outputs": []
    },
    {
      "cell_type": "code",
      "metadata": {
        "id": "llI5MTPBPNK5",
        "colab_type": "code",
        "colab": {
          "base_uri": "https://localhost:8080/",
          "height": 238
        },
        "outputId": "9d538019-5eec-42f6-a0f2-e7e4afa4a699"
      },
      "source": [
        "favor_by_age"
      ],
      "execution_count": 166,
      "outputs": [
        {
          "output_type": "execute_result",
          "data": {
            "text/plain": [
              "age\n",
              "18.0    0.780269\n",
              "19.0    0.755125\n",
              "20.0    0.741162\n",
              "21.0    0.755744\n",
              "22.0    0.732789\n",
              "          ...   \n",
              "85.0    0.771429\n",
              "86.0    0.750000\n",
              "87.0    0.804878\n",
              "88.0    0.711538\n",
              "89.0    0.828358\n",
              "Name: gunlaw, Length: 72, dtype: float64"
            ]
          },
          "metadata": {
            "tags": []
          },
          "execution_count": 166
        }
      ]
    },
    {
      "cell_type": "markdown",
      "metadata": {
        "id": "ECbVJ601sG2B",
        "colab_type": "text"
      },
      "source": [
        "Now, to visualize the results, I start by plotting the data.  As we've done before, we'll divide the respondents into age groups and compute the mean in each group.  The mean of a binary variable is the fraction of people in favor.\n",
        "\n",
        "Then we can plot the predictions, for men and women, as a function of age."
      ]
    },
    {
      "cell_type": "code",
      "metadata": {
        "id": "s55iUmcCsG2F",
        "colab_type": "code",
        "colab": {
          "base_uri": "https://localhost:8080/",
          "height": 295
        },
        "outputId": "1287acd6-c1cb-4754-b2ad-190d9c11be2d"
      },
      "source": [
        "grouped = gss.groupby('age')\n",
        "favor_by_age = grouped['gunlaw'].mean()\n",
        "plt.plot(favor_by_age, 'o', alpha=0.5)\n",
        "\n",
        "plt.plot(df['age'], pred2, label='Female')\n",
        "plt.plot(df['age'], pred1, label='Male')\n",
        "\n",
        "plt.xlabel('Age')\n",
        "plt.ylabel('Probability of favoring gun law')\n",
        "plt.title('Support for gun law versus age, grouped by sex')\n",
        "plt.legend();"
      ],
      "execution_count": 152,
      "outputs": [
        {
          "output_type": "display_data",
          "data": {
            "image/png": "[encoded data removed]",
            "text/plain": [
              "<Figure size 432x288 with 1 Axes>"
            ]
          },
          "metadata": {
            "tags": []
          }
        }
      ]
    },
    {
      "cell_type": "markdown",
      "metadata": {
        "id": "UTkt5KKEsG2M",
        "colab_type": "text"
      },
      "source": [
        "According to the model, people near age 50 are least likely to support gun control (at least as this questions was posed).\n",
        "\n",
        "And women are more likely to support it than men, by almost 15 percentage points.\n",
        "\n",
        "Logistic regression is a powerful tool for exploring relationships between a binary variable and the factors that predict it.\n",
        "\n",
        "In the exercises, you'll explore the factors that predict support for legalizing marijuana."
      ]
    },
    {
      "cell_type": "markdown",
      "metadata": {
        "id": "wlXCripvsG2N",
        "colab_type": "text"
      },
      "source": [
        "**Exercise:** Let's use logistic regression to predict a binary variable.  Specifically, we'll use age, sex, and education level to predict support for legalizing cannabis (marijuana) in the U.S.\n",
        "\n",
        "In the GSS dataset, the variable `grass` records the answer to the question \"Do you think the use of marijuana should be made legal or not?\"\n",
        "\n",
        "1. First, use `replace` to recode the `grass` column so that `1` means yes and `0` means no.  Use `value_counts` to check.\n",
        "\n",
        "2. Next, use `smf.logit()` to predict `grass` using the variables `age`, `age2`, `educ`, and `educ2`, along with `sex` as a categorical variable.  Display the parameters.  Are men or women more likely to support legalization?\n",
        "\n",
        "3. To generate predictions, start with an empty DataFrame.  Add a column called `age` that contains a sequence of values from 18 to 89.  Add a column called `educ` and set it to 12 years.  Then compute a column, `age2`, which is the square of `age`, and a column, `educ2`, which is the square of `educ`. \n",
        "\n",
        "4. Use `predict` to generate predictions for men (`sex=1`) and women (`sex=2`).\n",
        "\n",
        "5. Generate a plot that shows (1) the average level of support for legalizing marijuana in each age group, (2) the level of support the model predicts for men as a function of age, and (3) the level of support predicted for women as a function of age. "
      ]
    },
    {
      "cell_type": "code",
      "metadata": {
        "id": "-QbAPgUmsG2O",
        "colab_type": "code",
        "colab": {
          "base_uri": "https://localhost:8080/",
          "height": 68
        },
        "outputId": "60f95bd8-6269-49e8-a8a9-7a560db738f2"
      },
      "source": [
        "# Solution goes here\n",
        "gss['grass'].replace([2], [0], inplace=True)\n",
        "gss['grass'].value_counts()"
      ],
      "execution_count": 169,
      "outputs": [
        {
          "output_type": "execute_result",
          "data": {
            "text/plain": [
              "0.0    25195\n",
              "1.0    11027\n",
              "Name: grass, dtype: int64"
            ]
          },
          "metadata": {
            "tags": []
          },
          "execution_count": 169
        }
      ]
    },
    {
      "cell_type": "code",
      "metadata": {
        "id": "2HU7HIH6sG2R",
        "colab_type": "code",
        "colab": {
          "base_uri": "https://localhost:8080/",
          "height": 187
        },
        "outputId": "bf81c96d-0817-4fd9-d57f-afd5053fd972"
      },
      "source": [
        "# Solution goes here\n",
        "formula = 'grass ~ age + age2 + educ + educ2 + C(sex)'\n",
        "results = smf.logit(formula, data=gss).fit()\n",
        "results.params"
      ],
      "execution_count": 171,
      "outputs": [
        {
          "output_type": "stream",
          "text": [
            "Optimization terminated successfully.\n",
            "         Current function value: 0.588510\n",
            "         Iterations 6\n"
          ],
          "name": "stdout"
        },
        {
          "output_type": "execute_result",
          "data": {
            "text/plain": [
              "Intercept     -1.685223\n",
              "C(sex)[T.2]   -0.384611\n",
              "age           -0.034756\n",
              "age2           0.000192\n",
              "educ           0.221860\n",
              "educ2         -0.004163\n",
              "dtype: float64"
            ]
          },
          "metadata": {
            "tags": []
          },
          "execution_count": 171
        }
      ]
    },
    {
      "cell_type": "code",
      "metadata": {
        "id": "b9ldFpPMV1oD",
        "colab_type": "code",
        "colab": {}
      },
      "source": [
        "#Due to the negative result from C(sex), women are less likely to support legalizing marijuana."
      ],
      "execution_count": 0,
      "outputs": []
    },
    {
      "cell_type": "code",
      "metadata": {
        "id": "O96JPYG-sG2W",
        "colab_type": "code",
        "colab": {}
      },
      "source": [
        "# Solution goes here\n",
        "df = pd.DataFrame()\n",
        "df['age'] = np.linspace(18, 89)\n",
        "df['educ'] = 12\n",
        "df['age2'] = df['age']**2\n",
        "df['educ2'] = df['educ']**2"
      ],
      "execution_count": 0,
      "outputs": []
    },
    {
      "cell_type": "code",
      "metadata": {
        "id": "KhWqoQfZsG2Z",
        "colab_type": "code",
        "colab": {}
      },
      "source": [
        "# Solution goes here\n",
        "df['sex'] = 1\n",
        "pred1 = results.predict(df)\n",
        "df['sex'] = 2\n",
        "pred2 = results.predict(df)"
      ],
      "execution_count": 0,
      "outputs": []
    },
    {
      "cell_type": "code",
      "metadata": {
        "id": "bFVnCct5sG2d",
        "colab_type": "code",
        "colab": {
          "base_uri": "https://localhost:8080/",
          "height": 295
        },
        "outputId": "df2d12fa-a454-406d-a6f9-75918889c877"
      },
      "source": [
        "# Solution goes here\n",
        "grouped = gss.groupby('age')\n",
        "favor_by_age = grouped['grass'].mean()\n",
        "plt.plot(favor_by_age, 'o', alpha=0.5)\n",
        "\n",
        "plt.plot(df['age'], pred2, label='Female')\n",
        "plt.plot(df['age'], pred1, label='Male')\n",
        "\n",
        "plt.xlabel('Age')\n",
        "plt.ylabel('Probability of favoring marijuana law')\n",
        "plt.title('Support for marijuana law versus age, grouped by sex')\n",
        "plt.legend();"
      ],
      "execution_count": 176,
      "outputs": [
        {
          "output_type": "display_data",
          "data": {
            "image/png": "[encoded data removed]",
            "text/plain": [
              "<Figure size 432x288 with 1 Axes>"
            ]
          },
          "metadata": {
            "tags": []
          }
        }
      ]
    },
    {
      "cell_type": "code",
      "metadata": {
        "id": "snplu_41YFiT",
        "colab_type": "code",
        "colab": {}
      },
      "source": [
        "#Looks like most in favor of legalized marijuana are young and male. \n",
        "# And from there, with increased age and being female, favoritism declines."
      ],
      "execution_count": 0,
      "outputs": []
    },
    {
      "cell_type": "markdown",
      "metadata": {
        "id": "uBb9T11gsG2h",
        "colab_type": "text"
      },
      "source": [
        "## Summary\n",
        "\n",
        "At this point, I'd like to summarize the topics we've covered so far, and make some connections that might clarify the big picture.\n",
        "\n",
        "A central theme of this course is \"exploratory data analysis\", which is a process and a set of techniques for working with data, especially in the early stages of a project, or when you are working with a new data set.\n",
        "\n",
        "The last four notebooks demonstrate the steps of this process:\n",
        "\n",
        "- Notebook 7 is about importing and cleaning the data, and checking for errors and other special conditions.  This might not be the most exciting part of the process, but if you skip these steps, it can come back to haunt you.  Time spent cleaning and validating data can save you from embarrassing, and sometimes expensive, errors.\n",
        "\n",
        "- Notebook 8 is about exploring variables one at a time, visualizing distributions using PMFs, CDFs, and KDE, and choosing appropriate summary statistics.\n",
        "\n",
        "- In Notebook 9 we explored relationships between variables two at a time, using scatter plots and other visualizations; and we quantified those relationships using correlation and simple regression.\n",
        "\n",
        "- Finally, in Notebook 10, we explored multivariate relationships using multiple regression and logistic regression.\n",
        "\n",
        "From Notebook 7, you might remember that we looked at the distribution of birth weights from the National Survey of Family Growth.\n",
        "\n",
        "If you only remember one thing, remember the 99 pound babies, and how much it can mess up your results if you don't validate the data.\n",
        "\n",
        "In Notebook 8 we looked at the distributions of age, income, and other variables from the General Social Survey.\n",
        "\n",
        "I recommended using CDFs as the best way to explore distributions.\n",
        "\n",
        "But when you present to audiences that are not familiar with CDFs, you can use PMFs if there are a small number of unique values, and KDE if there are a lot.\n",
        "\n",
        "In Notebook 9 we looked at heights and weights from the BRFSS, and developed several ways to visualize relationships between variables, including scatter plots, violin plots, and box plots like this one.\n",
        "\n",
        "We used the coefficient of correlation to quantify the strength of a relationship.  We also used simple regression to estimate slope, which is often what we care more about, not correlation.\n",
        "\n",
        "But remember that both of these methods only capture linear relationships; if the relationship is non-linear, they can be misleading.  Always look at a visualization, like a scatter plot, before computing correlation or simple regression.\n",
        "\n",
        "In Notebook 10 we used multiple regression to add control variables and to describe non-linear relationships.  And finally we used logistic regression to explain and predict binary variables.\n",
        "\n",
        "We moved through a lot of material quickly, but if you practice and apply these methods to other questions and other dataset, you will learn more as you go.\n",
        "\n",
        "Also, I am happy to report that you now have the prerequisites you need to appreciate [this xkcd cartoon](https://xkcd.com/2048/).\n",
        "\n",
        "<img src=\"https://imgs.xkcd.com/comics/curve_fitting_2x.png\" width=\"400\">"
      ]
    },
    {
      "cell_type": "code",
      "metadata": {
        "id": "hyCMGBuEsG2i",
        "colab_type": "code",
        "colab": {}
      },
      "source": [
        ""
      ],
      "execution_count": 0,
      "outputs": []
    }
  ]
}