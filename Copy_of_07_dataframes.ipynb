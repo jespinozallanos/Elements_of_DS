{
  "nbformat": 4,
  "nbformat_minor": 0,
  "metadata": {
    "kernelspec": {
      "display_name": "Python 3",
      "language": "python",
      "name": "python3"
    },
    "language_info": {
      "codemirror_mode": {
        "name": "ipython",
        "version": 3
      },
      "file_extension": ".py",
      "mimetype": "text/x-python",
      "name": "python",
      "nbconvert_exporter": "python",
      "pygments_lexer": "ipython3",
      "version": "3.7.4"
    },
    "colab": {
      "name": "Copy of 07_dataframes.ipynb",
      "provenance": [],
      "collapsed_sections": [
        "8qeD-CBqhw1B",
        "ujMe4upBhw1f"
      ],
      "toc_visible": true,
      "include_colab_link": true
    }
  },
  "cells": [
    {
      "cell_type": "markdown",
      "metadata": {
        "id": "view-in-github",
        "colab_type": "text"
      },
      "source": [
        "<a href=\"https://colab.research.google.com/github/mindyng/Elements_of_DS/blob/master/Copy_of_07_dataframes.ipynb\" target=\"_parent\"><img src=\"https://colab.research.google.com/assets/colab-badge.svg\" alt=\"Open In Colab\"/></a>"
      ]
    },
    {
      "cell_type": "markdown",
      "metadata": {
        "id": "A5r_9uTKhwyv",
        "colab_type": "text"
      },
      "source": [
        "# Dataframes\n",
        "\n",
        "Elements of Data Science\n",
        "\n",
        "by [Allen Downey](https://allendowney.com)\n",
        "\n",
        "[MIT License](https://opensource.org/licenses/MIT)\n",
        "\n",
        "### Goals\n",
        "\n",
        "This notebook introduces Pandas, which is a powerful library for working with data.  Pandas provides functions for reading data from files, and it provides two new types for working with data, DataFrames and Series.\n",
        "\n",
        "We'll use these tools to estimate the average birth weight of babies in the U.S.  This example demonstrates the important steps in almost any data science project:\n",
        "\n",
        "1. Identifying data that can answer a question.\n",
        "\n",
        "2. Obtaining the data and loading it in Python.\n",
        "\n",
        "3. Checking the data and dealing with errors.\n",
        "\n",
        "4. Selecting the relevant subsets from the data.\n",
        "\n",
        "5. Using histograms to visualize a distribution of values.\n",
        "\n",
        "6. Using summary statistics to describe the data in a way that best answers the question.\n",
        "\n",
        "7. Considering possible sources of error and limitations in our conclusions.\n",
        "\n",
        "Because this notebook presents a data science project from end to end, it is a little longer than some of the previous notebooks.  So, hang in there!"
      ]
    },
    {
      "cell_type": "markdown",
      "metadata": {
        "id": "MCnnLbCshwyy",
        "colab_type": "text"
      },
      "source": [
        "# DataFrames and Series\n",
        "\n",
        "The fundamental goal of data science is to use data to answer questions and guide decision making.\n",
        "\n",
        "As an example, we'll start with a simple question: what is the average birth weight of babies in the United States?\n",
        "\n",
        "To answer a question like this, we have to find an appropriate dataset or run an experiment to collect it.  Then we have to get the data into our development environment and prepare it for analysis, which involves cleaning and validation.\n",
        "\n",
        "For this question we'll use data from the [National Survey of Family Growth](https://www.cdc.gov/nchs/nsfg/index.htm), which is available from the National Center for Health Statistics.\n",
        "\n",
        "Their 2013-2015 dataset includes information about a sample of women in the U.S. and their children.  \n",
        "\n",
        "The Python library we'll use to read and analyze data is Pandas, which we'll import as `pd`."
      ]
    },
    {
      "cell_type": "code",
      "metadata": {
        "id": "b-LgRrDthwyz",
        "colab_type": "code",
        "colab": {}
      },
      "source": [
        "import pandas as pd"
      ],
      "execution_count": 0,
      "outputs": []
    },
    {
      "cell_type": "markdown",
      "metadata": {
        "id": "bIOCeG_Ohwy2",
        "colab_type": "text"
      },
      "source": [
        "Pandas can read data in most common formats, including CSV, Excel, and the format the NSFG data is in, HDF5.  [You can read about HDF here](https://en.wikipedia.org/wiki/Hierarchical_Data_Format)."
      ]
    },
    {
      "cell_type": "code",
      "metadata": {
        "id": "Bx-1yqmshwy3",
        "colab_type": "code",
        "colab": {
          "base_uri": "https://localhost:8080/",
          "height": 289
        },
        "outputId": "ffaea67f-811d-41e0-dc85-650f029409f4"
      },
      "source": [
        "import os\n",
        "\n",
        "if not os.path.exists('nsfg.hdf5'):\n",
        "    !wget https://github.com/AllenDowney/ElementsOfDataScience/raw/master/nsfg.hdf5"
      ],
      "execution_count": 2,
      "outputs": [
        {
          "output_type": "stream",
          "text": [
            "--2020-01-29 07:42:34--  https://github.com/AllenDowney/ElementsOfDataScience/raw/master/nsfg.hdf5\n",
            "Resolving github.com (github.com)... 192.30.253.112\n",
            "Connecting to github.com (github.com)|192.30.253.112|:443... connected.\n",
            "HTTP request sent, awaiting response... 302 Found\n",
            "Location: https://raw.githubusercontent.com/AllenDowney/ElementsOfDataScience/master/nsfg.hdf5 [following]\n",
            "--2020-01-29 07:42:34--  https://raw.githubusercontent.com/AllenDowney/ElementsOfDataScience/master/nsfg.hdf5\n",
            "Resolving raw.githubusercontent.com (raw.githubusercontent.com)... 151.101.0.133, 151.101.64.133, 151.101.128.133, ...\n",
            "Connecting to raw.githubusercontent.com (raw.githubusercontent.com)|151.101.0.133|:443... connected.\n",
            "HTTP request sent, awaiting response... 200 OK\n",
            "Length: 909832 (889K) [application/octet-stream]\n",
            "Saving to: ‘nsfg.hdf5’\n",
            "\n",
            "nsfg.hdf5           100%[===================>] 888.51K  --.-KB/s    in 0.04s   \n",
            "\n",
            "2020-01-29 07:42:35 (20.1 MB/s) - ‘nsfg.hdf5’ saved [909832/909832]\n",
            "\n"
          ],
          "name": "stdout"
        }
      ]
    },
    {
      "cell_type": "code",
      "metadata": {
        "id": "ItBVL_Tvhwy5",
        "colab_type": "code",
        "colab": {
          "base_uri": "https://localhost:8080/",
          "height": 34
        },
        "outputId": "a5faae4c-c002-4790-91c3-971f077612a0"
      },
      "source": [
        "nsfg = pd.read_hdf('nsfg.hdf5')\n",
        "type(nsfg)"
      ],
      "execution_count": 3,
      "outputs": [
        {
          "output_type": "execute_result",
          "data": {
            "text/plain": [
              "pandas.core.frame.DataFrame"
            ]
          },
          "metadata": {
            "tags": []
          },
          "execution_count": 3
        }
      ]
    },
    {
      "cell_type": "markdown",
      "metadata": {
        "id": "EamGdSmKhwy8",
        "colab_type": "text"
      },
      "source": [
        "The result from `read_hdf()` is a DataFrame, which is the primary type Pandas uses to store data.\n",
        "\n",
        "For each woman who participated in the survey, this DataFrame has one row for each pregnancy and one column for each survey question.\n",
        "\n",
        "DataFrame has a method called `head()` that shows the first 5 rows:"
      ]
    },
    {
      "cell_type": "code",
      "metadata": {
        "id": "Uz4mKlf5hwy9",
        "colab_type": "code",
        "colab": {
          "base_uri": "https://localhost:8080/",
          "height": 204
        },
        "outputId": "dcc8839e-4640-46e2-ff00-bc3e39f0d058"
      },
      "source": [
        "nsfg.head()"
      ],
      "execution_count": 4,
      "outputs": [
        {
          "output_type": "execute_result",
          "data": {
            "text/html": [
              "<div>\n",
              "<style scoped>\n",
              "    .dataframe tbody tr th:only-of-type {\n",
              "        vertical-align: middle;\n",
              "    }\n",
              "\n",
              "    .dataframe tbody tr th {\n",
              "        vertical-align: top;\n",
              "    }\n",
              "\n",
              "    .dataframe thead th {\n",
              "        text-align: right;\n",
              "    }\n",
              "</style>\n",
              "<table border=\"1\" class=\"dataframe\">\n",
              "  <thead>\n",
              "    <tr style=\"text-align: right;\">\n",
              "      <th></th>\n",
              "      <th>caseid</th>\n",
              "      <th>outcome</th>\n",
              "      <th>birthwgt_lb1</th>\n",
              "      <th>birthwgt_oz1</th>\n",
              "      <th>prglngth</th>\n",
              "      <th>nbrnaliv</th>\n",
              "      <th>agecon</th>\n",
              "      <th>agepreg</th>\n",
              "      <th>birthord</th>\n",
              "      <th>hpagelb</th>\n",
              "      <th>wgt2013_2015</th>\n",
              "    </tr>\n",
              "  </thead>\n",
              "  <tbody>\n",
              "    <tr>\n",
              "      <th>0</th>\n",
              "      <td>60418</td>\n",
              "      <td>1</td>\n",
              "      <td>5.0</td>\n",
              "      <td>4.0</td>\n",
              "      <td>40</td>\n",
              "      <td>1.0</td>\n",
              "      <td>2000</td>\n",
              "      <td>2075.0</td>\n",
              "      <td>1.0</td>\n",
              "      <td>22.0</td>\n",
              "      <td>3554.964843</td>\n",
              "    </tr>\n",
              "    <tr>\n",
              "      <th>1</th>\n",
              "      <td>60418</td>\n",
              "      <td>1</td>\n",
              "      <td>4.0</td>\n",
              "      <td>12.0</td>\n",
              "      <td>36</td>\n",
              "      <td>1.0</td>\n",
              "      <td>2291</td>\n",
              "      <td>2358.0</td>\n",
              "      <td>2.0</td>\n",
              "      <td>25.0</td>\n",
              "      <td>3554.964843</td>\n",
              "    </tr>\n",
              "    <tr>\n",
              "      <th>2</th>\n",
              "      <td>60418</td>\n",
              "      <td>1</td>\n",
              "      <td>5.0</td>\n",
              "      <td>4.0</td>\n",
              "      <td>36</td>\n",
              "      <td>1.0</td>\n",
              "      <td>3241</td>\n",
              "      <td>3308.0</td>\n",
              "      <td>3.0</td>\n",
              "      <td>52.0</td>\n",
              "      <td>3554.964843</td>\n",
              "    </tr>\n",
              "    <tr>\n",
              "      <th>3</th>\n",
              "      <td>60419</td>\n",
              "      <td>6</td>\n",
              "      <td>NaN</td>\n",
              "      <td>NaN</td>\n",
              "      <td>33</td>\n",
              "      <td>NaN</td>\n",
              "      <td>3650</td>\n",
              "      <td>NaN</td>\n",
              "      <td>NaN</td>\n",
              "      <td>NaN</td>\n",
              "      <td>2484.535358</td>\n",
              "    </tr>\n",
              "    <tr>\n",
              "      <th>4</th>\n",
              "      <td>60420</td>\n",
              "      <td>1</td>\n",
              "      <td>8.0</td>\n",
              "      <td>13.0</td>\n",
              "      <td>41</td>\n",
              "      <td>1.0</td>\n",
              "      <td>2191</td>\n",
              "      <td>2266.0</td>\n",
              "      <td>1.0</td>\n",
              "      <td>24.0</td>\n",
              "      <td>2903.782914</td>\n",
              "    </tr>\n",
              "  </tbody>\n",
              "</table>\n",
              "</div>"
            ],
            "text/plain": [
              "   caseid  outcome  birthwgt_lb1  ...  birthord  hpagelb  wgt2013_2015\n",
              "0   60418        1           5.0  ...       1.0     22.0   3554.964843\n",
              "1   60418        1           4.0  ...       2.0     25.0   3554.964843\n",
              "2   60418        1           5.0  ...       3.0     52.0   3554.964843\n",
              "3   60419        6           NaN  ...       NaN      NaN   2484.535358\n",
              "4   60420        1           8.0  ...       1.0     24.0   2903.782914\n",
              "\n",
              "[5 rows x 11 columns]"
            ]
          },
          "metadata": {
            "tags": []
          },
          "execution_count": 4
        }
      ]
    },
    {
      "cell_type": "markdown",
      "metadata": {
        "id": "Yui4kdbehwy_",
        "colab_type": "text"
      },
      "source": [
        "DataFrames provide \"attributes\" and \"methods\".\n",
        "\n",
        "A method is a function that is associated with a particular type.  For example, in a previous notebook, we used the `split` method, which is a function that works with strings.\n",
        "\n",
        "An attribute is a variable associated with a particular type.  For example, DataFrame has an attribute called `shape`, which is the number of rows and columns:"
      ]
    },
    {
      "cell_type": "code",
      "metadata": {
        "id": "R-jAU4pJhwzB",
        "colab_type": "code",
        "colab": {
          "base_uri": "https://localhost:8080/",
          "height": 34
        },
        "outputId": "216e6de7-0e75-4783-8184-e9b81150c4cd"
      },
      "source": [
        "nsfg.shape"
      ],
      "execution_count": 5,
      "outputs": [
        {
          "output_type": "execute_result",
          "data": {
            "text/plain": [
              "(9358, 11)"
            ]
          },
          "metadata": {
            "tags": []
          },
          "execution_count": 5
        }
      ]
    },
    {
      "cell_type": "markdown",
      "metadata": {
        "id": "Z4eT69bQhwzE",
        "colab_type": "text"
      },
      "source": [
        "There are 9358 rows in this dataset, one for each pregnancy, and 11 columns, one for each survey question.\n",
        "\n",
        "DataFrame also has an attribute called `columns`, which contains the column names:"
      ]
    },
    {
      "cell_type": "code",
      "metadata": {
        "id": "1Oh1M0dYhwzF",
        "colab_type": "code",
        "colab": {
          "base_uri": "https://localhost:8080/",
          "height": 68
        },
        "outputId": "5883f4fb-f3a5-427b-f782-e5cbb7ce7fca"
      },
      "source": [
        "nsfg.columns"
      ],
      "execution_count": 6,
      "outputs": [
        {
          "output_type": "execute_result",
          "data": {
            "text/plain": [
              "Index(['caseid', 'outcome', 'birthwgt_lb1', 'birthwgt_oz1', 'prglngth',\n",
              "       'nbrnaliv', 'agecon', 'agepreg', 'birthord', 'hpagelb', 'wgt2013_2015'],\n",
              "      dtype='object')"
            ]
          },
          "metadata": {
            "tags": []
          },
          "execution_count": 6
        }
      ]
    },
    {
      "cell_type": "markdown",
      "metadata": {
        "id": "rhnEFiwPhwzH",
        "colab_type": "text"
      },
      "source": [
        "The column names are stored in an `Index`, which is another Pandas type, similar to a list:"
      ]
    },
    {
      "cell_type": "code",
      "metadata": {
        "id": "ntfr2muohwzI",
        "colab_type": "code",
        "colab": {
          "base_uri": "https://localhost:8080/",
          "height": 34
        },
        "outputId": "41a53b15-dd40-4cfc-84a8-f4856c4e354a"
      },
      "source": [
        "type(nsfg.columns)"
      ],
      "execution_count": 7,
      "outputs": [
        {
          "output_type": "execute_result",
          "data": {
            "text/plain": [
              "pandas.core.indexes.base.Index"
            ]
          },
          "metadata": {
            "tags": []
          },
          "execution_count": 7
        }
      ]
    },
    {
      "cell_type": "markdown",
      "metadata": {
        "id": "VVB03tHYhwzK",
        "colab_type": "text"
      },
      "source": [
        "Based on the column names, you might be able to guess what some of the variables are, but in general you have to read the documentation."
      ]
    },
    {
      "cell_type": "markdown",
      "metadata": {
        "id": "uqhn31ljhwzL",
        "colab_type": "text"
      },
      "source": [
        "**Exercise:** When you work with datasets like the NSFG, it is important to read the documentation carefully. If you interpret a variable incorrectly, you can generate nonsense results and never realize it. So, before we start looking at data, let's get familiar with the NSFG codebook, which describes every variable.\n",
        "\n",
        "* Follow [this link](https://www.icpsr.umich.edu/icpsradmin/nsfg/index?studyNumber=9999) to get to the interactive codebook.\n",
        "\n",
        "* Type \"birthweight\" in the search field, un-select the checkbox that says \"Search variable name only\", and press \"Search\".  You should see a list of variables related to birthweight.\n",
        "\n",
        "* Click on \"BIRTHWGT_LB1\" and read the documentation of this variable. \n",
        "\n",
        "What is the most common value of this variable?"
      ]
    },
    {
      "cell_type": "code",
      "metadata": {
        "id": "3Aa_dVh7hwzM",
        "colab_type": "code",
        "colab": {
          "base_uri": "https://localhost:8080/",
          "height": 51
        },
        "outputId": "ac700a59-4ac7-49d6-e5b3-e695af80f1a8"
      },
      "source": [
        "nsfg.birthwgt_lb1.mode()"
      ],
      "execution_count": 8,
      "outputs": [
        {
          "output_type": "execute_result",
          "data": {
            "text/plain": [
              "0    7.0\n",
              "dtype: float64"
            ]
          },
          "metadata": {
            "tags": []
          },
          "execution_count": 8
        }
      ]
    },
    {
      "cell_type": "markdown",
      "metadata": {
        "id": "ZcK5oLZphwzQ",
        "colab_type": "text"
      },
      "source": [
        "## Series\n",
        "\n",
        "In many ways a DataFrame is like a Python dictionary, where the column names are the keys and the columns are the values.  You can select a column from a DataFrame using the bracket operator, with a string as the key."
      ]
    },
    {
      "cell_type": "code",
      "metadata": {
        "id": "r65dQxNQhwzR",
        "colab_type": "code",
        "colab": {
          "base_uri": "https://localhost:8080/",
          "height": 34
        },
        "outputId": "55c39475-c60c-4597-b945-48e1fdba3305"
      },
      "source": [
        "pounds = nsfg['birthwgt_lb1']\n",
        "type(pounds)"
      ],
      "execution_count": 9,
      "outputs": [
        {
          "output_type": "execute_result",
          "data": {
            "text/plain": [
              "pandas.core.series.Series"
            ]
          },
          "metadata": {
            "tags": []
          },
          "execution_count": 9
        }
      ]
    },
    {
      "cell_type": "markdown",
      "metadata": {
        "id": "yX9-mpPdhwzT",
        "colab_type": "text"
      },
      "source": [
        "The result is a Series, which is another Pandas type.  \n",
        "\n",
        "In this case the Series contains the birth weights, in pounds, of the live births (or in the case of multiple births, the first baby)."
      ]
    },
    {
      "cell_type": "markdown",
      "metadata": {
        "id": "UnaRKZy6hwzU",
        "colab_type": "text"
      },
      "source": [
        "`head()` shows the first five values in the series, the name of the series, and the datatype:"
      ]
    },
    {
      "cell_type": "code",
      "metadata": {
        "id": "t_8e7kTBhwzU",
        "colab_type": "code",
        "colab": {
          "base_uri": "https://localhost:8080/",
          "height": 119
        },
        "outputId": "91a160fb-7df6-43e7-c0e6-a3ecf23566f7"
      },
      "source": [
        "pounds.head()"
      ],
      "execution_count": 10,
      "outputs": [
        {
          "output_type": "execute_result",
          "data": {
            "text/plain": [
              "0    5.0\n",
              "1    4.0\n",
              "2    5.0\n",
              "3    NaN\n",
              "4    8.0\n",
              "Name: birthwgt_lb1, dtype: float64"
            ]
          },
          "metadata": {
            "tags": []
          },
          "execution_count": 10
        }
      ]
    },
    {
      "cell_type": "markdown",
      "metadata": {
        "id": "HnfHUuf5hwzX",
        "colab_type": "text"
      },
      "source": [
        "Remember that `head` is a method, not an attribute; to call it, we have to use parentheses, `()`.\n",
        "\n",
        "`float64` means that these values are 64-bit floating-point numbers.\n",
        "\n",
        "One of the values is `NaN`, which stands for \"Not a Number\".  NaN is a special value used to indicate invalid or missing data.  In this example, the pregnancy did not end in live birth, so birth weight is inapplicable."
      ]
    },
    {
      "cell_type": "markdown",
      "metadata": {
        "id": "iKda3ye2hwzX",
        "colab_type": "text"
      },
      "source": [
        "**Exercise:**  The variable `birthwgt_oz1` contains the ounces part of birth weight.\n",
        "\n",
        "- [Read the documentation of this variable](https://www.icpsr.umich.edu/icpsradmin/nsfg/variable/815971?studyNumber=9999).  What is the \"universe\" of this variable; that is, when is it applicable?\n",
        "\n",
        "- Select the column `'birthwgt_oz1'` from the `nsfg` DataFrame and assign it to a new variable called `ounces`.\n",
        "\n",
        "- Display the first 5 elements of `ounces`."
      ]
    },
    {
      "cell_type": "code",
      "metadata": {
        "id": "UtIAkT0NhwzY",
        "colab_type": "code",
        "colab": {
          "base_uri": "https://localhost:8080/",
          "height": 119
        },
        "outputId": "d82cbcaa-2850-4ca3-c5e9-8d501feadedb"
      },
      "source": [
        "nsfg.birthwgt_oz1.head(5)"
      ],
      "execution_count": 11,
      "outputs": [
        {
          "output_type": "execute_result",
          "data": {
            "text/plain": [
              "0     4.0\n",
              "1    12.0\n",
              "2     4.0\n",
              "3     NaN\n",
              "4    13.0\n",
              "Name: birthwgt_oz1, dtype: float64"
            ]
          },
          "metadata": {
            "tags": []
          },
          "execution_count": 11
        }
      ]
    },
    {
      "cell_type": "markdown",
      "metadata": {
        "id": "Fg8QJkmWhwze",
        "colab_type": "text"
      },
      "source": [
        "**Exercise:** The Pandas types we have seen so far at DataFrame, Index, and Series.  You can find the documentation of these types at:\n",
        "\n",
        "* [DataFrame](https://pandas.pydata.org/pandas-docs/stable/reference/api/pandas.DataFrame.html)\n",
        "\n",
        "* [Index](https://pandas.pydata.org/pandas-docs/stable/reference/api/pandas.Index.html)\n",
        "\n",
        "* [Series](https://pandas.pydata.org/pandas-docs/stable/reference/api/pandas.Series.html)\n",
        "\n",
        "For beginners, this documentation can be overwhelming.  I don't recommend trying to read it all now.  But you might want to skim it so you know where to look later.\n",
        "\n",
        "For each type, the documentation lists the associated attributes (which are like variables) and methods (which are like functions)."
      ]
    },
    {
      "cell_type": "markdown",
      "metadata": {
        "id": "WSSl5YvRhwzf",
        "colab_type": "text"
      },
      "source": [
        "## Validation\n",
        "\n",
        "At this point we have identified the columns we need to answer the question.  \n",
        "\n",
        "* I'll select `birthwgt_lb1`, which contains the pound part of birth weight, and assign it to `pounds`.  \n",
        "\n",
        "* And I'll select `birthwgt_oz1`, which contains the ounce part of birth weight, and assign it to `ounces`."
      ]
    },
    {
      "cell_type": "code",
      "metadata": {
        "id": "cwvi7gWZhwzf",
        "colab_type": "code",
        "colab": {}
      },
      "source": [
        "ounces = nsfg['birthwgt_oz1']\n",
        "pounds = nsfg['birthwgt_lb1']"
      ],
      "execution_count": 0,
      "outputs": []
    },
    {
      "cell_type": "markdown",
      "metadata": {
        "id": "tHDy7zl-hwzj",
        "colab_type": "text"
      },
      "source": [
        "Before we do anything with this data, we have to validate it.  One part of validation is confirming that we are interpreting the data correctly.\n",
        "\n",
        "We can use the `value_counts` method to see what values appear in `pounds` and how many times each value appears."
      ]
    },
    {
      "cell_type": "code",
      "metadata": {
        "id": "FYCOZ350hwzj",
        "colab_type": "code",
        "colab": {
          "base_uri": "https://localhost:8080/",
          "height": 340
        },
        "outputId": "7f4806a4-75a2-4f5c-ad72-bfefa8df28be"
      },
      "source": [
        "pounds.value_counts()"
      ],
      "execution_count": 13,
      "outputs": [
        {
          "output_type": "execute_result",
          "data": {
            "text/plain": [
              "7.0     2146\n",
              "6.0     1666\n",
              "8.0     1168\n",
              "5.0      586\n",
              "9.0      363\n",
              "4.0      196\n",
              "99.0      94\n",
              "10.0      82\n",
              "3.0       67\n",
              "2.0       47\n",
              "1.0       34\n",
              "11.0      17\n",
              "12.0       7\n",
              "0.0        6\n",
              "14.0       2\n",
              "13.0       2\n",
              "98.0       1\n",
              "17.0       1\n",
              "Name: birthwgt_lb1, dtype: int64"
            ]
          },
          "metadata": {
            "tags": []
          },
          "execution_count": 13
        }
      ]
    },
    {
      "cell_type": "markdown",
      "metadata": {
        "id": "2_jOAjKChwzm",
        "colab_type": "text"
      },
      "source": [
        "By default, the results are sorted with the most frequent value first, so I use `sort_index` to sort them by value instead, with the lightest babies first and heaviest babies last."
      ]
    },
    {
      "cell_type": "code",
      "metadata": {
        "id": "3f3hWLgphwzn",
        "colab_type": "code",
        "colab": {
          "base_uri": "https://localhost:8080/",
          "height": 340
        },
        "outputId": "a2d025e8-8b77-4c7a-80e4-f64fedea00f3"
      },
      "source": [
        "pounds.value_counts().sort_index()"
      ],
      "execution_count": 14,
      "outputs": [
        {
          "output_type": "execute_result",
          "data": {
            "text/plain": [
              "0.0        6\n",
              "1.0       34\n",
              "2.0       47\n",
              "3.0       67\n",
              "4.0      196\n",
              "5.0      586\n",
              "6.0     1666\n",
              "7.0     2146\n",
              "8.0     1168\n",
              "9.0      363\n",
              "10.0      82\n",
              "11.0      17\n",
              "12.0       7\n",
              "13.0       2\n",
              "14.0       2\n",
              "17.0       1\n",
              "98.0       1\n",
              "99.0      94\n",
              "Name: birthwgt_lb1, dtype: int64"
            ]
          },
          "metadata": {
            "tags": []
          },
          "execution_count": 14
        }
      ]
    },
    {
      "cell_type": "markdown",
      "metadata": {
        "id": "OND4jb_9hwzq",
        "colab_type": "text"
      },
      "source": [
        "As we'd expect, the most frequent values are 6-8 pounds, but there are some very light babies, a few very heavy babies, and two special values, 98, and 99.  [According to the codebook](https://www.icpsr.umich.edu/icpsradmin/nsfg/variable/815970?studyNumber=9999), these values indicate that the respondent declined to answer the question (98) or did not know (99).\n",
        "\n",
        "We can validate the results by comparing them to the codebook, which lists the values and their frequencies.  The results here agree with the codebook, so we have some confidence that we are reading and interpreting the data correctly."
      ]
    },
    {
      "cell_type": "markdown",
      "metadata": {
        "id": "nQn7Gt6Ihwzs",
        "colab_type": "text"
      },
      "source": [
        "**Exercise:** In the `nsfg` DataFrame, the column `'outcome'` encodes the outcome of each pregnancy as shown below:\n",
        "\n",
        "| Value | Meaning |\n",
        "|---|---|\n",
        "| 1  | Live birth |\n",
        "| 2  | Induced abortion |\n",
        "| 3  | Stillbirth | \n",
        "| 4  | Miscarriage |\n",
        "| 5  | Ectopic pregnancy |\n",
        "| 6  | Current pregnancy |\n",
        "\n",
        "Use `value_counts` to display the values in this column and how many times each value appears.  Compare the results to the codebook, [which you can find here](https://www.icpsr.umich.edu/icpsradmin/nsfg/variable/816124?studyNumber=9999).  According to the codebook, how many live births are described in this dataset?  How many did you find in the DataFrame?"
      ]
    },
    {
      "cell_type": "code",
      "metadata": {
        "id": "SdwFGr7Yhwzt",
        "colab_type": "code",
        "colab": {
          "base_uri": "https://localhost:8080/",
          "height": 136
        },
        "outputId": "ba40bf4b-467e-44cf-f138-c65706d1052e"
      },
      "source": [
        "nsfg['outcome'].value_counts(ascending = False)"
      ],
      "execution_count": 16,
      "outputs": [
        {
          "output_type": "execute_result",
          "data": {
            "text/plain": [
              "1    6489\n",
              "4    1469\n",
              "2     947\n",
              "6     249\n",
              "5     118\n",
              "3      86\n",
              "Name: outcome, dtype: int64"
            ]
          },
          "metadata": {
            "tags": []
          },
          "execution_count": 16
        }
      ]
    },
    {
      "cell_type": "code",
      "metadata": {
        "id": "rL2Ru7-XwK_x",
        "colab_type": "code",
        "colab": {}
      },
      "source": [
        "#According to the codebook, there were 6489 live births which is comparable to the above results."
      ],
      "execution_count": 0,
      "outputs": []
    },
    {
      "cell_type": "markdown",
      "metadata": {
        "id": "HOL0X903hwzv",
        "colab_type": "text"
      },
      "source": [
        "## Summary statistics\n",
        "\n",
        "Another way to validate the data is with `describe`, which computes summary statistics like the mean, standard deviation, min, and max.\n",
        "\n",
        "Here are the results for `pounds`.  "
      ]
    },
    {
      "cell_type": "code",
      "metadata": {
        "id": "cI79TolBhwzv",
        "colab_type": "code",
        "colab": {
          "base_uri": "https://localhost:8080/",
          "height": 170
        },
        "outputId": "c4f54e6c-5c54-4eeb-daa3-800cd3b0ee20"
      },
      "source": [
        "pounds.describe()"
      ],
      "execution_count": 18,
      "outputs": [
        {
          "output_type": "execute_result",
          "data": {
            "text/plain": [
              "count    6485.000000\n",
              "mean        8.055204\n",
              "std        11.178893\n",
              "min         0.000000\n",
              "25%         6.000000\n",
              "50%         7.000000\n",
              "75%         8.000000\n",
              "max        99.000000\n",
              "Name: birthwgt_lb1, dtype: float64"
            ]
          },
          "metadata": {
            "tags": []
          },
          "execution_count": 18
        }
      ]
    },
    {
      "cell_type": "markdown",
      "metadata": {
        "id": "I_Lr4ie2hwzy",
        "colab_type": "text"
      },
      "source": [
        "`count` is the number of values, not including `NaN`.\n",
        "\n",
        "`mean` and `std` are the mean and standard deviation.\n",
        "\n",
        "`min` and `max` are the minimum and maximum values, and in between are the 25th, 50th, and 75th percentiles.  The 50th percentile is the median.\n",
        "\n",
        "The mean is about 8.05, but that doesn't mean much because it includes the special values 98 and 99.  Before we can really compute the mean, we have to replace those values with `NaN` to identify them as missing data.\n",
        "\n",
        "The `replace()` method does what we want:"
      ]
    },
    {
      "cell_type": "code",
      "metadata": {
        "id": "MRSG1LXOhwzz",
        "colab_type": "code",
        "colab": {}
      },
      "source": [
        "import numpy as np\n",
        "\n",
        "pounds_clean = pounds.replace([98, 99], np.nan)"
      ],
      "execution_count": 0,
      "outputs": []
    },
    {
      "cell_type": "markdown",
      "metadata": {
        "id": "5LKM_ny6hwz1",
        "colab_type": "text"
      },
      "source": [
        "`replace` takes a list of the values we want to replace and the value we want to replace them with.  `np.nan` means we are getting the special value `NaN` from the NumPy library, which is imported as `np`.\n",
        "\n",
        "The result from `replace()` is a new Series, which I assign to `pounds_clean`.\n",
        "\n",
        "If we run `describe` again, we see that `count` includes only the valid values."
      ]
    },
    {
      "cell_type": "code",
      "metadata": {
        "id": "UzwkVXtbhwz2",
        "colab_type": "code",
        "colab": {
          "base_uri": "https://localhost:8080/",
          "height": 170
        },
        "outputId": "4733b095-22cd-4361-cfca-5f8e735bf0af"
      },
      "source": [
        "pounds_clean.describe()"
      ],
      "execution_count": 20,
      "outputs": [
        {
          "output_type": "execute_result",
          "data": {
            "text/plain": [
              "count    6390.000000\n",
              "mean        6.703286\n",
              "std         1.429265\n",
              "min         0.000000\n",
              "25%         6.000000\n",
              "50%         7.000000\n",
              "75%         8.000000\n",
              "max        17.000000\n",
              "Name: birthwgt_lb1, dtype: float64"
            ]
          },
          "metadata": {
            "tags": []
          },
          "execution_count": 20
        }
      ]
    },
    {
      "cell_type": "markdown",
      "metadata": {
        "id": "o3IjaxEahwz5",
        "colab_type": "text"
      },
      "source": [
        "The mean of the new series is about 6.7 pounds.\n",
        "\n",
        "Remember that the mean of the original series was more than 8 pounds.\n",
        "\n",
        "It makes a big difference when you remove a few 99-pound babies!"
      ]
    },
    {
      "cell_type": "markdown",
      "metadata": {
        "id": "b7_rJl_ihwz6",
        "colab_type": "text"
      },
      "source": [
        "**Exercise:** Use `describe` to summarize `ounces`.  \n",
        "\n",
        "Then use `replace` to replace the special values 98 and 99 with NaN, and assign the result to `ounces_clean`.\n",
        "\n",
        "Run `describe` again.  How much does this cleaning affect the results?"
      ]
    },
    {
      "cell_type": "code",
      "metadata": {
        "id": "E2TuBrh3hwz7",
        "colab_type": "code",
        "colab": {
          "base_uri": "https://localhost:8080/",
          "height": 170
        },
        "outputId": "9a04d076-578b-450d-99ff-6aefd3794c73"
      },
      "source": [
        "ounces.describe()"
      ],
      "execution_count": 22,
      "outputs": [
        {
          "output_type": "execute_result",
          "data": {
            "text/plain": [
              "count    6391.000000\n",
              "mean        7.213895\n",
              "std         8.254885\n",
              "min         0.000000\n",
              "25%         3.000000\n",
              "50%         6.000000\n",
              "75%        11.000000\n",
              "max        99.000000\n",
              "Name: birthwgt_oz1, dtype: float64"
            ]
          },
          "metadata": {
            "tags": []
          },
          "execution_count": 22
        }
      ]
    },
    {
      "cell_type": "code",
      "metadata": {
        "id": "UbHtRdyahwz9",
        "colab_type": "code",
        "colab": {}
      },
      "source": [
        "ounces_clean = ounces.replace([98,99], np.nan)"
      ],
      "execution_count": 0,
      "outputs": []
    },
    {
      "cell_type": "code",
      "metadata": {
        "id": "R7c-hiHehwz-",
        "colab_type": "code",
        "colab": {
          "base_uri": "https://localhost:8080/",
          "height": 170
        },
        "outputId": "a73f8af9-f9d2-4d02-b61f-124599311747"
      },
      "source": [
        "ounces_clean.describe()"
      ],
      "execution_count": 24,
      "outputs": [
        {
          "output_type": "execute_result",
          "data": {
            "text/plain": [
              "count    6355.000000\n",
              "mean        6.694099\n",
              "std         4.533847\n",
              "min         0.000000\n",
              "25%         3.000000\n",
              "50%         6.000000\n",
              "75%        11.000000\n",
              "max        15.000000\n",
              "Name: birthwgt_oz1, dtype: float64"
            ]
          },
          "metadata": {
            "tags": []
          },
          "execution_count": 24
        }
      ]
    },
    {
      "cell_type": "code",
      "metadata": {
        "id": "cSdopwu4cLYG",
        "colab_type": "code",
        "colab": {}
      },
      "source": [
        "#The elimination of 98 and 99 from ounces reduced the mean from 7.21 to 6.69. This makes more sense. "
      ],
      "execution_count": 0,
      "outputs": []
    },
    {
      "cell_type": "markdown",
      "metadata": {
        "id": "FimmTkPQhw0A",
        "colab_type": "text"
      },
      "source": [
        "**Exercise:** In the `nsfg` DataFrame, the column `'nbrnaliv'` records the number of babies born alive at the end of each pregnancy.\n",
        "\n",
        "If you use `value_counts` to view the responses, you'll see that the value `8` appears once, and if you [consult the codebook](https://www.icpsr.umich.edu/icpsradmin/nsfg/variable/815953?studyNumber=9999), you'll see that this value indicates that the respondent refused to answer the question. \n",
        "\n",
        "Use `replace` to replace this value with `np.nan`, then display the responses again and confirm that they are consistent with the codebook."
      ]
    },
    {
      "cell_type": "code",
      "metadata": {
        "id": "_qzbKpdnhw0B",
        "colab_type": "code",
        "colab": {
          "base_uri": "https://localhost:8080/",
          "height": 102
        },
        "outputId": "7f24908f-0126-4493-dfe2-653f67e213b1"
      },
      "source": [
        "# Solution goes here\n",
        "nsfg.nbrnaliv.value_counts(ascending=False)"
      ],
      "execution_count": 26,
      "outputs": [
        {
          "output_type": "execute_result",
          "data": {
            "text/plain": [
              "1.0    6379\n",
              "2.0     100\n",
              "3.0       5\n",
              "8.0       1\n",
              "Name: nbrnaliv, dtype: int64"
            ]
          },
          "metadata": {
            "tags": []
          },
          "execution_count": 26
        }
      ]
    },
    {
      "cell_type": "code",
      "metadata": {
        "id": "E7KU98DThw0E",
        "colab_type": "code",
        "colab": {
          "base_uri": "https://localhost:8080/",
          "height": 85
        },
        "outputId": "e234de43-411c-4227-8adb-3a52c69d7556"
      },
      "source": [
        "# Solution goes here\n",
        "nbrnaliv_clean = nsfg.nbrnaliv.replace(8, np.nan)\n",
        "nbrnaliv_clean.value_counts(ascending=False)"
      ],
      "execution_count": 30,
      "outputs": [
        {
          "output_type": "execute_result",
          "data": {
            "text/plain": [
              "1.0    6379\n",
              "2.0     100\n",
              "3.0       5\n",
              "Name: nbrnaliv, dtype: int64"
            ]
          },
          "metadata": {
            "tags": []
          },
          "execution_count": 30
        }
      ]
    },
    {
      "cell_type": "markdown",
      "metadata": {
        "id": "JH9CDt6Cbxq5",
        "colab_type": "text"
      },
      "source": [
        "Results are in line with codebook."
      ]
    },
    {
      "cell_type": "markdown",
      "metadata": {
        "id": "Z7l6_Db2hw0G",
        "colab_type": "text"
      },
      "source": [
        "## Series arithmetic\n",
        "\n",
        "Now we want to combine `pounds` and `ounces` into a single Series that contains total birth weight.\n",
        "\n",
        "Arithmetic operators work with Series objects; so, for example, to convert `pounds` to ounces, we could write\n",
        "\n",
        "`pounds * 16`\n",
        "\n",
        "Then we could add in `ounces` like this\n",
        "\n",
        "`pounds * 16 + ounces`\n",
        "\n",
        "**Exercise:** Use `pounds_clean` and `ounces_clean` to compute the total birth weight expressed in kilograms (there are roughly 2.2 pounds per kilogram).  What is the mean birth weight in kilograms?"
      ]
    },
    {
      "cell_type": "code",
      "metadata": {
        "id": "dl0PZ07mhw0I",
        "colab_type": "code",
        "colab": {
          "base_uri": "https://localhost:8080/",
          "height": 34
        },
        "outputId": "23128d5c-d26b-43e0-c4ab-41498239aa29"
      },
      "source": [
        "# Solution goes here\n",
        "((pounds_clean + ounces_clean/16)/2.2).mean()"
      ],
      "execution_count": 34,
      "outputs": [
        {
          "output_type": "execute_result",
          "data": {
            "text/plain": [
              "3.2368079894141997"
            ]
          },
          "metadata": {
            "tags": []
          },
          "execution_count": 34
        }
      ]
    },
    {
      "cell_type": "markdown",
      "metadata": {
        "id": "KAWWosI7hw0K",
        "colab_type": "text"
      },
      "source": [
        "**Exercise:** For each pregnancy in the NSFG dataset, the variable `'agecon'` encodes the respondent's age at conception, and `'agepreg'` the respondent's age at the end of the pregnancy.\n",
        "\n",
        "Both variables are recorded as integers with two implicit decimal places, so the value `2575` means that the respondent's age was `25.75`.\n",
        "\n",
        "- Read the documentation of these variables.  Are there any special values we have to deal with?\n",
        "\n",
        "- Select `'agecon'` and `'agepreg'`, divide them by `100`, and assign them to variables named `agecon` and `agepreg`.\n",
        "\n",
        "- Compute the difference, which is an estimate of the duration of the pregnancy.\n",
        "\n",
        "- Use `.describe()` to compute the mean duration and other summary statistics.\n",
        "\n",
        "If the mean length of pregnancy seems short, remember that this dataset includes all pregnancies, not just the ones that ended in live birth."
      ]
    },
    {
      "cell_type": "code",
      "metadata": {
        "id": "Jq2lOUsfhw0K",
        "colab_type": "code",
        "colab": {
          "base_uri": "https://localhost:8080/",
          "height": 34
        },
        "outputId": "cfba4b72-1c19-475d-b67d-a92a5c643253"
      },
      "source": [
        "# Solution goes here\n",
        "#special values in agepreg (NaN's)\n",
        "nsfg.agepreg.isnull().sum()"
      ],
      "execution_count": 35,
      "outputs": [
        {
          "output_type": "execute_result",
          "data": {
            "text/plain": [
              "249"
            ]
          },
          "metadata": {
            "tags": []
          },
          "execution_count": 35
        }
      ]
    },
    {
      "cell_type": "code",
      "metadata": {
        "id": "1A4fU3BygA52",
        "colab_type": "code",
        "colab": {
          "base_uri": "https://localhost:8080/",
          "height": 221
        },
        "outputId": "a15337aa-7d6f-48f7-eda7-e1d427796c96"
      },
      "source": [
        "agecon = nsfg.agecon/100\n",
        "agepreg = nsfg.agepreg/100\n",
        "agecon"
      ],
      "execution_count": 36,
      "outputs": [
        {
          "output_type": "execute_result",
          "data": {
            "text/plain": [
              "0       20.00\n",
              "1       22.91\n",
              "2       32.41\n",
              "3       36.50\n",
              "4       21.91\n",
              "        ...  \n",
              "9353    17.58\n",
              "9354    17.41\n",
              "9355    20.91\n",
              "9356    34.50\n",
              "9357    36.83\n",
              "Name: agecon, Length: 9358, dtype: float64"
            ]
          },
          "metadata": {
            "tags": []
          },
          "execution_count": 36
        }
      ]
    },
    {
      "cell_type": "code",
      "metadata": {
        "id": "o-YaXqTpgeBL",
        "colab_type": "code",
        "colab": {
          "base_uri": "https://localhost:8080/",
          "height": 221
        },
        "outputId": "238618af-2e9a-425b-d7ed-962b5f9338c4"
      },
      "source": [
        "agepreg"
      ],
      "execution_count": 37,
      "outputs": [
        {
          "output_type": "execute_result",
          "data": {
            "text/plain": [
              "0       20.75\n",
              "1       23.58\n",
              "2       33.08\n",
              "3         NaN\n",
              "4       22.66\n",
              "        ...  \n",
              "9353    18.25\n",
              "9354    18.16\n",
              "9355    21.58\n",
              "9356    35.25\n",
              "9357    37.58\n",
              "Name: agepreg, Length: 9358, dtype: float64"
            ]
          },
          "metadata": {
            "tags": []
          },
          "execution_count": 37
        }
      ]
    },
    {
      "cell_type": "code",
      "metadata": {
        "id": "LOxq_WHSgixx",
        "colab_type": "code",
        "colab": {
          "base_uri": "https://localhost:8080/",
          "height": 170
        },
        "outputId": "ecc61ff1-dc80-4776-e4f5-996d024da8dc"
      },
      "source": [
        "(agepreg-agecon).describe()"
      ],
      "execution_count": 38,
      "outputs": [
        {
          "output_type": "execute_result",
          "data": {
            "text/plain": [
              "count    9109.000000\n",
              "mean        0.552069\n",
              "std         0.271479\n",
              "min         0.000000\n",
              "25%         0.250000\n",
              "50%         0.670000\n",
              "75%         0.750000\n",
              "max         0.920000\n",
              "dtype: float64"
            ]
          },
          "metadata": {
            "tags": []
          },
          "execution_count": 38
        }
      ]
    },
    {
      "cell_type": "code",
      "metadata": {
        "id": "xDMfDgpug3Zi",
        "colab_type": "code",
        "colab": {}
      },
      "source": [
        "#In general, pregnancies lasted between 6 and 7 months (.55*12)."
      ],
      "execution_count": 0,
      "outputs": []
    },
    {
      "cell_type": "markdown",
      "metadata": {
        "id": "FxeokzZIhw0N",
        "colab_type": "text"
      },
      "source": [
        "## Histograms\n",
        "\n",
        "Let's get back to the original queston: what is the average birth weight for babies in the U.S.?  \n",
        "\n",
        "As an answer we *could* take the results from the previous section and compute the mean:"
      ]
    },
    {
      "cell_type": "code",
      "metadata": {
        "id": "tLb40fnmhw0N",
        "colab_type": "code",
        "colab": {
          "base_uri": "https://localhost:8080/",
          "height": 34
        },
        "outputId": "ac1739ec-92e5-4fc0-a9c7-b9cff79980c7"
      },
      "source": [
        "pounds_clean = pounds.replace([98, 99], np.nan)\n",
        "ounces_clean = ounces.replace([98, 99], np.nan)\n",
        "\n",
        "birth_weight = pounds_clean + ounces_clean / 16\n",
        "birth_weight.mean()"
      ],
      "execution_count": 40,
      "outputs": [
        {
          "output_type": "execute_result",
          "data": {
            "text/plain": [
              "7.120977576711251"
            ]
          },
          "metadata": {
            "tags": []
          },
          "execution_count": 40
        }
      ]
    },
    {
      "cell_type": "markdown",
      "metadata": {
        "id": "-IjghXHShw0Q",
        "colab_type": "text"
      },
      "source": [
        "But it is risky to compute a summary statistic, like the mean, before we look at the whole distribution of values.\n",
        "\n",
        "A \"distribution\" is a set of possible values and their frequencies.  One way to visualize a distribution is a histogram, which shows values on the `x` axis and their frequencies on the `y` axis.\n",
        "\n",
        "We'll use Pyplot to make histograms; as usual, we import it with the short name `plt`:"
      ]
    },
    {
      "cell_type": "code",
      "metadata": {
        "id": "aJOvNVLqhw0R",
        "colab_type": "code",
        "colab": {}
      },
      "source": [
        "import matplotlib.pyplot as plt"
      ],
      "execution_count": 0,
      "outputs": []
    },
    {
      "cell_type": "markdown",
      "metadata": {
        "id": "ZFZlo-P6hw0T",
        "colab_type": "text"
      },
      "source": [
        "Pyplot provides `hist`, which takes a Series and plots a histogram; that is, it shows the values and how often they appear.\n",
        "\n"
      ]
    },
    {
      "cell_type": "code",
      "metadata": {
        "id": "s57SDfE7hw0U",
        "colab_type": "code",
        "colab": {
          "base_uri": "https://localhost:8080/",
          "height": 295
        },
        "outputId": "1005fa5a-b956-4ba7-ea7b-d9b073ca1a4b"
      },
      "source": [
        "plt.hist(birth_weight.dropna(), bins=30)\n",
        "\n",
        "plt.xlabel('Birth weight in pounds')\n",
        "plt.ylabel('Number of live births')\n",
        "plt.title('Distribution of U.S. birth weight');"
      ],
      "execution_count": 42,
      "outputs": [
        {
          "output_type": "display_data",
          "data": {
            "image/png": "[encoded data removed]",
            "text/plain": [
              "<Figure size 432x288 with 1 Axes>"
            ]
          },
          "metadata": {
            "tags": []
          }
        }
      ]
    },
    {
      "cell_type": "markdown",
      "metadata": {
        "id": "iSl2bcKwhw0W",
        "colab_type": "text"
      },
      "source": [
        "Pyplot doesn't work with NaNs, so we have to use `dropna`, which makes a new Series that contains only the valid values.\n",
        "\n",
        "The second argument, `bins`, tells `hist` to divide the range of weights into 30 intervals, called \"bins\", and count how many values fall in each bin.\n",
        "\n",
        "The `x` axis is birth weight in pounds, divided into 30 bins.  The `y` axis is the number of births in each bin.  \n",
        "\n",
        "The distribution looks a little like a bell curve, but the tail is longer on the left than on the right; that is, there are more light babies than heavy babies.\n",
        "\n",
        "That makes sense because the distribution includes some babies that were born preterm.  "
      ]
    },
    {
      "cell_type": "markdown",
      "metadata": {
        "id": "yx74ujbYhw0X",
        "colab_type": "text"
      },
      "source": [
        "**Exercise:** `hist` takes keyword arguments that specify the type and appearance of the histogram.  Find the documentation of `hist` and see if you can figure out how to plot the histogram as an unfilled line."
      ]
    },
    {
      "cell_type": "code",
      "metadata": {
        "id": "RGPtcIL1hw0X",
        "colab_type": "code",
        "colab": {
          "base_uri": "https://localhost:8080/",
          "height": 295
        },
        "outputId": "cce9de52-087a-415f-ed0d-ff3a74e1c8b9"
      },
      "source": [
        "# Solution goes here\n",
        "plt.hist(birth_weight.dropna(), bins=30, histtype='step')\n",
        "\n",
        "plt.xlabel('Birth weight in pounds')\n",
        "plt.ylabel('Number of live births')\n",
        "plt.title('Distribution of U.S. birth weight');"
      ],
      "execution_count": 43,
      "outputs": [
        {
          "output_type": "display_data",
          "data": {
            "image/png": "[encoded data removed]",
            "text/plain": [
              "<Figure size 432x288 with 1 Axes>"
            ]
          },
          "metadata": {
            "tags": []
          }
        }
      ]
    },
    {
      "cell_type": "markdown",
      "metadata": {
        "id": "1T5N09WBhw0b",
        "colab_type": "text"
      },
      "source": [
        "**Exercise:** As we saw in a previous exercise, the NSFG dataset includes a column called `agecon` that records age at conception for each pregnancy. \n",
        "\n",
        "- Select this column from the DataFrame, divide by 100 to convert it to years, and assign it to a variable called `agecon`.\n",
        "\n",
        "- Plot the histogram of these values with 20 bins.\n",
        "\n",
        "- Label the `x` and `y` axes appropriately."
      ]
    },
    {
      "cell_type": "code",
      "metadata": {
        "id": "10GTCf9_hw0b",
        "colab_type": "code",
        "colab": {
          "base_uri": "https://localhost:8080/",
          "height": 295
        },
        "outputId": "3e2b1798-45d7-406f-caf8-5a6081e5b69f"
      },
      "source": [
        "# Solution goes here\n",
        "agecon = nsfg.agecon/100\n",
        "plt.hist(agecon.dropna(), bins=20)\n",
        "\n",
        "plt.xlabel('Age at conception')\n",
        "plt.ylabel('Count of different ages at conception')\n",
        "plt.title('Distribution of U.S. women\\'s age at conception');"
      ],
      "execution_count": 44,
      "outputs": [
        {
          "output_type": "display_data",
          "data": {
            "image/png": "[encoded data removed]",
            "text/plain": [
              "<Figure size 432x288 with 1 Axes>"
            ]
          },
          "metadata": {
            "tags": []
          }
        }
      ]
    },
    {
      "cell_type": "code",
      "metadata": {
        "id": "F56FIjwXklv9",
        "colab_type": "code",
        "colab": {}
      },
      "source": [
        "#Looks like U.S. women usually conceive in their 20's which is expected."
      ],
      "execution_count": 0,
      "outputs": []
    },
    {
      "cell_type": "markdown",
      "metadata": {
        "id": "1GIikNyFhw0d",
        "colab_type": "text"
      },
      "source": [
        "## Boolean series\n",
        "\n",
        "We have seen that the distribution of birth weights is \"skewed to the left\"; that is, there are more light babies than heavy ones and they are farther from the mean.\n",
        "\n",
        "That's because preterm babies tend to be lighter.  The most common duration for pregnancy is 39 weeks, which is \"full term\"; \"preterm\" is usually defined to be less than 37 weeks.\n",
        "\n",
        "To see which babies are preterm, we can use `prglngth`, which records pregnancy length in weeks.\n",
        "\n",
        "To identify babies that were born preterm, we can compare `prglngth` to 37."
      ]
    },
    {
      "cell_type": "code",
      "metadata": {
        "id": "NyWMiYBEhw0e",
        "colab_type": "code",
        "colab": {}
      },
      "source": [
        "preterm = (nsfg['prglngth'] < 37)\n",
        "preterm.dtype"
      ],
      "execution_count": 0,
      "outputs": []
    },
    {
      "cell_type": "markdown",
      "metadata": {
        "id": "VEdKuZCDhw0k",
        "colab_type": "text"
      },
      "source": [
        "When you compare a Series to a value, the result is a Boolean Series; that is, each element is a Boolean value, True or False.  In this case, it's True for each preterm baby and False otherwise.  We can use `head` to see the first 5 elements."
      ]
    },
    {
      "cell_type": "code",
      "metadata": {
        "id": "-tmtEMVFhw0m",
        "colab_type": "code",
        "colab": {}
      },
      "source": [
        "preterm.head()"
      ],
      "execution_count": 0,
      "outputs": []
    },
    {
      "cell_type": "markdown",
      "metadata": {
        "id": "ujVXJOwDhw0q",
        "colab_type": "text"
      },
      "source": [
        "If you compute the sum of a Boolean Series, it treats True as 1 and False as 0, so the sum is the number of Trues, which is the number of preterm babies, about 3700."
      ]
    },
    {
      "cell_type": "code",
      "metadata": {
        "id": "7zirlQ9bhw0r",
        "colab_type": "code",
        "colab": {}
      },
      "source": [
        "preterm.sum()"
      ],
      "execution_count": 0,
      "outputs": []
    },
    {
      "cell_type": "markdown",
      "metadata": {
        "id": "7gdH-G2Ehw0u",
        "colab_type": "text"
      },
      "source": [
        "If you compute the mean, you get the *fraction* of Trues; in this case, it's close to 0.4; that is, the durations of 40% of the pregnancies are less than 37 weeks."
      ]
    },
    {
      "cell_type": "code",
      "metadata": {
        "id": "hXsqNnhthw0w",
        "colab_type": "code",
        "colab": {}
      },
      "source": [
        "preterm.mean()"
      ],
      "execution_count": 0,
      "outputs": []
    },
    {
      "cell_type": "markdown",
      "metadata": {
        "id": "H6Lxq1CDhw0x",
        "colab_type": "text"
      },
      "source": [
        "However, this result might be misleading because it includes all pregnancy outcomes, not just live births.\n",
        "\n",
        "We can create another Boolean Series to indicate which pregnancies ended in live birth:"
      ]
    },
    {
      "cell_type": "code",
      "metadata": {
        "id": "OZ269JSShw0y",
        "colab_type": "code",
        "colab": {}
      },
      "source": [
        "live = (nsfg['outcome'] == 1)\n",
        "live.mean()"
      ],
      "execution_count": 0,
      "outputs": []
    },
    {
      "cell_type": "markdown",
      "metadata": {
        "id": "97jhGL2Lhw0z",
        "colab_type": "text"
      },
      "source": [
        "Now we can use the logical operator `&` to identify pregnancies where the outcome is a preterm live birth: "
      ]
    },
    {
      "cell_type": "code",
      "metadata": {
        "id": "yGcFrZoWhw01",
        "colab_type": "code",
        "colab": {}
      },
      "source": [
        "live_preterm = (live & preterm)\n",
        "live_preterm.mean()"
      ],
      "execution_count": 0,
      "outputs": []
    },
    {
      "cell_type": "markdown",
      "metadata": {
        "id": "YWoXaZekhw05",
        "colab_type": "text"
      },
      "source": [
        "**Exercise:** Of all live births, what fraction are preterm?"
      ]
    },
    {
      "cell_type": "code",
      "metadata": {
        "id": "Yxo0KlFshw05",
        "colab_type": "code",
        "colab": {}
      },
      "source": [
        "# Solution goes here"
      ],
      "execution_count": 0,
      "outputs": []
    },
    {
      "cell_type": "markdown",
      "metadata": {
        "id": "1aPLHxa8hw07",
        "colab_type": "text"
      },
      "source": [
        "The other common logical operators are:\n",
        "    \n",
        "* `|`, which is the OR operator; for example `live | preterm` is true if either `live` is true, or `preterm` is true, or both.\n",
        "\n",
        "* `~`, which is the NOT operator; for example `~live` is true if `live` is false or NaN.\n",
        "\n",
        "The logical operators treat NaN the same as False.  So you should be careful about using the NOT operator with a Series that contains NaN values.  \n",
        "\n",
        "For example, `~preterm` would include full term pregnancies, which is probably what you want, and pregnancies with unknown length, which might not be."
      ]
    },
    {
      "cell_type": "markdown",
      "metadata": {
        "id": "kbhmoZzthw07",
        "colab_type": "text"
      },
      "source": [
        "**Exercise:** What fraction pregnancies are full term, that is, 37 weeks or more?\n",
        "\n",
        "Of all live births, what fraction are full term?"
      ]
    },
    {
      "cell_type": "code",
      "metadata": {
        "id": "8YCi079shw08",
        "colab_type": "code",
        "colab": {}
      },
      "source": [
        "# Solution goes here"
      ],
      "execution_count": 0,
      "outputs": []
    },
    {
      "cell_type": "code",
      "metadata": {
        "id": "Pzw-TU1jhw0-",
        "colab_type": "code",
        "colab": {}
      },
      "source": [
        "# Solution goes here"
      ],
      "execution_count": 0,
      "outputs": []
    },
    {
      "cell_type": "markdown",
      "metadata": {
        "id": "8qeD-CBqhw1B",
        "colab_type": "text"
      },
      "source": [
        "## Filtering\n",
        "\n",
        "We can use a Boolean Series as a filter; that is, we can select only rows that satisfy a condition or meet some criterion.\n",
        "\n",
        "For example, we can use `preterm` and the bracket operator to select values from `birth_weight`, so `preterm_weight` gets birth weights for preterm babies. "
      ]
    },
    {
      "cell_type": "code",
      "metadata": {
        "id": "oH5ysq69hw1C",
        "colab_type": "code",
        "colab": {}
      },
      "source": [
        "preterm_weight = birth_weight[preterm]\n",
        "preterm_weight.mean()"
      ],
      "execution_count": 0,
      "outputs": []
    },
    {
      "cell_type": "markdown",
      "metadata": {
        "id": "P50Mi34Ihw1E",
        "colab_type": "text"
      },
      "source": [
        "To select full-term babies, we can create a Boolean Series like this:"
      ]
    },
    {
      "cell_type": "code",
      "metadata": {
        "id": "Etb5Vil4hw1F",
        "colab_type": "code",
        "colab": {}
      },
      "source": [
        "fullterm = (nsfg['prglngth'] >= 37)"
      ],
      "execution_count": 0,
      "outputs": []
    },
    {
      "cell_type": "markdown",
      "metadata": {
        "id": "nZMtXEtuhw1I",
        "colab_type": "text"
      },
      "source": [
        "And use it to select birth weights for full term babies:"
      ]
    },
    {
      "cell_type": "code",
      "metadata": {
        "id": "wbCAzsOihw1I",
        "colab_type": "code",
        "colab": {}
      },
      "source": [
        "full_term_weight = birth_weight[fullterm]\n",
        "full_term_weight.mean()"
      ],
      "execution_count": 0,
      "outputs": []
    },
    {
      "cell_type": "markdown",
      "metadata": {
        "id": "VqnEsxqWhw1K",
        "colab_type": "text"
      },
      "source": [
        "As expected, full term babies are heavier, on average, than preterm babies.\n",
        "\n",
        "To be more explicit, we could also limit the results to live births, like this:"
      ]
    },
    {
      "cell_type": "code",
      "metadata": {
        "id": "s_vj5Im0hw1K",
        "colab_type": "code",
        "colab": {}
      },
      "source": [
        "full_term_weight = birth_weight[live & fullterm]\n",
        "full_term_weight.mean()"
      ],
      "execution_count": 0,
      "outputs": []
    },
    {
      "cell_type": "markdown",
      "metadata": {
        "id": "Di43soPqhw1M",
        "colab_type": "text"
      },
      "source": [
        "But in this case it doesn't make a difference because `birth_weight` is only valid for live births."
      ]
    },
    {
      "cell_type": "markdown",
      "metadata": {
        "id": "WMnWIGOzhw1M",
        "colab_type": "text"
      },
      "source": [
        "**Exercise:** Let's see if there is a difference in weight between single births and multiple births (twins, triplets, etc.).\n",
        "\n",
        "The variable `nbrnaliv` represents the number of babies born alive from a pregnancy.  Here's a cleaned version of this variable:"
      ]
    },
    {
      "cell_type": "code",
      "metadata": {
        "id": "6ZxBearNhw1M",
        "colab_type": "code",
        "colab": {}
      },
      "source": [
        "nbrnaliv_clean = nsfg['nbrnaliv'].replace(8, np.nan)"
      ],
      "execution_count": 0,
      "outputs": []
    },
    {
      "cell_type": "markdown",
      "metadata": {
        "id": "quj6W25mhw1N",
        "colab_type": "text"
      },
      "source": [
        "Use `nbrnaliv_clean` and `live` to create a Boolean series called `multiple` that is true for multiple live births.  \n",
        "\n",
        "Of all live births, what fraction are multiple births?"
      ]
    },
    {
      "cell_type": "code",
      "metadata": {
        "id": "KE8U4dw0hw1O",
        "colab_type": "code",
        "colab": {}
      },
      "source": [
        "# Solution goes here"
      ],
      "execution_count": 0,
      "outputs": []
    },
    {
      "cell_type": "code",
      "metadata": {
        "id": "O5KJq04Whw1P",
        "colab_type": "code",
        "colab": {}
      },
      "source": [
        "# Solution goes here"
      ],
      "execution_count": 0,
      "outputs": []
    },
    {
      "cell_type": "markdown",
      "metadata": {
        "id": "ttpZ-lH2hw1S",
        "colab_type": "text"
      },
      "source": [
        "**Exercise:** Make a Boolean series called `single` that is true for single live births.\n",
        "\n",
        "Of all single births, what fraction are preterm?\n",
        "\n",
        "Of all multiple births, what fraction are preterm?"
      ]
    },
    {
      "cell_type": "code",
      "metadata": {
        "id": "NlIZHeahhw1S",
        "colab_type": "code",
        "colab": {}
      },
      "source": [
        "# Solution goes here"
      ],
      "execution_count": 0,
      "outputs": []
    },
    {
      "cell_type": "code",
      "metadata": {
        "id": "L87mOvi7hw1U",
        "colab_type": "code",
        "colab": {}
      },
      "source": [
        "# Solution goes here"
      ],
      "execution_count": 0,
      "outputs": []
    },
    {
      "cell_type": "code",
      "metadata": {
        "id": "AO-We7LPhw1Y",
        "colab_type": "code",
        "colab": {}
      },
      "source": [
        "# Solution goes here"
      ],
      "execution_count": 0,
      "outputs": []
    },
    {
      "cell_type": "markdown",
      "metadata": {
        "id": "B8ZbwMl3hw1a",
        "colab_type": "text"
      },
      "source": [
        "**Exercise:** What is the average birth weight for live, single, full-term births?"
      ]
    },
    {
      "cell_type": "code",
      "metadata": {
        "id": "xjJOAsNUhw1b",
        "colab_type": "code",
        "colab": {}
      },
      "source": [
        "# Solution goes here"
      ],
      "execution_count": 0,
      "outputs": []
    },
    {
      "cell_type": "markdown",
      "metadata": {
        "id": "ujMe4upBhw1f",
        "colab_type": "text"
      },
      "source": [
        "## Resampling\n",
        "\n",
        "We are almost ready to compute the average birth weight, but there's one more thing we have to do: resampling.\n",
        "\n",
        "The NSFG is not exactly representative of the U.S. population; by design, some groups are more likely to appear in the sample than others; that is, they are \"oversampled\".  Oversampling helps to ensure that you have enough people in every subgroup to get reliable statistics, but it makes the analysis a little more complicated.\n",
        "\n",
        "However, we can correct for oversampling by \"resampling\".  The key is that each pregnancy in the dataset has a \"sampling weight\" that indicates how many pregnancies it represents.  In the `nsfg` DataFrame, the sampling weight is stored in a column named `wgt2013_2015`.\n",
        "\n",
        "Here's what it looks like."
      ]
    },
    {
      "cell_type": "code",
      "metadata": {
        "id": "zr17gNgyhw1g",
        "colab_type": "code",
        "colab": {}
      },
      "source": [
        "nsfg['wgt2013_2015'].describe()"
      ],
      "execution_count": 0,
      "outputs": []
    },
    {
      "cell_type": "markdown",
      "metadata": {
        "id": "xmzDZDH7hw1j",
        "colab_type": "text"
      },
      "source": [
        "The lowest value in this column is about 1859, which means that a pregnancy with that weight represents 1859 total pregnancies in the population.\n",
        "\n",
        "The highest weight is about 75399, which means that this observed pregnancy represents substantially more pregnancies in the population.\n",
        "\n",
        "To take these weights into account, we can resample the DataFrame, which means that we draw a new random sample from the rows in the DataFrame using a weighted sampling process so that rows with higher weights are more likely than rows with lower weights.\n",
        "\n",
        "DataFrame provides a method called `sample` that does what we want:"
      ]
    },
    {
      "cell_type": "code",
      "metadata": {
        "id": "9a_XeowBhw1k",
        "colab_type": "code",
        "colab": {}
      },
      "source": [
        "n = len(nsfg)\n",
        "weights = nsfg['wgt2013_2015']\n",
        "sample = nsfg.sample(n, \n",
        "                     replace=True, \n",
        "                     weights=weights)"
      ],
      "execution_count": 0,
      "outputs": []
    },
    {
      "cell_type": "markdown",
      "metadata": {
        "id": "yjAsnlSBhw1m",
        "colab_type": "text"
      },
      "source": [
        "Here's what the arguments mean:\n",
        "\n",
        "* The size of the sample, `n`, is the same as the size of the DataFrame.\n",
        "\n",
        "* `replace` means that sampling is done \"with replacement\", so some rows appear in the sample more than once and some might not appear at all.\n",
        "\n",
        "* `weights` are used to weight the sampling process, so each rows appears in the sample with frequency proportional to its weight."
      ]
    },
    {
      "cell_type": "markdown",
      "metadata": {
        "id": "rd8KX1Qfhw1n",
        "colab_type": "text"
      },
      "source": [
        "**Exercise:** Now let's bring it all together.  To test your recall, try to do this exercise without referring back to previous code.\n",
        "\n",
        "1. From `sample`, extract `birthwgt_lb1` and `birthwgt_oz1` and assign them to `pounds` and `ounces`.\n",
        "\n",
        "2. Clean both variables by replacing `98` and `99` with NaN.\n",
        "\n",
        "3. Compute total birthweight in pounds and display the mean.\n",
        "\n",
        "4. Compute Boolean Series for live, single, and full-term babies.\n",
        "\n",
        "5. Select birthweights for live, single, full-term babies and display their mean weight."
      ]
    },
    {
      "cell_type": "code",
      "metadata": {
        "id": "9CVCAw1dhw1o",
        "colab_type": "code",
        "colab": {}
      },
      "source": [
        "# Solution goes here"
      ],
      "execution_count": 0,
      "outputs": []
    },
    {
      "cell_type": "code",
      "metadata": {
        "id": "7WLG5YMxhw1p",
        "colab_type": "code",
        "colab": {}
      },
      "source": [
        "# Solution goes here"
      ],
      "execution_count": 0,
      "outputs": []
    },
    {
      "cell_type": "markdown",
      "metadata": {
        "id": "-GEUAKifhw1r",
        "colab_type": "text"
      },
      "source": [
        "Most of the time, you will find that the resampled data yields a slightly higher estimate for the average birth weight of single, full-term births in the U.S., compared to the unresampled data.\n",
        "\n",
        "But resampling is a random process, so the results will be slightly different each time you run it.  Later we will see how we can use this variability to quantify the precision of the estimate."
      ]
    },
    {
      "cell_type": "code",
      "metadata": {
        "id": "gFwqTaXahw1s",
        "colab_type": "code",
        "colab": {}
      },
      "source": [
        ""
      ],
      "execution_count": 0,
      "outputs": []
    }
  ]
}