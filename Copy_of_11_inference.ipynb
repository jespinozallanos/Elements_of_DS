{
  "nbformat": 4,
  "nbformat_minor": 0,
  "metadata": {
    "kernelspec": {
      "display_name": "Python 3",
      "language": "python",
      "name": "python3"
    },
    "language_info": {
      "codemirror_mode": {
        "name": "ipython",
        "version": 3
      },
      "file_extension": ".py",
      "mimetype": "text/x-python",
      "name": "python",
      "nbconvert_exporter": "python",
      "pygments_lexer": "ipython3",
      "version": "3.7.4"
    },
    "colab": {
      "name": "Copy of 11_inference.ipynb",
      "provenance": [],
      "collapsed_sections": [
        "dgBddj1HayAt",
        "ZfyP0AU6ayBV"
      ],
      "toc_visible": true,
      "include_colab_link": true
    }
  },
  "cells": [
    {
      "cell_type": "markdown",
      "metadata": {
        "id": "view-in-github",
        "colab_type": "text"
      },
      "source": [
        "<a href=\"https://colab.research.google.com/github/mindyng/Elements_of_DS/blob/master/Copy_of_11_inference.ipynb\" target=\"_parent\"><img src=\"https://colab.research.google.com/assets/colab-badge.svg\" alt=\"Open In Colab\"/></a>"
      ]
    },
    {
      "cell_type": "markdown",
      "metadata": {
        "id": "H5yVxkSxax7b",
        "colab_type": "text"
      },
      "source": [
        "# Inference\n",
        "\n",
        "Elements of Data Science\n",
        "\n",
        "by [Allen Downey](https://allendowney.com)\n",
        "\n",
        "[MIT License](https://opensource.org/licenses/MIT)\n",
        "\n",
        "### Goals\n",
        "\n",
        "This notebook introduces \"statistical inference\", which is the process of using a sample to make inferences about a population.  This [figure from Wikipedia](https://en.wikipedia.org/wiki/Statistical_inference) illustrates the idea:\n",
        "\n",
        "<img src=\"https://upload.wikimedia.org/wikipedia/commons/b/bf/Simple_random_sampling.PNG\" width=\"400\">\n",
        "\n",
        "On the left, the \"population\" is the group we are interested in.  Sometimes it is a group of people, but in general it can be any kind of group.\n",
        "\n",
        "If we can observe the entire group, we might not need statistical inference.  If not, sometimes we can observe a \"sample\" (or subset) of the population and use those observations to make claims about the population.\n",
        "\n",
        "If you have studied statistics before, you might have encountered some of these ideas before: hypothesis testing, p-values, estimation, standard error, and confidence intervals.\n",
        "\n",
        "In this notebook we'll approach these topics using computation and simulation, as opposed to mathematical analysis.  I hope this approach makes the ideas clearer.\n",
        "\n",
        "If you have not seen these ideas before, don't worry.  That might be even better.\n",
        "\n",
        "We'll look at three examples:\n",
        "\n",
        "* Testing whether a coin is \"fair\".\n",
        "\n",
        "* Testing whether first babies are more like to be born early (or late).\n",
        "\n",
        "* Estimating the average height of men in the U.S., and quantifying the precision of the estimate."
      ]
    },
    {
      "cell_type": "markdown",
      "metadata": {
        "id": "QG8Tfegrax7g",
        "colab_type": "text"
      },
      "source": [
        "## The Euro problem\n",
        "\n",
        "In *Information Theory, Inference, and Learning Algorithms*, David MacKay writes, \"A statistical statement appeared in *The Guardian* on Friday January 4, 2002:\n",
        "\n",
        "> When spun on edge 250 times, a Belgian one-euro coin came\n",
        "up heads 140 times and tails 110. ‘It looks very suspicious\n",
        "to me’, said Barry Blight, a statistics lecturer at the London\n",
        "School of Economics. ‘If the coin were unbiased the chance of\n",
        "getting a result as extreme as that would be less than 7%’.*\n",
        "\n",
        "But do these data give evidence that the coin is biased rather than fair?\"\n",
        "\n",
        "Before we answer MacKay's question, let's unpack what Dr. Blight said:\n",
        "\n",
        "\"If the coin were unbiased the chance of getting a result as extreme as that would be less than 7%\".\n",
        "\n",
        "To see where that comes from, I'll simulate the result of spinning an \"unbiased\" coin, meaning that the probability of heads is 50%.\n",
        "\n",
        "Here's an example with 10 spins:"
      ]
    },
    {
      "cell_type": "code",
      "metadata": {
        "id": "_4cpMaipax7i",
        "colab_type": "code",
        "colab": {
          "base_uri": "https://localhost:8080/",
          "height": 51
        },
        "outputId": "ecfe064a-a12b-4774-d69d-72db90e3bc24"
      },
      "source": [
        "import numpy as np\n",
        "\n",
        "spins = np.random.random(10) < 0.5\n",
        "spins"
      ],
      "execution_count": 1,
      "outputs": [
        {
          "output_type": "execute_result",
          "data": {
            "text/plain": [
              "array([False,  True,  True, False, False, False, False, False,  True,\n",
              "       False])"
            ]
          },
          "metadata": {
            "tags": []
          },
          "execution_count": 1
        }
      ]
    },
    {
      "cell_type": "markdown",
      "metadata": {
        "id": "9BeeqJmjax7n",
        "colab_type": "text"
      },
      "source": [
        "`np.random.random` returns numbers between 0 and 1, uniformly distributed.  So the probability of being less than 0.5 is 50%.  \n",
        "\n",
        "The sum of the array is the number of `True` elements, that is, the number of heads:"
      ]
    },
    {
      "cell_type": "code",
      "metadata": {
        "id": "Z-hqaIGZax7p",
        "colab_type": "code",
        "colab": {
          "base_uri": "https://localhost:8080/",
          "height": 34
        },
        "outputId": "d4d4629a-8289-428e-fe68-0a10ce72e911"
      },
      "source": [
        "np.sum(spins)"
      ],
      "execution_count": 2,
      "outputs": [
        {
          "output_type": "execute_result",
          "data": {
            "text/plain": [
              "3"
            ]
          },
          "metadata": {
            "tags": []
          },
          "execution_count": 2
        }
      ]
    },
    {
      "cell_type": "markdown",
      "metadata": {
        "id": "98TgPChCax7v",
        "colab_type": "text"
      },
      "source": [
        "We can wrap that in a function that simulates `n` spins with probability `p`. "
      ]
    },
    {
      "cell_type": "code",
      "metadata": {
        "id": "xJxWmlrVax7w",
        "colab_type": "code",
        "colab": {}
      },
      "source": [
        "def spin(n, p):\n",
        "    return np.sum(np.random.random(n) < p)"
      ],
      "execution_count": 0,
      "outputs": []
    },
    {
      "cell_type": "markdown",
      "metadata": {
        "id": "eMao2cWHax71",
        "colab_type": "text"
      },
      "source": [
        "Here's an example with the actual sample size (250) and hypothetical probability (50%)."
      ]
    },
    {
      "cell_type": "code",
      "metadata": {
        "id": "hOPs4rMAax73",
        "colab_type": "code",
        "colab": {}
      },
      "source": [
        "heads, tails = 140, 110\n",
        "sample_size = heads + tails"
      ],
      "execution_count": 0,
      "outputs": []
    },
    {
      "cell_type": "code",
      "metadata": {
        "id": "vIcy4AjWax7-",
        "colab_type": "code",
        "colab": {
          "base_uri": "https://localhost:8080/",
          "height": 34
        },
        "outputId": "df41cbe8-b777-4e30-f22c-85b04c75f8d7"
      },
      "source": [
        "hypo_prob = 0.5\n",
        "spin(sample_size, hypo_prob)"
      ],
      "execution_count": 5,
      "outputs": [
        {
          "output_type": "execute_result",
          "data": {
            "text/plain": [
              "142"
            ]
          },
          "metadata": {
            "tags": []
          },
          "execution_count": 5
        }
      ]
    },
    {
      "cell_type": "markdown",
      "metadata": {
        "id": "2qnzjWH8ax8E",
        "colab_type": "text"
      },
      "source": [
        "Since we are generating random numbers, we expect to see different values if we run the experiment more than once.\n",
        "\n",
        "Here's a loop that runs `spin` 10 times."
      ]
    },
    {
      "cell_type": "code",
      "metadata": {
        "id": "1MswygJAax8G",
        "colab_type": "code",
        "colab": {
          "base_uri": "https://localhost:8080/",
          "height": 187
        },
        "outputId": "0ddfe080-81dc-488e-a319-78baa5b669c6"
      },
      "source": [
        "n = 250\n",
        "p = 0.5\n",
        "\n",
        "for i in range(10):\n",
        "    print(spin(n, p))"
      ],
      "execution_count": 6,
      "outputs": [
        {
          "output_type": "stream",
          "text": [
            "127\n",
            "123\n",
            "127\n",
            "135\n",
            "126\n",
            "109\n",
            "114\n",
            "114\n",
            "125\n",
            "127\n"
          ],
          "name": "stdout"
        }
      ]
    },
    {
      "cell_type": "markdown",
      "metadata": {
        "id": "ySoIWdMOax8M",
        "colab_type": "text"
      },
      "source": [
        "As expected, the results vary from one run to the next.\n",
        "\n",
        "Now let's run the simulated experiment 10000 times and store the results in a NumPy array."
      ]
    },
    {
      "cell_type": "code",
      "metadata": {
        "id": "9OmY6e-gax8O",
        "colab_type": "code",
        "colab": {}
      },
      "source": [
        "outcomes = np.empty(1000)\n",
        "\n",
        "for i in range(len(outcomes)):\n",
        "    outcomes[i] = spin(n, p)"
      ],
      "execution_count": 0,
      "outputs": []
    },
    {
      "cell_type": "markdown",
      "metadata": {
        "id": "O2P62Qdxax8V",
        "colab_type": "text"
      },
      "source": [
        "`np.empty` creates an empty array with the given length.  Each time through the loop, we run `spin` and assign the result to an element of `outcomes`.\n",
        "\n",
        "The result is an array of 10000 integers, each representing the number of heads in a simulated experiment.  \n",
        "\n",
        "The mean of `outcomes` is about 125:"
      ]
    },
    {
      "cell_type": "code",
      "metadata": {
        "id": "GkCCDzU0ax8W",
        "colab_type": "code",
        "colab": {
          "base_uri": "https://localhost:8080/",
          "height": 34
        },
        "outputId": "15535057-4546-414a-a489-a9a8053fedeb"
      },
      "source": [
        "np.mean(outcomes)"
      ],
      "execution_count": 8,
      "outputs": [
        {
          "output_type": "execute_result",
          "data": {
            "text/plain": [
              "125.036"
            ]
          },
          "metadata": {
            "tags": []
          },
          "execution_count": 8
        }
      ]
    },
    {
      "cell_type": "markdown",
      "metadata": {
        "id": "w9WjBSzdax8b",
        "colab_type": "text"
      },
      "source": [
        "Which makes sense.  On average, the expected number of heads is the product of the hypothetical probability and the sample size:"
      ]
    },
    {
      "cell_type": "code",
      "metadata": {
        "id": "_36G2tSVax8d",
        "colab_type": "code",
        "colab": {
          "base_uri": "https://localhost:8080/",
          "height": 34
        },
        "outputId": "064c4ecb-e1e2-4739-f169-75e08fcb8058"
      },
      "source": [
        "expected = hypo_prob * sample_size\n",
        "expected"
      ],
      "execution_count": 9,
      "outputs": [
        {
          "output_type": "execute_result",
          "data": {
            "text/plain": [
              "125.0"
            ]
          },
          "metadata": {
            "tags": []
          },
          "execution_count": 9
        }
      ]
    },
    {
      "cell_type": "markdown",
      "metadata": {
        "id": "LCxDTO5Aax8h",
        "colab_type": "text"
      },
      "source": [
        "Now let's see how much the values in `outcomes` differ from the expected value:"
      ]
    },
    {
      "cell_type": "code",
      "metadata": {
        "id": "CFWke32Sax8i",
        "colab_type": "code",
        "colab": {}
      },
      "source": [
        "diffs = outcomes - expected"
      ],
      "execution_count": 0,
      "outputs": []
    },
    {
      "cell_type": "markdown",
      "metadata": {
        "id": "SBmSgE3kax8m",
        "colab_type": "text"
      },
      "source": [
        "`diffs` is an array that contains the deviation of each experiment from the expected value, 125.\n",
        "\n",
        "Here's the mean of the absolute deviations:"
      ]
    },
    {
      "cell_type": "code",
      "metadata": {
        "id": "8oKKAOYyax8n",
        "colab_type": "code",
        "colab": {
          "base_uri": "https://localhost:8080/",
          "height": 34
        },
        "outputId": "44362f5f-f828-4905-c5eb-969119925d16"
      },
      "source": [
        "np.mean(abs(diffs))"
      ],
      "execution_count": 11,
      "outputs": [
        {
          "output_type": "execute_result",
          "data": {
            "text/plain": [
              "6.568"
            ]
          },
          "metadata": {
            "tags": []
          },
          "execution_count": 11
        }
      ]
    },
    {
      "cell_type": "markdown",
      "metadata": {
        "id": "xJLT6SM5ax8r",
        "colab_type": "text"
      },
      "source": [
        "So a typical experiment deviates from the mean by about 6.\n",
        "\n",
        "To see the whole distribution of deviations, we can plot a histogram.\n",
        "The following function uses Matplotlib to plot a histogram and adjust some of the settings."
      ]
    },
    {
      "cell_type": "code",
      "metadata": {
        "id": "akLXNBXeax8u",
        "colab_type": "code",
        "colab": {}
      },
      "source": [
        "import matplotlib.pyplot as plt\n",
        "\n",
        "def plot_hist(values):\n",
        "    xs, ys, patches = plt.hist(values,\n",
        "                               density=True,\n",
        "                               histtype='step',\n",
        "                               linewidth=2,\n",
        "                               alpha=0.5)\n",
        "    \n",
        "    \n",
        "    plt.ylabel('Density')\n",
        "    plt.tight_layout()\n",
        "    return patches[0]"
      ],
      "execution_count": 0,
      "outputs": []
    },
    {
      "cell_type": "markdown",
      "metadata": {
        "id": "CIe8NmR7ax80",
        "colab_type": "text"
      },
      "source": [
        "Here's what the distribution of deviations looks like:"
      ]
    },
    {
      "cell_type": "code",
      "metadata": {
        "id": "RmQu7bbRax82",
        "colab_type": "code",
        "colab": {
          "base_uri": "https://localhost:8080/",
          "height": 327
        },
        "outputId": "77c9175e-2bdd-4b4d-bdb3-d35ee74569e0"
      },
      "source": [
        "plot_hist(diffs)\n",
        "\n",
        "plt.title('Sampling distribution (n=250)')\n",
        "plt.xlabel('Deviation from expected number of heads');"
      ],
      "execution_count": 13,
      "outputs": [
        {
          "output_type": "display_data",
          "data": {
            "image/png": "[encoded data removed]",
            "text/plain": [
              "<Figure size 432x288 with 1 Axes>"
            ]
          },
          "metadata": {
            "tags": []
          }
        }
      ]
    },
    {
      "cell_type": "markdown",
      "metadata": {
        "id": "XTAXCqVjax86",
        "colab_type": "text"
      },
      "source": [
        "This is the \"sampling distribution\" of deviations.  It shows how much variation we should expect between experiments with this sample size (n = 250)."
      ]
    },
    {
      "cell_type": "markdown",
      "metadata": {
        "id": "LjVLKDrSax88",
        "colab_type": "text"
      },
      "source": [
        "## P-values\n",
        "\n",
        "Getting get back to the Euro example, Dr. Bright reported:\n",
        "\n",
        "\"If the coin were unbiased the chance of getting a result as extreme as that would be less than 7%\".\n",
        "\n",
        "The article doesn't say so explicitly, but this is a \"p-value\".  To understand what that means, let's count how many times, in 10000 attempts, the outcome is \"as extreme as\" the observed outcome, 140 heads.\n",
        "\n",
        "The observed deviation is the difference between the observed and expected number of heads:"
      ]
    },
    {
      "cell_type": "code",
      "metadata": {
        "id": "uKw96f8Tax8-",
        "colab_type": "code",
        "colab": {
          "base_uri": "https://localhost:8080/",
          "height": 34
        },
        "outputId": "a5501230-0e77-40bd-ac39-77d587a08ebe"
      },
      "source": [
        "observed_diff = heads - expected\n",
        "observed_diff"
      ],
      "execution_count": 14,
      "outputs": [
        {
          "output_type": "execute_result",
          "data": {
            "text/plain": [
              "15.0"
            ]
          },
          "metadata": {
            "tags": []
          },
          "execution_count": 14
        }
      ]
    },
    {
      "cell_type": "markdown",
      "metadata": {
        "id": "7BO5EH83ax9G",
        "colab_type": "text"
      },
      "source": [
        "Let's see how many times the simulated `diffs` exceed the observed deviation:"
      ]
    },
    {
      "cell_type": "code",
      "metadata": {
        "id": "ammCyHKsax9H",
        "colab_type": "code",
        "colab": {
          "base_uri": "https://localhost:8080/",
          "height": 34
        },
        "outputId": "a0a322d9-0074-4b82-895f-7a46b5f201f3"
      },
      "source": [
        "np.mean(diffs >= observed_diff)"
      ],
      "execution_count": 15,
      "outputs": [
        {
          "output_type": "execute_result",
          "data": {
            "text/plain": [
              "0.042"
            ]
          },
          "metadata": {
            "tags": []
          },
          "execution_count": 15
        }
      ]
    },
    {
      "cell_type": "markdown",
      "metadata": {
        "id": "mRpwWdrnax9P",
        "colab_type": "text"
      },
      "source": [
        "It's around 3%.  But Dr. Blight said 7%.  Where did that come from?\n",
        "\n",
        "So far, we only counted the cases where the outcome is *more* heads than expected.  We might also want to count the cases where the outcome is *fewer* than expected.\n",
        "\n",
        "Here's the probability of falling below the expected number by 15 or more."
      ]
    },
    {
      "cell_type": "code",
      "metadata": {
        "id": "_pvWVSNFax9U",
        "colab_type": "code",
        "colab": {
          "base_uri": "https://localhost:8080/",
          "height": 34
        },
        "outputId": "36ff6809-823d-4043-dd11-6da85706669c"
      },
      "source": [
        "np.mean(diffs <= -observed_diff)"
      ],
      "execution_count": 16,
      "outputs": [
        {
          "output_type": "execute_result",
          "data": {
            "text/plain": [
              "0.042"
            ]
          },
          "metadata": {
            "tags": []
          },
          "execution_count": 16
        }
      ]
    },
    {
      "cell_type": "markdown",
      "metadata": {
        "id": "uMOSwHh1ax9Y",
        "colab_type": "text"
      },
      "source": [
        "To get the total probability of a result \"as extreme as that\", we can use the absolute value of the simulated differences:"
      ]
    },
    {
      "cell_type": "code",
      "metadata": {
        "id": "6C6ei1OZax9c",
        "colab_type": "code",
        "colab": {
          "base_uri": "https://localhost:8080/",
          "height": 34
        },
        "outputId": "bda6384e-8d0d-4294-b427-58feefdd96d8"
      },
      "source": [
        "np.mean(abs(diffs) >= observed_diff)"
      ],
      "execution_count": 17,
      "outputs": [
        {
          "output_type": "execute_result",
          "data": {
            "text/plain": [
              "0.084"
            ]
          },
          "metadata": {
            "tags": []
          },
          "execution_count": 17
        }
      ]
    },
    {
      "cell_type": "markdown",
      "metadata": {
        "id": "sWjxBfFQax9j",
        "colab_type": "text"
      },
      "source": [
        "So that's consistent with what Dr. Blight reported.\n",
        "\n",
        "To show what that looks like graphically, I'll use the following function, which fills in the histogram between `low` and `high`."
      ]
    },
    {
      "cell_type": "code",
      "metadata": {
        "id": "jwI8YIjRax9l",
        "colab_type": "code",
        "colab": {}
      },
      "source": [
        "def fill_hist(low, high, patch):\n",
        "    fill = plt.axvspan(low, high, \n",
        "                       clip_path=patch,\n",
        "                       alpha=0.5, \n",
        "                       color='C0')"
      ],
      "execution_count": 0,
      "outputs": []
    },
    {
      "cell_type": "markdown",
      "metadata": {
        "id": "4Wl3w1jyax9o",
        "colab_type": "text"
      },
      "source": [
        "The following plot shows the sampling distribution of `diffs` with two regions shaded.  These regions represent the probability that an unbiased coin yields a deviation from the expected as extreme as 15."
      ]
    },
    {
      "cell_type": "code",
      "metadata": {
        "id": "UOckwIWJax9p",
        "colab_type": "code",
        "colab": {
          "base_uri": "https://localhost:8080/",
          "height": 327
        },
        "outputId": "dd593f7b-63b3-4946-9ad2-f4b92650913f"
      },
      "source": [
        "patch = plot_hist(diffs)\n",
        "\n",
        "# fill the right tail of the hist\n",
        "low = observed_diff\n",
        "high = diffs.max()\n",
        "fill_hist(low, high, patch)\n",
        "\n",
        "# fill the left tail of the hist\n",
        "low = diffs.min()\n",
        "high = -observed_diff\n",
        "fill_hist(low, high, patch)\n",
        "\n",
        "plt.title('Sampling distribution (n=250)')\n",
        "plt.xlabel('Deviation from expected number of heads')\n",
        "plt.ylabel('Density');"
      ],
      "execution_count": 19,
      "outputs": [
        {
          "output_type": "display_data",
          "data": {
            "image/png": "[encoded data removed]",
            "text/plain": [
              "<Figure size 432x288 with 1 Axes>"
            ]
          },
          "metadata": {
            "tags": []
          }
        }
      ]
    },
    {
      "cell_type": "markdown",
      "metadata": {
        "id": "RQISUd24ax9t",
        "colab_type": "text"
      },
      "source": [
        "These results show that there is a non-negligible chance of getting a result as extreme as 140 heads, even if the coin is actually fair.\n",
        "\n",
        "So even if the results are \"suspicious\" they don't provide compelling evidence that the coin is biased."
      ]
    },
    {
      "cell_type": "markdown",
      "metadata": {
        "id": "wpAvzmjvax9v",
        "colab_type": "text"
      },
      "source": [
        "**Exercise:** There are a few ways to make \"crooked\" dice, that is, dice that are more likely to land on one side than the others.  Suppose you run a casino and you suspect that a patron is using a die that comes up 3 more often than it should.  \n",
        "\n",
        "You confiscate the die, roll it 300 times, and 63 times it comes up 3.  Does that support your suspicions?\n",
        "\n",
        "- To answer this question, use `spin` to simulate the experiment, assuming that the die is fair.\n",
        "\n",
        "- Use a for loop to run `spin` 1000 times and store the results in a NumPy array.\n",
        "\n",
        "- What is the mean of the results from the simulated experiments?\n",
        "\n",
        "- What is the expected number of 3s if the die is fair?\n",
        "\n",
        "- Use `plot_hist` to plot the results.  The histogram you plot approximates the sampling distribution."
      ]
    },
    {
      "cell_type": "code",
      "metadata": {
        "id": "OaHisGoKax9y",
        "colab_type": "code",
        "colab": {}
      },
      "source": [
        "n = 300\n",
        "p = 1/6\n",
        "\n",
        "outcomes = np.empty(1000)\n",
        "for i in range(len(outcomes)):\n",
        "    outcomes[i] = spin(n, p)"
      ],
      "execution_count": 0,
      "outputs": []
    },
    {
      "cell_type": "code",
      "metadata": {
        "id": "g65rZUTPax94",
        "colab_type": "code",
        "colab": {
          "base_uri": "https://localhost:8080/",
          "height": 34
        },
        "outputId": "17cf0a0c-d133-49f2-90a1-6fd07dd6ae84"
      },
      "source": [
        "np.mean(outcomes)"
      ],
      "execution_count": 21,
      "outputs": [
        {
          "output_type": "execute_result",
          "data": {
            "text/plain": [
              "49.847"
            ]
          },
          "metadata": {
            "tags": []
          },
          "execution_count": 21
        }
      ]
    },
    {
      "cell_type": "code",
      "metadata": {
        "id": "sOfb2farax98",
        "colab_type": "code",
        "colab": {
          "base_uri": "https://localhost:8080/",
          "height": 34
        },
        "outputId": "2264727d-fcd0-4c98-ef3f-d602a4902971"
      },
      "source": [
        "expected = n * p\n",
        "expected"
      ],
      "execution_count": 22,
      "outputs": [
        {
          "output_type": "execute_result",
          "data": {
            "text/plain": [
              "50.0"
            ]
          },
          "metadata": {
            "tags": []
          },
          "execution_count": 22
        }
      ]
    },
    {
      "cell_type": "code",
      "metadata": {
        "id": "2HaAgxudax-D",
        "colab_type": "code",
        "colab": {}
      },
      "source": [
        "diffs = outcomes - expected"
      ],
      "execution_count": 0,
      "outputs": []
    },
    {
      "cell_type": "code",
      "metadata": {
        "scrolled": true,
        "id": "ZS_2DjK3ax-K",
        "colab_type": "code",
        "colab": {
          "base_uri": "https://localhost:8080/",
          "height": 327
        },
        "outputId": "1dc8b546-d167-4199-a1b8-6eaab7a8eeb3"
      },
      "source": [
        "plot_hist(diffs)\n",
        "\n",
        "plt.title('Sampling distribution (n=100, p=1/6)')\n",
        "plt.xlabel('Deviation from expected number of 3s')\n",
        "plt.ylabel('Density');"
      ],
      "execution_count": 24,
      "outputs": [
        {
          "output_type": "display_data",
          "data": {
            "image/png": "[encoded data removed]",
            "text/plain": [
              "<Figure size 432x288 with 1 Axes>"
            ]
          },
          "metadata": {
            "tags": []
          }
        }
      ]
    },
    {
      "cell_type": "markdown",
      "metadata": {
        "id": "qZm1yx1Oax-O",
        "colab_type": "text"
      },
      "source": [
        "**Exercise:** Continuing the previous exercise, compute the probability of seeing a deviation from the expected value that is \"as extreme\" as the observed difference.\n",
        "\n",
        "For this context, what do you think is the best definition of \"as extreme\"?\n",
        "\n",
        "Plot the histogram of the random deviations again, and use `fill_hist` to fill the region of the histogram that corresponds to the p-value you computed. "
      ]
    },
    {
      "cell_type": "code",
      "metadata": {
        "id": "mws_uOfaax-P",
        "colab_type": "code",
        "colab": {
          "base_uri": "https://localhost:8080/",
          "height": 34
        },
        "outputId": "367bcf66-67c1-4235-c101-b38c48c01b00"
      },
      "source": [
        "observed_diff = 63 - expected\n",
        "observed_diff"
      ],
      "execution_count": 25,
      "outputs": [
        {
          "output_type": "execute_result",
          "data": {
            "text/plain": [
              "13.0"
            ]
          },
          "metadata": {
            "tags": []
          },
          "execution_count": 25
        }
      ]
    },
    {
      "cell_type": "code",
      "metadata": {
        "id": "1tRza59dax-Y",
        "colab_type": "code",
        "colab": {
          "base_uri": "https://localhost:8080/",
          "height": 34
        },
        "outputId": "25fa3114-3464-44b9-cb32-4ab6678365c8"
      },
      "source": [
        "# Since we started with the suspicion that the die comes up 3\n",
        "# more often than it should, it might make sense to check how\n",
        "# often the random deviation EXCEEDS the observed difference;\n",
        "# we are less interested in how often it is too low.\n",
        "\n",
        "p_value = np.mean(diffs > observed_diff)\n",
        "p_value"
      ],
      "execution_count": 26,
      "outputs": [
        {
          "output_type": "execute_result",
          "data": {
            "text/plain": [
              "0.02"
            ]
          },
          "metadata": {
            "tags": []
          },
          "execution_count": 26
        }
      ]
    },
    {
      "cell_type": "code",
      "metadata": {
        "id": "lKLaje2eax-b",
        "colab_type": "code",
        "colab": {
          "base_uri": "https://localhost:8080/",
          "height": 327
        },
        "outputId": "16bd8c8c-a104-4bf2-89ac-b0563d21cc30"
      },
      "source": [
        "patch = plot_hist(diffs)\n",
        "\n",
        "# fill the right tail of the hist\n",
        "low = observed_diff\n",
        "high = diffs.max()\n",
        "fill_hist(low, high, patch)\n",
        "\n",
        "\n",
        "plt.title('Sampling distribution (n=100, p=1/6)')\n",
        "plt.xlabel('Deviation from expected number of 3s')\n",
        "plt.ylabel('Density');"
      ],
      "execution_count": 27,
      "outputs": [
        {
          "output_type": "display_data",
          "data": {
            "image/png": "[encoded data removed]",
            "text/plain": [
              "<Figure size 432x288 with 1 Axes>"
            ]
          },
          "metadata": {
            "tags": []
          }
        }
      ]
    },
    {
      "cell_type": "markdown",
      "metadata": {
        "id": "8-a59QZvax-d",
        "colab_type": "text"
      },
      "source": [
        "## Are first babies more likely to be late?\n",
        "\n",
        "The examples so far have been based on coins and dice, which are relatively simple.  In this section we'll look at an example that's based on real-world data.\n",
        "\n",
        "Here's the motivation for it: When my wife and I were expecting our first baby, we heard that first babies are more likely to be late.  We also hear that first babies are more likely to be early.  Neither claim was supported by evidence.\n",
        "\n",
        "Fortunately, I am a data scientist!  Also fortunately, the CDC runs the National Survey of Family Growth (NSFG), which \"gathers information on family life, marriage and divorce, pregnancy, infertility, use of contraception, and men’s and women’s health.\"\n",
        "\n",
        "I got the data from their web page, https://www.cdc.gov/nchs/nsfg/index.htm, and wrote some code to get it into a Pandas Dataframe:"
      ]
    },
    {
      "cell_type": "code",
      "metadata": {
        "id": "BkE1RDfXax-e",
        "colab_type": "code",
        "colab": {
          "base_uri": "https://localhost:8080/",
          "height": 289
        },
        "outputId": "212cacdf-7d94-4b40-8710-2cb5ca006849"
      },
      "source": [
        "import os\n",
        "\n",
        "if not os.path.exists('nsfg.hdf5'):\n",
        "    !wget https://github.com/AllenDowney/ElementsOfDataScience/raw/master/nsfg.hdf5"
      ],
      "execution_count": 28,
      "outputs": [
        {
          "output_type": "stream",
          "text": [
            "--2020-01-31 18:48:42--  https://github.com/AllenDowney/ElementsOfDataScience/raw/master/nsfg.hdf5\n",
            "Resolving github.com (github.com)... 140.82.113.3\n",
            "Connecting to github.com (github.com)|140.82.113.3|:443... connected.\n",
            "HTTP request sent, awaiting response... 302 Found\n",
            "Location: https://raw.githubusercontent.com/AllenDowney/ElementsOfDataScience/master/nsfg.hdf5 [following]\n",
            "--2020-01-31 18:48:42--  https://raw.githubusercontent.com/AllenDowney/ElementsOfDataScience/master/nsfg.hdf5\n",
            "Resolving raw.githubusercontent.com (raw.githubusercontent.com)... 151.101.0.133, 151.101.64.133, 151.101.128.133, ...\n",
            "Connecting to raw.githubusercontent.com (raw.githubusercontent.com)|151.101.0.133|:443... connected.\n",
            "HTTP request sent, awaiting response... 200 OK\n",
            "Length: 909832 (889K) [application/octet-stream]\n",
            "Saving to: ‘nsfg.hdf5’\n",
            "\n",
            "\rnsfg.hdf5             0%[                    ]       0  --.-KB/s               \rnsfg.hdf5           100%[===================>] 888.51K  --.-KB/s    in 0.07s   \n",
            "\n",
            "2020-01-31 18:48:43 (11.9 MB/s) - ‘nsfg.hdf5’ saved [909832/909832]\n",
            "\n"
          ],
          "name": "stdout"
        }
      ]
    },
    {
      "cell_type": "code",
      "metadata": {
        "id": "QYpyEz0Gax-j",
        "colab_type": "code",
        "colab": {
          "base_uri": "https://localhost:8080/",
          "height": 34
        },
        "outputId": "c408cfbd-1ad7-4459-cf69-37430237491e"
      },
      "source": [
        "import pandas as pd\n",
        "\n",
        "nsfg = pd.read_hdf('nsfg.hdf5')\n",
        "nsfg.shape"
      ],
      "execution_count": 29,
      "outputs": [
        {
          "output_type": "execute_result",
          "data": {
            "text/plain": [
              "(9358, 11)"
            ]
          },
          "metadata": {
            "tags": []
          },
          "execution_count": 29
        }
      ]
    },
    {
      "cell_type": "markdown",
      "metadata": {
        "id": "bz-44qMpax-o",
        "colab_type": "text"
      },
      "source": [
        "The `nsfg` DataFrame contains 9358 rows, one for each recorded pregnancy, and 11 columns, one of each of the variables I selected.\n",
        "\n",
        "Here are the first few lines."
      ]
    },
    {
      "cell_type": "code",
      "metadata": {
        "id": "iain1GNqax-p",
        "colab_type": "code",
        "colab": {
          "base_uri": "https://localhost:8080/",
          "height": 204
        },
        "outputId": "5c68df88-9fcc-433f-869c-2aa7dae777d1"
      },
      "source": [
        "nsfg.head()"
      ],
      "execution_count": 30,
      "outputs": [
        {
          "output_type": "execute_result",
          "data": {
            "text/html": [
              "<div>\n",
              "<style scoped>\n",
              "    .dataframe tbody tr th:only-of-type {\n",
              "        vertical-align: middle;\n",
              "    }\n",
              "\n",
              "    .dataframe tbody tr th {\n",
              "        vertical-align: top;\n",
              "    }\n",
              "\n",
              "    .dataframe thead th {\n",
              "        text-align: right;\n",
              "    }\n",
              "</style>\n",
              "<table border=\"1\" class=\"dataframe\">\n",
              "  <thead>\n",
              "    <tr style=\"text-align: right;\">\n",
              "      <th></th>\n",
              "      <th>caseid</th>\n",
              "      <th>outcome</th>\n",
              "      <th>birthwgt_lb1</th>\n",
              "      <th>birthwgt_oz1</th>\n",
              "      <th>prglngth</th>\n",
              "      <th>nbrnaliv</th>\n",
              "      <th>agecon</th>\n",
              "      <th>agepreg</th>\n",
              "      <th>birthord</th>\n",
              "      <th>hpagelb</th>\n",
              "      <th>wgt2013_2015</th>\n",
              "    </tr>\n",
              "  </thead>\n",
              "  <tbody>\n",
              "    <tr>\n",
              "      <th>0</th>\n",
              "      <td>60418</td>\n",
              "      <td>1</td>\n",
              "      <td>5.0</td>\n",
              "      <td>4.0</td>\n",
              "      <td>40</td>\n",
              "      <td>1.0</td>\n",
              "      <td>2000</td>\n",
              "      <td>2075.0</td>\n",
              "      <td>1.0</td>\n",
              "      <td>22.0</td>\n",
              "      <td>3554.964843</td>\n",
              "    </tr>\n",
              "    <tr>\n",
              "      <th>1</th>\n",
              "      <td>60418</td>\n",
              "      <td>1</td>\n",
              "      <td>4.0</td>\n",
              "      <td>12.0</td>\n",
              "      <td>36</td>\n",
              "      <td>1.0</td>\n",
              "      <td>2291</td>\n",
              "      <td>2358.0</td>\n",
              "      <td>2.0</td>\n",
              "      <td>25.0</td>\n",
              "      <td>3554.964843</td>\n",
              "    </tr>\n",
              "    <tr>\n",
              "      <th>2</th>\n",
              "      <td>60418</td>\n",
              "      <td>1</td>\n",
              "      <td>5.0</td>\n",
              "      <td>4.0</td>\n",
              "      <td>36</td>\n",
              "      <td>1.0</td>\n",
              "      <td>3241</td>\n",
              "      <td>3308.0</td>\n",
              "      <td>3.0</td>\n",
              "      <td>52.0</td>\n",
              "      <td>3554.964843</td>\n",
              "    </tr>\n",
              "    <tr>\n",
              "      <th>3</th>\n",
              "      <td>60419</td>\n",
              "      <td>6</td>\n",
              "      <td>NaN</td>\n",
              "      <td>NaN</td>\n",
              "      <td>33</td>\n",
              "      <td>NaN</td>\n",
              "      <td>3650</td>\n",
              "      <td>NaN</td>\n",
              "      <td>NaN</td>\n",
              "      <td>NaN</td>\n",
              "      <td>2484.535358</td>\n",
              "    </tr>\n",
              "    <tr>\n",
              "      <th>4</th>\n",
              "      <td>60420</td>\n",
              "      <td>1</td>\n",
              "      <td>8.0</td>\n",
              "      <td>13.0</td>\n",
              "      <td>41</td>\n",
              "      <td>1.0</td>\n",
              "      <td>2191</td>\n",
              "      <td>2266.0</td>\n",
              "      <td>1.0</td>\n",
              "      <td>24.0</td>\n",
              "      <td>2903.782914</td>\n",
              "    </tr>\n",
              "  </tbody>\n",
              "</table>\n",
              "</div>"
            ],
            "text/plain": [
              "   caseid  outcome  birthwgt_lb1  ...  birthord  hpagelb  wgt2013_2015\n",
              "0   60418        1           5.0  ...       1.0     22.0   3554.964843\n",
              "1   60418        1           4.0  ...       2.0     25.0   3554.964843\n",
              "2   60418        1           5.0  ...       3.0     52.0   3554.964843\n",
              "3   60419        6           NaN  ...       NaN      NaN   2484.535358\n",
              "4   60420        1           8.0  ...       1.0     24.0   2903.782914\n",
              "\n",
              "[5 rows x 11 columns]"
            ]
          },
          "metadata": {
            "tags": []
          },
          "execution_count": 30
        }
      ]
    },
    {
      "cell_type": "markdown",
      "metadata": {
        "id": "OhdZBSFhax-s",
        "colab_type": "text"
      },
      "source": [
        "The variables we need are `birthord`, which indicates birth order, and `prglength`, which is pregnancy length in weeks.\n",
        "\n",
        "I'll make two boolean Series, one for first babies and one for others."
      ]
    },
    {
      "cell_type": "code",
      "metadata": {
        "id": "NnkqZuKmax-t",
        "colab_type": "code",
        "colab": {
          "base_uri": "https://localhost:8080/",
          "height": 34
        },
        "outputId": "b49ad882-15e2-4310-99ec-f0c58ba77567"
      },
      "source": [
        "firsts = (nsfg.birthord == 1)\n",
        "others = (nsfg.birthord > 1)\n",
        "\n",
        "np.sum(firsts), np.sum(others)"
      ],
      "execution_count": 31,
      "outputs": [
        {
          "output_type": "execute_result",
          "data": {
            "text/plain": [
              "(3067, 3422)"
            ]
          },
          "metadata": {
            "tags": []
          },
          "execution_count": 31
        }
      ]
    },
    {
      "cell_type": "markdown",
      "metadata": {
        "id": "VRLF2drbax-v",
        "colab_type": "text"
      },
      "source": [
        "We can use the boolean Series to select pregnancy lengths for the two groups and compute their means:"
      ]
    },
    {
      "cell_type": "code",
      "metadata": {
        "id": "cEzKRllMax-w",
        "colab_type": "code",
        "colab": {
          "base_uri": "https://localhost:8080/",
          "height": 34
        },
        "outputId": "c82262fa-f300-4349-c2a7-9f0f0a91e191"
      },
      "source": [
        "prglngth = nsfg['prglngth']\n",
        "\n",
        "mean_first = prglngth[firsts].mean() \n",
        "mean_other = prglngth[others].mean()\n",
        "\n",
        "mean_first, mean_other"
      ],
      "execution_count": 32,
      "outputs": [
        {
          "output_type": "execute_result",
          "data": {
            "text/plain": [
              "(38.57124225627649, 38.36908240794857)"
            ]
          },
          "metadata": {
            "tags": []
          },
          "execution_count": 32
        }
      ]
    },
    {
      "cell_type": "markdown",
      "metadata": {
        "id": "9lla6apWax-0",
        "colab_type": "text"
      },
      "source": [
        "Here's the difference in means, in weeks."
      ]
    },
    {
      "cell_type": "code",
      "metadata": {
        "scrolled": true,
        "id": "uVhsPL2Eax-3",
        "colab_type": "code",
        "colab": {
          "base_uri": "https://localhost:8080/",
          "height": 34
        },
        "outputId": "cb29c82c-1c3e-4e31-ee05-21706c317782"
      },
      "source": [
        "diff = mean_first - mean_other\n",
        "diff"
      ],
      "execution_count": 33,
      "outputs": [
        {
          "output_type": "execute_result",
          "data": {
            "text/plain": [
              "0.20215984832792344"
            ]
          },
          "metadata": {
            "tags": []
          },
          "execution_count": 33
        }
      ]
    },
    {
      "cell_type": "markdown",
      "metadata": {
        "id": "fjkl3Gowax--",
        "colab_type": "text"
      },
      "source": [
        "Here it is converted to days:"
      ]
    },
    {
      "cell_type": "code",
      "metadata": {
        "scrolled": true,
        "id": "6kXTJa9vax--",
        "colab_type": "code",
        "colab": {
          "base_uri": "https://localhost:8080/",
          "height": 34
        },
        "outputId": "02d8dadc-4de3-463c-8b79-8420b4392ba2"
      },
      "source": [
        "diff * 7"
      ],
      "execution_count": 34,
      "outputs": [
        {
          "output_type": "execute_result",
          "data": {
            "text/plain": [
              "1.415118938295464"
            ]
          },
          "metadata": {
            "tags": []
          },
          "execution_count": 34
        }
      ]
    },
    {
      "cell_type": "markdown",
      "metadata": {
        "id": "VMu0FeGBax_C",
        "colab_type": "text"
      },
      "source": [
        "It looks like first babies are born 1.4 days later than other babies, on average. "
      ]
    },
    {
      "cell_type": "markdown",
      "metadata": {
        "id": "BOkBaLaMax_E",
        "colab_type": "text"
      },
      "source": [
        "## Hypothesis testing\n",
        "\n",
        "The apparent difference between these groups is based on a random sample that is much smaller than the actual population.  So we can't be sure that the difference we see in the sample reflects a real difference in the population.  There are two other possibilities we should keep in mind:\n",
        "\n",
        "*  Systematic errors: The sample might be more likely to include some pregancies, and less likely to include others, in a way that causes an apparent difference in the sample, even if there is no such difference in the population.\n",
        "\n",
        "*  Sampling errors: Even if every pregnancy is equally likely to appear in the sample, it is still possible to see a difference in the sample that is not in the population, just because of random variation.\n",
        "\n",
        "We can never rule out the possibility of systematic errors, but we *can* test whether an apparent effect could be explained by random sampling.\n",
        "\n",
        "Here's how:\n",
        "\n",
        "1. First we choose a \"test statistic\" that measures the size of the effect; the test statistic in this example is the difference in mean pregnancy length.\n",
        "\n",
        "2. Next we define a model of the population under the assumption that there is actually no difference between the groups.  This assumption is called the \"null hypothesis\".\n",
        "\n",
        "3. Then we use the model to compute the distribution of the test statistic under the null hypothesis.\n",
        "\n",
        "We have already done step 1, but to make it easier to repeat, I'll wrap it in a function."
      ]
    },
    {
      "cell_type": "code",
      "metadata": {
        "id": "Gx-zDwIIax_G",
        "colab_type": "code",
        "colab": {}
      },
      "source": [
        "def test_stat(group1, group2):\n",
        "    \"\"\"Difference in means.\n",
        "    \n",
        "    group1: sequence of values\n",
        "    group2: sequence of values\n",
        "    \n",
        "    returns: float difference in means\n",
        "    \"\"\"\n",
        "    diff = np.mean(group1) - np.mean(group2)\n",
        "    return diff"
      ],
      "execution_count": 0,
      "outputs": []
    },
    {
      "cell_type": "markdown",
      "metadata": {
        "id": "jMiYCyNsax_M",
        "colab_type": "text"
      },
      "source": [
        "`test_stat` takes two sequences and computes the difference in their means.\n",
        "\n",
        "Here's how we use it to compute the actual difference in the sample."
      ]
    },
    {
      "cell_type": "code",
      "metadata": {
        "id": "XOU0bqtSax_N",
        "colab_type": "code",
        "colab": {
          "base_uri": "https://localhost:8080/",
          "height": 34
        },
        "outputId": "d174130c-9f4f-45bf-e9f9-a9110798af48"
      },
      "source": [
        "group1 = prglngth[firsts]\n",
        "group2 = prglngth[others]\n",
        "\n",
        "actual_diff = test_stat(group1, group2)\n",
        "actual_diff"
      ],
      "execution_count": 36,
      "outputs": [
        {
          "output_type": "execute_result",
          "data": {
            "text/plain": [
              "0.20215984832792344"
            ]
          },
          "metadata": {
            "tags": []
          },
          "execution_count": 36
        }
      ]
    },
    {
      "cell_type": "markdown",
      "metadata": {
        "id": "zj06SU7xax_U",
        "colab_type": "text"
      },
      "source": [
        "Now we have to define the null hypothesis, which is a model of the world where there is no difference in pregnancy length between first babies and others.\n",
        "\n",
        "One way to do that is to put the two groups together and then divide them up again at random.  That way the distribution of pregnancy lengths is the same for both groups.\n",
        "\n",
        "I'll use `concatenate` to pool the groups. "
      ]
    },
    {
      "cell_type": "code",
      "metadata": {
        "id": "wyIDr5q2ax_V",
        "colab_type": "code",
        "colab": {
          "base_uri": "https://localhost:8080/",
          "height": 34
        },
        "outputId": "b7913240-2ef2-4795-b5ed-c55ef61f4237"
      },
      "source": [
        "len(group1), len(group2)"
      ],
      "execution_count": 37,
      "outputs": [
        {
          "output_type": "execute_result",
          "data": {
            "text/plain": [
              "(3067, 3422)"
            ]
          },
          "metadata": {
            "tags": []
          },
          "execution_count": 37
        }
      ]
    },
    {
      "cell_type": "code",
      "metadata": {
        "id": "zRsPTw3yax_Y",
        "colab_type": "code",
        "colab": {
          "base_uri": "https://localhost:8080/",
          "height": 34
        },
        "outputId": "34cf45be-f645-4e8e-bfc4-603613bb9d73"
      },
      "source": [
        "pool = np.concatenate([group1, group2])\n",
        "pool.shape"
      ],
      "execution_count": 38,
      "outputs": [
        {
          "output_type": "execute_result",
          "data": {
            "text/plain": [
              "(6489,)"
            ]
          },
          "metadata": {
            "tags": []
          },
          "execution_count": 38
        }
      ]
    },
    {
      "cell_type": "markdown",
      "metadata": {
        "id": "mDVLChzGax_c",
        "colab_type": "text"
      },
      "source": [
        "I'll use `shuffle` to reorder them."
      ]
    },
    {
      "cell_type": "code",
      "metadata": {
        "id": "mnqDOf30ax_d",
        "colab_type": "code",
        "colab": {}
      },
      "source": [
        "np.random.shuffle(pool)"
      ],
      "execution_count": 0,
      "outputs": []
    },
    {
      "cell_type": "markdown",
      "metadata": {
        "id": "gS-5Agttax_g",
        "colab_type": "text"
      },
      "source": [
        "Then I'll use `split` to make two simulated groups, the same size as the originals."
      ]
    },
    {
      "cell_type": "code",
      "metadata": {
        "id": "Ph-7tcazax_g",
        "colab_type": "code",
        "colab": {}
      },
      "source": [
        "n = len(group1)\n",
        "sim_group1, sim_group2 = np.split(pool, [n])"
      ],
      "execution_count": 0,
      "outputs": []
    },
    {
      "cell_type": "code",
      "metadata": {
        "id": "xhk4c0fyax_j",
        "colab_type": "code",
        "colab": {
          "base_uri": "https://localhost:8080/",
          "height": 34
        },
        "outputId": "516f3a25-026c-49e7-bb8f-dc62d2525582"
      },
      "source": [
        "len(sim_group1), len(sim_group2)"
      ],
      "execution_count": 41,
      "outputs": [
        {
          "output_type": "execute_result",
          "data": {
            "text/plain": [
              "(3067, 3422)"
            ]
          },
          "metadata": {
            "tags": []
          },
          "execution_count": 41
        }
      ]
    },
    {
      "cell_type": "markdown",
      "metadata": {
        "id": "wXMZqnX7ax_q",
        "colab_type": "text"
      },
      "source": [
        "Now we can compute the test statistic for the simulated data."
      ]
    },
    {
      "cell_type": "code",
      "metadata": {
        "id": "aJ6oUWcxax_q",
        "colab_type": "code",
        "colab": {
          "base_uri": "https://localhost:8080/",
          "height": 34
        },
        "outputId": "b276ec00-592b-4992-86e1-bdc9f1214115"
      },
      "source": [
        "test_stat(sim_group1, sim_group2)"
      ],
      "execution_count": 42,
      "outputs": [
        {
          "output_type": "execute_result",
          "data": {
            "text/plain": [
              "0.0018376842757987788"
            ]
          },
          "metadata": {
            "tags": []
          },
          "execution_count": 42
        }
      ]
    },
    {
      "cell_type": "markdown",
      "metadata": {
        "id": "WF6qn73eax_s",
        "colab_type": "text"
      },
      "source": [
        "In the simulated data, the distribution of pregnancy lengths is the same for both groups, so the difference is usually close to 0.\n",
        "\n",
        "But because it is based on a random shuffle of the groups, we get a different value each time we run it.\n",
        "\n",
        "To see what the whole distribution looks like, we can run the simulation many times and store the results."
      ]
    },
    {
      "cell_type": "code",
      "metadata": {
        "id": "0SAzE_URax_t",
        "colab_type": "code",
        "colab": {}
      },
      "source": [
        "diffs = np.empty(1000)\n",
        "\n",
        "for i in range(len(diffs)):\n",
        "    np.random.shuffle(pool)\n",
        "    sim_group1, sim_group2 = np.split(pool, [n])\n",
        "    diffs[i] = test_stat(sim_group1, sim_group2)"
      ],
      "execution_count": 0,
      "outputs": []
    },
    {
      "cell_type": "markdown",
      "metadata": {
        "id": "Wl9UEHkbax_w",
        "colab_type": "text"
      },
      "source": [
        "The result is the \"sampling distribution of the test statistic under the null hypothesis\".\n",
        "\n",
        "The mean of this distribution should close to zero, because it is based on the assumption that there is actually no difference between the groups."
      ]
    },
    {
      "cell_type": "code",
      "metadata": {
        "id": "dJnbG5sBax_w",
        "colab_type": "code",
        "colab": {
          "base_uri": "https://localhost:8080/",
          "height": 34
        },
        "outputId": "f0fa21c1-1f2f-4e8c-dced-5cb4a12f2b33"
      },
      "source": [
        "np.mean(diffs)"
      ],
      "execution_count": 44,
      "outputs": [
        {
          "output_type": "execute_result",
          "data": {
            "text/plain": [
              "-0.002109404289969078"
            ]
          },
          "metadata": {
            "tags": []
          },
          "execution_count": 44
        }
      ]
    },
    {
      "cell_type": "markdown",
      "metadata": {
        "id": "1TPMPP9Dax_y",
        "colab_type": "text"
      },
      "source": [
        "And here's what the whole distribution looks like."
      ]
    },
    {
      "cell_type": "code",
      "metadata": {
        "id": "IIjkpMzlax_z",
        "colab_type": "code",
        "colab": {
          "base_uri": "https://localhost:8080/",
          "height": 327
        },
        "outputId": "569266df-031a-4847-eeec-c2d3649da26c"
      },
      "source": [
        "plot_hist(diffs)\n",
        "\n",
        "plt.xlabel('Difference in mean (weeks)')\n",
        "plt.title('Distribution of test statistic under null hypothesis');"
      ],
      "execution_count": 45,
      "outputs": [
        {
          "output_type": "display_data",
          "data": {
            "image/png": "[encoded data removed]",
            "text/plain": [
              "<Figure size 432x288 with 1 Axes>"
            ]
          },
          "metadata": {
            "tags": []
          }
        }
      ]
    },
    {
      "cell_type": "markdown",
      "metadata": {
        "id": "J6I6fvhCax_3",
        "colab_type": "text"
      },
      "source": [
        "If there were actually no difference between the groups, we would expect to see a difference as big as 0.15 weeks by chance, at least occasionally.  But a difference as big as 0.2 would be rare.\n",
        "\n",
        "To quantify that surprise, we can estimate the probability that the test statistic, under the null hypothesis, exceeds the observed differences in the means.\n",
        "\n",
        "The result is a \"p-value\"."
      ]
    },
    {
      "cell_type": "code",
      "metadata": {
        "id": "57HJXm-lax_4",
        "colab_type": "code",
        "colab": {
          "base_uri": "https://localhost:8080/",
          "height": 34
        },
        "outputId": "5e1e73f3-2a50-4b50-d6d5-a2d4778ad138"
      },
      "source": [
        "p_value = np.mean(diffs >= actual_diff)\n",
        "p_value"
      ],
      "execution_count": 46,
      "outputs": [
        {
          "output_type": "execute_result",
          "data": {
            "text/plain": [
              "0.0"
            ]
          },
          "metadata": {
            "tags": []
          },
          "execution_count": 46
        }
      ]
    },
    {
      "cell_type": "markdown",
      "metadata": {
        "id": "9_bsiEChax_7",
        "colab_type": "text"
      },
      "source": [
        "In this example the result is 0, which is to say that in 1000 simulations of the null hypothesis, we never saw a difference as big as 0.2."
      ]
    },
    {
      "cell_type": "markdown",
      "metadata": {
        "id": "4cBzr6RBax_7",
        "colab_type": "text"
      },
      "source": [
        "## Interpreting p-values\n",
        "\n",
        "To interpret this result, remember that we started with three possible explanations for the observed difference between the groups:\n",
        "\n",
        "1. The observed difference might be \"real\"; that is, there might be an actual difference in pregnancy length between first babies and others.\n",
        "\n",
        "2. There might be no real difference between the groups, and the observed difference might be because of a systematic error in the sampling process or the data collection process.  For example, maybe reported pregnancy lengths are less accurate for first time mothers.\n",
        "\n",
        "3. There might be no real difference between the groups, and the observed difference might be due to random variation in the sampling process.\n",
        "\n",
        "By computing a p-value, we have established that it would be rare to see a difference as big as 0.2 due to sampling alone.  So we can conclude that the third explanation is unlikely.\n",
        "\n",
        "That makes it more likely that the difference is real, but we still can't rule out the second possibility."
      ]
    },
    {
      "cell_type": "markdown",
      "metadata": {
        "id": "Fefxj5Xyax_8",
        "colab_type": "text"
      },
      "source": [
        "**Exercise:** The test statistic we chose is the difference in means between the two groups.\n",
        "\n",
        "But suppose we would like to know whether first babies are more unpredictable than other babies.  In that case the test statistic we choose might be the standard deviation of pregnancy length, which is one way to quantify unpredictability.\n",
        "\n",
        "As an exercise:\n",
        "\n",
        "1. Write a version of `test_stat` that computes the difference in standard deviation between the groups.\n",
        "\n",
        "2. Write a loop that estimates the distribution of this test statistic under the null hypothesis.\n",
        "\n",
        "3. Compute a p-value."
      ]
    },
    {
      "cell_type": "code",
      "metadata": {
        "id": "mmsnZWF3ax_9",
        "colab_type": "code",
        "colab": {
          "base_uri": "https://localhost:8080/",
          "height": 34
        },
        "outputId": "28c18af6-ebd2-4213-dd82-ba9d5c512b37"
      },
      "source": [
        "# Solution goes here\n",
        "def test_stat2(group1, group2):\n",
        "    \"\"\"Difference in std's.\n",
        "    \n",
        "    group1: sequence of values\n",
        "    group2: sequence of values\n",
        "    \n",
        "    returns: float difference in means\n",
        "    \"\"\"\n",
        "    diff = np.std(group1) - np.std(group2)\n",
        "    return diff\n",
        "\n",
        "actual_std_diff = test_stat2(group1, group2)\n",
        "actual_std_diff"
      ],
      "execution_count": 73,
      "outputs": [
        {
          "output_type": "execute_result",
          "data": {
            "text/plain": [
              "0.17121586668855615"
            ]
          },
          "metadata": {
            "tags": []
          },
          "execution_count": 73
        }
      ]
    },
    {
      "cell_type": "code",
      "metadata": {
        "id": "87iX1uvRax__",
        "colab_type": "code",
        "colab": {}
      },
      "source": [
        "# Solution goes here\n",
        "diffs = np.empty(1000)\n",
        "\n",
        "for i in range(len(diffs)):\n",
        "    np.random.shuffle(pool)\n",
        "    sim_group1, sim_group2 = np.split(pool, [n])\n",
        "    diffs[i] = test_stat2(sim_group1, sim_group2)"
      ],
      "execution_count": 0,
      "outputs": []
    },
    {
      "cell_type": "code",
      "metadata": {
        "id": "JQDP0sgjayAF",
        "colab_type": "code",
        "colab": {
          "base_uri": "https://localhost:8080/",
          "height": 34
        },
        "outputId": "be7aeef2-b1e7-4ad5-8772-74d0a5e105ac"
      },
      "source": [
        "# Solution goes here\n",
        "np.mean(diffs)"
      ],
      "execution_count": 75,
      "outputs": [
        {
          "output_type": "execute_result",
          "data": {
            "text/plain": [
              "0.0012231189246570465"
            ]
          },
          "metadata": {
            "tags": []
          },
          "execution_count": 75
        }
      ]
    },
    {
      "cell_type": "code",
      "metadata": {
        "id": "v3h_WNE7A_f6",
        "colab_type": "code",
        "colab": {}
      },
      "source": [
        "#Mean is close to 0 since assumption is that there is no difference between the two groups."
      ],
      "execution_count": 0,
      "outputs": []
    },
    {
      "cell_type": "code",
      "metadata": {
        "id": "bBaLWuLaayAK",
        "colab_type": "code",
        "colab": {
          "base_uri": "https://localhost:8080/",
          "height": 327
        },
        "outputId": "54505e82-7faa-419b-97f9-1acf6c36272f"
      },
      "source": [
        "# Solution goes here\n",
        "plot_hist(diffs)\n",
        "\n",
        "plt.xlabel('Difference in std (weeks)')\n",
        "plt.title('Distribution of test statistic under null hypothesis');"
      ],
      "execution_count": 77,
      "outputs": [
        {
          "output_type": "display_data",
          "data": {
            "image/png": "[encoded data removed]",
            "text/plain": [
              "<Figure size 432x288 with 1 Axes>"
            ]
          },
          "metadata": {
            "tags": []
          }
        }
      ]
    },
    {
      "cell_type": "code",
      "metadata": {
        "id": "jtqfWsjJayAM",
        "colab_type": "code",
        "colab": {
          "base_uri": "https://localhost:8080/",
          "height": 34
        },
        "outputId": "54ba8e1a-9994-446e-9993-7ec498cc6531"
      },
      "source": [
        "# Solution goes here\n",
        "p_value = np.mean(diffs >= actual_std_diff)\n",
        "p_value"
      ],
      "execution_count": 79,
      "outputs": [
        {
          "output_type": "execute_result",
          "data": {
            "text/plain": [
              "0.068"
            ]
          },
          "metadata": {
            "tags": []
          },
          "execution_count": 79
        }
      ]
    },
    {
      "cell_type": "code",
      "metadata": {
        "id": "NyPQpO0jayAO",
        "colab_type": "code",
        "colab": {}
      },
      "source": [
        "# The value is close to 0.\n",
        "# What this means is that in 1000 simulations of the null hypothesis, we saw 0.068 times a difference as big as 0.2.\n",
        "# This means that is very likely that first babies are not more unpredictable than subsequent babies."
      ],
      "execution_count": 0,
      "outputs": []
    },
    {
      "cell_type": "markdown",
      "metadata": {
        "id": "ZWFqQ857ayAR",
        "colab_type": "text"
      },
      "source": [
        "## Estimation\n",
        "\n",
        "Suppose we want to estimate the average height of men in the U.S.\n",
        "\n",
        "We can use data from the [BRFSS](https://www.cdc.gov/brfss/index.html):\n",
        "\n",
        "\"The Behavioral Risk Factor Surveillance System (BRFSS) is the nation's premier system of health-related telephone surveys that collect state data about U.S. residents regarding their health-related risk behaviors, chronic health conditions, and use of preventive services.\""
      ]
    },
    {
      "cell_type": "code",
      "metadata": {
        "id": "uSnxIcLSayAR",
        "colab_type": "code",
        "colab": {}
      },
      "source": [
        "# Get the data file\n",
        "\n",
        "import os\n",
        "\n",
        "if not os.path.exists('brfss.hdf5'):\n",
        "    !wget https://github.com/AllenDowney/ElementsOfDataScience/raw/master/brfss.hdf5"
      ],
      "execution_count": 0,
      "outputs": []
    },
    {
      "cell_type": "code",
      "metadata": {
        "id": "j1rT0rVDayAX",
        "colab_type": "code",
        "colab": {
          "base_uri": "https://localhost:8080/",
          "height": 34
        },
        "outputId": "9fd22ab1-b347-4ccf-ac68-4f0feb2cfb75"
      },
      "source": [
        "import pandas as pd\n",
        "\n",
        "brfss = pd.read_hdf('brfss.hdf5', 'brfss')\n",
        "brfss.shape"
      ],
      "execution_count": 84,
      "outputs": [
        {
          "output_type": "execute_result",
          "data": {
            "text/plain": [
              "(100000, 9)"
            ]
          },
          "metadata": {
            "tags": []
          },
          "execution_count": 84
        }
      ]
    },
    {
      "cell_type": "code",
      "metadata": {
        "id": "Ibq8AIU4JfzF",
        "colab_type": "code",
        "colab": {
          "base_uri": "https://localhost:8080/",
          "height": 68
        },
        "outputId": "f06c4883-87b3-47db-9294-2d7986a1a15e"
      },
      "source": [
        "brfss['SEX'].value_counts()"
      ],
      "execution_count": 93,
      "outputs": [
        {
          "output_type": "execute_result",
          "data": {
            "text/plain": [
              "2.0    51349\n",
              "1.0    48589\n",
              "Name: SEX, dtype: int64"
            ]
          },
          "metadata": {
            "tags": []
          },
          "execution_count": 93
        }
      ]
    },
    {
      "cell_type": "markdown",
      "metadata": {
        "id": "bUGKXfkGayAd",
        "colab_type": "text"
      },
      "source": [
        "We can use `SEX` to select male respondents."
      ]
    },
    {
      "cell_type": "code",
      "metadata": {
        "id": "C2JDDRqNayAe",
        "colab_type": "code",
        "colab": {
          "base_uri": "https://localhost:8080/",
          "height": 34
        },
        "outputId": "54f1702f-dd83-4375-94b8-382aa4385766"
      },
      "source": [
        "male = (brfss.SEX == 1)\n",
        "np.mean(male) "
      ],
      "execution_count": 85,
      "outputs": [
        {
          "output_type": "execute_result",
          "data": {
            "text/plain": [
              "0.48589"
            ]
          },
          "metadata": {
            "tags": []
          },
          "execution_count": 85
        }
      ]
    },
    {
      "cell_type": "markdown",
      "metadata": {
        "id": "p9kXzX1FayAg",
        "colab_type": "text"
      },
      "source": [
        "Then we select height data."
      ]
    },
    {
      "cell_type": "code",
      "metadata": {
        "id": "N2BzHjg5ayAh",
        "colab_type": "code",
        "colab": {}
      },
      "source": [
        "heights = brfss['HTM4']\n",
        "data = heights[male]"
      ],
      "execution_count": 0,
      "outputs": []
    },
    {
      "cell_type": "markdown",
      "metadata": {
        "id": "2OXWwsGjayAi",
        "colab_type": "text"
      },
      "source": [
        "We can use `isnan` to check for NaN values:"
      ]
    },
    {
      "cell_type": "code",
      "metadata": {
        "id": "fF7PmNI0ayAj",
        "colab_type": "code",
        "colab": {
          "base_uri": "https://localhost:8080/",
          "height": 34
        },
        "outputId": "d88baae3-e12f-436d-dddf-bbb759212ea6"
      },
      "source": [
        "np.mean(np.isnan(data)) * 100"
      ],
      "execution_count": 95,
      "outputs": [
        {
          "output_type": "execute_result",
          "data": {
            "text/plain": [
              "4.338430508962934"
            ]
          },
          "metadata": {
            "tags": []
          },
          "execution_count": 95
        }
      ]
    },
    {
      "cell_type": "markdown",
      "metadata": {
        "id": "VckbIosqayAp",
        "colab_type": "text"
      },
      "source": [
        "About 4% of the values are missing.\n",
        "\n",
        "Here are the mean and standard deviation, ignoring missing data."
      ]
    },
    {
      "cell_type": "code",
      "metadata": {
        "id": "TOFLIYAAayAq",
        "colab_type": "code",
        "colab": {
          "base_uri": "https://localhost:8080/",
          "height": 51
        },
        "outputId": "3c9b00b0-49d4-4600-cdc8-3535e4593c41"
      },
      "source": [
        "print('Mean male height in cm =', np.nanmean(data))\n",
        "print('Std male height in cm =', np.nanstd(data))"
      ],
      "execution_count": 97,
      "outputs": [
        {
          "output_type": "stream",
          "text": [
            "Mean male height in cm = 177.53804780447925\n",
            "Std male height in cm = 8.350063691943435\n"
          ],
          "name": "stdout"
        }
      ]
    },
    {
      "cell_type": "markdown",
      "metadata": {
        "id": "dgBddj1HayAt",
        "colab_type": "text"
      },
      "source": [
        "## Quantifying precision\n",
        "\n",
        "At this point we have an estimate of the average adult male height.  We'd like to know how accurate this estimate is, and how precise.  In the context of estimation, these words have a [technical distinction](https://en.wikipedia.org/wiki/Accuracy_and_precision):\n",
        "\n",
        ">Given a set of data points from repeated measurements of the same quantity, the set can be said to be precise if the values are close to each other, while the set can be said to be accurate if their average is close to the true value of the quantity being measured.\n",
        "\n",
        "Usually accuracy is what we really care about, but it's hard to measure accuracy unless you know the true value.  And if you know the true value, you don't have to estimate it.\n",
        "\n",
        "Quantifying precision is not as useful, but it is much easier.  Here's one way to do it:\n",
        "\n",
        "1.  Use the data you have to make a model of the population.\n",
        "\n",
        "2.  Use the model to simulate the data collection process.\n",
        "\n",
        "3.  Use the simulated data to compute an estimate.\n",
        "\n",
        "By repeating these steps, we can quantify the variability of the estimate due to random sampling."
      ]
    },
    {
      "cell_type": "markdown",
      "metadata": {
        "id": "uge0oZowayAt",
        "colab_type": "text"
      },
      "source": [
        "To model the population, I'll use **resampling**; that is, I will treat the observed measurements as if they were taken from the entire population, and I will draw random samples from them.\n",
        "\n",
        "We can use `np.random.choice` to resample the data:"
      ]
    },
    {
      "cell_type": "code",
      "metadata": {
        "id": "BuaBWhyLayAu",
        "colab_type": "code",
        "colab": {
          "base_uri": "https://localhost:8080/",
          "height": 0
        },
        "outputId": "2bb4b6a3-963b-48e7-f702-4b704b362f63"
      },
      "source": [
        "size = len(data)\n",
        "sim_data = np.random.choice(data, size, replace=True)\n",
        "sim_data.shape"
      ],
      "execution_count": 59,
      "outputs": [
        {
          "output_type": "execute_result",
          "data": {
            "text/plain": [
              "(48589,)"
            ]
          },
          "metadata": {
            "tags": []
          },
          "execution_count": 59
        }
      ]
    },
    {
      "cell_type": "markdown",
      "metadata": {
        "id": "d5ibkFgdayAw",
        "colab_type": "text"
      },
      "source": [
        "With `replace=True`, we sample with replacement, which means that some measurements might be chosen more than once, and some might not be chosen at all.\n",
        "\n",
        "(If we sample *without* replacement, the resampled data is always identical to the original, so that's no good.)"
      ]
    },
    {
      "cell_type": "markdown",
      "metadata": {
        "id": "X0gBgG-TayAw",
        "colab_type": "text"
      },
      "source": [
        "Now we can use `nanmean` to compute the mean of the simulated data, ignoring missing values."
      ]
    },
    {
      "cell_type": "code",
      "metadata": {
        "id": "-8ECBNaWayAx",
        "colab_type": "code",
        "colab": {
          "base_uri": "https://localhost:8080/",
          "height": 0
        },
        "outputId": "5cf831f6-3908-4a4d-9908-e5ae5eb1b054"
      },
      "source": [
        "np.nanmean(sim_data)"
      ],
      "execution_count": 60,
      "outputs": [
        {
          "output_type": "execute_result",
          "data": {
            "text/plain": [
              "177.580957712514"
            ]
          },
          "metadata": {
            "tags": []
          },
          "execution_count": 60
        }
      ]
    },
    {
      "cell_type": "markdown",
      "metadata": {
        "id": "Zc6mJz9jayAy",
        "colab_type": "text"
      },
      "source": [
        "If we repeat this process 1000 times, we can see how much the results vary."
      ]
    },
    {
      "cell_type": "code",
      "metadata": {
        "id": "e9Vurd1sayAz",
        "colab_type": "code",
        "colab": {}
      },
      "source": [
        "outcomes = np.empty(1000)\n",
        "size = len(data)\n",
        "\n",
        "for i in range(len(outcomes)):\n",
        "    sim_data = np.random.choice(data, size, replace=True)\n",
        "    outcomes[i] = np.nanmean(sim_data)"
      ],
      "execution_count": 0,
      "outputs": []
    },
    {
      "cell_type": "markdown",
      "metadata": {
        "id": "3EpD1VMQayA1",
        "colab_type": "text"
      },
      "source": [
        "The result is the \"sampling distribution\", which shows how much the results of the experiment would vary if we ran it many times.  Here's what it looks like:"
      ]
    },
    {
      "cell_type": "code",
      "metadata": {
        "id": "al8tCMhwayA5",
        "colab_type": "code",
        "colab": {
          "base_uri": "https://localhost:8080/",
          "height": 0
        },
        "outputId": "3e90e77e-103a-47b3-fc18-2afb53542e8f"
      },
      "source": [
        "plot_hist(outcomes)\n",
        "plt.title('Sampling distribution of the mean')\n",
        "plt.xlabel('Mean adult male height, U.S.');"
      ],
      "execution_count": 62,
      "outputs": [
        {
          "output_type": "display_data",
          "data": {
            "image/png": "[encoded data removed]",
            "text/plain": [
              "<Figure size 432x288 with 1 Axes>"
            ]
          },
          "metadata": {
            "tags": []
          }
        }
      ]
    },
    {
      "cell_type": "markdown",
      "metadata": {
        "id": "F_RGrYo4ayA9",
        "colab_type": "text"
      },
      "source": [
        "The width of this distribution shows how much the results vary from one experiment to the next.\n",
        "\n",
        "We can quantify this variability by computing the standard deviation of the sampling distribution, which is called \"standard error\".\n"
      ]
    },
    {
      "cell_type": "code",
      "metadata": {
        "id": "fh0BzQ74ayA-",
        "colab_type": "code",
        "colab": {
          "base_uri": "https://localhost:8080/",
          "height": 0
        },
        "outputId": "175f557c-bb1d-4da1-bf54-bd171c0ba1d1"
      },
      "source": [
        "std_err = np.std(outcomes)\n",
        "std_err"
      ],
      "execution_count": 63,
      "outputs": [
        {
          "output_type": "execute_result",
          "data": {
            "text/plain": [
              "0.040988493950025975"
            ]
          },
          "metadata": {
            "tags": []
          },
          "execution_count": 63
        }
      ]
    },
    {
      "cell_type": "markdown",
      "metadata": {
        "id": "ujbxciRuayBA",
        "colab_type": "text"
      },
      "source": [
        "We can also summarize the sampling distribution with a \"confidence interval\", which is a range that contains a specified fraction, like 90%, of the values in `sampling_dist_mean`.\n",
        "\n",
        "The central 90% confidence interval is between the 5th and 95th percentiles of the sampling distribution."
      ]
    },
    {
      "cell_type": "code",
      "metadata": {
        "id": "4z1DTArWayBB",
        "colab_type": "code",
        "colab": {
          "base_uri": "https://localhost:8080/",
          "height": 0
        },
        "outputId": "a7bf0240-8776-4fb0-daba-554d9a1a0872"
      },
      "source": [
        "ci_90 = np.percentile(outcomes, [5, 95])\n",
        "ci_90"
      ],
      "execution_count": 64,
      "outputs": [
        {
          "output_type": "execute_result",
          "data": {
            "text/plain": [
              "array([177.47003514, 177.60836127])"
            ]
          },
          "metadata": {
            "tags": []
          },
          "execution_count": 64
        }
      ]
    },
    {
      "cell_type": "markdown",
      "metadata": {
        "id": "8qn1s6rkayBD",
        "colab_type": "text"
      },
      "source": [
        "The following function plots a histogram and shades the 90% confidence interval."
      ]
    },
    {
      "cell_type": "code",
      "metadata": {
        "id": "gAgUGWsqayBE",
        "colab_type": "code",
        "colab": {}
      },
      "source": [
        "def plot_sampling_dist(outcomes):\n",
        "    patch = plot_hist(outcomes)\n",
        "    low, high = np.percentile(outcomes, [5, 95])\n",
        "    fill_hist(low, high, patch)\n",
        "    print('Mean = ', np.mean(outcomes))\n",
        "    print('Std error = ', np.std(outcomes))\n",
        "    print('90% CI = ', (low, high))"
      ],
      "execution_count": 0,
      "outputs": []
    },
    {
      "cell_type": "markdown",
      "metadata": {
        "id": "QjCKdXV7ayBF",
        "colab_type": "text"
      },
      "source": [
        "Here's what it looks like for the sampling distribution of mean adult height:"
      ]
    },
    {
      "cell_type": "code",
      "metadata": {
        "id": "kgYq3sJ-ayBF",
        "colab_type": "code",
        "colab": {
          "base_uri": "https://localhost:8080/",
          "height": 0
        },
        "outputId": "21fdd83a-a1e3-467e-f24d-fcfaed42920e"
      },
      "source": [
        "plot_sampling_dist(outcomes)\n",
        "plt.xlabel('Mean adult male height, U.S. (%)');"
      ],
      "execution_count": 66,
      "outputs": [
        {
          "output_type": "stream",
          "text": [
            "Mean =  177.5391282003278\n",
            "Std error =  0.040988493950025975\n",
            "90% CI =  (177.47003513919293, 177.60836127111264)\n"
          ],
          "name": "stdout"
        },
        {
          "output_type": "display_data",
          "data": {
            "image/png": "[encoded data removed]",
            "text/plain": [
              "<Figure size 432x288 with 1 Axes>"
            ]
          },
          "metadata": {
            "tags": []
          }
        }
      ]
    },
    {
      "cell_type": "markdown",
      "metadata": {
        "id": "t10ivCpgayBH",
        "colab_type": "text"
      },
      "source": [
        "For an experiment like this, we can compute the standard error analytically."
      ]
    },
    {
      "cell_type": "code",
      "metadata": {
        "id": "XR9meDQKayBH",
        "colab_type": "code",
        "colab": {}
      },
      "source": [
        "size = len(data)\n",
        "analytic_std_err = np.std(data) / np.sqrt(size)"
      ],
      "execution_count": 0,
      "outputs": []
    },
    {
      "cell_type": "markdown",
      "metadata": {
        "id": "GwoP7OwKayBK",
        "colab_type": "text"
      },
      "source": [
        "The result is close to what we observed computationally."
      ]
    },
    {
      "cell_type": "code",
      "metadata": {
        "id": "7VJqjMtxayBL",
        "colab_type": "code",
        "colab": {
          "base_uri": "https://localhost:8080/",
          "height": 0
        },
        "outputId": "97d09cbb-bd99-4de5-dd95-ab35764fb3d5"
      },
      "source": [
        "analytic_std_err, std_err"
      ],
      "execution_count": 68,
      "outputs": [
        {
          "output_type": "execute_result",
          "data": {
            "text/plain": [
              "(0.037880945264186006, 0.040988493950025975)"
            ]
          },
          "metadata": {
            "tags": []
          },
          "execution_count": 68
        }
      ]
    },
    {
      "cell_type": "markdown",
      "metadata": {
        "id": "XD6D6eVOayBN",
        "colab_type": "text"
      },
      "source": [
        "This result indicates that our estimate of the mean is *precise*; that is, if we ran this experiment many times, the results would fall in a narrow range.\n",
        "\n",
        "But this range reflects only variability due to random sampling.  If there are systematic errors in the sampling process, or in the measurement process, the result would not be *accurate*.\n",
        "\n",
        "Computing a standard error or confidence interval can be useful, but it only quantifies variability due to random sampling, not other sources of error."
      ]
    },
    {
      "cell_type": "markdown",
      "metadata": {
        "id": "w_k8dNe-ayBO",
        "colab_type": "text"
      },
      "source": [
        "**Exercise:** One nice thing about using resampling is that it is easy to compute the sampling distribution for other statistics.\n",
        "\n",
        "For example, suppose we want to estimate the coefficient of variation (standard deviation as a fraction of the mean) for adult male height.  Here's how we can compute it."
      ]
    },
    {
      "cell_type": "code",
      "metadata": {
        "id": "snLlf6CAayBO",
        "colab_type": "code",
        "colab": {
          "base_uri": "https://localhost:8080/",
          "height": 0
        },
        "outputId": "939d3c38-828f-4802-ca80-3a2347fc6999"
      },
      "source": [
        "cv = np.nanstd(data) / np.nanmean(data)\n",
        "cv"
      ],
      "execution_count": 69,
      "outputs": [
        {
          "output_type": "execute_result",
          "data": {
            "text/plain": [
              "0.04703253074596872"
            ]
          },
          "metadata": {
            "tags": []
          },
          "execution_count": 69
        }
      ]
    },
    {
      "cell_type": "markdown",
      "metadata": {
        "id": "r-3oQyHGayBQ",
        "colab_type": "text"
      },
      "source": [
        "So the standard deviation is about 5% of the mean. \n",
        "\n",
        "Write a loop that uses resampling to estimate the sampling distribution of `cv`; store the results in an array named `outcomes`.\n",
        "\n",
        "Then use `plot_sampling_dist` to plot the sampling distribution of the coefficient of variation.\n",
        "\n",
        "What is the standard error of the estimated coefficient of variation?"
      ]
    },
    {
      "cell_type": "code",
      "metadata": {
        "id": "OkODgkX7ayBR",
        "colab_type": "code",
        "colab": {}
      },
      "source": [
        "# Solution goes here"
      ],
      "execution_count": 0,
      "outputs": []
    },
    {
      "cell_type": "code",
      "metadata": {
        "scrolled": true,
        "id": "-JQeVH_payBS",
        "colab_type": "code",
        "colab": {}
      },
      "source": [
        "# Solution goes here"
      ],
      "execution_count": 0,
      "outputs": []
    },
    {
      "cell_type": "markdown",
      "metadata": {
        "id": "ZfyP0AU6ayBV",
        "colab_type": "text"
      },
      "source": [
        "## Summary\n",
        "\n",
        "This notebook presents computational methods for computing p-values, standard errors, and confidence intervals.  The two processes are similar, but they answer different questions.\n",
        "\n",
        "The following diagram outlines the hypothesis testing process:\n",
        "\n",
        "<img src=\"https://github.com/AllenDowney/ElementsOfDataScience/raw/master/figs/hypothesis_testing.png\" width=\"400\">\n"
      ]
    },
    {
      "cell_type": "markdown",
      "metadata": {
        "id": "zB3pDFs-ayBW",
        "colab_type": "text"
      },
      "source": [
        "Again, the key steps are\n",
        "\n",
        "1. Choose a test statistic that quantifies the observed effect.\n",
        "\n",
        "2. Define a model of the null hypothesis and use it to generate simulated data.\n",
        "\n",
        "3. Compute the distribution of the test statistic under the null hypothesis.\n",
        "\n",
        "4. Compute a p-value, which is probability, under the null hypothesis, of seeing an effect as extreme as what you saw."
      ]
    },
    {
      "cell_type": "markdown",
      "metadata": {
        "id": "z9csmnEZayBW",
        "colab_type": "text"
      },
      "source": [
        "The following figure shows the similar process for computing standard errors and confidence intervals.\n",
        "\n",
        "<img src=\"https://github.com/AllenDowney/ElementsOfDataScience/raw/master/figs/resampling.png\" width=\"400\">\n"
      ]
    },
    {
      "cell_type": "markdown",
      "metadata": {
        "id": "_hP4B3YbayBX",
        "colab_type": "text"
      },
      "source": [
        "The essential steps are:\n",
        "\n",
        "1. Choose a sample statistic that quantifies the thing you want to estimate.\n",
        "\n",
        "2. Use the data to make a model of the population, assuming that the estimate is accurate.\n",
        "\n",
        "3. Use the model to simulate the sampling process and generate simulated data.\n",
        "\n",
        "4. Compute the sampling distribution of the estimate.\n",
        "\n",
        "5. Use the sampling distribution to compute the standard error, confidence interval, or both.\n",
        "\n",
        "Finally, remember that both processes only account for variability due to random sampling.  They don't tell us anything about systematic errors in the sampling process, measurement error, or other sources of error."
      ]
    },
    {
      "cell_type": "code",
      "metadata": {
        "id": "qeErTUQHayBY",
        "colab_type": "code",
        "colab": {}
      },
      "source": [
        ""
      ],
      "execution_count": 0,
      "outputs": []
    }
  ]
}