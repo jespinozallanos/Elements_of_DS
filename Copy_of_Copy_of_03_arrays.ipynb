{
  "nbformat": 4,
  "nbformat_minor": 0,
  "metadata": {
    "kernelspec": {
      "display_name": "Python 3",
      "language": "python",
      "name": "python3"
    },
    "language_info": {
      "codemirror_mode": {
        "name": "ipython",
        "version": 3
      },
      "file_extension": ".py",
      "mimetype": "text/x-python",
      "name": "python",
      "nbconvert_exporter": "python",
      "pygments_lexer": "ipython3",
      "version": "3.7.4"
    },
    "colab": {
      "name": "Copy of Copy of 03_arrays.ipynb",
      "provenance": [],
      "collapsed_sections": [],
      "include_colab_link": true
    }
  },
  "cells": [
    {
      "cell_type": "markdown",
      "metadata": {
        "id": "view-in-github",
        "colab_type": "text"
      },
      "source": [
        "<a href=\"https://colab.research.google.com/github/mindyng/Elements_of_DS/blob/master/Copy_of_Copy_of_03_arrays.ipynb\" target=\"_parent\"><img src=\"https://colab.research.google.com/assets/colab-badge.svg\" alt=\"Open In Colab\"/></a>"
      ]
    },
    {
      "cell_type": "markdown",
      "metadata": {
        "id": "xyaOx3LoFg_H",
        "colab_type": "text"
      },
      "source": [
        "# Lists and arrays\n",
        "\n",
        "Elements of Data Science\n",
        "\n",
        "by [Allen Downey](https://allendowney.com)\n",
        "\n",
        "[MIT License](https://opensource.org/licenses/MIT)\n",
        "\n",
        "### Goals\n",
        "\n",
        "In the previous notebook we used tuples to represent latitude and longitude.  In this notebook, you'll see how to use tuples more generally to represent a sequence of values.  And we'll see two more ways to represent sequences: lists and arrays.\n",
        "\n",
        "You might wonder why we need three ways to represent the same thing.  Most of the time you don't, but each of them has different capabilities.  For work with data, we will use arrays most of the time.\n",
        "\n",
        "As an example, we will use a small dataset from an article in *The Economist* about the price of sandwiches.  It's a silly example, but we'll use it to discuss the idea of absolute and relative differences, and different ways to summarize a dataset."
      ]
    },
    {
      "cell_type": "markdown",
      "metadata": {
        "id": "S6n7EJ6SFg_T",
        "colab_type": "text"
      },
      "source": [
        "## Tuples\n",
        "\n",
        "A tuple is a sequence of elements.  When we use a tuple to represent latitude and longitude, the sequence only contains two elements, and they are both floating-point numbers.\n",
        "\n",
        "But in general a tuple can contain any number of elements, and the elements can be values of any type.\n",
        "\n",
        "The following is a tuple of three integers:"
      ]
    },
    {
      "cell_type": "code",
      "metadata": {
        "id": "Ol6-YwJzFg_X",
        "colab_type": "code",
        "outputId": "f647a64f-90c6-4fad-b126-9bf4482abf7a",
        "colab": {
          "base_uri": "https://localhost:8080/",
          "height": 34
        }
      },
      "source": [
        "1, 2, 3"
      ],
      "execution_count": 1,
      "outputs": [
        {
          "output_type": "execute_result",
          "data": {
            "text/plain": [
              "(1, 2, 3)"
            ]
          },
          "metadata": {
            "tags": []
          },
          "execution_count": 1
        }
      ]
    },
    {
      "cell_type": "markdown",
      "metadata": {
        "id": "myXz99GgFhAj",
        "colab_type": "text"
      },
      "source": [
        "Notice that when Python displays a tuple, it puts the elements in parentheses.\n",
        "\n",
        "When you type a tuple, you can put it in parentheses if you think it is easier to read that way, but you don't have to."
      ]
    },
    {
      "cell_type": "code",
      "metadata": {
        "id": "iT76zN4jFhAk",
        "colab_type": "code",
        "outputId": "29bbb3b7-e985-4b64-f314-a95594c11975",
        "colab": {
          "base_uri": "https://localhost:8080/",
          "height": 34
        }
      },
      "source": [
        "(1, 2, 3)"
      ],
      "execution_count": 2,
      "outputs": [
        {
          "output_type": "execute_result",
          "data": {
            "text/plain": [
              "(1, 2, 3)"
            ]
          },
          "metadata": {
            "tags": []
          },
          "execution_count": 2
        }
      ]
    },
    {
      "cell_type": "markdown",
      "metadata": {
        "id": "NdHyDC6fFhAt",
        "colab_type": "text"
      },
      "source": [
        "The elements can be any type.  Here's a tuple of strings:"
      ]
    },
    {
      "cell_type": "code",
      "metadata": {
        "id": "zO3li_CHFhAu",
        "colab_type": "code",
        "outputId": "395d798f-fa62-4547-ac2c-3795be4ad8f1",
        "colab": {
          "base_uri": "https://localhost:8080/",
          "height": 34
        }
      },
      "source": [
        "'Data', 'Science'"
      ],
      "execution_count": 3,
      "outputs": [
        {
          "output_type": "execute_result",
          "data": {
            "text/plain": [
              "('Data', 'Science')"
            ]
          },
          "metadata": {
            "tags": []
          },
          "execution_count": 3
        }
      ]
    },
    {
      "cell_type": "markdown",
      "metadata": {
        "id": "8R5L3zLTFhA2",
        "colab_type": "text"
      },
      "source": [
        "The elements don't have to be the same type.  Here's a tuple with a string, an integer, and a floating-point number."
      ]
    },
    {
      "cell_type": "code",
      "metadata": {
        "id": "23fDhEDyFhA3",
        "colab_type": "code",
        "outputId": "087012d2-e57d-4c0f-9042-ef347bacf24e",
        "colab": {
          "base_uri": "https://localhost:8080/",
          "height": 34
        }
      },
      "source": [
        "'one', 2, 3.14159 "
      ],
      "execution_count": 4,
      "outputs": [
        {
          "output_type": "execute_result",
          "data": {
            "text/plain": [
              "('one', 2, 3.14159)"
            ]
          },
          "metadata": {
            "tags": []
          },
          "execution_count": 4
        }
      ]
    },
    {
      "cell_type": "markdown",
      "metadata": {
        "id": "tkCxoFzrFhA8",
        "colab_type": "text"
      },
      "source": [
        "If you have a string, you can convert it to a tuple using the `tuple` function:"
      ]
    },
    {
      "cell_type": "code",
      "metadata": {
        "id": "gplNw6oOFhBN",
        "colab_type": "code",
        "outputId": "3c0a4426-7649-4a20-fd0b-2a5a0ecf56b5",
        "colab": {
          "base_uri": "https://localhost:8080/",
          "height": 34
        }
      },
      "source": [
        "tuple('DataScience')"
      ],
      "execution_count": 5,
      "outputs": [
        {
          "output_type": "execute_result",
          "data": {
            "text/plain": [
              "('D', 'a', 't', 'a', 'S', 'c', 'i', 'e', 'n', 'c', 'e')"
            ]
          },
          "metadata": {
            "tags": []
          },
          "execution_count": 5
        }
      ]
    },
    {
      "cell_type": "markdown",
      "metadata": {
        "id": "lt9pPRDeFhBX",
        "colab_type": "text"
      },
      "source": [
        "The result is a tuple of single-character strings."
      ]
    },
    {
      "cell_type": "markdown",
      "metadata": {
        "id": "xkmxwMMvFhBg",
        "colab_type": "text"
      },
      "source": [
        "When you create a tuple, the parentheses are optional, but the commas are required.  So how do you think you create a tuple with a single element?  You might be tempted to write:"
      ]
    },
    {
      "cell_type": "code",
      "metadata": {
        "id": "HGa1y4OLFhBr",
        "colab_type": "code",
        "outputId": "bc913b6e-6cf5-48a5-92ee-cb68db1f83fd",
        "colab": {
          "base_uri": "https://localhost:8080/",
          "height": 34
        }
      },
      "source": [
        "x = (5)\n",
        "x"
      ],
      "execution_count": 6,
      "outputs": [
        {
          "output_type": "execute_result",
          "data": {
            "text/plain": [
              "5"
            ]
          },
          "metadata": {
            "tags": []
          },
          "execution_count": 6
        }
      ]
    },
    {
      "cell_type": "markdown",
      "metadata": {
        "id": "av_TkUMnFhB0",
        "colab_type": "text"
      },
      "source": [
        "But you will find that the result is just a number, not a tuple."
      ]
    },
    {
      "cell_type": "code",
      "metadata": {
        "id": "KqpCbWZfFhB2",
        "colab_type": "code",
        "outputId": "bbf9c070-79df-46a0-9e0b-f5b9f3e022f5",
        "colab": {
          "base_uri": "https://localhost:8080/",
          "height": 34
        }
      },
      "source": [
        "type(x)"
      ],
      "execution_count": 7,
      "outputs": [
        {
          "output_type": "execute_result",
          "data": {
            "text/plain": [
              "int"
            ]
          },
          "metadata": {
            "tags": []
          },
          "execution_count": 7
        }
      ]
    },
    {
      "cell_type": "markdown",
      "metadata": {
        "id": "3yE7DuMOFhB8",
        "colab_type": "text"
      },
      "source": [
        "To make a tuple with a single element, you need a comma:"
      ]
    },
    {
      "cell_type": "code",
      "metadata": {
        "id": "jxlhdidEFhB-",
        "colab_type": "code",
        "outputId": "83536017-2c0f-491e-8a21-a1313843c690",
        "colab": {
          "base_uri": "https://localhost:8080/",
          "height": 34
        }
      },
      "source": [
        "t = 5,\n",
        "t"
      ],
      "execution_count": 8,
      "outputs": [
        {
          "output_type": "execute_result",
          "data": {
            "text/plain": [
              "(5,)"
            ]
          },
          "metadata": {
            "tags": []
          },
          "execution_count": 8
        }
      ]
    },
    {
      "cell_type": "code",
      "metadata": {
        "id": "EdFg5u4eFhCH",
        "colab_type": "code",
        "outputId": "7cfcb080-2b12-48aa-f912-f43873228262",
        "colab": {
          "base_uri": "https://localhost:8080/",
          "height": 34
        }
      },
      "source": [
        "type(t)"
      ],
      "execution_count": 9,
      "outputs": [
        {
          "output_type": "execute_result",
          "data": {
            "text/plain": [
              "tuple"
            ]
          },
          "metadata": {
            "tags": []
          },
          "execution_count": 9
        }
      ]
    },
    {
      "cell_type": "markdown",
      "metadata": {
        "id": "chCLTVf1FhCN",
        "colab_type": "text"
      },
      "source": [
        "## Lists\n",
        "\n",
        "Python provides another way to store a sequence of elements: a list.\n",
        "\n",
        "To create a list, you put a sequence of elements in square brackets."
      ]
    },
    {
      "cell_type": "code",
      "metadata": {
        "id": "G5b5cenHFhCP",
        "colab_type": "code",
        "outputId": "badda560-7803-41b4-c0cc-adbd932c0f3b",
        "colab": {
          "base_uri": "https://localhost:8080/",
          "height": 34
        }
      },
      "source": [
        "[1, 2, 3]"
      ],
      "execution_count": 10,
      "outputs": [
        {
          "output_type": "execute_result",
          "data": {
            "text/plain": [
              "[1, 2, 3]"
            ]
          },
          "metadata": {
            "tags": []
          },
          "execution_count": 10
        }
      ]
    },
    {
      "cell_type": "markdown",
      "metadata": {
        "id": "e9Lr8DICFhCY",
        "colab_type": "text"
      },
      "source": [
        "Lists and tuples are very similar.  They can contain any number of elements, the elements can be any type, and the elements don't have to be the same type.\n",
        "\n",
        "The only difference is that you can modify a list; tuples are immutable (cannot be modified).  This difference will matter later, but for now we can ignore it.\n",
        "\n",
        "When you make a list, the brackets are required, but if there is a single element, you don't need a comma.  So you can make a list like this:"
      ]
    },
    {
      "cell_type": "code",
      "metadata": {
        "id": "o0eTwlt_FhCZ",
        "colab_type": "code",
        "colab": {}
      },
      "source": [
        "single = [5]"
      ],
      "execution_count": 0,
      "outputs": []
    },
    {
      "cell_type": "code",
      "metadata": {
        "id": "Qu4mdybfFhCg",
        "colab_type": "code",
        "outputId": "11340018-596f-4fa3-d97f-274a2f97656c",
        "colab": {
          "base_uri": "https://localhost:8080/",
          "height": 34
        }
      },
      "source": [
        "type(single)"
      ],
      "execution_count": 12,
      "outputs": [
        {
          "output_type": "execute_result",
          "data": {
            "text/plain": [
              "list"
            ]
          },
          "metadata": {
            "tags": []
          },
          "execution_count": 12
        }
      ]
    },
    {
      "cell_type": "markdown",
      "metadata": {
        "id": "3ieK1XSIFhCu",
        "colab_type": "text"
      },
      "source": [
        "It is also possible to make a list with no elements, like this:"
      ]
    },
    {
      "cell_type": "code",
      "metadata": {
        "id": "neinDjP2FhCv",
        "colab_type": "code",
        "colab": {}
      },
      "source": [
        "empty = []"
      ],
      "execution_count": 0,
      "outputs": []
    },
    {
      "cell_type": "code",
      "metadata": {
        "id": "Frwk3bBOFhC1",
        "colab_type": "code",
        "outputId": "dea20fce-9f9a-4301-fd33-91f3d2c29fd0",
        "colab": {
          "base_uri": "https://localhost:8080/",
          "height": 34
        }
      },
      "source": [
        "type(empty)"
      ],
      "execution_count": 14,
      "outputs": [
        {
          "output_type": "execute_result",
          "data": {
            "text/plain": [
              "list"
            ]
          },
          "metadata": {
            "tags": []
          },
          "execution_count": 14
        }
      ]
    },
    {
      "cell_type": "markdown",
      "metadata": {
        "id": "ZCS3oW5JFhC9",
        "colab_type": "text"
      },
      "source": [
        "The `len` function computes the length (number of elements) in a list or tuple."
      ]
    },
    {
      "cell_type": "code",
      "metadata": {
        "id": "mltl_QxMFhC-",
        "colab_type": "code",
        "outputId": "2a271d19-fa3a-4be1-fad5-9f90c5ca8d07",
        "colab": {
          "base_uri": "https://localhost:8080/",
          "height": 34
        }
      },
      "source": [
        "len([1, 2, 3])"
      ],
      "execution_count": 15,
      "outputs": [
        {
          "output_type": "execute_result",
          "data": {
            "text/plain": [
              "3"
            ]
          },
          "metadata": {
            "tags": []
          },
          "execution_count": 15
        }
      ]
    },
    {
      "cell_type": "code",
      "metadata": {
        "id": "cX0_AbDOFhDK",
        "colab_type": "code",
        "outputId": "e8d7e5d0-03e9-4f58-b14b-e980d6023141",
        "colab": {
          "base_uri": "https://localhost:8080/",
          "height": 34
        }
      },
      "source": [
        "len(single)"
      ],
      "execution_count": 16,
      "outputs": [
        {
          "output_type": "execute_result",
          "data": {
            "text/plain": [
              "1"
            ]
          },
          "metadata": {
            "tags": []
          },
          "execution_count": 16
        }
      ]
    },
    {
      "cell_type": "code",
      "metadata": {
        "id": "ZWTpDVH1FhDS",
        "colab_type": "code",
        "outputId": "f558024d-efa3-4ade-b84b-f8bdf38e2d35",
        "colab": {
          "base_uri": "https://localhost:8080/",
          "height": 34
        }
      },
      "source": [
        "len(empty)"
      ],
      "execution_count": 17,
      "outputs": [
        {
          "output_type": "execute_result",
          "data": {
            "text/plain": [
              "0"
            ]
          },
          "metadata": {
            "tags": []
          },
          "execution_count": 17
        }
      ]
    },
    {
      "cell_type": "markdown",
      "metadata": {
        "id": "D-8ukmGRFhDZ",
        "colab_type": "text"
      },
      "source": [
        "**Exercise:** Create a list with 4 elements; then use `type` to confirm that it's a list, and `len` to confirm that it has 4 elements."
      ]
    },
    {
      "cell_type": "code",
      "metadata": {
        "id": "8BrHVjqoFhDb",
        "colab_type": "code",
        "colab": {}
      },
      "source": [
        "l = [2, 'two', 2.0, 'too']"
      ],
      "execution_count": 0,
      "outputs": []
    },
    {
      "cell_type": "code",
      "metadata": {
        "id": "iShZUnKNFhDi",
        "colab_type": "code",
        "outputId": "09f44792-786a-4853-d5de-fa925ec1338a",
        "colab": {
          "base_uri": "https://localhost:8080/",
          "height": 34
        }
      },
      "source": [
        "type(l)"
      ],
      "execution_count": 19,
      "outputs": [
        {
          "output_type": "execute_result",
          "data": {
            "text/plain": [
              "list"
            ]
          },
          "metadata": {
            "tags": []
          },
          "execution_count": 19
        }
      ]
    },
    {
      "cell_type": "code",
      "metadata": {
        "id": "FtemSsbYFhDq",
        "colab_type": "code",
        "outputId": "b45a4e34-afb0-4d7a-f4bd-4720d9479007",
        "colab": {
          "base_uri": "https://localhost:8080/",
          "height": 34
        }
      },
      "source": [
        "len(l)"
      ],
      "execution_count": 20,
      "outputs": [
        {
          "output_type": "execute_result",
          "data": {
            "text/plain": [
              "4"
            ]
          },
          "metadata": {
            "tags": []
          },
          "execution_count": 20
        }
      ]
    },
    {
      "cell_type": "markdown",
      "metadata": {
        "id": "rhTHddpEFhDz",
        "colab_type": "text"
      },
      "source": [
        "There's a lot more we could do with lists, but that's enough to get started.  In the next section, we'll use lists to store data about sandwich prices."
      ]
    },
    {
      "cell_type": "markdown",
      "metadata": {
        "id": "gHo7mqTuFhD3",
        "colab_type": "text"
      },
      "source": [
        "## Sandwiches\n",
        "\n",
        "In September 2019, *The Economist* published an article comparing sandwich prices in Boston and London: \"[Why Americans pay more for lunch than Britons do](https://www.economist.com/finance-and-economics/2019/09/07/why-americans-pay-more-for-lunch-than-britons-do)\"\n",
        "\n",
        "It includes this graph showing prices of several sandwiches in the two cities:\n",
        "\n",
        "<img src=\"https://github.com/AllenDowney/ElementsOfDataScience/raw/master/figs/20190907_FNC941.png\" width=\"400\"/>"
      ]
    },
    {
      "cell_type": "markdown",
      "metadata": {
        "id": "5FDQNlDIFhD7",
        "colab_type": "text"
      },
      "source": [
        "Here are the sandwich names from the graph, as a list of strings."
      ]
    },
    {
      "cell_type": "code",
      "metadata": {
        "id": "iqycz0EwFhD-",
        "colab_type": "code",
        "colab": {}
      },
      "source": [
        "name_list = ['Lobster roll',\n",
        "    'Chicken caesar',\n",
        "    'Bang bang chicken',\n",
        "    'Ham and cheese',\n",
        "    'Tuna and cucumber',\n",
        "    'Egg'\n",
        "]"
      ],
      "execution_count": 0,
      "outputs": []
    },
    {
      "cell_type": "markdown",
      "metadata": {
        "id": "q5txi1YnFhEE",
        "colab_type": "text"
      },
      "source": [
        "I contacted *The Economist* to ask for the data they used to create that graph, and they were kind enough to share it with me.\n",
        "\n",
        "Here are the corresponding sandwich prices in Boston:"
      ]
    },
    {
      "cell_type": "code",
      "metadata": {
        "id": "fomudkL4FhEH",
        "colab_type": "code",
        "colab": {}
      },
      "source": [
        "boston_price_list = [9.99, 7.99, 7.49, 7, 6.29, 4.99]"
      ],
      "execution_count": 0,
      "outputs": []
    },
    {
      "cell_type": "markdown",
      "metadata": {
        "id": "bacfe4GDFhEQ",
        "colab_type": "text"
      },
      "source": [
        "So the lobster roll is \\$9.99 in Boston.\n",
        "\n",
        "The egg sandwich is \\$4.99.\n",
        "\n",
        "Here are the prices in London, converted to dollars at \\$1.25 / £1."
      ]
    },
    {
      "cell_type": "code",
      "metadata": {
        "id": "cDNZACjnFhES",
        "colab_type": "code",
        "colab": {}
      },
      "source": [
        "london_price_list = [7.5, 5, 4.4, 5, 3.75, 2.25]"
      ],
      "execution_count": 0,
      "outputs": []
    },
    {
      "cell_type": "markdown",
      "metadata": {
        "id": "UUg2uKyLFhEh",
        "colab_type": "text"
      },
      "source": [
        "Lists provide some arithmetic operators, but they might not do what you want.  For example, you can \"add\" two lists:"
      ]
    },
    {
      "cell_type": "code",
      "metadata": {
        "id": "xQQ-7K6rFhEj",
        "colab_type": "code",
        "outputId": "93986738-fd5d-4902-de54-9e04faff4127",
        "colab": {
          "base_uri": "https://localhost:8080/",
          "height": 34
        }
      },
      "source": [
        "boston_price_list + london_price_list"
      ],
      "execution_count": 24,
      "outputs": [
        {
          "output_type": "execute_result",
          "data": {
            "text/plain": [
              "[9.99, 7.99, 7.49, 7, 6.29, 4.99, 7.5, 5, 4.4, 5, 3.75, 2.25]"
            ]
          },
          "metadata": {
            "tags": []
          },
          "execution_count": 24
        }
      ]
    },
    {
      "cell_type": "markdown",
      "metadata": {
        "id": "LH5k5wNSFhE2",
        "colab_type": "text"
      },
      "source": [
        "But it concatenates the two lists, which is not very useful in this example.\n",
        "\n",
        "To compute differences between prices, you might try subtracting lists, but you would get an error."
      ]
    },
    {
      "cell_type": "code",
      "metadata": {
        "id": "AHE-YK9UFhE6",
        "colab_type": "code",
        "outputId": "7b217104-3cb4-4cde-928d-ccbd6a4fb35c",
        "colab": {
          "base_uri": "https://localhost:8080/",
          "height": 164
        }
      },
      "source": [
        "boston_price_list - london_price_list"
      ],
      "execution_count": 25,
      "outputs": [
        {
          "output_type": "error",
          "ename": "TypeError",
          "evalue": "ignored",
          "traceback": [
            "\u001b[0;31m---------------------------------------------------------------------------\u001b[0m",
            "\u001b[0;31mTypeError\u001b[0m                                 Traceback (most recent call last)",
            "\u001b[0;32m<ipython-input-25-1ff9739e4f5a>\u001b[0m in \u001b[0;36m<module>\u001b[0;34m()\u001b[0m\n\u001b[0;32m----> 1\u001b[0;31m \u001b[0mboston_price_list\u001b[0m \u001b[0;34m-\u001b[0m \u001b[0mlondon_price_list\u001b[0m\u001b[0;34m\u001b[0m\u001b[0;34m\u001b[0m\u001b[0m\n\u001b[0m",
            "\u001b[0;31mTypeError\u001b[0m: unsupported operand type(s) for -: 'list' and 'list'"
          ]
        }
      ]
    },
    {
      "cell_type": "markdown",
      "metadata": {
        "id": "5nXet-ADFhFQ",
        "colab_type": "text"
      },
      "source": [
        "We can solve this problem with a NumPy array."
      ]
    },
    {
      "cell_type": "markdown",
      "metadata": {
        "id": "CDA9L-o0FhFT",
        "colab_type": "text"
      },
      "source": [
        "## NumPy arrays\n",
        "\n",
        "We've already seen that the NumPy library provides math functions.  It also provides a type of sequence called an array.\n",
        "\n",
        "You can create a new array with the `np.array` function, starting with a list or tuple."
      ]
    },
    {
      "cell_type": "code",
      "metadata": {
        "id": "8EU-gtofFhFp",
        "colab_type": "code",
        "colab": {}
      },
      "source": [
        "import numpy as np\n",
        "\n",
        "boston_price_array = np.array(boston_price_list)\n",
        "london_price_array = np.array(london_price_list)"
      ],
      "execution_count": 0,
      "outputs": []
    },
    {
      "cell_type": "markdown",
      "metadata": {
        "id": "3O4dQJWPFhF2",
        "colab_type": "text"
      },
      "source": [
        "The type of the result is `numpy.ndarray`."
      ]
    },
    {
      "cell_type": "code",
      "metadata": {
        "id": "RE-gu9qaFhF3",
        "colab_type": "code",
        "outputId": "5c25f54f-2fff-4d88-d7dd-d8b8bbb01481",
        "colab": {
          "base_uri": "https://localhost:8080/",
          "height": 34
        }
      },
      "source": [
        "type(boston_price_array)"
      ],
      "execution_count": 27,
      "outputs": [
        {
          "output_type": "execute_result",
          "data": {
            "text/plain": [
              "numpy.ndarray"
            ]
          },
          "metadata": {
            "tags": []
          },
          "execution_count": 27
        }
      ]
    },
    {
      "cell_type": "markdown",
      "metadata": {
        "id": "LIxtQqvaFhGB",
        "colab_type": "text"
      },
      "source": [
        "The \"nd\" stands for \"n-dimensional\"; NumPy arrays can have any number of dimensions.  But for now we will work with one-dimensional sequences.\n",
        "\n",
        "If you display an array, Python displays the elements:"
      ]
    },
    {
      "cell_type": "code",
      "metadata": {
        "id": "w1nHq_LuFhGE",
        "colab_type": "code",
        "outputId": "21bc8474-e737-409d-934e-5f876758dee1",
        "colab": {
          "base_uri": "https://localhost:8080/",
          "height": 34
        }
      },
      "source": [
        "boston_price_array"
      ],
      "execution_count": 28,
      "outputs": [
        {
          "output_type": "execute_result",
          "data": {
            "text/plain": [
              "array([9.99, 7.99, 7.49, 7.  , 6.29, 4.99])"
            ]
          },
          "metadata": {
            "tags": []
          },
          "execution_count": 28
        }
      ]
    },
    {
      "cell_type": "markdown",
      "metadata": {
        "id": "vb1pa5JZFhGK",
        "colab_type": "text"
      },
      "source": [
        "You can also display the \"data type\" of the array, which is the type of the elements:"
      ]
    },
    {
      "cell_type": "code",
      "metadata": {
        "id": "eWrVaKK2FhGL",
        "colab_type": "code",
        "outputId": "6a2743f8-25cc-48da-e75a-3d20e16b46ca",
        "colab": {
          "base_uri": "https://localhost:8080/",
          "height": 34
        }
      },
      "source": [
        "boston_price_array.dtype"
      ],
      "execution_count": 29,
      "outputs": [
        {
          "output_type": "execute_result",
          "data": {
            "text/plain": [
              "dtype('float64')"
            ]
          },
          "metadata": {
            "tags": []
          },
          "execution_count": 29
        }
      ]
    },
    {
      "cell_type": "markdown",
      "metadata": {
        "id": "l_tkHMGgFhGW",
        "colab_type": "text"
      },
      "source": [
        "`float64` means that the elements are floating-point numbers that take up 64 bits each.  You don't need to know about the storage format of these numbers, but if you are curious, [you can read about it here](https://en.wikipedia.org/wiki/Floating-point_arithmetic#Internal_representation).\n",
        "\n",
        "The elements of a NumPy array can be any type, but they all have to be the same type.\n",
        "\n",
        "Most often the elements are numbers, but you can also make an array of strings."
      ]
    },
    {
      "cell_type": "code",
      "metadata": {
        "id": "tBFUwxAcFhGX",
        "colab_type": "code",
        "outputId": "593d2d49-76da-4dcc-ca8a-8c7fed774781",
        "colab": {
          "base_uri": "https://localhost:8080/",
          "height": 51
        }
      },
      "source": [
        "name_array = np.array(name_list)\n",
        "name_array"
      ],
      "execution_count": 30,
      "outputs": [
        {
          "output_type": "execute_result",
          "data": {
            "text/plain": [
              "array(['Lobster roll', 'Chicken caesar', 'Bang bang chicken',\n",
              "       'Ham and cheese', 'Tuna and cucumber', 'Egg'], dtype='<U17')"
            ]
          },
          "metadata": {
            "tags": []
          },
          "execution_count": 30
        }
      ]
    },
    {
      "cell_type": "markdown",
      "metadata": {
        "id": "Gr300zfBFhGc",
        "colab_type": "text"
      },
      "source": [
        "In this example, the `dtype` is `<U17`.  You don't have to understand this code, but if you are curious, the `U` indicates that the elements are Unicode strings; Unicode is the standard Python uses to represent strings.\n",
        "\n",
        "Now, here's why NumPy arrays are useful: they can do arithmetic.  For example, to compute the differences between Boston and London prices, we can write: "
      ]
    },
    {
      "cell_type": "code",
      "metadata": {
        "id": "qrnoGy5TFhGd",
        "colab_type": "code",
        "outputId": "4c09cd9f-8bf1-418f-e703-4a63031924cb",
        "colab": {
          "base_uri": "https://localhost:8080/",
          "height": 34
        }
      },
      "source": [
        "differences = boston_price_array - london_price_array\n",
        "differences"
      ],
      "execution_count": 31,
      "outputs": [
        {
          "output_type": "execute_result",
          "data": {
            "text/plain": [
              "array([2.49, 2.99, 3.09, 2.  , 2.54, 2.74])"
            ]
          },
          "metadata": {
            "tags": []
          },
          "execution_count": 31
        }
      ]
    },
    {
      "cell_type": "markdown",
      "metadata": {
        "id": "NT45-3W8FhGk",
        "colab_type": "text"
      },
      "source": [
        "Subtraction is done \"elementwise\"; that is, NumPy lines up the two arrays and subtracts corresponding elements.  The result is a new array."
      ]
    },
    {
      "cell_type": "markdown",
      "metadata": {
        "id": "3ON30p4GFhGn",
        "colab_type": "text"
      },
      "source": [
        "## Mean and standard deviation\n",
        "\n",
        "NumPy provides functions that compute statistical summaries like the mean: "
      ]
    },
    {
      "cell_type": "code",
      "metadata": {
        "id": "lAoXoB79FhGs",
        "colab_type": "code",
        "outputId": "1c2ba98b-5abe-4551-af48-746dc1662715",
        "colab": {
          "base_uri": "https://localhost:8080/",
          "height": 34
        }
      },
      "source": [
        "np.mean(differences)"
      ],
      "execution_count": 32,
      "outputs": [
        {
          "output_type": "execute_result",
          "data": {
            "text/plain": [
              "2.6416666666666666"
            ]
          },
          "metadata": {
            "tags": []
          },
          "execution_count": 32
        }
      ]
    },
    {
      "cell_type": "markdown",
      "metadata": {
        "id": "MqpcgwI1FhHB",
        "colab_type": "text"
      },
      "source": [
        "So we could describe the difference in prices like this: \"Sandwiches in Boston are more expensive by \\$2.64, on average\".\n",
        "\n",
        "We could also compute the means first, and then compute their difference:"
      ]
    },
    {
      "cell_type": "code",
      "metadata": {
        "id": "s2X8IVyZFhHE",
        "colab_type": "code",
        "outputId": "690c4d70-043c-461b-8211-8faff6e91733",
        "colab": {
          "base_uri": "https://localhost:8080/",
          "height": 34
        }
      },
      "source": [
        "np.mean(boston_price_array) - np.mean(london_price_array)"
      ],
      "execution_count": 33,
      "outputs": [
        {
          "output_type": "execute_result",
          "data": {
            "text/plain": [
              "2.6416666666666675"
            ]
          },
          "metadata": {
            "tags": []
          },
          "execution_count": 33
        }
      ]
    },
    {
      "cell_type": "markdown",
      "metadata": {
        "id": "Di1m6vwNFhHO",
        "colab_type": "text"
      },
      "source": [
        "And that turns out to be the same thing: the difference in means is the same as the mean of the differences.\n",
        "\n",
        "As an aside, many of the NumPy functions also work with lists, so we could also do this:"
      ]
    },
    {
      "cell_type": "code",
      "metadata": {
        "id": "2S2GxQ-JFhHS",
        "colab_type": "code",
        "outputId": "3bd5fd81-90be-47ea-bd44-3fce05256ef2",
        "colab": {
          "base_uri": "https://localhost:8080/",
          "height": 34
        }
      },
      "source": [
        "np.mean(boston_price_list) - np.mean(london_price_list)"
      ],
      "execution_count": 34,
      "outputs": [
        {
          "output_type": "execute_result",
          "data": {
            "text/plain": [
              "2.6416666666666675"
            ]
          },
          "metadata": {
            "tags": []
          },
          "execution_count": 34
        }
      ]
    },
    {
      "cell_type": "markdown",
      "metadata": {
        "id": "J3IwvdrZFhHg",
        "colab_type": "text"
      },
      "source": [
        "**Exercise:** Standard deviation is way to quantify the variability in a set of numbers.  The NumPy function that computes standard deviation is `np.std`.\n",
        "\n",
        "Compute the standard deviation of sandwich prices in Boston and London.  By this measure, which set of prices is more variable?"
      ]
    },
    {
      "cell_type": "code",
      "metadata": {
        "id": "pSSETLF6FhHk",
        "colab_type": "code",
        "outputId": "f61d2cf3-1a5e-4fe1-d64b-a0eedfc2e05b",
        "colab": {
          "base_uri": "https://localhost:8080/",
          "height": 34
        }
      },
      "source": [
        "boston_price_std = np.std(boston_price_array)\n",
        "boston_price_std"
      ],
      "execution_count": 35,
      "outputs": [
        {
          "output_type": "execute_result",
          "data": {
            "text/plain": [
              "1.5380769017040583"
            ]
          },
          "metadata": {
            "tags": []
          },
          "execution_count": 35
        }
      ]
    },
    {
      "cell_type": "code",
      "metadata": {
        "id": "9ygbTFOTOJyJ",
        "colab_type": "code",
        "outputId": "36b878db-8289-49bb-dc65-17652eb1c511",
        "colab": {
          "base_uri": "https://localhost:8080/",
          "height": 34
        }
      },
      "source": [
        "london_price_std = np.std(london_price_array)\n",
        "london_price_std"
      ],
      "execution_count": 36,
      "outputs": [
        {
          "output_type": "execute_result",
          "data": {
            "text/plain": [
              "1.5811388300841898"
            ]
          },
          "metadata": {
            "tags": []
          },
          "execution_count": 36
        }
      ]
    },
    {
      "cell_type": "markdown",
      "metadata": {
        "id": "UxPZR_Q_FhHu",
        "colab_type": "text"
      },
      "source": [
        "**Exercise:** The definition of the mean, in math notation, is\n",
        "\n",
        "$\\mu = \\frac{1}{N} \\sum_i x_i$\n",
        "\n",
        "where $x$ is a sequence of elements, $x_i$ is the element with index $i$, and $N$ is the number of elements.\n",
        "\n",
        "The definition of standard deviation is\n",
        "\n",
        "$\\sigma = \\sqrt{\\frac{1}{N} \\sum_i (x_i - \\mu)^2}$\n",
        "\n",
        "Compute the standard deviation of `boston_price_list` using NumPy functions `np.mean` and `np.sqrt` and see if you get the same result as `np.std`.\n",
        "\n",
        "Note: You should do this exercise using only features we have discussed so far."
      ]
    },
    {
      "cell_type": "code",
      "metadata": {
        "id": "Xd44JtORFhHw",
        "colab_type": "code",
        "colab": {}
      },
      "source": [
        "x = boston_price_array"
      ],
      "execution_count": 0,
      "outputs": []
    },
    {
      "cell_type": "code",
      "metadata": {
        "id": "U75z6ocf1GYP",
        "colab_type": "code",
        "outputId": "19dda4e7-3b01-46ce-8112-320eaa894068",
        "colab": {
          "base_uri": "https://localhost:8080/",
          "height": 34
        }
      },
      "source": [
        "m = np.mean(x)\n",
        "m"
      ],
      "execution_count": 51,
      "outputs": [
        {
          "output_type": "execute_result",
          "data": {
            "text/plain": [
              "7.291666666666667"
            ]
          },
          "metadata": {
            "tags": []
          },
          "execution_count": 51
        }
      ]
    },
    {
      "cell_type": "code",
      "metadata": {
        "id": "ozi2Es1-1Xlm",
        "colab_type": "code",
        "outputId": "130f56b6-69ba-4437-8044-5fb0c1cae69a",
        "colab": {
          "base_uri": "https://localhost:8080/",
          "height": 34
        }
      },
      "source": [
        "#Solution goes here\n",
        "np.sqrt(sum((x-m)**2)/len(boston_price_array))"
      ],
      "execution_count": 63,
      "outputs": [
        {
          "output_type": "execute_result",
          "data": {
            "text/plain": [
              "1.5380769017040583"
            ]
          },
          "metadata": {
            "tags": []
          },
          "execution_count": 63
        }
      ]
    },
    {
      "cell_type": "markdown",
      "metadata": {
        "id": "nWSu3gVOFhIF",
        "colab_type": "text"
      },
      "source": [
        "Note: This definition of standard deviation is sometimes called the \"population standard deviation\".  You might have seen another definition with $N-1$ in the denominator; that's the \"sample standard deviation\".  We'll use the population standard deviation for now and come back to this issue later."
      ]
    },
    {
      "cell_type": "markdown",
      "metadata": {
        "id": "PKcs_0GEFhIH",
        "colab_type": "text"
      },
      "source": [
        "## Absolute and relative differences\n",
        "\n",
        "In the previous section we computed \"absolute\" differences in price; that's what you get when you subtract two quantities.\n",
        "\n",
        "But often when we make this kind of comparison, we are interested in \"relative\" difference, which are differences expressed as a fraction or percentage of a quantity.\n",
        "\n",
        "Taking the lobster roll as an example, the absolute difference in price is:"
      ]
    },
    {
      "cell_type": "code",
      "metadata": {
        "id": "JGthTSrpFhIL",
        "colab_type": "code",
        "outputId": "a649164f-a2e7-4945-e29d-a7930501032e",
        "colab": {
          "base_uri": "https://localhost:8080/",
          "height": 34
        }
      },
      "source": [
        "9.99 - 7.5"
      ],
      "execution_count": 64,
      "outputs": [
        {
          "output_type": "execute_result",
          "data": {
            "text/plain": [
              "2.49"
            ]
          },
          "metadata": {
            "tags": []
          },
          "execution_count": 64
        }
      ]
    },
    {
      "cell_type": "markdown",
      "metadata": {
        "id": "I6Y0QnNYFhIS",
        "colab_type": "text"
      },
      "source": [
        "We can express that difference as a fraction of the London price, like this:"
      ]
    },
    {
      "cell_type": "code",
      "metadata": {
        "id": "ZwSO48rDFhIW",
        "colab_type": "code",
        "outputId": "63ab522b-52ce-4b8d-e633-704c49f310b1",
        "colab": {
          "base_uri": "https://localhost:8080/",
          "height": 34
        }
      },
      "source": [
        "(9.99 - 7.5) / 7.5"
      ],
      "execution_count": 65,
      "outputs": [
        {
          "output_type": "execute_result",
          "data": {
            "text/plain": [
              "0.332"
            ]
          },
          "metadata": {
            "tags": []
          },
          "execution_count": 65
        }
      ]
    },
    {
      "cell_type": "markdown",
      "metadata": {
        "id": "vf-N1MrwFhIf",
        "colab_type": "text"
      },
      "source": [
        "Or as a percentage of the London price, like this:"
      ]
    },
    {
      "cell_type": "code",
      "metadata": {
        "id": "wUa9btdtFhIh",
        "colab_type": "code",
        "outputId": "3c522b8d-2e99-49b2-f7b5-276a5a61d418",
        "colab": {
          "base_uri": "https://localhost:8080/",
          "height": 34
        }
      },
      "source": [
        "(9.99 - 7.5) / 7.5 * 100"
      ],
      "execution_count": 66,
      "outputs": [
        {
          "output_type": "execute_result",
          "data": {
            "text/plain": [
              "33.2"
            ]
          },
          "metadata": {
            "tags": []
          },
          "execution_count": 66
        }
      ]
    },
    {
      "cell_type": "markdown",
      "metadata": {
        "id": "QjIIJ_5mFhIr",
        "colab_type": "text"
      },
      "source": [
        "So we might say that the lobster roll is 33% more expensive in Boston.\n",
        "\n",
        "But putting London in the denominator was an arbitrary choice.  We could also compute the difference as a percentage of the Boston price:"
      ]
    },
    {
      "cell_type": "code",
      "metadata": {
        "id": "5D9J1f7pFhIs",
        "colab_type": "code",
        "outputId": "fa22e37f-ed0a-4038-aa0a-c11fe7258f35",
        "colab": {
          "base_uri": "https://localhost:8080/",
          "height": 34
        }
      },
      "source": [
        "(9.99 - 7.5) / 9.99 * 100"
      ],
      "execution_count": 67,
      "outputs": [
        {
          "output_type": "execute_result",
          "data": {
            "text/plain": [
              "24.924924924924927"
            ]
          },
          "metadata": {
            "tags": []
          },
          "execution_count": 67
        }
      ]
    },
    {
      "cell_type": "markdown",
      "metadata": {
        "id": "Yjrqu9OsFhIz",
        "colab_type": "text"
      },
      "source": [
        "If we do that calculation, we might say the lobster roll is 25% cheaper in London.\n",
        "\n",
        "When you read this kind of comparison, you should make sure you understand which quantity is in the denominator, and you might want to think about why that choice was made.\n",
        "\n",
        "In this example, if you want to make the difference seem bigger, you might put London prices in the denominator.\n",
        "\n",
        "Now we can use the arrays to compute all of the relative differences:"
      ]
    },
    {
      "cell_type": "code",
      "metadata": {
        "id": "-WaB82BNFhI1",
        "colab_type": "code",
        "outputId": "efb38d48-5b7c-4b10-ca7b-a5a446841fb3",
        "colab": {
          "base_uri": "https://localhost:8080/",
          "height": 34
        }
      },
      "source": [
        "absolute_differences = boston_price_array - london_price_array\n",
        "absolute_differences"
      ],
      "execution_count": 68,
      "outputs": [
        {
          "output_type": "execute_result",
          "data": {
            "text/plain": [
              "array([2.49, 2.99, 3.09, 2.  , 2.54, 2.74])"
            ]
          },
          "metadata": {
            "tags": []
          },
          "execution_count": 68
        }
      ]
    },
    {
      "cell_type": "code",
      "metadata": {
        "id": "H_-Slt-nFhI8",
        "colab_type": "code",
        "outputId": "4bd7a750-041b-4af7-b2ce-887e8cd409a1",
        "colab": {
          "base_uri": "https://localhost:8080/",
          "height": 51
        }
      },
      "source": [
        "relative_differences = absolute_differences / london_price_array\n",
        "relative_differences"
      ],
      "execution_count": 69,
      "outputs": [
        {
          "output_type": "execute_result",
          "data": {
            "text/plain": [
              "array([0.332     , 0.598     , 0.70227273, 0.4       , 0.67733333,\n",
              "       1.21777778])"
            ]
          },
          "metadata": {
            "tags": []
          },
          "execution_count": 69
        }
      ]
    },
    {
      "cell_type": "code",
      "metadata": {
        "id": "XFl94KEwFhJB",
        "colab_type": "code",
        "outputId": "ca792ed4-ba53-4f7e-b368-4e69f859520b",
        "colab": {
          "base_uri": "https://localhost:8080/",
          "height": 51
        }
      },
      "source": [
        "percent_differences = relative_differences * 100\n",
        "percent_differences"
      ],
      "execution_count": 70,
      "outputs": [
        {
          "output_type": "execute_result",
          "data": {
            "text/plain": [
              "array([ 33.2       ,  59.8       ,  70.22727273,  40.        ,\n",
              "        67.73333333, 121.77777778])"
            ]
          },
          "metadata": {
            "tags": []
          },
          "execution_count": 70
        }
      ]
    },
    {
      "cell_type": "markdown",
      "metadata": {
        "id": "Ft6qJW7qFhJE",
        "colab_type": "text"
      },
      "source": [
        "In this example, relative differences are more variable than absolute differences.\n",
        "\n",
        "We can use `np.min` and `np.max` to compute the range of absolute differences:"
      ]
    },
    {
      "cell_type": "code",
      "metadata": {
        "id": "-F7fx2nkFhJG",
        "colab_type": "code",
        "outputId": "400b8f67-0bf7-410d-b00b-a895f61740c8",
        "colab": {
          "base_uri": "https://localhost:8080/",
          "height": 34
        }
      },
      "source": [
        "np.min(absolute_differences), np.max(absolute_differences)"
      ],
      "execution_count": 71,
      "outputs": [
        {
          "output_type": "execute_result",
          "data": {
            "text/plain": [
              "(2.0, 3.09)"
            ]
          },
          "metadata": {
            "tags": []
          },
          "execution_count": 71
        }
      ]
    },
    {
      "cell_type": "markdown",
      "metadata": {
        "id": "MzbP8N4nFhJR",
        "colab_type": "text"
      },
      "source": [
        "The differences are between 2 dollars and \\$3.10.\n",
        "\n",
        "Here is the range of percent differences:"
      ]
    },
    {
      "cell_type": "code",
      "metadata": {
        "id": "TD-GePD6FhJT",
        "colab_type": "code",
        "outputId": "7f4e927e-9222-42c9-9939-6aeccc799132",
        "colab": {
          "base_uri": "https://localhost:8080/",
          "height": 34
        }
      },
      "source": [
        "np.min(percent_differences), np.max(percent_differences)"
      ],
      "execution_count": 72,
      "outputs": [
        {
          "output_type": "execute_result",
          "data": {
            "text/plain": [
              "(33.2, 121.77777777777779)"
            ]
          },
          "metadata": {
            "tags": []
          },
          "execution_count": 72
        }
      ]
    },
    {
      "cell_type": "markdown",
      "metadata": {
        "id": "W9uIaFNwFhJd",
        "colab_type": "text"
      },
      "source": [
        "The range is quite wide: the lobster roll is only 33% more expensive in Boston; the egg sandwich is 117% percent more (that is, more than twice the price)."
      ]
    },
    {
      "cell_type": "markdown",
      "metadata": {
        "id": "QQD0q3wEFhJe",
        "colab_type": "text"
      },
      "source": [
        "**Exercise:** What are the percent differences if we put the Boston prices in the denominator?  What is the range of those differences?  Write a sentence that summarizes the results."
      ]
    },
    {
      "cell_type": "code",
      "metadata": {
        "id": "DffUqUK-FhJf",
        "colab_type": "code",
        "outputId": "222fbb47-1e6b-4ab7-cb48-e32adbe6e0a5",
        "colab": {
          "base_uri": "https://localhost:8080/",
          "height": 51
        }
      },
      "source": [
        "relative_differences2 = absolute_differences / boston_price_array\n",
        "relative_differences2"
      ],
      "execution_count": 73,
      "outputs": [
        {
          "output_type": "execute_result",
          "data": {
            "text/plain": [
              "array([0.24924925, 0.37421777, 0.41255007, 0.28571429, 0.40381558,\n",
              "       0.5490982 ])"
            ]
          },
          "metadata": {
            "tags": []
          },
          "execution_count": 73
        }
      ]
    },
    {
      "cell_type": "code",
      "metadata": {
        "id": "QypD7G2tFhJq",
        "colab_type": "code",
        "outputId": "fce0abb3-b411-4411-9ffe-166219a5c9aa",
        "colab": {
          "base_uri": "https://localhost:8080/",
          "height": 34
        }
      },
      "source": [
        "np.min(relative_differences2), np.max(relative_differences2)"
      ],
      "execution_count": 74,
      "outputs": [
        {
          "output_type": "execute_result",
          "data": {
            "text/plain": [
              "(0.24924924924924927, 0.5490981963927856)"
            ]
          },
          "metadata": {
            "tags": []
          },
          "execution_count": 74
        }
      ]
    },
    {
      "cell_type": "code",
      "metadata": {
        "id": "ZBXQAuGqFhJu",
        "colab_type": "code",
        "outputId": "d10c6c58-68f5-4a12-87df-2956963bc818",
        "colab": {
          "base_uri": "https://localhost:8080/",
          "height": 51
        }
      },
      "source": [
        "percent_differences2 = relative_differences2 * 100\n",
        "percent_differences2"
      ],
      "execution_count": 75,
      "outputs": [
        {
          "output_type": "execute_result",
          "data": {
            "text/plain": [
              "array([24.92492492, 37.42177722, 41.25500668, 28.57142857, 40.38155803,\n",
              "       54.90981964])"
            ]
          },
          "metadata": {
            "tags": []
          },
          "execution_count": 75
        }
      ]
    },
    {
      "cell_type": "code",
      "metadata": {
        "id": "LP60UhULH-VS",
        "colab_type": "code",
        "outputId": "36e160db-2a9c-4f63-82ca-65e35ad3a3d9",
        "colab": {
          "base_uri": "https://localhost:8080/",
          "height": 34
        }
      },
      "source": [
        "np.min(percent_differences2),np.max(percent_differences2)"
      ],
      "execution_count": 76,
      "outputs": [
        {
          "output_type": "execute_result",
          "data": {
            "text/plain": [
              "(24.924924924924927, 54.90981963927856)"
            ]
          },
          "metadata": {
            "tags": []
          },
          "execution_count": 76
        }
      ]
    },
    {
      "cell_type": "markdown",
      "metadata": {
        "id": "RRrklA-VH-_s",
        "colab_type": "text"
      },
      "source": [
        "Lobster roll is 24% less expensive in London and the egg sandwich is 54% less."
      ]
    },
    {
      "cell_type": "markdown",
      "metadata": {
        "id": "up1VymMVFhJx",
        "colab_type": "text"
      },
      "source": [
        "## Summarizing relative differences\n",
        "\n",
        "Because the range of relative differences is wide, it is not clear how we should best summarize it.  One option is the mean of the percent differences:"
      ]
    },
    {
      "cell_type": "code",
      "metadata": {
        "id": "qXAge22gFhJy",
        "colab_type": "code",
        "outputId": "714ba7ec-b68c-4625-c2ba-8bc4e0cfc125",
        "colab": {
          "base_uri": "https://localhost:8080/",
          "height": 34
        }
      },
      "source": [
        "np.mean(percent_differences)"
      ],
      "execution_count": 77,
      "outputs": [
        {
          "output_type": "execute_result",
          "data": {
            "text/plain": [
              "65.4563973063973"
            ]
          },
          "metadata": {
            "tags": []
          },
          "execution_count": 77
        }
      ]
    },
    {
      "cell_type": "markdown",
      "metadata": {
        "id": "-hdNYSVoFhJ3",
        "colab_type": "text"
      },
      "source": [
        "So we might say, on average, sandwiches are 65% more expensive in Boston.\n",
        "\n",
        "But another way to summarize the data is to compute the mean price in each city, and then compute the percentage difference of the means:"
      ]
    },
    {
      "cell_type": "code",
      "metadata": {
        "id": "6t_y0bepFhJ7",
        "colab_type": "code",
        "outputId": "b8cdcaa3-cd32-4773-8e55-0655fa21a08e",
        "colab": {
          "base_uri": "https://localhost:8080/",
          "height": 34
        }
      },
      "source": [
        "boston_mean = np.mean(boston_price_array)\n",
        "london_mean = np.mean(london_price_array)\n",
        "\n",
        "(boston_mean - london_mean) / london_mean * 100"
      ],
      "execution_count": 78,
      "outputs": [
        {
          "output_type": "execute_result",
          "data": {
            "text/plain": [
              "56.81003584229393"
            ]
          },
          "metadata": {
            "tags": []
          },
          "execution_count": 78
        }
      ]
    },
    {
      "cell_type": "markdown",
      "metadata": {
        "id": "fnAMDVroFhKF",
        "colab_type": "text"
      },
      "source": [
        "So we might say that the average sandwich price is 56% higher in Boston.\n",
        "\n",
        "As this example demonstrates:\n",
        "\n",
        "* With relative and percentage differences, the mean of the differences is not the same as the difference of the means.\n",
        "\n",
        "* When you report data like this, you should think about different ways to summarize the data.\n",
        "\n",
        "* When you read a summary of data like this, make sure you understand what summary was chosen and what it means.\n",
        "\n",
        "In this example, I think the second option (the relative difference in the means) is more meaningful, because it reflects the difference in price between \"baskets of goods\" that include one of each sandwich."
      ]
    },
    {
      "cell_type": "markdown",
      "metadata": {
        "id": "I_ATVe2ZFhKN",
        "colab_type": "text"
      },
      "source": [
        "## Debugging\n",
        "\n",
        "So far, most of the exercises have only required a few lines of code.  If you made errors along the way, you probably found them quickly.\n",
        "\n",
        "As we go along, the exercises will be more substantial, and you may find yourself spending more time debugging.  Here are a couple of suggestions to help you find errors quickly -- and avoid them in the first place.\n",
        "\n",
        "Most importantly, you should develop code incrementally; that is, you should write a small amount of code and test it.  If it works, add more code; otherwise, debug what you have.\n",
        "\n",
        "Conversely, if you have written too much code, and you are having a hard time debugging it, split it into smaller chunks and debug them separately.\n",
        "\n",
        "For example, suppose you want to compute, for each sandwich in the sandwich list, the midpoint of the Boston and London prices.  As a first draft, you might write something like this:"
      ]
    },
    {
      "cell_type": "code",
      "metadata": {
        "id": "mK05iOqqFhKO",
        "colab_type": "code",
        "outputId": "b1f556b0-60dd-4d35-8ac5-9fcbb64fcf4d",
        "colab": {
          "base_uri": "https://localhost:8080/",
          "height": 34
        }
      },
      "source": [
        "boston_price_list = [9.99, 7.99, 7.49, 7, 6.29, 4.99]\n",
        "london_price_list = [7.5, 5, 4.4, 5, 3.75, 2.25]\n",
        "\n",
        "midpoint_price = np.mean(boston_price_list + london_price_list)\n",
        "midpoint_price"
      ],
      "execution_count": 79,
      "outputs": [
        {
          "output_type": "execute_result",
          "data": {
            "text/plain": [
              "5.970833333333334"
            ]
          },
          "metadata": {
            "tags": []
          },
          "execution_count": 79
        }
      ]
    },
    {
      "cell_type": "markdown",
      "metadata": {
        "id": "91kSU3pyFhKS",
        "colab_type": "text"
      },
      "source": [
        "This code runs, and it produces an answer, but the answer is not what we expect.  In fact, it's not easy to figure out where that number came from.\n",
        "\n",
        "To debug this code, I would start by splitting the computation into smaller steps and displaying the intermediate results.  For example, we might add the two lists and display the result, like this."
      ]
    },
    {
      "cell_type": "code",
      "metadata": {
        "id": "ineMf5UxFhKW",
        "colab_type": "code",
        "outputId": "053cebac-e0b2-4097-fc1b-9ae22f6980e3",
        "colab": {
          "base_uri": "https://localhost:8080/",
          "height": 34
        }
      },
      "source": [
        "total_price = boston_price_list + london_price_list\n",
        "total_price"
      ],
      "execution_count": 80,
      "outputs": [
        {
          "output_type": "execute_result",
          "data": {
            "text/plain": [
              "[9.99, 7.99, 7.49, 7, 6.29, 4.99, 7.5, 5, 4.4, 5, 3.75, 2.25]"
            ]
          },
          "metadata": {
            "tags": []
          },
          "execution_count": 80
        }
      ]
    },
    {
      "cell_type": "markdown",
      "metadata": {
        "id": "S5u58ZfvFhKd",
        "colab_type": "text"
      },
      "source": [
        "Looking at the result, we see that it did not add the sandwich prices elementwise, as we intended.  Because the arguments are lists, the `+` operator concatenates them rather than adding the elements.\n",
        "\n",
        "We can solve this problem by converting the lists to arrays."
      ]
    },
    {
      "cell_type": "code",
      "metadata": {
        "id": "lc1SQMzjFhKg",
        "colab_type": "code",
        "outputId": "7a843335-6344-4bf4-8fee-bee6450c1b5a",
        "colab": {
          "base_uri": "https://localhost:8080/",
          "height": 34
        }
      },
      "source": [
        "boston_price_array = np.array(boston_price_list)\n",
        "london_price_array = np.array(london_price_list)\n",
        "\n",
        "total_price_array = boston_price_array + london_price_array\n",
        "total_price_array"
      ],
      "execution_count": 81,
      "outputs": [
        {
          "output_type": "execute_result",
          "data": {
            "text/plain": [
              "array([17.49, 12.99, 11.89, 12.  , 10.04,  7.24])"
            ]
          },
          "metadata": {
            "tags": []
          },
          "execution_count": 81
        }
      ]
    },
    {
      "cell_type": "code",
      "metadata": {
        "id": "tlYoVN-DFhKn",
        "colab_type": "code",
        "outputId": "ef109cdf-c7da-47b4-eb8d-a3b63c99cb13",
        "colab": {
          "base_uri": "https://localhost:8080/",
          "height": 34
        }
      },
      "source": [
        "midpoint_price_array = total_price_array / 2\n",
        "midpoint_price_array"
      ],
      "execution_count": 82,
      "outputs": [
        {
          "output_type": "execute_result",
          "data": {
            "text/plain": [
              "array([8.745, 6.495, 5.945, 6.   , 5.02 , 3.62 ])"
            ]
          },
          "metadata": {
            "tags": []
          },
          "execution_count": 82
        }
      ]
    },
    {
      "cell_type": "markdown",
      "metadata": {
        "id": "9Eb7L4nBFhKt",
        "colab_type": "text"
      },
      "source": [
        "As you gain experience, you will be able to write bigger chunks of code before testing.  But while you are getting started, keep it simple!\n",
        "\n",
        "As a general rule, each line of code should perform a small number of operations, often one.  And each cell should contain a small number of statements, often one."
      ]
    }
  ]
}