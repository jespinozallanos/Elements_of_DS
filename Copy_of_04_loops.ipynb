{
  "nbformat": 4,
  "nbformat_minor": 0,
  "metadata": {
    "kernelspec": {
      "display_name": "Python 3",
      "language": "python",
      "name": "python3"
    },
    "language_info": {
      "codemirror_mode": {
        "name": "ipython",
        "version": 3
      },
      "file_extension": ".py",
      "mimetype": "text/x-python",
      "name": "python",
      "nbconvert_exporter": "python",
      "pygments_lexer": "ipython3",
      "version": "3.7.4"
    },
    "colab": {
      "name": "Copy of 04_loops.ipynb",
      "provenance": [],
      "collapsed_sections": [],
      "include_colab_link": true
    }
  },
  "cells": [
    {
      "cell_type": "markdown",
      "metadata": {
        "id": "view-in-github",
        "colab_type": "text"
      },
      "source": [
        "<a href=\"https://colab.research.google.com/github/mindyng/Elements_of_DS/blob/master/Copy_of_04_loops.ipynb\" target=\"_parent\"><img src=\"https://colab.research.google.com/assets/colab-badge.svg\" alt=\"Open In Colab\"/></a>"
      ]
    },
    {
      "cell_type": "markdown",
      "metadata": {
        "id": "yD2Q-8_FwLOa",
        "colab_type": "text"
      },
      "source": [
        "# Loops and files\n",
        "\n",
        "Elements of Data Science\n",
        "\n",
        "by [Allen Downey](https://allendowney.com)\n",
        "\n",
        "[MIT License](https://opensource.org/licenses/MIT)\n",
        "\n",
        "### Goals\n",
        "\n",
        "This notebook presents loops, which are used to express repeated computation, and files, which are used to store data.  As an example, we will download the famous book *War and Peace* from Project Gutenberg and write a loop that reads the book and counts the words.\n",
        "\n",
        "In the next notebook, we'll extend this example to count the number of unique words and the number of times each word appears.\n",
        "\n",
        "This example is meant to introduce some computational tools you will need; it is also an introduction to working with textual data."
      ]
    },
    {
      "cell_type": "markdown",
      "metadata": {
        "id": "EJCJGxtQwLOe",
        "colab_type": "text"
      },
      "source": [
        "## Loops\n",
        "\n",
        "One of the most important elements of computation is repetition, and the most common way to express repetition is a `for` loop.\n",
        "\n",
        "As a simple example, suppose we want to display the elements of a tuple.  Here's a tuple of three integers:"
      ]
    },
    {
      "cell_type": "code",
      "metadata": {
        "id": "F5OQDAw6wLOg",
        "colab_type": "code",
        "colab": {}
      },
      "source": [
        "t = 1, 2, 3"
      ],
      "execution_count": 0,
      "outputs": []
    },
    {
      "cell_type": "markdown",
      "metadata": {
        "id": "mTJ9j4KBwLOn",
        "colab_type": "text"
      },
      "source": [
        "And here's a `for` loop that prints the elements."
      ]
    },
    {
      "cell_type": "code",
      "metadata": {
        "id": "zu_1sMaqwLOo",
        "colab_type": "code",
        "outputId": "ff8afe9f-0990-44b1-d8e5-5b0db4759215",
        "colab": {
          "base_uri": "https://localhost:8080/",
          "height": 68
        }
      },
      "source": [
        "for x in t:\n",
        "    print(x)"
      ],
      "execution_count": 2,
      "outputs": [
        {
          "output_type": "stream",
          "text": [
            "1\n",
            "2\n",
            "3\n"
          ],
          "name": "stdout"
        }
      ]
    },
    {
      "cell_type": "markdown",
      "metadata": {
        "id": "wiKccJWxwLOu",
        "colab_type": "text"
      },
      "source": [
        "The first line of the loop is a \"header\" that specifies the tuple, `t`, and a variable name `x`.  The tuple already exists, but `x` does not; the loop will create it.  The header has to end with a colon, `:`.\n",
        "\n",
        "Inside the loop is a `print` statement, which displays the value of `x`.\n",
        "\n",
        "So here's what happens:\n",
        "\n",
        "1. When the loop starts, it gets the first element of `t`, which is `1`, and assigns it to `x`.  It executes the `print` statement, which displays the value `1`.\n",
        "\n",
        "2. Then it gets the second element of `t`, which is `2`, and displays it.\n",
        "\n",
        "3. Then it gets the third element of `t`, which is `3`, and displays it.\n",
        "\n",
        "After printing the last element of the tuple, the loop ends.\n",
        "\n",
        "We can also loop through the letters in a string:"
      ]
    },
    {
      "cell_type": "code",
      "metadata": {
        "id": "9be-pRYEwLOw",
        "colab_type": "code",
        "outputId": "42e9ee92-1ed1-4b57-9bdd-29b7897ec9c8",
        "colab": {
          "base_uri": "https://localhost:8080/",
          "height": 85
        }
      },
      "source": [
        "word = 'Data'\n",
        "\n",
        "for letter in word:\n",
        "    print(letter)"
      ],
      "execution_count": 3,
      "outputs": [
        {
          "output_type": "stream",
          "text": [
            "D\n",
            "a\n",
            "t\n",
            "a\n"
          ],
          "name": "stdout"
        }
      ]
    },
    {
      "cell_type": "markdown",
      "metadata": {
        "id": "FS2h64xcwLO7",
        "colab_type": "text"
      },
      "source": [
        "When the loop begins, `word` already exists, but `letter` does not.  Again, the loop creates `letter` and assign values to it.\n",
        "\n",
        "The variable created by the loop is called the \"loop variable\".  You can give it any name you like; in this example, I chose `letter` to remind me what kind of value it contains.\n",
        "\n",
        "After the loop ends, the loop variable contains the last value."
      ]
    },
    {
      "cell_type": "code",
      "metadata": {
        "id": "bMYvQ6E8wLPC",
        "colab_type": "code",
        "outputId": "2b273822-04ee-4516-cfc0-c283829aa5f2",
        "colab": {
          "base_uri": "https://localhost:8080/",
          "height": 34
        }
      },
      "source": [
        "letter\n"
      ],
      "execution_count": 4,
      "outputs": [
        {
          "output_type": "execute_result",
          "data": {
            "text/plain": [
              "'a'"
            ]
          },
          "metadata": {
            "tags": []
          },
          "execution_count": 4
        }
      ]
    },
    {
      "cell_type": "markdown",
      "metadata": {
        "id": "RwM14u-RwLPe",
        "colab_type": "text"
      },
      "source": [
        "**Exercise:** Create a list with four elements, of any type, and write a `for` loop that prints the elements.  Call the list `sequence` and the loop variable `element`."
      ]
    },
    {
      "cell_type": "code",
      "metadata": {
        "id": "QK_rl3HpwLPh",
        "colab_type": "code",
        "outputId": "c03c9b31-7342-4cfa-943b-19690d83c1a2",
        "colab": {
          "base_uri": "https://localhost:8080/",
          "height": 85
        }
      },
      "source": [
        "sequence = [8, 24, \"mumba\", \"mentality\"]\n",
        "for element in sequence:\n",
        "  print(element)"
      ],
      "execution_count": 5,
      "outputs": [
        {
          "output_type": "stream",
          "text": [
            "8\n",
            "24\n",
            "mumba\n",
            "mentality\n"
          ],
          "name": "stdout"
        }
      ]
    },
    {
      "cell_type": "markdown",
      "metadata": {
        "id": "zgGr2KIkwLPv",
        "colab_type": "text"
      },
      "source": [
        "You might wonder why I didn't call the list `list`.  I avoided it because Python has a function named `list` that makes new lists:"
      ]
    },
    {
      "cell_type": "code",
      "metadata": {
        "id": "vJ8l6iXqwLPw",
        "colab_type": "code",
        "outputId": "82ace537-973d-4486-8833-e42f574deabb",
        "colab": {
          "base_uri": "https://localhost:8080/",
          "height": 34
        }
      },
      "source": [
        "list('string')"
      ],
      "execution_count": 6,
      "outputs": [
        {
          "output_type": "execute_result",
          "data": {
            "text/plain": [
              "['s', 't', 'r', 'i', 'n', 'g']"
            ]
          },
          "metadata": {
            "tags": []
          },
          "execution_count": 6
        }
      ]
    },
    {
      "cell_type": "markdown",
      "metadata": {
        "id": "mRv57EJ5wLP0",
        "colab_type": "text"
      },
      "source": [
        "If you create a variable named `list`, you can't use the function any more."
      ]
    },
    {
      "cell_type": "code",
      "metadata": {
        "id": "mi69kbnOwLP2",
        "colab_type": "code",
        "outputId": "b658646e-76fa-4bb1-da03-9efa9cea93ff",
        "colab": {
          "base_uri": "https://localhost:8080/",
          "height": 34
        }
      },
      "source": [
        "# list = [1, 2, 3]\n",
        "list('string')"
      ],
      "execution_count": 7,
      "outputs": [
        {
          "output_type": "execute_result",
          "data": {
            "text/plain": [
              "['s', 't', 'r', 'i', 'n', 'g']"
            ]
          },
          "metadata": {
            "tags": []
          },
          "execution_count": 7
        }
      ]
    },
    {
      "cell_type": "markdown",
      "metadata": {
        "id": "0r6UY1qewLP_",
        "colab_type": "text"
      },
      "source": [
        "In this example, Python tries to use your list as a function, which doesn't work because you can't \"call\" a list like a function.\n",
        "\n",
        "**Exercise:** After running that cell, we won't be able to use the `list` function until we restart the Python interpreter.  So this is a good time to find out how.\n",
        "\n",
        "1. \"Comment out\" the previous cell; that is, add the comment symbol, `#`, to the beginning of the first line so it will be treated as a comment.\n",
        "\n",
        "```\n",
        "# list = [1, 2, 3]\n",
        "list('string')\n",
        "```\n",
        "\n",
        "2. Now restart the Python interpreter.  If you are running this notebook on Colab, click the `Runtime` menu and select `Restart all runtimes...`; if you are running in another Jupyter environment, click on the `Kernel` menu and select `Restart`.\n",
        "\n",
        "When you restart the interpreter, your variables disappear, so you should start again at the beginning of the notebook and run the cells again, in order."
      ]
    },
    {
      "cell_type": "markdown",
      "metadata": {
        "id": "xqWMPSYTwLQB",
        "colab_type": "text"
      },
      "source": [
        "## Looping and counting\n",
        "\n",
        "*War and Peace* is a famously long book; let's see how long it is.  To count the words in a book, we need to\n",
        "\n",
        "1. Loop through a book and \n",
        "\n",
        "2. Count.\n",
        "\n",
        "We'll start with counting.\n",
        "\n",
        "We've already seen that you can create a variable and give it a value, like this:"
      ]
    },
    {
      "cell_type": "code",
      "metadata": {
        "id": "KKaZlfHKwLQE",
        "colab_type": "code",
        "outputId": "e2416be6-244f-4b36-9f67-92e8adcc73ca",
        "colab": {
          "base_uri": "https://localhost:8080/",
          "height": 34
        }
      },
      "source": [
        "count = 0\n",
        "count"
      ],
      "execution_count": 8,
      "outputs": [
        {
          "output_type": "execute_result",
          "data": {
            "text/plain": [
              "0"
            ]
          },
          "metadata": {
            "tags": []
          },
          "execution_count": 8
        }
      ]
    },
    {
      "cell_type": "markdown",
      "metadata": {
        "id": "Sxoz3ch8wLQL",
        "colab_type": "text"
      },
      "source": [
        "If you assign a different value to the same variable, the new value replaces the old one."
      ]
    },
    {
      "cell_type": "code",
      "metadata": {
        "id": "d8UuW9WowLQM",
        "colab_type": "code",
        "outputId": "582c5c39-f4ee-4b4f-f1e3-bf8f8fa9164f",
        "colab": {
          "base_uri": "https://localhost:8080/",
          "height": 34
        }
      },
      "source": [
        "count = 1\n",
        "count"
      ],
      "execution_count": 9,
      "outputs": [
        {
          "output_type": "execute_result",
          "data": {
            "text/plain": [
              "1"
            ]
          },
          "metadata": {
            "tags": []
          },
          "execution_count": 9
        }
      ]
    },
    {
      "cell_type": "markdown",
      "metadata": {
        "id": "gzDVVO2rwLQU",
        "colab_type": "text"
      },
      "source": [
        "You can increase the value of a variable by reading the old value, adding `1`, and assigning the result back to the original variable."
      ]
    },
    {
      "cell_type": "code",
      "metadata": {
        "id": "pijxJtXcwLQW",
        "colab_type": "code",
        "outputId": "367a41bf-486d-4ffb-db57-33efb21fb6ad",
        "colab": {
          "base_uri": "https://localhost:8080/",
          "height": 34
        }
      },
      "source": [
        "count = count + 1\n",
        "count"
      ],
      "execution_count": 10,
      "outputs": [
        {
          "output_type": "execute_result",
          "data": {
            "text/plain": [
              "2"
            ]
          },
          "metadata": {
            "tags": []
          },
          "execution_count": 10
        }
      ]
    },
    {
      "cell_type": "markdown",
      "metadata": {
        "id": "j__njjI3wLQg",
        "colab_type": "text"
      },
      "source": [
        "Increasing the value of a variable is called an \"increment\"; decreasing the value is called a \"decrement\".  It is such a common operation that there is a special operator for it.  "
      ]
    },
    {
      "cell_type": "code",
      "metadata": {
        "id": "U_TluY0OwLQi",
        "colab_type": "code",
        "outputId": "5b42e574-0930-415e-9b88-d8dd0759d308",
        "colab": {
          "base_uri": "https://localhost:8080/",
          "height": 34
        }
      },
      "source": [
        "count += 1\n",
        "count"
      ],
      "execution_count": 11,
      "outputs": [
        {
          "output_type": "execute_result",
          "data": {
            "text/plain": [
              "3"
            ]
          },
          "metadata": {
            "tags": []
          },
          "execution_count": 11
        }
      ]
    },
    {
      "cell_type": "markdown",
      "metadata": {
        "id": "_t_lkRiiwLQt",
        "colab_type": "text"
      },
      "source": [
        "In this example, the `+=` operator reads the value of `count`, adds `1`, and assigns the result back to `count`.\n",
        "\n",
        "Python also provides `-=` and other update operators like `*=` and `/=`."
      ]
    },
    {
      "cell_type": "markdown",
      "metadata": {
        "id": "Zm6-JPL3wLQx",
        "colab_type": "text"
      },
      "source": [
        "**Exercise:** The following is a number trick from [Learn With Math Games](https://www.learn-with-math-games.com/math-number-tricks.html)\n",
        "\n",
        "\"Finding Someone’s Age\n",
        "\n",
        "* Ask the person to multiply the first number of his or her age by 5.\n",
        "\n",
        "* Tell them to add 3.\n",
        "\n",
        "* Now tell them to double this figure.\n",
        "\n",
        "* Finally, have the person add the second number of his or her age to the figure and have them tell you their answer.\n",
        "\n",
        "* Deduct 6 and you will have their age.\"\n",
        "\n",
        "Test this algorithm using your age.  Use a single variable and update it using `+=` and other update operators."
      ]
    },
    {
      "cell_type": "code",
      "metadata": {
        "id": "2fY93XETwLQz",
        "colab_type": "code",
        "outputId": "7611f7a3-c31e-48d4-ddfc-0c879e804618",
        "colab": {
          "base_uri": "https://localhost:8080/",
          "height": 34
        }
      },
      "source": [
        "num = (3)*5\n",
        "num +=3\n",
        "num *=2\n",
        "num+=4\n",
        "num -=6\n",
        "num"
      ],
      "execution_count": 12,
      "outputs": [
        {
          "output_type": "execute_result",
          "data": {
            "text/plain": [
              "34"
            ]
          },
          "metadata": {
            "tags": []
          },
          "execution_count": 12
        }
      ]
    },
    {
      "cell_type": "markdown",
      "metadata": {
        "id": "TCyt73pWwLQ5",
        "colab_type": "text"
      },
      "source": [
        "## Files\n",
        "\n",
        "Now we can use a loop to read lines from a file and use a variable to count them.\n",
        "\n",
        "We can download *War and Peace* from [Project Gutenberg](https://www.gutenberg.org), which is a repository of free books.\n",
        "\n",
        "The following cell imports `os`, which stands for \"operating system\"; it is a Python library that provides functions for interacting with files and other parts of the operating system."
      ]
    },
    {
      "cell_type": "code",
      "metadata": {
        "id": "dVWIOf7fwLQ8",
        "colab_type": "code",
        "colab": {}
      },
      "source": [
        "import os"
      ],
      "execution_count": 0,
      "outputs": []
    },
    {
      "cell_type": "markdown",
      "metadata": {
        "id": "M7u6alxPwLRF",
        "colab_type": "text"
      },
      "source": [
        "If you run the following cell, it checks to see whether you already have a file named `2600-0.txt`, which is the name of the file that contains the text of *War and Peace*.\n",
        "\n",
        "If not, it uses `wget` to copy the file from Project Gutenberg to your computer.  "
      ]
    },
    {
      "cell_type": "code",
      "metadata": {
        "id": "kXo18Qi9wLRH",
        "colab_type": "code",
        "outputId": "ad05795d-2564-42ac-884a-70493a3d5b0a",
        "colab": {
          "base_uri": "https://localhost:8080/",
          "height": 204
        }
      },
      "source": [
        "if not os.path.exists('2600-0.txt'):\n",
        "    !wget https://www.gutenberg.org/files/2600/2600-0.txt"
      ],
      "execution_count": 14,
      "outputs": [
        {
          "output_type": "stream",
          "text": [
            "--2020-01-29 09:13:55--  https://www.gutenberg.org/files/2600/2600-0.txt\n",
            "Resolving www.gutenberg.org (www.gutenberg.org)... 152.19.134.47, 2610:28:3090:3000:0:bad:cafe:47\n",
            "Connecting to www.gutenberg.org (www.gutenberg.org)|152.19.134.47|:443... connected.\n",
            "HTTP request sent, awaiting response... 200 OK\n",
            "Length: 3359549 (3.2M) [text/plain]\n",
            "Saving to: ‘2600-0.txt’\n",
            "\n",
            "2600-0.txt          100%[===================>]   3.20M  1.65MB/s    in 1.9s    \n",
            "\n",
            "2020-01-29 09:13:57 (1.65 MB/s) - ‘2600-0.txt’ saved [3359549/3359549]\n",
            "\n"
          ],
          "name": "stdout"
        }
      ]
    },
    {
      "cell_type": "markdown",
      "metadata": {
        "id": "p5mlEqizwLRU",
        "colab_type": "text"
      },
      "source": [
        "If you are running this notebook on Colab, it will copy the file to a \"virtual file system\" on Colab, which means it will disappear if you leave the notebook idle for a while.  In that case, you can download it again later.\n",
        "\n",
        "In order to read the contents of the file, you have to \"open\" it, which you can do with the `open` function."
      ]
    },
    {
      "cell_type": "code",
      "metadata": {
        "id": "y6_uKeqowLRW",
        "colab_type": "code",
        "outputId": "e39b6096-d105-40ba-e2c8-2ac69b48f331",
        "colab": {
          "base_uri": "https://localhost:8080/",
          "height": 34
        }
      },
      "source": [
        "fp = open('2600-0.txt')\n",
        "fp"
      ],
      "execution_count": 15,
      "outputs": [
        {
          "output_type": "execute_result",
          "data": {
            "text/plain": [
              "<_io.TextIOWrapper name='2600-0.txt' mode='r' encoding='UTF-8'>"
            ]
          },
          "metadata": {
            "tags": []
          },
          "execution_count": 15
        }
      ]
    },
    {
      "cell_type": "markdown",
      "metadata": {
        "id": "rriEsQKYwLRg",
        "colab_type": "text"
      },
      "source": [
        "The result is a `TextIOWrapper`, which is a type of \"file pointer\".\n",
        "\n",
        "The file pointer contains the name of the file, the mode (which is `r` for \"reading\") and the encoding (which is `UTF` for \"Unicode Transformation Format\").\n",
        "\n",
        "A file pointer is like a bookmark; it keeps track of which parts of the file you have read."
      ]
    },
    {
      "cell_type": "markdown",
      "metadata": {
        "id": "iLJsAPblwLRk",
        "colab_type": "text"
      },
      "source": [
        "If you use a file pointer in a `for` loop, it loops through the lines in the file.\n",
        "\n",
        "So we can count the number of lines like this:"
      ]
    },
    {
      "cell_type": "code",
      "metadata": {
        "id": "S7boc3XPwLRm",
        "colab_type": "code",
        "colab": {}
      },
      "source": [
        "fp = open('2600-0.txt')\n",
        "count = 0\n",
        "for line in fp:\n",
        "    count += 1"
      ],
      "execution_count": 0,
      "outputs": []
    },
    {
      "cell_type": "markdown",
      "metadata": {
        "id": "REODB2A1wLRv",
        "colab_type": "text"
      },
      "source": [
        "And then display the result."
      ]
    },
    {
      "cell_type": "code",
      "metadata": {
        "id": "GZTled5mwLRx",
        "colab_type": "code",
        "outputId": "1392c3a1-17e5-4068-8032-a4860e9088a6",
        "colab": {
          "base_uri": "https://localhost:8080/",
          "height": 34
        }
      },
      "source": [
        "count"
      ],
      "execution_count": 17,
      "outputs": [
        {
          "output_type": "execute_result",
          "data": {
            "text/plain": [
              "66055"
            ]
          },
          "metadata": {
            "tags": []
          },
          "execution_count": 17
        }
      ]
    },
    {
      "cell_type": "markdown",
      "metadata": {
        "id": "-RrNscUpwLR2",
        "colab_type": "text"
      },
      "source": [
        "There are about 66,000 lines in this file."
      ]
    },
    {
      "cell_type": "markdown",
      "metadata": {
        "id": "vEMMdRw_wLR4",
        "colab_type": "text"
      },
      "source": [
        "## if statements\n",
        "\n",
        "We've already see comparison operators, like `>` and `<`, which compare values and produce a Boolean result, `True` or `False`.\n",
        "\n",
        "For example, we can compare the final value of `count` to a number:"
      ]
    },
    {
      "cell_type": "code",
      "metadata": {
        "id": "ru-1Tt0uwLR5",
        "colab_type": "code",
        "outputId": "9c748124-1b90-40a3-90a3-1c74c434b51f",
        "colab": {
          "base_uri": "https://localhost:8080/",
          "height": 34
        }
      },
      "source": [
        "count > 60000"
      ],
      "execution_count": 18,
      "outputs": [
        {
          "output_type": "execute_result",
          "data": {
            "text/plain": [
              "True"
            ]
          },
          "metadata": {
            "tags": []
          },
          "execution_count": 18
        }
      ]
    },
    {
      "cell_type": "markdown",
      "metadata": {
        "id": "MA2YvFWowLSD",
        "colab_type": "text"
      },
      "source": [
        "We can use a comparison operator in an `if` statement to check for a condition and take action accordingly."
      ]
    },
    {
      "cell_type": "code",
      "metadata": {
        "id": "PSiCcGYiwLSI",
        "colab_type": "code",
        "outputId": "264806a8-5d53-41ae-9a00-fae9a37f283e",
        "colab": {
          "base_uri": "https://localhost:8080/",
          "height": 34
        }
      },
      "source": [
        "if count > 60000:\n",
        "    print('Long book!')"
      ],
      "execution_count": 19,
      "outputs": [
        {
          "output_type": "stream",
          "text": [
            "Long book!\n"
          ],
          "name": "stdout"
        }
      ]
    },
    {
      "cell_type": "markdown",
      "metadata": {
        "id": "9bpBQU6nwLSR",
        "colab_type": "text"
      },
      "source": [
        "The first line of the `if` statement specifies the condition we're checking for. Like the header of a `for` statement, the first line of an `if` statement has to end with a colon.\n",
        "\n",
        "If the condition is true, the indented statement runs; otherwise, it doesn't.\n",
        "\n",
        "In the previous example, the condition is true, so the `print` statement runs.  \n",
        "\n",
        "In the following example, the condition is false, so the `print` statement doesn't run."
      ]
    },
    {
      "cell_type": "code",
      "metadata": {
        "id": "1xlP0yPUwLSU",
        "colab_type": "code",
        "colab": {}
      },
      "source": [
        "if count < 1000:\n",
        "    print('Novella!')"
      ],
      "execution_count": 0,
      "outputs": []
    },
    {
      "cell_type": "markdown",
      "metadata": {
        "id": "-zLuWFcowLSY",
        "colab_type": "text"
      },
      "source": [
        "We can put a `print` statement inside a `for` loop.  In this example, we only print a line from the book when `count` is `1`.\n",
        "\n",
        "The other lines are read, but not displayed."
      ]
    },
    {
      "cell_type": "code",
      "metadata": {
        "id": "YFbCnq1BwLSa",
        "colab_type": "code",
        "outputId": "e57890c0-27b3-42cd-c356-c6e68d3e9a57",
        "colab": {
          "base_uri": "https://localhost:8080/",
          "height": 51
        }
      },
      "source": [
        "fp = open('2600-0.txt')\n",
        "count = 0\n",
        "for line in fp:\n",
        "    if count == 1:\n",
        "        print(line)\n",
        "    count += 1"
      ],
      "execution_count": 21,
      "outputs": [
        {
          "output_type": "stream",
          "text": [
            "The Project Gutenberg EBook of War and Peace, by Leo Tolstoy\n",
            "\n"
          ],
          "name": "stdout"
        }
      ]
    },
    {
      "cell_type": "markdown",
      "metadata": {
        "id": "7Acp5u6BwLSk",
        "colab_type": "text"
      },
      "source": [
        "Notice the indentation in this example:\n",
        "\n",
        "* Statements inside the `for` loop are indented.\n",
        "\n",
        "* The statement inside the `if` statement is indented.\n",
        "\n",
        "* The statement `count += 1` is \"outdented\" from the previous line, so it ends the `if` statement.  But it is still inside the `for` loop.\n",
        "\n",
        "It is legal in Python to use spaces or tabs for indentation, but the most common convention is to use four spaces, never tabs.  That's what I'll do in my code and I strongly suggest you follow the convention."
      ]
    },
    {
      "cell_type": "markdown",
      "metadata": {
        "id": "ZbK7FbCrwLSp",
        "colab_type": "text"
      },
      "source": [
        "## break statement\n",
        "\n",
        "If we display the final value of `count`, we see that the loop reads the entire file, but only prints one line:"
      ]
    },
    {
      "cell_type": "code",
      "metadata": {
        "id": "VsUwmOPuwLSr",
        "colab_type": "code",
        "outputId": "a3b09047-4dc8-4a28-b840-799f00bac3d1",
        "colab": {
          "base_uri": "https://localhost:8080/",
          "height": 34
        }
      },
      "source": [
        "count"
      ],
      "execution_count": 22,
      "outputs": [
        {
          "output_type": "execute_result",
          "data": {
            "text/plain": [
              "66055"
            ]
          },
          "metadata": {
            "tags": []
          },
          "execution_count": 22
        }
      ]
    },
    {
      "cell_type": "markdown",
      "metadata": {
        "id": "eGhV4wCNwLS7",
        "colab_type": "text"
      },
      "source": [
        "We can avoid reading the whole file by using a `break` statement, like this:"
      ]
    },
    {
      "cell_type": "code",
      "metadata": {
        "id": "VwOFd1dBwLTG",
        "colab_type": "code",
        "outputId": "c0687efc-e2f5-43b9-f7ac-fdbc893a5f10",
        "colab": {
          "base_uri": "https://localhost:8080/",
          "height": 51
        }
      },
      "source": [
        "fp = open('2600-0.txt')\n",
        "count = 0\n",
        "for line in fp:\n",
        "    if count == 1:\n",
        "        print(line)\n",
        "        break\n",
        "    count += 1"
      ],
      "execution_count": 23,
      "outputs": [
        {
          "output_type": "stream",
          "text": [
            "The Project Gutenberg EBook of War and Peace, by Leo Tolstoy\n",
            "\n"
          ],
          "name": "stdout"
        }
      ]
    },
    {
      "cell_type": "markdown",
      "metadata": {
        "id": "8qZYP5sewLTa",
        "colab_type": "text"
      },
      "source": [
        "The `break` statement ends the loop immediately, skipping the rest of the file.  We can confirm that by checking the last value of `count`: "
      ]
    },
    {
      "cell_type": "code",
      "metadata": {
        "id": "D78j4KCPwLTr",
        "colab_type": "code",
        "outputId": "e093fe40-6350-46c1-f71c-2ed5f1532aad",
        "colab": {
          "base_uri": "https://localhost:8080/",
          "height": 34
        }
      },
      "source": [
        "count"
      ],
      "execution_count": 24,
      "outputs": [
        {
          "output_type": "execute_result",
          "data": {
            "text/plain": [
              "1"
            ]
          },
          "metadata": {
            "tags": []
          },
          "execution_count": 24
        }
      ]
    },
    {
      "cell_type": "markdown",
      "metadata": {
        "id": "NxKyx86LwLUq",
        "colab_type": "text"
      },
      "source": [
        "**Exercise:** Write a loop that prints the first 5 lines of the file and then breaks out of the loop."
      ]
    },
    {
      "cell_type": "code",
      "metadata": {
        "id": "xSgsFmMGwLUr",
        "colab_type": "code",
        "outputId": "5c3d4da0-8b3f-4b2e-88f7-efa4068b9ae3",
        "colab": {
          "base_uri": "https://localhost:8080/",
          "height": 221
        }
      },
      "source": [
        "fp = open('2600-0.txt')\n",
        "count = 0\n",
        "for line in fp:\n",
        "    if count <=5:\n",
        "        print(line)\n",
        "        count += 1"
      ],
      "execution_count": 25,
      "outputs": [
        {
          "output_type": "stream",
          "text": [
            "﻿\n",
            "\n",
            "The Project Gutenberg EBook of War and Peace, by Leo Tolstoy\n",
            "\n",
            "\n",
            "\n",
            "This eBook is for the use of anyone anywhere at no cost and with almost\n",
            "\n",
            "no restrictions whatsoever. You may copy it, give it away or re-use\n",
            "\n",
            "it under the terms of the Project Gutenberg License included with this\n",
            "\n"
          ],
          "name": "stdout"
        }
      ]
    },
    {
      "cell_type": "markdown",
      "metadata": {
        "id": "J7CnifiVwLUx",
        "colab_type": "text"
      },
      "source": [
        "## Whitespace\n",
        "\n",
        "If we run the loop again and display the final value of `line`, we see that there are two extra characters at the end:"
      ]
    },
    {
      "cell_type": "code",
      "metadata": {
        "id": "iFsBbPw8wLUy",
        "colab_type": "code",
        "outputId": "9a16c311-9299-4a6b-dbe5-8c3170d13f73",
        "colab": {
          "base_uri": "https://localhost:8080/",
          "height": 51
        }
      },
      "source": [
        "fp = open('2600-0.txt')\n",
        "count = 0\n",
        "for line in fp:\n",
        "    if count == 1:\n",
        "        print(line)\n",
        "        break\n",
        "    count += 1"
      ],
      "execution_count": 26,
      "outputs": [
        {
          "output_type": "stream",
          "text": [
            "The Project Gutenberg EBook of War and Peace, by Leo Tolstoy\n",
            "\n"
          ],
          "name": "stdout"
        }
      ]
    },
    {
      "cell_type": "code",
      "metadata": {
        "id": "N5b0n_1-wLVB",
        "colab_type": "code",
        "outputId": "a173e6dc-c162-4ac7-bb99-5ed4cf545407",
        "colab": {
          "base_uri": "https://localhost:8080/",
          "height": 34
        }
      },
      "source": [
        "line"
      ],
      "execution_count": 27,
      "outputs": [
        {
          "output_type": "execute_result",
          "data": {
            "text/plain": [
              "'The Project Gutenberg EBook of War and Peace, by Leo Tolstoy\\n'"
            ]
          },
          "metadata": {
            "tags": []
          },
          "execution_count": 27
        }
      ]
    },
    {
      "cell_type": "markdown",
      "metadata": {
        "id": "_4GAX6CXwLVD",
        "colab_type": "text"
      },
      "source": [
        "The sequence `\\n` represents a single character, called a \"newline\", that puts vertical space between lines.\n",
        "\n",
        "If we use a `print` statement to display `line`, we don't see the special sequence, but we do see extra space after the line."
      ]
    },
    {
      "cell_type": "code",
      "metadata": {
        "id": "SpyVrNdywLVE",
        "colab_type": "code",
        "outputId": "9ce6b7cb-5c6b-4e31-b3bb-7fe3ed1f3883",
        "colab": {
          "base_uri": "https://localhost:8080/",
          "height": 51
        }
      },
      "source": [
        "print(line)"
      ],
      "execution_count": 28,
      "outputs": [
        {
          "output_type": "stream",
          "text": [
            "The Project Gutenberg EBook of War and Peace, by Leo Tolstoy\n",
            "\n"
          ],
          "name": "stdout"
        }
      ]
    },
    {
      "cell_type": "markdown",
      "metadata": {
        "id": "63vcZNdzwLVJ",
        "colab_type": "text"
      },
      "source": [
        "In other strings, you might see the sequence `\\t`, which represents a \"tab\" character.\n",
        "\n",
        "When you print a tab character, it adds enough space to make the next character appear in a column that is a multiple of 8."
      ]
    },
    {
      "cell_type": "code",
      "metadata": {
        "id": "qRk_PmdzwLVJ",
        "colab_type": "code",
        "outputId": "a82688fa-3d9e-40a6-d235-f19014c96f55",
        "colab": {
          "base_uri": "https://localhost:8080/",
          "height": 51
        }
      },
      "source": [
        "print('01234567' * 6)\n",
        "print('a\\tbc\\tdef\\tghij\\tklmno\\tpqrstu')"
      ],
      "execution_count": 29,
      "outputs": [
        {
          "output_type": "stream",
          "text": [
            "012345670123456701234567012345670123456701234567\n",
            "a\tbc\tdef\tghij\tklmno\tpqrstu\n"
          ],
          "name": "stdout"
        }
      ]
    },
    {
      "cell_type": "markdown",
      "metadata": {
        "id": "F8Z0MUOwwLVM",
        "colab_type": "text"
      },
      "source": [
        "In the previous cell, the first line uses a feature we have not seen before: if you multiply a string by an integer, Python repeats the string the given number of times.\n",
        "\n",
        "Newline characters, tabs, and spaces are called \"whitespace\" because when they are printed they leave white space on the page."
      ]
    },
    {
      "cell_type": "markdown",
      "metadata": {
        "id": "ReA0NLUwwLVN",
        "colab_type": "text"
      },
      "source": [
        "## Counting words\n",
        "\n",
        "So far we've managed to count the lines in a file, but each line contains several words."
      ]
    },
    {
      "cell_type": "code",
      "metadata": {
        "id": "DmrNsi12wLVN",
        "colab_type": "code",
        "outputId": "2a3e3279-e62e-4ae0-937b-d86f8d6112cd",
        "colab": {
          "base_uri": "https://localhost:8080/",
          "height": 34
        }
      },
      "source": [
        "line"
      ],
      "execution_count": 30,
      "outputs": [
        {
          "output_type": "execute_result",
          "data": {
            "text/plain": [
              "'The Project Gutenberg EBook of War and Peace, by Leo Tolstoy\\n'"
            ]
          },
          "metadata": {
            "tags": []
          },
          "execution_count": 30
        }
      ]
    },
    {
      "cell_type": "markdown",
      "metadata": {
        "id": "zddEPBbswLVW",
        "colab_type": "text"
      },
      "source": [
        "To split a line into words, we can use a function called `split` that returns a list of words.\n",
        "\n",
        "To be more precise, `split` doesn't actually know what a word is; it just splits the line wherever there's a space or other whitespace character."
      ]
    },
    {
      "cell_type": "code",
      "metadata": {
        "id": "R76XLifswLVe",
        "colab_type": "code",
        "outputId": "56d9f402-edc0-48d8-8ce5-1b5f10af57d3",
        "colab": {
          "base_uri": "https://localhost:8080/",
          "height": 204
        }
      },
      "source": [
        "line.split()"
      ],
      "execution_count": 31,
      "outputs": [
        {
          "output_type": "execute_result",
          "data": {
            "text/plain": [
              "['The',\n",
              " 'Project',\n",
              " 'Gutenberg',\n",
              " 'EBook',\n",
              " 'of',\n",
              " 'War',\n",
              " 'and',\n",
              " 'Peace,',\n",
              " 'by',\n",
              " 'Leo',\n",
              " 'Tolstoy']"
            ]
          },
          "metadata": {
            "tags": []
          },
          "execution_count": 31
        }
      ]
    },
    {
      "cell_type": "markdown",
      "metadata": {
        "id": "3EytIXrDwLVl",
        "colab_type": "text"
      },
      "source": [
        "Notice that the syntax for `split` is different from other functions we have seen.  Normally when we call a function, we name the function and provide values in parentheses.  So you might have expected to write `split(line)`.  Sadly, that doesn't work:"
      ]
    },
    {
      "cell_type": "code",
      "metadata": {
        "id": "sfvlWEA7wLVl",
        "colab_type": "code",
        "outputId": "ff951a84-a36a-4722-b972-9cd88ce4b015",
        "colab": {
          "base_uri": "https://localhost:8080/",
          "height": 164
        }
      },
      "source": [
        "split(line)"
      ],
      "execution_count": 32,
      "outputs": [
        {
          "output_type": "error",
          "ename": "NameError",
          "evalue": "ignored",
          "traceback": [
            "\u001b[0;31m---------------------------------------------------------------------------\u001b[0m",
            "\u001b[0;31mNameError\u001b[0m                                 Traceback (most recent call last)",
            "\u001b[0;32m<ipython-input-32-b5ba40708be5>\u001b[0m in \u001b[0;36m<module>\u001b[0;34m()\u001b[0m\n\u001b[0;32m----> 1\u001b[0;31m \u001b[0msplit\u001b[0m\u001b[0;34m(\u001b[0m\u001b[0mline\u001b[0m\u001b[0;34m)\u001b[0m\u001b[0;34m\u001b[0m\u001b[0;34m\u001b[0m\u001b[0m\n\u001b[0m",
            "\u001b[0;31mNameError\u001b[0m: name 'split' is not defined"
          ]
        }
      ]
    },
    {
      "cell_type": "markdown",
      "metadata": {
        "id": "yyZxyf5rwLVt",
        "colab_type": "text"
      },
      "source": [
        "The problem is that the `split` function belongs to the string `line`; in a sense, the function is attached to the string, so we can only refer to it using the string and the dot operator (the period between `line` and `split`).\n",
        "\n",
        "For historical reasons I won't try to explain, functions like this are called \"methods\".\n",
        "\n",
        "Anyway, now that we can split a line into a list of words, we can use `len` to get the number of words in each list, and increment `count` accordingly."
      ]
    },
    {
      "cell_type": "code",
      "metadata": {
        "id": "AquVcZcEwLVu",
        "colab_type": "code",
        "colab": {}
      },
      "source": [
        "fp = open('2600-0.txt')\n",
        "count = 0\n",
        "for line in fp:\n",
        "    count += len(line.split())"
      ],
      "execution_count": 0,
      "outputs": []
    },
    {
      "cell_type": "code",
      "metadata": {
        "id": "NMtsmTDKwLVz",
        "colab_type": "code",
        "outputId": "c815b000-5bf9-4970-db39-ca25e01d6703",
        "colab": {
          "base_uri": "https://localhost:8080/",
          "height": 34
        }
      },
      "source": [
        "count"
      ],
      "execution_count": 34,
      "outputs": [
        {
          "output_type": "execute_result",
          "data": {
            "text/plain": [
              "566311"
            ]
          },
          "metadata": {
            "tags": []
          },
          "execution_count": 34
        }
      ]
    },
    {
      "cell_type": "markdown",
      "metadata": {
        "id": "WD4wGcCmwLV2",
        "colab_type": "text"
      },
      "source": [
        "By this count, there are more than half a million words in *War and Peace*.\n",
        "\n",
        "Actually, there aren't quite that many, because the file we got from Project Gutenberg has some introductory text and a table of contents before the text.  And it has some license information at the end.\n",
        "\n",
        "To skip this \"frontmatter\", we can use one loop to read lines until we get to `CHAPTER I`, and then a second loop to count the words in the remaining lines.\n",
        "\n",
        "The file pointer, `fp`, keeps track of where it is in the file, so the second loop picks up where the first loop leaves off.\n",
        "\n",
        "In the second loop, we check for the end of the book and stop, so we ignore the \"endmatter\" at the end of the file."
      ]
    },
    {
      "cell_type": "code",
      "metadata": {
        "id": "i0N27BnzwLV8",
        "colab_type": "code",
        "outputId": "f09b2023-135c-4c14-8fcd-48332dc4b6a3",
        "colab": {
          "base_uri": "https://localhost:8080/",
          "height": 51
        }
      },
      "source": [
        "first_line = \"CHAPTER I\\n\"\n",
        "last_line = \"End of the Project Gutenberg EBook of War and Peace, by Leo Tolstoy\\n\"\n",
        "\n",
        "fp = open('2600-0.txt')\n",
        "for line in fp:\n",
        "    if line == first_line:\n",
        "        break\n",
        "\n",
        "count = 0\n",
        "for line in fp:\n",
        "    if line == last_line:\n",
        "        print(line)\n",
        "        break\n",
        "    count += len(line.split())"
      ],
      "execution_count": 35,
      "outputs": [
        {
          "output_type": "stream",
          "text": [
            "End of the Project Gutenberg EBook of War and Peace, by Leo Tolstoy\n",
            "\n"
          ],
          "name": "stdout"
        }
      ]
    },
    {
      "cell_type": "code",
      "metadata": {
        "id": "_bzV8ikUwLWA",
        "colab_type": "code",
        "colab": {
          "base_uri": "https://localhost:8080/",
          "height": 34
        },
        "outputId": "7fbcd577-546b-4e92-fe65-fc7e4829fd37"
      },
      "source": [
        "count"
      ],
      "execution_count": 36,
      "outputs": [
        {
          "output_type": "execute_result",
          "data": {
            "text/plain": [
              "562476"
            ]
          },
          "metadata": {
            "tags": []
          },
          "execution_count": 36
        }
      ]
    },
    {
      "cell_type": "markdown",
      "metadata": {
        "id": "cgm_hFBjwLWL",
        "colab_type": "text"
      },
      "source": [
        "Two things to notice about this program:\n",
        "\n",
        "* When we compare two values to see if they are equal, we use the `==` operator, not to be confused with `=`, which is the assignment operator.\n",
        "\n",
        "* The string we compare `line` to has a newline at the end.  If we leave that out, it doesn't work."
      ]
    },
    {
      "cell_type": "markdown",
      "metadata": {
        "id": "Y55tcMhpwLWN",
        "colab_type": "text"
      },
      "source": [
        "**Exercise:** \n",
        "\n",
        "1. In the previous program, replace `==` with `=` and see what happens.  This is a common error, so it is good to see what the error message looks like.  \n",
        "\n",
        "2. Correct the previous error, then remove the newline character after `CHAPTER I`, and see what happens.\n",
        "\n",
        "The first error is a \"syntax error\", which means that the program violates the rules of Python.  If your program has a syntax error, the Python interpreter prints an error message, and the program never runs.\n",
        "\n",
        "The second error is a \"logic error\", which means that there is something wrong with the logic of the program.  The syntax is legal, and the program runs, but it doesn't do what we wanted.  Logic errors can be hard to find because we don't get any error messages.  \n",
        "\n",
        "If you have a logic error, here are two strategies for debugging:\n",
        "\n",
        "1. Add print statements so the program displays additional information while it runs.\n",
        "\n",
        "2. Simplify the program until it does what you expect, and then gradually add more code, testing as you go."
      ]
    }
  ]
}