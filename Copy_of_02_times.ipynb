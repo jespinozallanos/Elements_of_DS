{
  "nbformat": 4,
  "nbformat_minor": 0,
  "metadata": {
    "kernelspec": {
      "display_name": "Python 3",
      "language": "python",
      "name": "python3"
    },
    "language_info": {
      "codemirror_mode": {
        "name": "ipython",
        "version": 3
      },
      "file_extension": ".py",
      "mimetype": "text/x-python",
      "name": "python",
      "nbconvert_exporter": "python",
      "pygments_lexer": "ipython3",
      "version": "3.7.4"
    },
    "colab": {
      "name": "Copy of 02_times.ipynb",
      "provenance": [],
      "collapsed_sections": [],
      "include_colab_link": true
    }
  },
  "cells": [
    {
      "cell_type": "markdown",
      "metadata": {
        "id": "view-in-github",
        "colab_type": "text"
      },
      "source": [
        "<a href=\"https://colab.research.google.com/github/mindyng/Elements_of_DS/blob/master/Copy_of_02_times.ipynb\" target=\"_parent\"><img src=\"https://colab.research.google.com/assets/colab-badge.svg\" alt=\"Open In Colab\"/></a>"
      ]
    },
    {
      "cell_type": "markdown",
      "metadata": {
        "id": "Z5KsUGp7OQyO",
        "colab_type": "text"
      },
      "source": [
        "# Times and places\n",
        "\n",
        "Elements of Data Science\n",
        "\n",
        "by [Allen Downey](https://allendowney.com)\n",
        "\n",
        "[MIT License](https://opensource.org/licenses/MIT)\n",
        "\n",
        "### Goals\n",
        "\n",
        "In the previous notebook, you learned about variables and two kinds of values: integers and floating-point numbers.\n",
        "\n",
        "In this notebook, you'll see some additional types:\n",
        "\n",
        "* Strings, which contain sequences of letters, are used to represent text data.\n",
        "\n",
        "* Timestamp values are used to represent dates and times.\n",
        "\n",
        "* And several ways to represent and display geographical locations.\n",
        "\n",
        "Not every data science project uses all of these types, but many projects use at least one."
      ]
    },
    {
      "cell_type": "markdown",
      "metadata": {
        "id": "p4PmOa7xOQyV",
        "colab_type": "text"
      },
      "source": [
        "### A note\n",
        "\n",
        "In these notebooks, I generally try to define terms when they are first used, and to explain the code examples as we go along.\n",
        "\n",
        "However, there are a few places where I provide code with the expectation that you will not understand all of the details yet.  When that happens, I'll explain what you should or should not understand.\n",
        "\n",
        "If you are able to do the exercises, that probably means you are understanding what you need to understand."
      ]
    },
    {
      "cell_type": "markdown",
      "metadata": {
        "id": "3qXKy7W_OQyW",
        "colab_type": "text"
      },
      "source": [
        "## Strings\n",
        "\n",
        "A **string** is a sequence of letters, numbers, and punctuation marks.\n",
        "\n",
        "In Python you can create a string by typing letters between single or double quotation marks."
      ]
    },
    {
      "cell_type": "code",
      "metadata": {
        "id": "1Q0gMkBmOQyX",
        "colab_type": "code",
        "outputId": "cc035087-1e4d-4977-ad82-b2ec425c73d1",
        "colab": {
          "base_uri": "https://localhost:8080/",
          "height": 34
        }
      },
      "source": [
        "'Data'"
      ],
      "execution_count": 123,
      "outputs": [
        {
          "output_type": "execute_result",
          "data": {
            "text/plain": [
              "'Data'"
            ]
          },
          "metadata": {
            "tags": []
          },
          "execution_count": 123
        }
      ]
    },
    {
      "cell_type": "code",
      "metadata": {
        "id": "DnTowhcaOQyb",
        "colab_type": "code",
        "outputId": "15cd9e4f-15e8-4f4a-98ee-5345c6e5ddc3",
        "colab": {
          "base_uri": "https://localhost:8080/",
          "height": 34
        }
      },
      "source": [
        "\"Science\""
      ],
      "execution_count": 124,
      "outputs": [
        {
          "output_type": "execute_result",
          "data": {
            "text/plain": [
              "'Science'"
            ]
          },
          "metadata": {
            "tags": []
          },
          "execution_count": 124
        }
      ]
    },
    {
      "cell_type": "markdown",
      "metadata": {
        "id": "_ffLqxXQOQyh",
        "colab_type": "text"
      },
      "source": [
        "And you can assign string values to variables."
      ]
    },
    {
      "cell_type": "code",
      "metadata": {
        "id": "TB21idVdOQyi",
        "colab_type": "code",
        "colab": {}
      },
      "source": [
        "first = 'Data'"
      ],
      "execution_count": 0,
      "outputs": []
    },
    {
      "cell_type": "code",
      "metadata": {
        "id": "LspkQvrEOQyn",
        "colab_type": "code",
        "colab": {}
      },
      "source": [
        "last = \"Science\""
      ],
      "execution_count": 0,
      "outputs": []
    },
    {
      "cell_type": "markdown",
      "metadata": {
        "id": "dwJ7R6vVOQyr",
        "colab_type": "text"
      },
      "source": [
        "Some arithmetic operators work with strings, but they might no do what you expect.  For example, the `+` operator \"concatenates\" two strings; that is, it creates a new string that contains the first string followed by the second string:"
      ]
    },
    {
      "cell_type": "code",
      "metadata": {
        "id": "lV2ltW-1OQys",
        "colab_type": "code",
        "outputId": "fdc641f1-a2c4-4e19-ae02-0ec4984e906f",
        "colab": {
          "base_uri": "https://localhost:8080/",
          "height": 34
        }
      },
      "source": [
        "first + last"
      ],
      "execution_count": 127,
      "outputs": [
        {
          "output_type": "execute_result",
          "data": {
            "text/plain": [
              "'DataScience'"
            ]
          },
          "metadata": {
            "tags": []
          },
          "execution_count": 127
        }
      ]
    },
    {
      "cell_type": "markdown",
      "metadata": {
        "id": "ANo-rRsKOQyx",
        "colab_type": "text"
      },
      "source": [
        "If you want to put a space between the words, you can use a string that contains a space:"
      ]
    },
    {
      "cell_type": "code",
      "metadata": {
        "id": "TwPDGb7yOQyz",
        "colab_type": "code",
        "outputId": "aed44565-9f2d-4446-d830-7c96e68afecf",
        "colab": {
          "base_uri": "https://localhost:8080/",
          "height": 34
        }
      },
      "source": [
        "first + ' ' + last"
      ],
      "execution_count": 128,
      "outputs": [
        {
          "output_type": "execute_result",
          "data": {
            "text/plain": [
              "'Data Science'"
            ]
          },
          "metadata": {
            "tags": []
          },
          "execution_count": 128
        }
      ]
    },
    {
      "cell_type": "markdown",
      "metadata": {
        "id": "n-WS4lZDOQy4",
        "colab_type": "text"
      },
      "source": [
        "Strings are used to store text data like names, addresses, titles, etc.\n",
        "\n",
        "When you read data from a file, you might see values that look like numbers, but they are actually strings, like this:"
      ]
    },
    {
      "cell_type": "code",
      "metadata": {
        "id": "RTxQKBSbOQy5",
        "colab_type": "code",
        "colab": {}
      },
      "source": [
        "not_actually_a_number = '123'"
      ],
      "execution_count": 0,
      "outputs": []
    },
    {
      "cell_type": "markdown",
      "metadata": {
        "id": "Ex1AqcR0OQzA",
        "colab_type": "text"
      },
      "source": [
        "If you try to do math with these strings, you might get an error:"
      ]
    },
    {
      "cell_type": "code",
      "metadata": {
        "id": "EwOek7KxOQzC",
        "colab_type": "code",
        "outputId": "c329d027-8139-4a98-d0b6-5bf028dce9f7",
        "colab": {
          "base_uri": "https://localhost:8080/",
          "height": 164
        }
      },
      "source": [
        "not_actually_a_number + 1"
      ],
      "execution_count": 130,
      "outputs": [
        {
          "output_type": "error",
          "ename": "TypeError",
          "evalue": "ignored",
          "traceback": [
            "\u001b[0;31m---------------------------------------------------------------------------\u001b[0m",
            "\u001b[0;31mTypeError\u001b[0m                                 Traceback (most recent call last)",
            "\u001b[0;32m<ipython-input-130-df4034e4ecd6>\u001b[0m in \u001b[0;36m<module>\u001b[0;34m()\u001b[0m\n\u001b[0;32m----> 1\u001b[0;31m \u001b[0mnot_actually_a_number\u001b[0m \u001b[0;34m+\u001b[0m \u001b[0;36m1\u001b[0m\u001b[0;34m\u001b[0m\u001b[0;34m\u001b[0m\u001b[0m\n\u001b[0m",
            "\u001b[0;31mTypeError\u001b[0m: must be str, not int"
          ]
        }
      ]
    },
    {
      "cell_type": "markdown",
      "metadata": {
        "id": "REd2b1DOOQzI",
        "colab_type": "text"
      },
      "source": [
        "Or you might get a surprising result:"
      ]
    },
    {
      "cell_type": "code",
      "metadata": {
        "id": "xM9l19h4OQzK",
        "colab_type": "code",
        "outputId": "35d739aa-cbb4-4890-acd7-a9b793e76cd0",
        "colab": {
          "base_uri": "https://localhost:8080/",
          "height": 34
        }
      },
      "source": [
        "not_actually_a_number + '1'"
      ],
      "execution_count": 131,
      "outputs": [
        {
          "output_type": "execute_result",
          "data": {
            "text/plain": [
              "'1231'"
            ]
          },
          "metadata": {
            "tags": []
          },
          "execution_count": 131
        }
      ]
    },
    {
      "cell_type": "markdown",
      "metadata": {
        "id": "kcV0u5d0OQzN",
        "colab_type": "text"
      },
      "source": [
        "Fortunately, you can convert strings to numbers.\n",
        "\n",
        "If you have a string that contains only digits, you can convert it to an integer using the `int` function:"
      ]
    },
    {
      "cell_type": "code",
      "metadata": {
        "id": "V3_j3_UUOQzO",
        "colab_type": "code",
        "outputId": "c38a0061-3d5e-4221-b72f-1e3b17035297",
        "colab": {
          "base_uri": "https://localhost:8080/",
          "height": 34
        }
      },
      "source": [
        "int('123')"
      ],
      "execution_count": 132,
      "outputs": [
        {
          "output_type": "execute_result",
          "data": {
            "text/plain": [
              "123"
            ]
          },
          "metadata": {
            "tags": []
          },
          "execution_count": 132
        }
      ]
    },
    {
      "cell_type": "markdown",
      "metadata": {
        "id": "TyTk-83BOQzV",
        "colab_type": "text"
      },
      "source": [
        "Or you can convert it to a floating-point number using `float`:"
      ]
    },
    {
      "cell_type": "code",
      "metadata": {
        "id": "zQoIkbFyOQzX",
        "colab_type": "code",
        "outputId": "735f47cb-7e31-4db2-e7d6-e3f8e66dc3a1",
        "colab": {
          "base_uri": "https://localhost:8080/",
          "height": 34
        }
      },
      "source": [
        "float('123')"
      ],
      "execution_count": 133,
      "outputs": [
        {
          "output_type": "execute_result",
          "data": {
            "text/plain": [
              "123.0"
            ]
          },
          "metadata": {
            "tags": []
          },
          "execution_count": 133
        }
      ]
    },
    {
      "cell_type": "markdown",
      "metadata": {
        "id": "eILhogJJOQza",
        "colab_type": "text"
      },
      "source": [
        "But if the string contains a decimal point, you can't convert it to an `int`:"
      ]
    },
    {
      "cell_type": "code",
      "metadata": {
        "id": "LBiZtfF3OQzc",
        "colab_type": "code",
        "outputId": "7b54ab0f-c856-435d-dce3-2b164d3be77b",
        "colab": {
          "base_uri": "https://localhost:8080/",
          "height": 164
        }
      },
      "source": [
        "int('12.3')"
      ],
      "execution_count": 134,
      "outputs": [
        {
          "output_type": "error",
          "ename": "ValueError",
          "evalue": "ignored",
          "traceback": [
            "\u001b[0;31m---------------------------------------------------------------------------\u001b[0m",
            "\u001b[0;31mValueError\u001b[0m                                Traceback (most recent call last)",
            "\u001b[0;32m<ipython-input-134-8c6d9d2b222e>\u001b[0m in \u001b[0;36m<module>\u001b[0;34m()\u001b[0m\n\u001b[0;32m----> 1\u001b[0;31m \u001b[0mint\u001b[0m\u001b[0;34m(\u001b[0m\u001b[0;34m'12.3'\u001b[0m\u001b[0;34m)\u001b[0m\u001b[0;34m\u001b[0m\u001b[0;34m\u001b[0m\u001b[0m\n\u001b[0m",
            "\u001b[0;31mValueError\u001b[0m: invalid literal for int() with base 10: '12.3'"
          ]
        }
      ]
    },
    {
      "cell_type": "markdown",
      "metadata": {
        "id": "gYDJZT5kOQzg",
        "colab_type": "text"
      },
      "source": [
        "Going in the other direction, you can convert almost any type of value to a string using `str`:"
      ]
    },
    {
      "cell_type": "code",
      "metadata": {
        "id": "RTx9hXtpOQzh",
        "colab_type": "code",
        "outputId": "b23e10e3-d93b-47e8-deda-05435c2bc0bd",
        "colab": {
          "base_uri": "https://localhost:8080/",
          "height": 34
        }
      },
      "source": [
        "str(123)"
      ],
      "execution_count": 135,
      "outputs": [
        {
          "output_type": "execute_result",
          "data": {
            "text/plain": [
              "'123'"
            ]
          },
          "metadata": {
            "tags": []
          },
          "execution_count": 135
        }
      ]
    },
    {
      "cell_type": "code",
      "metadata": {
        "id": "jrtCTBu1OQzk",
        "colab_type": "code",
        "outputId": "25f073d5-3df4-4e4c-92d6-8dae4e76c8ff",
        "colab": {
          "base_uri": "https://localhost:8080/",
          "height": 34
        }
      },
      "source": [
        "str(12.3)"
      ],
      "execution_count": 136,
      "outputs": [
        {
          "output_type": "execute_result",
          "data": {
            "text/plain": [
              "'12.3'"
            ]
          },
          "metadata": {
            "tags": []
          },
          "execution_count": 136
        }
      ]
    },
    {
      "cell_type": "markdown",
      "metadata": {
        "id": "hkl1z9VBOQzp",
        "colab_type": "text"
      },
      "source": [
        "**Exercise**: When personal names are stored in a database, they are usually stored in three variables: a given name, a family name, and sometimes a middle name.  For example, a list of great rock drummers might include:"
      ]
    },
    {
      "cell_type": "code",
      "metadata": {
        "id": "BV64gBh_OQzq",
        "colab_type": "code",
        "colab": {}
      },
      "source": [
        "given = 'Neil'\n",
        "middle = 'Ellwood'\n",
        "family = 'Peart'"
      ],
      "execution_count": 0,
      "outputs": []
    },
    {
      "cell_type": "markdown",
      "metadata": {
        "id": "Llngi5MrOQzs",
        "colab_type": "text"
      },
      "source": [
        "But names are often displayed different ways in different contexts.  For example, the first time you mention someone in an article, you might give all three names, like \"Neil Ellwood Peart\".  But in the index of a book, you might put the family name first, like \"Peart, Neil Ellwood\".\n",
        "\n",
        "Write Python expressions that use the variables `given`, `middle`, and `family` to display Neil Peart's name in these two formats. "
      ]
    },
    {
      "cell_type": "code",
      "metadata": {
        "id": "OPyg6hi1OQzt",
        "colab_type": "code",
        "outputId": "91d7178a-c2f6-4c9e-f7b3-94fbaea1eb65",
        "colab": {
          "base_uri": "https://localhost:8080/",
          "height": 34
        }
      },
      "source": [
        "given + ' ' + middle + ' ' + family"
      ],
      "execution_count": 138,
      "outputs": [
        {
          "output_type": "execute_result",
          "data": {
            "text/plain": [
              "'Neil Ellwood Peart'"
            ]
          },
          "metadata": {
            "tags": []
          },
          "execution_count": 138
        }
      ]
    },
    {
      "cell_type": "code",
      "metadata": {
        "id": "KMBFxnsFOQzx",
        "colab_type": "code",
        "outputId": "05b59aec-e476-4ac1-b4b3-979d1549e967",
        "colab": {
          "base_uri": "https://localhost:8080/",
          "height": 34
        }
      },
      "source": [
        "family + ',' + ' ' + given + ' ' + middle"
      ],
      "execution_count": 139,
      "outputs": [
        {
          "output_type": "execute_result",
          "data": {
            "text/plain": [
              "'Peart, Neil Ellwood'"
            ]
          },
          "metadata": {
            "tags": []
          },
          "execution_count": 139
        }
      ]
    },
    {
      "cell_type": "markdown",
      "metadata": {
        "id": "aDJ1-mfbOQzz",
        "colab_type": "text"
      },
      "source": [
        "## Dates and times"
      ]
    },
    {
      "cell_type": "markdown",
      "metadata": {
        "id": "z9oJiVf9OQz1",
        "colab_type": "text"
      },
      "source": [
        "If you read data from a file, you might also find that dates and times are represented with strings."
      ]
    },
    {
      "cell_type": "code",
      "metadata": {
        "id": "5qkAS04OOQz1",
        "colab_type": "code",
        "colab": {}
      },
      "source": [
        "not_really_a_date = 'June 4, 1989'"
      ],
      "execution_count": 0,
      "outputs": []
    },
    {
      "cell_type": "markdown",
      "metadata": {
        "id": "il4m9WJxOQz6",
        "colab_type": "text"
      },
      "source": [
        "To confirm that this value is a string, we can use the `type` function, which takes a value and reports its type."
      ]
    },
    {
      "cell_type": "code",
      "metadata": {
        "id": "h4aDIbQvOQz7",
        "colab_type": "code",
        "outputId": "828553de-569c-4ddb-86d9-928a415d652f",
        "colab": {
          "base_uri": "https://localhost:8080/",
          "height": 34
        }
      },
      "source": [
        "type(not_really_a_date)"
      ],
      "execution_count": 141,
      "outputs": [
        {
          "output_type": "execute_result",
          "data": {
            "text/plain": [
              "str"
            ]
          },
          "metadata": {
            "tags": []
          },
          "execution_count": 141
        }
      ]
    },
    {
      "cell_type": "markdown",
      "metadata": {
        "id": "O5XOyEGFOQz9",
        "colab_type": "text"
      },
      "source": [
        "`str` indicates that the value of `not_really_a_date` is a string.\n",
        "\n",
        "We get the same result with `not_really_a_time`, below:"
      ]
    },
    {
      "cell_type": "code",
      "metadata": {
        "id": "gVqevznaOQz_",
        "colab_type": "code",
        "colab": {}
      },
      "source": [
        "not_really_a_time = '6:30:00'"
      ],
      "execution_count": 0,
      "outputs": []
    },
    {
      "cell_type": "code",
      "metadata": {
        "id": "Q8C7pDJAOQ0C",
        "colab_type": "code",
        "outputId": "64a0b3d7-2250-423a-ea08-204547a97390",
        "colab": {
          "base_uri": "https://localhost:8080/",
          "height": 34
        }
      },
      "source": [
        "type(not_really_a_time)"
      ],
      "execution_count": 143,
      "outputs": [
        {
          "output_type": "execute_result",
          "data": {
            "text/plain": [
              "str"
            ]
          },
          "metadata": {
            "tags": []
          },
          "execution_count": 143
        }
      ]
    },
    {
      "cell_type": "markdown",
      "metadata": {
        "id": "d20wf92kOQ0E",
        "colab_type": "text"
      },
      "source": [
        "Representing dates and times using strings provides human-readable values, but they are not useful for doing computation.\n",
        "\n",
        "Fortunately, Python provides libraries for working with date and time data; the one we'll use is called Pandas.\n",
        "\n",
        "As always, we have to import a library before we use it; it is conventional to import Pandas with the abbreviated name `pd`:"
      ]
    },
    {
      "cell_type": "code",
      "metadata": {
        "id": "DJIElHWIOQ0F",
        "colab_type": "code",
        "colab": {}
      },
      "source": [
        "import pandas as pd"
      ],
      "execution_count": 0,
      "outputs": []
    },
    {
      "cell_type": "markdown",
      "metadata": {
        "id": "G36jnBG2OQ0O",
        "colab_type": "text"
      },
      "source": [
        "Pandas provides type called `Timestamp`, which represents a date and time.\n",
        "\n",
        "It also provides a function called `Timestamp`, which we can use to convert a string to a `Timestamp`:"
      ]
    },
    {
      "cell_type": "code",
      "metadata": {
        "id": "vm9g0TZaOQ0a",
        "colab_type": "code",
        "outputId": "92bd73da-1453-475d-b6e8-6889ede2b54c",
        "colab": {
          "base_uri": "https://localhost:8080/",
          "height": 34
        }
      },
      "source": [
        "pd.Timestamp('6:30:00')"
      ],
      "execution_count": 145,
      "outputs": [
        {
          "output_type": "execute_result",
          "data": {
            "text/plain": [
              "Timestamp('2020-02-03 06:30:00')"
            ]
          },
          "metadata": {
            "tags": []
          },
          "execution_count": 145
        }
      ]
    },
    {
      "cell_type": "markdown",
      "metadata": {
        "id": "GA5uLdSzOQ0d",
        "colab_type": "text"
      },
      "source": [
        "Or we can do the same thing using the variable defined above."
      ]
    },
    {
      "cell_type": "code",
      "metadata": {
        "id": "Br8civ0ZOQ0e",
        "colab_type": "code",
        "outputId": "bb51d6d8-62d7-496d-c605-9294373ecbd5",
        "colab": {
          "base_uri": "https://localhost:8080/",
          "height": 34
        }
      },
      "source": [
        "\n",
        "pd.Timestamp(not_really_a_time)"
      ],
      "execution_count": 146,
      "outputs": [
        {
          "output_type": "execute_result",
          "data": {
            "text/plain": [
              "Timestamp('2020-02-03 06:30:00')"
            ]
          },
          "metadata": {
            "tags": []
          },
          "execution_count": 146
        }
      ]
    },
    {
      "cell_type": "markdown",
      "metadata": {
        "id": "uzi1i6bFOQ0i",
        "colab_type": "text"
      },
      "source": [
        "In this example, the string specifies a time but no date, so Pandas fills in today's date.\n",
        "\n",
        "A `Timestamp` is a value, so you can assign it to a variable."
      ]
    },
    {
      "cell_type": "code",
      "metadata": {
        "id": "HV_U7m-NOQ0j",
        "colab_type": "code",
        "outputId": "317a79e9-2955-42fc-fac1-09dbd4ae382a",
        "colab": {
          "base_uri": "https://localhost:8080/",
          "height": 34
        }
      },
      "source": [
        "date_of_birth = pd.Timestamp('June 4, 1989')\n",
        "date_of_birth"
      ],
      "execution_count": 147,
      "outputs": [
        {
          "output_type": "execute_result",
          "data": {
            "text/plain": [
              "Timestamp('1989-06-04 00:00:00')"
            ]
          },
          "metadata": {
            "tags": []
          },
          "execution_count": 147
        }
      ]
    },
    {
      "cell_type": "markdown",
      "metadata": {
        "id": "yOYWxHdtOQ0o",
        "colab_type": "text"
      },
      "source": [
        "If the string specifies a date but no time, Pandas fills in midnight as the default time.\n",
        "\n",
        "If you assign the `Timestamp` to a variable, you can use the variable name to get the year, month, and day, like this:"
      ]
    },
    {
      "cell_type": "code",
      "metadata": {
        "id": "OKrZfqI7OQ0q",
        "colab_type": "code",
        "outputId": "8edf9649-6e8b-474d-a7ec-a0e4d33d0957",
        "colab": {
          "base_uri": "https://localhost:8080/",
          "height": 34
        }
      },
      "source": [
        "date_of_birth.year, date_of_birth.month, date_of_birth.day"
      ],
      "execution_count": 148,
      "outputs": [
        {
          "output_type": "execute_result",
          "data": {
            "text/plain": [
              "(1989, 6, 4)"
            ]
          },
          "metadata": {
            "tags": []
          },
          "execution_count": 148
        }
      ]
    },
    {
      "cell_type": "markdown",
      "metadata": {
        "id": "nb5NdcdtOQ0t",
        "colab_type": "text"
      },
      "source": [
        "You can also gets the name of the month and the day of the week."
      ]
    },
    {
      "cell_type": "code",
      "metadata": {
        "id": "Wz7tD86dOQ0u",
        "colab_type": "code",
        "outputId": "0fcf35ee-354d-40db-cc87-d89f61e20603",
        "colab": {
          "base_uri": "https://localhost:8080/",
          "height": 34
        }
      },
      "source": [
        "date_of_birth.day_name(), date_of_birth.month_name()"
      ],
      "execution_count": 149,
      "outputs": [
        {
          "output_type": "execute_result",
          "data": {
            "text/plain": [
              "('Sunday', 'June')"
            ]
          },
          "metadata": {
            "tags": []
          },
          "execution_count": 149
        }
      ]
    },
    {
      "cell_type": "markdown",
      "metadata": {
        "id": "KGt2Rq2XOQ0y",
        "colab_type": "text"
      },
      "source": [
        "`Timestamp` provides a function called `now` that returns the current date and time."
      ]
    },
    {
      "cell_type": "code",
      "metadata": {
        "id": "7IxTcgTBOQ0z",
        "colab_type": "code",
        "outputId": "da455a70-8888-4866-e9ab-41f78f543a9b",
        "colab": {
          "base_uri": "https://localhost:8080/",
          "height": 34
        }
      },
      "source": [
        "now = pd.Timestamp.now()\n",
        "now"
      ],
      "execution_count": 150,
      "outputs": [
        {
          "output_type": "execute_result",
          "data": {
            "text/plain": [
              "Timestamp('2020-02-03 19:52:34.247534')"
            ]
          },
          "metadata": {
            "tags": []
          },
          "execution_count": 150
        }
      ]
    },
    {
      "cell_type": "markdown",
      "metadata": {
        "id": "X5z3_d5LOQ03",
        "colab_type": "text"
      },
      "source": [
        "**Exercise:** Use the value of `now` to display the name of the current month and day of the week."
      ]
    },
    {
      "cell_type": "code",
      "metadata": {
        "id": "kX_JsEjFOQ04",
        "colab_type": "code",
        "outputId": "2457135d-b534-4683-eea7-f08c3837ae68",
        "colab": {
          "base_uri": "https://localhost:8080/",
          "height": 34
        }
      },
      "source": [
        "now.month_name(), now.day_name()"
      ],
      "execution_count": 151,
      "outputs": [
        {
          "output_type": "execute_result",
          "data": {
            "text/plain": [
              "('February', 'Monday')"
            ]
          },
          "metadata": {
            "tags": []
          },
          "execution_count": 151
        }
      ]
    },
    {
      "cell_type": "markdown",
      "metadata": {
        "id": "mveZdvyCOQ09",
        "colab_type": "text"
      },
      "source": [
        "## Timedelta\n",
        "\n",
        "`Timestamp` values support some arithmetic operations.  For example, you can compute the difference between two `Timestamps`:"
      ]
    },
    {
      "cell_type": "code",
      "metadata": {
        "id": "y-SJx0cyOQ0-",
        "colab_type": "code",
        "outputId": "0ad24ec2-b927-45d1-9335-eeb7ee961d76",
        "colab": {
          "base_uri": "https://localhost:8080/",
          "height": 34
        }
      },
      "source": [
        "age = now - date_of_birth\n",
        "age"
      ],
      "execution_count": 152,
      "outputs": [
        {
          "output_type": "execute_result",
          "data": {
            "text/plain": [
              "Timedelta('11201 days 19:52:34.247534')"
            ]
          },
          "metadata": {
            "tags": []
          },
          "execution_count": 152
        }
      ]
    },
    {
      "cell_type": "markdown",
      "metadata": {
        "id": "aZYYeTCHOQ1A",
        "colab_type": "text"
      },
      "source": [
        "The result is a `Timedelta` that represents the current age of someone born on `date_of_birth`.\n",
        "\n",
        "The `Timedelta` contains `components` that store the number of days, hours, etc. between the two `Timestamp` values."
      ]
    },
    {
      "cell_type": "code",
      "metadata": {
        "id": "fushvtKXOQ1B",
        "colab_type": "code",
        "outputId": "2cd752e1-06f7-4b89-bcc3-c04f1e8a7bcd",
        "colab": {
          "base_uri": "https://localhost:8080/",
          "height": 34
        }
      },
      "source": [
        "age.components"
      ],
      "execution_count": 153,
      "outputs": [
        {
          "output_type": "execute_result",
          "data": {
            "text/plain": [
              "Components(days=11201, hours=19, minutes=52, seconds=34, milliseconds=247, microseconds=534, nanoseconds=0)"
            ]
          },
          "metadata": {
            "tags": []
          },
          "execution_count": 153
        }
      ]
    },
    {
      "cell_type": "markdown",
      "metadata": {
        "id": "FYM_Ebs-OQ1D",
        "colab_type": "text"
      },
      "source": [
        "You can get one of the components like this:"
      ]
    },
    {
      "cell_type": "code",
      "metadata": {
        "id": "WCpvRzBWOQ1D",
        "colab_type": "code",
        "outputId": "b158b563-4a06-435c-a282-999544ff5bcc",
        "colab": {
          "base_uri": "https://localhost:8080/",
          "height": 34
        }
      },
      "source": [
        "age.days"
      ],
      "execution_count": 154,
      "outputs": [
        {
          "output_type": "execute_result",
          "data": {
            "text/plain": [
              "11201"
            ]
          },
          "metadata": {
            "tags": []
          },
          "execution_count": 154
        }
      ]
    },
    {
      "cell_type": "markdown",
      "metadata": {
        "id": "3fJOncYUOQ1Q",
        "colab_type": "text"
      },
      "source": [
        "The biggest component of `Timedelta` is days, not years, because days are well defined and years are problematic.\n",
        "\n",
        "Most years are 365 days, but some are 366.  The average calendar year is 365.24 days, which is a very good approximation of a solar year, [but it is not exact](https://pumas.jpl.nasa.gov/files/04_21_97_1.pdf).\n",
        "\n",
        "One way to compute age in years is to divide age in days by 365.24:"
      ]
    },
    {
      "cell_type": "code",
      "metadata": {
        "id": "Jus8TkveOQ1U",
        "colab_type": "code",
        "outputId": "fa9f4582-bbf2-4427-b076-7ad1effd4fda",
        "colab": {
          "base_uri": "https://localhost:8080/",
          "height": 34
        }
      },
      "source": [
        "age.days / 365.24"
      ],
      "execution_count": 155,
      "outputs": [
        {
          "output_type": "execute_result",
          "data": {
            "text/plain": [
              "30.667506297229217"
            ]
          },
          "metadata": {
            "tags": []
          },
          "execution_count": 155
        }
      ]
    },
    {
      "cell_type": "markdown",
      "metadata": {
        "id": "eczROZVLOQ1a",
        "colab_type": "text"
      },
      "source": [
        "But people usually report their ages in integer years.  We can use the Numpy `floor` function to round down:"
      ]
    },
    {
      "cell_type": "code",
      "metadata": {
        "id": "S5znjmTHOQ1c",
        "colab_type": "code",
        "outputId": "22bb0cc4-254e-4514-a651-f4d4db363cfc",
        "colab": {
          "base_uri": "https://localhost:8080/",
          "height": 34
        }
      },
      "source": [
        "import numpy as np\n",
        "\n",
        "np.floor(age.days /365.24)"
      ],
      "execution_count": 156,
      "outputs": [
        {
          "output_type": "execute_result",
          "data": {
            "text/plain": [
              "30.0"
            ]
          },
          "metadata": {
            "tags": []
          },
          "execution_count": 156
        }
      ]
    },
    {
      "cell_type": "markdown",
      "metadata": {
        "id": "thOKQHyGOQ1f",
        "colab_type": "text"
      },
      "source": [
        "Or the `ceil` function (which stands for \"ceiling\") to round up:"
      ]
    },
    {
      "cell_type": "code",
      "metadata": {
        "id": "I2c7UIuOOQ1i",
        "colab_type": "code",
        "outputId": "bbd06744-4d87-4650-9190-236399868693",
        "colab": {
          "base_uri": "https://localhost:8080/",
          "height": 34
        }
      },
      "source": [
        "np.ceil(age.days /365.24)"
      ],
      "execution_count": 157,
      "outputs": [
        {
          "output_type": "execute_result",
          "data": {
            "text/plain": [
              "31.0"
            ]
          },
          "metadata": {
            "tags": []
          },
          "execution_count": 157
        }
      ]
    },
    {
      "cell_type": "markdown",
      "metadata": {
        "id": "OU9gF3O_OQ1l",
        "colab_type": "text"
      },
      "source": [
        "We can also compare `Timestamp` values to see which comes first.\n",
        "\n",
        "For example, let's see if a person with a given birthdate has already had a birthday this year.\n",
        "\n",
        "We can create a new `Timestamp` with the year from `now` and the month and day from `date_of_birth`."
      ]
    },
    {
      "cell_type": "code",
      "metadata": {
        "id": "O_PghHsROQ1m",
        "colab_type": "code",
        "outputId": "7e5c8eb3-348b-49b7-eb7f-3c27a5f7a109",
        "colab": {
          "base_uri": "https://localhost:8080/",
          "height": 34
        }
      },
      "source": [
        "bday_this_year = pd.Timestamp(now.year, date_of_birth.month, date_of_birth.day)\n",
        "bday_this_year"
      ],
      "execution_count": 158,
      "outputs": [
        {
          "output_type": "execute_result",
          "data": {
            "text/plain": [
              "Timestamp('2020-06-04 00:00:00')"
            ]
          },
          "metadata": {
            "tags": []
          },
          "execution_count": 158
        }
      ]
    },
    {
      "cell_type": "markdown",
      "metadata": {
        "id": "q5Z9t6d8OQ1q",
        "colab_type": "text"
      },
      "source": [
        "The result represents the person's birthday this year.  Now we can use the `>` operator to check whether `now` is later than the birthday:"
      ]
    },
    {
      "cell_type": "code",
      "metadata": {
        "id": "Awnpk-VdOQ1r",
        "colab_type": "code",
        "outputId": "4d6810ef-4ff9-43cb-936e-2ca5dc8c2822",
        "colab": {
          "base_uri": "https://localhost:8080/",
          "height": 34
        }
      },
      "source": [
        "now > bday_this_year"
      ],
      "execution_count": 159,
      "outputs": [
        {
          "output_type": "execute_result",
          "data": {
            "text/plain": [
              "False"
            ]
          },
          "metadata": {
            "tags": []
          },
          "execution_count": 159
        }
      ]
    },
    {
      "cell_type": "markdown",
      "metadata": {
        "id": "ochWoicSOQ1w",
        "colab_type": "text"
      },
      "source": [
        "The result is either `True` or `False`, which are special values in Python used to represent results from this kind of comparison.\n",
        "\n",
        "These values belong to a type called `bool`, short for \"Boolean algebra\", which is a branch of algebra where all values are either true or false. "
      ]
    },
    {
      "cell_type": "code",
      "metadata": {
        "id": "gBJzMPZIOQ1w",
        "colab_type": "code",
        "outputId": "074a43e8-e4ad-4245-cb1c-75a730585d5b",
        "colab": {
          "base_uri": "https://localhost:8080/",
          "height": 34
        }
      },
      "source": [
        "type(True)"
      ],
      "execution_count": 160,
      "outputs": [
        {
          "output_type": "execute_result",
          "data": {
            "text/plain": [
              "bool"
            ]
          },
          "metadata": {
            "tags": []
          },
          "execution_count": 160
        }
      ]
    },
    {
      "cell_type": "code",
      "metadata": {
        "id": "p6WIudUBOQ1z",
        "colab_type": "code",
        "outputId": "3aeedb61-f788-4c6c-95f0-c82d83c7c25f",
        "colab": {
          "base_uri": "https://localhost:8080/",
          "height": 34
        }
      },
      "source": [
        "type(False)"
      ],
      "execution_count": 161,
      "outputs": [
        {
          "output_type": "execute_result",
          "data": {
            "text/plain": [
              "bool"
            ]
          },
          "metadata": {
            "tags": []
          },
          "execution_count": 161
        }
      ]
    },
    {
      "cell_type": "markdown",
      "metadata": {
        "id": "ehGmPg-GOQ12",
        "colab_type": "text"
      },
      "source": [
        "**Exercise:** Any two people with different birthdays have a \"Double Day\" when one is twice as old as the other.\n",
        "\n",
        "Suppose you are given two `Timestamp` values, `d1` and `d2`, that represent birthdays for two people.  Use `Timestamp` arithmetic to compute their double day.\n",
        "\n",
        "Here are two example dates; with these dates, the result should be December 19, 2009."
      ]
    },
    {
      "cell_type": "code",
      "metadata": {
        "id": "Y3crtIbZOQ14",
        "colab_type": "code",
        "colab": {}
      },
      "source": [
        "d1 = pd.Timestamp('2003-07-12')"
      ],
      "execution_count": 0,
      "outputs": []
    },
    {
      "cell_type": "code",
      "metadata": {
        "id": "Z3_uxW0MOQ17",
        "colab_type": "code",
        "colab": {}
      },
      "source": [
        "d2 = pd.Timestamp('2006-09-30')"
      ],
      "execution_count": 0,
      "outputs": []
    },
    {
      "cell_type": "code",
      "metadata": {
        "id": "p-CiuwAbPh02",
        "colab_type": "code",
        "colab": {
          "base_uri": "https://localhost:8080/",
          "height": 34
        },
        "outputId": "03c4b268-ef19-4129-e8d9-6b561010070b"
      },
      "source": [
        "d3 = pd.Timestamp('2009-12-19')\n",
        "d3\n",
        "d3-d1"
      ],
      "execution_count": 164,
      "outputs": [
        {
          "output_type": "execute_result",
          "data": {
            "text/plain": [
              "Timedelta('2352 days 00:00:00')"
            ]
          },
          "metadata": {
            "tags": []
          },
          "execution_count": 164
        }
      ]
    },
    {
      "cell_type": "code",
      "metadata": {
        "id": "7MeobySMP5GY",
        "colab_type": "code",
        "colab": {
          "base_uri": "https://localhost:8080/",
          "height": 34
        },
        "outputId": "78bdceb0-249d-4920-f721-c74165432ff7"
      },
      "source": [
        "d3-d2"
      ],
      "execution_count": 165,
      "outputs": [
        {
          "output_type": "execute_result",
          "data": {
            "text/plain": [
              "Timedelta('1176 days 00:00:00')"
            ]
          },
          "metadata": {
            "tags": []
          },
          "execution_count": 165
        }
      ]
    },
    {
      "cell_type": "code",
      "metadata": {
        "id": "j_UUdVZwP-op",
        "colab_type": "code",
        "colab": {
          "base_uri": "https://localhost:8080/",
          "height": 34
        },
        "outputId": "f1db34e1-90c9-467b-89a2-d802276a03fd"
      },
      "source": [
        "1176/2352"
      ],
      "execution_count": 166,
      "outputs": [
        {
          "output_type": "execute_result",
          "data": {
            "text/plain": [
              "0.5"
            ]
          },
          "metadata": {
            "tags": []
          },
          "execution_count": 166
        }
      ]
    },
    {
      "cell_type": "markdown",
      "metadata": {
        "id": "dzt_n8HLOQ2H",
        "colab_type": "text"
      },
      "source": [
        "## Location\n",
        "\n",
        "There are many ways to represent geographical locations, but the most common, at least for global data, is latitude and longitude.\n",
        "\n",
        "When stored as strings, latitude and longitude are expressed in degrees with compass directions N, S, E, and W.  For example, this string represents the location of Boston, MA, USA:"
      ]
    },
    {
      "cell_type": "code",
      "metadata": {
        "id": "7DXxgDIWOQ2H",
        "colab_type": "code",
        "colab": {}
      },
      "source": [
        "lat_lon_string = '42.3601° N, 71.0589° W'"
      ],
      "execution_count": 0,
      "outputs": []
    },
    {
      "cell_type": "markdown",
      "metadata": {
        "id": "SRf_HrrNOQ2J",
        "colab_type": "text"
      },
      "source": [
        "When we compute with location information, we use floating-point numbers, with \n",
        "\n",
        "* Positive latitude for the northern hemisphere, negative latitude for the southern hemisphere, and \n",
        "\n",
        "* Positive longitude for the eastern hemisphere and negative latitude for the western hemisphere.\n",
        "\n",
        "Of course, the choice of the origin and the orientation of positive and negative are arbitrary choices that were made for historical reasons.  We might not be able to change conventions like these, but we should be aware that they are conventions.\n",
        "\n",
        "Here's how we might represent the location of Boston with two variables."
      ]
    },
    {
      "cell_type": "code",
      "metadata": {
        "id": "XwhFeX_2OQ2K",
        "colab_type": "code",
        "colab": {}
      },
      "source": [
        "lat = 42.3601\n",
        "lon = -71.0589"
      ],
      "execution_count": 0,
      "outputs": []
    },
    {
      "cell_type": "markdown",
      "metadata": {
        "id": "xdMPQwKIOQ2L",
        "colab_type": "text"
      },
      "source": [
        "It is also possible to combine two numbers into a composite value and assign it to a single variable:"
      ]
    },
    {
      "cell_type": "code",
      "metadata": {
        "id": "KuUzN6FkOQ2O",
        "colab_type": "code",
        "outputId": "a5702f4d-0392-4554-ea23-520eac67abe5",
        "colab": {
          "base_uri": "https://localhost:8080/",
          "height": 34
        }
      },
      "source": [
        "boston = lat, lon\n",
        "boston"
      ],
      "execution_count": 169,
      "outputs": [
        {
          "output_type": "execute_result",
          "data": {
            "text/plain": [
              "(42.3601, -71.0589)"
            ]
          },
          "metadata": {
            "tags": []
          },
          "execution_count": 169
        }
      ]
    },
    {
      "cell_type": "markdown",
      "metadata": {
        "id": "zs6v7KG_OQ2Q",
        "colab_type": "text"
      },
      "source": [
        "The type of this variable is `tuple`, which is a mathematical term for a value that contains a sequence of elements.  Math people pronounce it \"tuh' ple\", but computational people usually say \"too' ple\".  Take your pick."
      ]
    },
    {
      "cell_type": "code",
      "metadata": {
        "id": "J94ijOJlOQ2S",
        "colab_type": "code",
        "outputId": "1a08a397-3417-4eb9-f59b-f2db91daed86",
        "colab": {
          "base_uri": "https://localhost:8080/",
          "height": 34
        }
      },
      "source": [
        "type(boston)"
      ],
      "execution_count": 170,
      "outputs": [
        {
          "output_type": "execute_result",
          "data": {
            "text/plain": [
              "tuple"
            ]
          },
          "metadata": {
            "tags": []
          },
          "execution_count": 170
        }
      ]
    },
    {
      "cell_type": "markdown",
      "metadata": {
        "id": "HnfdUCuqOQ2U",
        "colab_type": "text"
      },
      "source": [
        "If you have a tuple with two elements, you can assign them to two variables, like this:"
      ]
    },
    {
      "cell_type": "code",
      "metadata": {
        "id": "1IyQcAyrOQ2U",
        "colab_type": "code",
        "outputId": "c07b21c0-94ce-4660-d31d-0644308f02e3",
        "colab": {
          "base_uri": "https://localhost:8080/",
          "height": 34
        }
      },
      "source": [
        "y, x = boston\n",
        "y"
      ],
      "execution_count": 171,
      "outputs": [
        {
          "output_type": "execute_result",
          "data": {
            "text/plain": [
              "42.3601"
            ]
          },
          "metadata": {
            "tags": []
          },
          "execution_count": 171
        }
      ]
    },
    {
      "cell_type": "code",
      "metadata": {
        "id": "8kVibN8FOQ2W",
        "colab_type": "code",
        "outputId": "b73f307f-ba52-42df-8a48-78845573bd08",
        "colab": {
          "base_uri": "https://localhost:8080/",
          "height": 34
        }
      },
      "source": [
        "x"
      ],
      "execution_count": 172,
      "outputs": [
        {
          "output_type": "execute_result",
          "data": {
            "text/plain": [
              "-71.0589"
            ]
          },
          "metadata": {
            "tags": []
          },
          "execution_count": 172
        }
      ]
    },
    {
      "cell_type": "markdown",
      "metadata": {
        "id": "WhhoKHaDOQ2b",
        "colab_type": "text"
      },
      "source": [
        "Notice that I assigned latitude to `y` and longitude to `x`, because a `y` coordinate usually goes up and down like latitude, and an `x` coordinate usually goes side-to-side like longitude."
      ]
    },
    {
      "cell_type": "markdown",
      "metadata": {
        "id": "UvIHm4E5OQ2c",
        "colab_type": "text"
      },
      "source": [
        "**Exercise:** Find the latitude and longitude of the place you were born or someplace you think of as your \"home town\".  [You can use this web page to look it up](https://www.latlong.net/), among others.\n",
        "\n",
        "Make a tuple of floating-point numbers that represents this location."
      ]
    },
    {
      "cell_type": "code",
      "metadata": {
        "id": "vMcwTcoyOQ2d",
        "colab_type": "code",
        "outputId": "039d69b7-7918-4774-b1ba-2a9116dd1035",
        "colab": {
          "base_uri": "https://localhost:8080/",
          "height": 34
        }
      },
      "source": [
        "lat = 37.765339\n",
        "lon = -122.241867\n",
        "y, x = lat, lon\n",
        "hometown = y, x\n",
        "hometown"
      ],
      "execution_count": 173,
      "outputs": [
        {
          "output_type": "execute_result",
          "data": {
            "text/plain": [
              "(37.765339, -122.241867)"
            ]
          },
          "metadata": {
            "tags": []
          },
          "execution_count": 173
        }
      ]
    },
    {
      "cell_type": "markdown",
      "metadata": {
        "id": "gZf5eLsWOQ2k",
        "colab_type": "text"
      },
      "source": [
        "## Distance\n",
        "\n",
        "If you are given two tuples that represent locations, you can compute the approximate distance between them, along the surface of the globe, using the haversine function.\n",
        "\n",
        "If you are curious about it, [you can read an explanation in this article](https://janakiev.com/blog/gps-points-distance-python/).\n",
        "\n",
        "To estimate a haversine distance, we have to compute the haversine function, which is defined:\n",
        "\n",
        "$\\mathrm{haversine}(θ)=\\sin^2(θ/2)$\n",
        "\n",
        "Where θ is an angle in radians.\n",
        "\n",
        "We can compute this function in Python like this:"
      ]
    },
    {
      "cell_type": "code",
      "metadata": {
        "id": "i2Y0WB05OQ2l",
        "colab_type": "code",
        "outputId": "133ab349-19bd-44d5-be5a-d8db923c0965",
        "colab": {
          "base_uri": "https://localhost:8080/",
          "height": 34
        }
      },
      "source": [
        "import numpy as np\n",
        "\n",
        "θ = 1\n",
        "np.sin(θ/2)**2"
      ],
      "execution_count": 174,
      "outputs": [
        {
          "output_type": "execute_result",
          "data": {
            "text/plain": [
              "0.22984884706593015"
            ]
          },
          "metadata": {
            "tags": []
          },
          "execution_count": 174
        }
      ]
    },
    {
      "cell_type": "markdown",
      "metadata": {
        "id": "naK7tQVzOQ2n",
        "colab_type": "text"
      },
      "source": [
        "You can use Greek letters in variable names, but there is currently no way to type them in Jupyter/Colab, so I usually copy them from a web page and paste them in.\n",
        "\n",
        "To avoid the inconvenience, it is more common to write out letter names, like this:"
      ]
    },
    {
      "cell_type": "code",
      "metadata": {
        "id": "B0DbIWDsOQ2p",
        "colab_type": "code",
        "outputId": "3fc8651f-c092-4dd3-9c2c-a4e085645e04",
        "colab": {
          "base_uri": "https://localhost:8080/",
          "height": 34
        }
      },
      "source": [
        "theta = 1\n",
        "np.sin(theta/2)**2"
      ],
      "execution_count": 175,
      "outputs": [
        {
          "output_type": "execute_result",
          "data": {
            "text/plain": [
              "0.22984884706593015"
            ]
          },
          "metadata": {
            "tags": []
          },
          "execution_count": 175
        }
      ]
    },
    {
      "cell_type": "markdown",
      "metadata": {
        "id": "RzluPXPlOQ2s",
        "colab_type": "text"
      },
      "source": [
        "**Exercise:** This is a good time to remind you that the operator for exponentiation is `**`.  \n",
        "\n",
        "In some other languages the operator for exponentiation is `^`.  That is also an operator in Python, but it performs another operation altogether.\n",
        "\n",
        "Try out the previous expression, replacing `**` with `^`, and see what error message you get.  Remember this message in case you see it in the future!"
      ]
    },
    {
      "cell_type": "code",
      "metadata": {
        "id": "z2B4fJewOQ2y",
        "colab_type": "code",
        "outputId": "f93a4d8a-1aed-49d2-a1e6-f419b9b01475",
        "colab": {
          "base_uri": "https://localhost:8080/",
          "height": 201
        }
      },
      "source": [
        "theta = 1\n",
        "np.sin(theta/2)^2"
      ],
      "execution_count": 176,
      "outputs": [
        {
          "output_type": "error",
          "ename": "TypeError",
          "evalue": "ignored",
          "traceback": [
            "\u001b[0;31m---------------------------------------------------------------------------\u001b[0m",
            "\u001b[0;31mTypeError\u001b[0m                                 Traceback (most recent call last)",
            "\u001b[0;32m<ipython-input-176-9d2b1b35f2e7>\u001b[0m in \u001b[0;36m<module>\u001b[0;34m()\u001b[0m\n\u001b[1;32m      1\u001b[0m \u001b[0mtheta\u001b[0m \u001b[0;34m=\u001b[0m \u001b[0;36m1\u001b[0m\u001b[0;34m\u001b[0m\u001b[0;34m\u001b[0m\u001b[0m\n\u001b[0;32m----> 2\u001b[0;31m \u001b[0mnp\u001b[0m\u001b[0;34m.\u001b[0m\u001b[0msin\u001b[0m\u001b[0;34m(\u001b[0m\u001b[0mtheta\u001b[0m\u001b[0;34m/\u001b[0m\u001b[0;36m2\u001b[0m\u001b[0;34m)\u001b[0m\u001b[0;34m^\u001b[0m\u001b[0;36m2\u001b[0m\u001b[0;34m\u001b[0m\u001b[0;34m\u001b[0m\u001b[0m\n\u001b[0m",
            "\u001b[0;31mTypeError\u001b[0m: ufunc 'bitwise_xor' not supported for the input types, and the inputs could not be safely coerced to any supported types according to the casting rule ''safe''"
          ]
        }
      ]
    },
    {
      "cell_type": "markdown",
      "metadata": {
        "id": "7Cyel2zVOQ28",
        "colab_type": "text"
      },
      "source": [
        "## Defining functions\n",
        "\n",
        "At this point you don't have to understand how to define a new function.  But you will see function defininitions, so I want to explain the basics now. \n",
        "\n",
        "If we are planning to use an expression like `np.sin(theta/2)**2` more than a few times, we can define a new function that compute it, like this:"
      ]
    },
    {
      "cell_type": "code",
      "metadata": {
        "id": "9IUcuQaMOQ29",
        "colab_type": "code",
        "colab": {}
      },
      "source": [
        "def haversine(theta):\n",
        "    \"\"\"Compute the haversine function of theta.\"\"\"\n",
        "    return np.sin(theta/2)**2"
      ],
      "execution_count": 0,
      "outputs": []
    },
    {
      "cell_type": "markdown",
      "metadata": {
        "id": "VrJvU63bOQ3B",
        "colab_type": "text"
      },
      "source": [
        "On the first line, `def` indicates that we are defining a function.\n",
        "\n",
        "The second line is a \"triple-quoted string\", which describes what the function does, but it has no effect when the program runs.\n",
        "\n",
        "On the third line, `return` indicates the result of the function.\n",
        "\n",
        "When you run the previous cell, it creates a new variable called `haversine`.  You can display its value like this:"
      ]
    },
    {
      "cell_type": "code",
      "metadata": {
        "id": "kbg3L09xOQ3C",
        "colab_type": "code",
        "outputId": "54b7ff5b-c32b-4b42-dbb3-7d4998b0a9ec",
        "colab": {
          "base_uri": "https://localhost:8080/",
          "height": 34
        }
      },
      "source": [
        "haversine"
      ],
      "execution_count": 178,
      "outputs": [
        {
          "output_type": "execute_result",
          "data": {
            "text/plain": [
              "<function __main__.haversine>"
            ]
          },
          "metadata": {
            "tags": []
          },
          "execution_count": 178
        }
      ]
    },
    {
      "cell_type": "markdown",
      "metadata": {
        "id": "r5nJkrISOQ3F",
        "colab_type": "text"
      },
      "source": [
        "And you can display its type like this:"
      ]
    },
    {
      "cell_type": "code",
      "metadata": {
        "id": "B9HXz3_JOQ3F",
        "colab_type": "code",
        "outputId": "0d93d6ce-a0d6-49bb-acfc-02a6b7ffc1c8",
        "colab": {
          "base_uri": "https://localhost:8080/",
          "height": 34
        }
      },
      "source": [
        "type(haversine)"
      ],
      "execution_count": 179,
      "outputs": [
        {
          "output_type": "execute_result",
          "data": {
            "text/plain": [
              "function"
            ]
          },
          "metadata": {
            "tags": []
          },
          "execution_count": 179
        }
      ]
    },
    {
      "cell_type": "markdown",
      "metadata": {
        "id": "nVQuXPU2OQ3H",
        "colab_type": "text"
      },
      "source": [
        "So `haversin` is a variable that refers to a function.\n",
        "\n",
        "To run the function and compute a result, we have to \"call\" the function and provide a value for `theta`:"
      ]
    },
    {
      "cell_type": "code",
      "metadata": {
        "id": "jwevUONwOQ3I",
        "colab_type": "code",
        "outputId": "eabeb14a-71e6-4d1e-9359-2699683920e3",
        "colab": {
          "base_uri": "https://localhost:8080/",
          "height": 34
        }
      },
      "source": [
        "haversine(1)\n"
      ],
      "execution_count": 180,
      "outputs": [
        {
          "output_type": "execute_result",
          "data": {
            "text/plain": [
              "0.22984884706593015"
            ]
          },
          "metadata": {
            "tags": []
          },
          "execution_count": 180
        }
      ]
    },
    {
      "cell_type": "markdown",
      "metadata": {
        "id": "zwrGX1GnOQ3K",
        "colab_type": "text"
      },
      "source": [
        "When you define a function, you create a new variable.  But the function doesn't actually run until you call it."
      ]
    },
    {
      "cell_type": "markdown",
      "metadata": {
        "id": "BcDxCm9eOQ3L",
        "colab_type": "text"
      },
      "source": [
        "## Haversine distance\n",
        "\n",
        "Now we can use `haversine` as part of a function that computes haversine distances.\n",
        "\n",
        "I won't explain this function in as much detail, but if you read through it, you might get a sense of how it works."
      ]
    },
    {
      "cell_type": "code",
      "metadata": {
        "id": "d3nIhfdZOQ3M",
        "colab_type": "code",
        "colab": {}
      },
      "source": [
        "def haversine_distance(coord1, coord2):\n",
        "    \"\"\"Haversine distance between two locations.\n",
        "    \n",
        "    coord1: lat-lon as tuple of float \n",
        "    coord2: lat-lon as tuple of float\n",
        "    \n",
        "    returns: distance in km\n",
        "    \"\"\"\n",
        "    R = 6372.8  # Earth radius in km\n",
        "    lat1, lon1 = coord1\n",
        "    lat2, lon2 = coord2\n",
        "    \n",
        "    phi1, phi2 = np.radians(lat1), np.radians(lat2) \n",
        "    dphi       = np.radians(lat2 - lat1)\n",
        "    dlambda    = np.radians(lon2 - lon1)\n",
        "    \n",
        "    a = haversine(dphi) + np.cos(phi1)*np.cos(phi2)*haversine(dlambda)\n",
        "    \n",
        "    distance = 2*R*np.arctan2(np.sqrt(a), np.sqrt(1 - a))\n",
        "    \n",
        "    return distance"
      ],
      "execution_count": 0,
      "outputs": []
    },
    {
      "cell_type": "markdown",
      "metadata": {
        "id": "ynIafCjjOQ3P",
        "colab_type": "text"
      },
      "source": [
        "When we call this function, we provide two tuples, each representing a latitude and a longitude.\n",
        "\n",
        "We already have a tuple that represents the location of Boston.\n",
        "Now here's a tuple that represents the location of London, England, UK:"
      ]
    },
    {
      "cell_type": "code",
      "metadata": {
        "id": "nPhuc-4fOQ3P",
        "colab_type": "code",
        "colab": {}
      },
      "source": [
        "london = 51.5074, -0.1278"
      ],
      "execution_count": 0,
      "outputs": []
    },
    {
      "cell_type": "markdown",
      "metadata": {
        "id": "lZTwAEnuOQ3U",
        "colab_type": "text"
      },
      "source": [
        "And here's the haversine distance between Boston and London."
      ]
    },
    {
      "cell_type": "code",
      "metadata": {
        "id": "g9wpztduOQ3U",
        "colab_type": "code",
        "outputId": "11773d7a-f0cc-420b-b674-6536309c3fa4",
        "colab": {
          "base_uri": "https://localhost:8080/",
          "height": 34
        }
      },
      "source": [
        "haversine_distance(boston, london)"
      ],
      "execution_count": 183,
      "outputs": [
        {
          "output_type": "execute_result",
          "data": {
            "text/plain": [
              "5265.656325981015"
            ]
          },
          "metadata": {
            "tags": []
          },
          "execution_count": 183
        }
      ]
    },
    {
      "cell_type": "markdown",
      "metadata": {
        "id": "BQxycYnlOQ3W",
        "colab_type": "text"
      },
      "source": [
        "The actual geographic distance is slightly different because Earth is not a perfect sphere.  But the error of this estimate is less than 1%."
      ]
    },
    {
      "cell_type": "markdown",
      "metadata": {
        "id": "0D1D-I-MOQ3W",
        "colab_type": "text"
      },
      "source": [
        "**Exercise:** Use `haversine_distance` to compute the distance between Boston and your \"home town\" from the previous exercise.\n",
        "\n",
        "If possible, use an online map to check the result."
      ]
    },
    {
      "cell_type": "code",
      "metadata": {
        "id": "6kfJtvQfOQ3X",
        "colab_type": "code",
        "outputId": "9dd0119e-355d-46f2-cdff-f125d0f3f2a4",
        "colab": {
          "base_uri": "https://localhost:8080/",
          "height": 34
        }
      },
      "source": [
        "haversine_distance(boston, hometown)"
      ],
      "execution_count": 184,
      "outputs": [
        {
          "output_type": "execute_result",
          "data": {
            "text/plain": [
              "4320.98680876001"
            ]
          },
          "metadata": {
            "tags": []
          },
          "execution_count": 184
        }
      ]
    },
    {
      "cell_type": "markdown",
      "metadata": {
        "id": "EjfFrLcrOQ3e",
        "colab_type": "text"
      },
      "source": [
        "## Geopandas\n",
        "\n",
        "Python provides libraries for working with geographical data.  One of the most popular is Geopandas, which is based on another library called Shapely.  I'll introduce these libraries here, and we'll come back to them later.\n",
        "\n",
        "Shapely provides `Point` and `LineString` values, which we'll use to represent geographic locations and lines between locations."
      ]
    },
    {
      "cell_type": "code",
      "metadata": {
        "id": "iisXmQzyOQ3f",
        "colab_type": "code",
        "colab": {}
      },
      "source": [
        "from shapely.geometry import Point, LineString"
      ],
      "execution_count": 0,
      "outputs": []
    },
    {
      "cell_type": "markdown",
      "metadata": {
        "id": "ovY3Ya-cOQ3k",
        "colab_type": "text"
      },
      "source": [
        "We can use the tuples we defined in the previous section to create Shapely `Point` values, but we have to reverse the order of the coordinates, providing them in x-y order rather than lat-lon order, because that's the order the `Point` function expects."
      ]
    },
    {
      "cell_type": "code",
      "metadata": {
        "id": "vhRjy5sPOQ3l",
        "colab_type": "code",
        "colab": {}
      },
      "source": [
        "lat, lon = boston\n",
        "p1 = Point(lon, lat)"
      ],
      "execution_count": 0,
      "outputs": []
    },
    {
      "cell_type": "code",
      "metadata": {
        "id": "MtUkaVcIOQ3n",
        "colab_type": "code",
        "colab": {}
      },
      "source": [
        "lat, lon = london\n",
        "p2 = Point(lon, lat)"
      ],
      "execution_count": 0,
      "outputs": []
    },
    {
      "cell_type": "markdown",
      "metadata": {
        "id": "JhPS8sUeOQ3q",
        "colab_type": "text"
      },
      "source": [
        "If we display a `Point` value, we get a graphical representation, but not a very useful one."
      ]
    },
    {
      "cell_type": "code",
      "metadata": {
        "id": "XoJvZEOEOQ3r",
        "colab_type": "code",
        "outputId": "a266c0c4-e4bb-4372-9d9c-0fb61617caa6",
        "colab": {
          "base_uri": "https://localhost:8080/",
          "height": 121
        }
      },
      "source": [
        "p1"
      ],
      "execution_count": 188,
      "outputs": [
        {
          "output_type": "execute_result",
          "data": {
            "text/plain": [
              "<shapely.geometry.point.Point at 0x7f81b0aadcc0>"
            ],
            "image/svg+xml": "<svg xmlns=\"http://www.w3.org/2000/svg\" xmlns:xlink=\"http://www.w3.org/1999/xlink\" width=\"100.0\" height=\"100.0\" viewBox=\"-72.0589 41.3601 2.0 2.0\" preserveAspectRatio=\"xMinYMin meet\"><g transform=\"matrix(1,0,0,-1,0,84.7202)\"><circle cx=\"-71.0589\" cy=\"42.3601\" r=\"0.06\" stroke=\"#555555\" stroke-width=\"0.02\" fill=\"#66cc99\" opacity=\"0.6\" /></g></svg>"
          },
          "metadata": {
            "tags": []
          },
          "execution_count": 188
        }
      ]
    },
    {
      "cell_type": "markdown",
      "metadata": {
        "id": "_OeK172uOQ3u",
        "colab_type": "text"
      },
      "source": [
        "Soon we will see how to plot a `Point`, more usefully, on a map."
      ]
    },
    {
      "cell_type": "markdown",
      "metadata": {
        "id": "mr1TWcyBOQ3v",
        "colab_type": "text"
      },
      "source": [
        "We can use the points we just defined to create a `LineString`:"
      ]
    },
    {
      "cell_type": "code",
      "metadata": {
        "id": "fM3hmizzOQ3v",
        "colab_type": "code",
        "colab": {}
      },
      "source": [
        "line = LineString([p1, p2])"
      ],
      "execution_count": 0,
      "outputs": []
    },
    {
      "cell_type": "markdown",
      "metadata": {
        "id": "aCrZHZk2OQ3z",
        "colab_type": "text"
      },
      "source": [
        "If we display the result, we get another not very useful graphical representation."
      ]
    },
    {
      "cell_type": "code",
      "metadata": {
        "id": "HcgQZFnJOQ3z",
        "colab_type": "code",
        "outputId": "36f06d80-0334-4456-f129-bfd173ddb0c1",
        "colab": {
          "base_uri": "https://localhost:8080/",
          "height": 121
        }
      },
      "source": [
        "line"
      ],
      "execution_count": 190,
      "outputs": [
        {
          "output_type": "execute_result",
          "data": {
            "text/plain": [
              "<shapely.geometry.linestring.LineString at 0x7f81b0ab52e8>"
            ],
            "image/svg+xml": "<svg xmlns=\"http://www.w3.org/2000/svg\" xmlns:xlink=\"http://www.w3.org/1999/xlink\" width=\"100.0\" height=\"100.0\" viewBox=\"-73.89614399999999 39.522856000000004 76.605588 14.82178799999999\" preserveAspectRatio=\"xMinYMin meet\"><g transform=\"matrix(1,0,0,-1,0,93.8675)\"><polyline fill=\"none\" stroke=\"#66cc99\" stroke-width=\"1.53211176\" points=\"-71.0589,42.3601 -0.1278,51.5074\" opacity=\"0.8\" /></g></svg>"
          },
          "metadata": {
            "tags": []
          },
          "execution_count": 190
        }
      ]
    },
    {
      "cell_type": "markdown",
      "metadata": {
        "id": "7VI_Eu5yOQ31",
        "colab_type": "text"
      },
      "source": [
        "However, now we can use Geopandas to show these points and lines on a map.\n",
        "\n",
        "If you are running this notebook on Colab, the following cell will install Geopandas, which should only take a few seconds.  It uses features we have not seen yet; you might be able to read it and guess how it works, but you don't have to."
      ]
    },
    {
      "cell_type": "code",
      "metadata": {
        "id": "XPciH42cOQ32",
        "colab_type": "code",
        "outputId": "54a8d8ba-90c6-4c67-f93e-7357f01db78e",
        "colab": {
          "base_uri": "https://localhost:8080/",
          "height": 462
        }
      },
      "source": [
        "import sys\n",
        "IN_COLAB = 'google.colab' in sys.modules\n",
        "\n",
        "if IN_COLAB:\n",
        "    !pip install geopandas"
      ],
      "execution_count": 191,
      "outputs": [
        {
          "output_type": "stream",
          "text": [
            "Collecting geopandas\n",
            "\u001b[?25l  Downloading https://files.pythonhosted.org/packages/5b/0c/e6c99e561b03482220f00443f610ccf4dce9b50f4b1093d735f93c6fc8c6/geopandas-0.6.2-py2.py3-none-any.whl (919kB)\n",
            "\u001b[K     |████████████████████████████████| 921kB 2.8MB/s \n",
            "\u001b[?25hRequirement already satisfied: shapely in /usr/local/lib/python3.6/dist-packages (from geopandas) (1.7.0)\n",
            "Collecting fiona\n",
            "\u001b[?25l  Downloading https://files.pythonhosted.org/packages/50/f7/9899f8a9a2e38601472fe1079ce5088f58833221c8b8507d8b5eafd5404a/Fiona-1.8.13-cp36-cp36m-manylinux1_x86_64.whl (11.8MB)\n",
            "\u001b[K     |████████████████████████████████| 11.8MB 15.7MB/s \n",
            "\u001b[?25hRequirement already satisfied: pandas>=0.23.0 in /usr/local/lib/python3.6/dist-packages (from geopandas) (0.25.3)\n",
            "Collecting pyproj\n",
            "\u001b[?25l  Downloading https://files.pythonhosted.org/packages/d6/70/eedc98cd52b86de24a1589c762612a98bea26cde649ffdd60c1db396cce8/pyproj-2.4.2.post1-cp36-cp36m-manylinux2010_x86_64.whl (10.1MB)\n",
            "\u001b[K     |████████████████████████████████| 10.1MB 48.0MB/s \n",
            "\u001b[?25hRequirement already satisfied: six>=1.7 in /usr/local/lib/python3.6/dist-packages (from fiona->geopandas) (1.12.0)\n",
            "Collecting munch\n",
            "  Downloading https://files.pythonhosted.org/packages/cc/ab/85d8da5c9a45e072301beb37ad7f833cd344e04c817d97e0cc75681d248f/munch-2.5.0-py2.py3-none-any.whl\n",
            "Requirement already satisfied: attrs>=17 in /usr/local/lib/python3.6/dist-packages (from fiona->geopandas) (19.3.0)\n",
            "Requirement already satisfied: click<8,>=4.0 in /usr/local/lib/python3.6/dist-packages (from fiona->geopandas) (7.0)\n",
            "Collecting cligj>=0.5\n",
            "  Downloading https://files.pythonhosted.org/packages/e4/be/30a58b4b0733850280d01f8bd132591b4668ed5c7046761098d665ac2174/cligj-0.5.0-py3-none-any.whl\n",
            "Collecting click-plugins>=1.0\n",
            "  Downloading https://files.pythonhosted.org/packages/e9/da/824b92d9942f4e472702488857914bdd50f73021efea15b4cad9aca8ecef/click_plugins-1.1.1-py2.py3-none-any.whl\n",
            "Requirement already satisfied: pytz>=2017.2 in /usr/local/lib/python3.6/dist-packages (from pandas>=0.23.0->geopandas) (2018.9)\n",
            "Requirement already satisfied: python-dateutil>=2.6.1 in /usr/local/lib/python3.6/dist-packages (from pandas>=0.23.0->geopandas) (2.6.1)\n",
            "Requirement already satisfied: numpy>=1.13.3 in /usr/local/lib/python3.6/dist-packages (from pandas>=0.23.0->geopandas) (1.17.5)\n",
            "Installing collected packages: munch, cligj, click-plugins, fiona, pyproj, geopandas\n",
            "Successfully installed click-plugins-1.1.1 cligj-0.5.0 fiona-1.8.13 geopandas-0.6.2 munch-2.5.0 pyproj-2.4.2.post1\n"
          ],
          "name": "stdout"
        }
      ]
    },
    {
      "cell_type": "markdown",
      "metadata": {
        "id": "37pyRyXlOQ34",
        "colab_type": "text"
      },
      "source": [
        "Now the following import statement should work."
      ]
    },
    {
      "cell_type": "code",
      "metadata": {
        "id": "0qdCaqbZOQ35",
        "colab_type": "code",
        "colab": {}
      },
      "source": [
        "import geopandas as gpd"
      ],
      "execution_count": 0,
      "outputs": []
    },
    {
      "cell_type": "markdown",
      "metadata": {
        "id": "YuTzNcylOQ36",
        "colab_type": "text"
      },
      "source": [
        "If you are running this notebook on Colab, the libraries you install disappear when you shut down the notebook.  When you start the notebook again, you have to install them again."
      ]
    },
    {
      "cell_type": "markdown",
      "metadata": {
        "id": "kXRr6AcJOQ37",
        "colab_type": "text"
      },
      "source": [
        "The following code loads a map of the world and plots it."
      ]
    },
    {
      "cell_type": "code",
      "metadata": {
        "id": "_IPU63cEOQ38",
        "colab_type": "code",
        "outputId": "e8701d3e-c605-45e7-cef0-714d84363b3a",
        "colab": {
          "base_uri": "https://localhost:8080/",
          "height": 209
        }
      },
      "source": [
        "path = gpd.datasets.get_path('naturalearth_lowres')\n",
        "world = gpd.read_file(path)\n",
        "world.plot(color='white', edgecolor='gray');"
      ],
      "execution_count": 193,
      "outputs": [
        {
          "output_type": "display_data",
          "data": {
            "image/png": "[encoded data removed]",
            "text/plain": [
              "<Figure size 432x288 with 1 Axes>"
            ]
          },
          "metadata": {
            "tags": []
          }
        }
      ]
    },
    {
      "cell_type": "markdown",
      "metadata": {
        "id": "zHFWUU-BOQ3-",
        "colab_type": "text"
      },
      "source": [
        "Here's a version that just plots North America and Europe:"
      ]
    },
    {
      "cell_type": "code",
      "metadata": {
        "id": "Uu9EToF6OQ4D",
        "colab_type": "code",
        "outputId": "c5e6f435-3428-4487-c68c-7e2265fa769f",
        "colab": {
          "base_uri": "https://localhost:8080/",
          "height": 124
        }
      },
      "source": [
        "north_america = world.continent == 'North America'\n",
        "europe = world.continent == 'Europe'\n",
        "region = world[north_america | europe]\n",
        "region.plot(color='white', edgecolor='gray');"
      ],
      "execution_count": 194,
      "outputs": [
        {
          "output_type": "display_data",
          "data": {
            "image/png": "[encoded data removed]",
            "text/plain": [
              "<Figure size 432x288 with 1 Axes>"
            ]
          },
          "metadata": {
            "tags": []
          }
        }
      ]
    },
    {
      "cell_type": "markdown",
      "metadata": {
        "id": "I6UP3Rp9OQ4H",
        "colab_type": "text"
      },
      "source": [
        "Notice:\n",
        "\n",
        "* By default, Geopandas uses the political definition of \"Europe\", which includes the part of Russia that is on the Asian continent.\n",
        "\n",
        "* It also uses an [equirectangular projection](https://en.wikipedia.org/wiki/Equirectangular_projection), which provides a misleading picture of relative land areas.\n",
        "\n",
        "You can't make a map without making visualization decisions.\n",
        "\n",
        "Now let's put dots on the map for Boston and London.  We have to put the `Point` values and the `LineString` into a `GeoSeries`, which provides a `plot` function:"
      ]
    },
    {
      "cell_type": "code",
      "metadata": {
        "id": "pC5eSl46OQ4J",
        "colab_type": "code",
        "outputId": "64137775-b634-47ae-e528-675ac29d6861",
        "colab": {
          "base_uri": "https://localhost:8080/",
          "height": 92
        }
      },
      "source": [
        "t = [p1, p2, line]\n",
        "series = gpd.GeoSeries(t)\n",
        "series.plot();"
      ],
      "execution_count": 195,
      "outputs": [
        {
          "output_type": "display_data",
          "data": {
            "image/png": "[encoded data removed]",
            "text/plain": [
              "<Figure size 432x288 with 1 Axes>"
            ]
          },
          "metadata": {
            "tags": []
          }
        }
      ]
    },
    {
      "cell_type": "markdown",
      "metadata": {
        "id": "WUrbNdX6OQ4M",
        "colab_type": "text"
      },
      "source": [
        "Here's a first attempt to plot the maps and the lines together:"
      ]
    },
    {
      "cell_type": "code",
      "metadata": {
        "id": "-bHcObFgOQ4M",
        "colab_type": "code",
        "outputId": "ccf71f1f-fc9c-48ee-a866-2bee472eaf86",
        "colab": {
          "base_uri": "https://localhost:8080/",
          "height": 199
        }
      },
      "source": [
        "# plot the map\n",
        "region.plot(color='white', edgecolor='gray')\n",
        "\n",
        "# plot Boston, London, and the line\n",
        "series.plot();"
      ],
      "execution_count": 196,
      "outputs": [
        {
          "output_type": "display_data",
          "data": {
            "image/png": "[encoded data removed]",
            "text/plain": [
              "<Figure size 432x288 with 1 Axes>"
            ]
          },
          "metadata": {
            "tags": []
          }
        },
        {
          "output_type": "display_data",
          "data": {
            "image/png": "[encoded data removed]",
            "text/plain": [
              "<Figure size 432x288 with 1 Axes>"
            ]
          },
          "metadata": {
            "tags": []
          }
        }
      ]
    },
    {
      "cell_type": "markdown",
      "metadata": {
        "id": "VDGEIh_EOQ4V",
        "colab_type": "text"
      },
      "source": [
        "GeoPandas puts the two plots on different axes, which is not what we want in this case.\n",
        "\n",
        "To get the points and the map on the same axes, we have to use a function from Matplotlib, which is a visualization library we will use extensively."
      ]
    },
    {
      "cell_type": "code",
      "metadata": {
        "id": "JD_gLv2MOQ4W",
        "colab_type": "code",
        "colab": {}
      },
      "source": [
        "import matplotlib.pyplot as plt"
      ],
      "execution_count": 0,
      "outputs": []
    },
    {
      "cell_type": "markdown",
      "metadata": {
        "id": "e9hBTJt3OQ4Y",
        "colab_type": "text"
      },
      "source": [
        "The function is `gca`, which stands for \"get current axes\".  We can use the result to tell `plot` to put the points and lines on the current axes, rather than create a new one."
      ]
    },
    {
      "cell_type": "code",
      "metadata": {
        "id": "MDGh6waFOQ4Z",
        "colab_type": "code",
        "outputId": "f4b6647b-17aa-4ade-e7c3-f7511acd3f1f",
        "colab": {
          "base_uri": "https://localhost:8080/",
          "height": 124
        }
      },
      "source": [
        "ax = plt.gca()\n",
        "\n",
        "# plot the map\n",
        "region.plot(color='white', edgecolor='gray', ax=ax)\n",
        "\n",
        "# plot Boston, London, and the line\n",
        "series.plot(ax=ax);"
      ],
      "execution_count": 198,
      "outputs": [
        {
          "output_type": "display_data",
          "data": {
            "image/png": "[encoded data removed]",
            "text/plain": [
              "<Figure size 432x288 with 1 Axes>"
            ]
          },
          "metadata": {
            "tags": []
          }
        }
      ]
    },
    {
      "cell_type": "markdown",
      "metadata": {
        "id": "32NvNPnbOQ4b",
        "colab_type": "text"
      },
      "source": [
        "We can also use `plt.figure` to set the figure size."
      ]
    },
    {
      "cell_type": "code",
      "metadata": {
        "id": "agYD9QdGOQ4c",
        "colab_type": "code",
        "outputId": "fa3e77bf-9dcb-48c8-fd69-2d9528848eec",
        "colab": {
          "base_uri": "https://localhost:8080/",
          "height": 371
        }
      },
      "source": [
        "plt.figure(figsize=(12, 12))\n",
        "ax = plt.gca()\n",
        "\n",
        "# plot the map\n",
        "world.plot(color='white', edgecolor='gray', ax=ax)\n",
        "\n",
        "# plot Boston, London, and the line\n",
        "series.plot(ax=ax);"
      ],
      "execution_count": 199,
      "outputs": [
        {
          "output_type": "display_data",
          "data": {
            "image/png": "[encoded data removed]",
            "text/plain": [
              "<Figure size 864x864 with 1 Axes>"
            ]
          },
          "metadata": {
            "tags": []
          }
        }
      ]
    },
    {
      "cell_type": "markdown",
      "metadata": {
        "id": "z6WPRE1DOQ4f",
        "colab_type": "text"
      },
      "source": [
        "There are a few features in this example we have not explained completely, but hopefully you get the idea.  We will come back to Geopandas later."
      ]
    },
    {
      "cell_type": "markdown",
      "metadata": {
        "id": "WcASgkxROQ4f",
        "colab_type": "text"
      },
      "source": [
        "**Exercise:** Modify the code in the previous section to plot a point that shows the \"home town\" you chose in a previous exercise and a line from there to Boston.\n",
        "\n",
        "Then go to [this online survey](https://forms.gle/2LDcqxJmcWY3Q3X47) and answer the questions there.  We will use your responses for an upcoming example."
      ]
    },
    {
      "cell_type": "code",
      "metadata": {
        "id": "bG2md_7Mybpx",
        "colab_type": "code",
        "colab": {
          "base_uri": "https://localhost:8080/",
          "height": 121
        },
        "outputId": "05cfeda7-1ca0-4c09-f7bd-6d97c30cd451"
      },
      "source": [
        "#boston lon = -71.058884, lat = 42.360081\n",
        "#alameda lon = -122.241867, lat = 37.765339\n",
        "lat, lon = boston\n",
        "boston\n",
        "p2 = Point(lon, lat)\n",
        "lat2 = 37.765339\n",
        "lon2 = -122.241867\n",
        "alameda = lat2, lon2 \n",
        "p1 = Point(lon2, lat2)\n",
        "\n",
        "#Boston to Alameda\n",
        "line = LineString([p1, p2])\n",
        "line"
      ],
      "execution_count": 207,
      "outputs": [
        {
          "output_type": "execute_result",
          "data": {
            "text/plain": [
              "<shapely.geometry.linestring.LineString at 0x7f81aa3e3630>"
            ],
            "image/svg+xml": "<svg xmlns=\"http://www.w3.org/2000/svg\" xmlns:xlink=\"http://www.w3.org/1999/xlink\" width=\"100.0\" height=\"100.0\" viewBox=\"-124.28918568 35.718020319999994 55.27760436000001 8.689398360000013\" preserveAspectRatio=\"xMinYMin meet\"><g transform=\"matrix(1,0,0,-1,0,80.125439)\"><polyline fill=\"none\" stroke=\"#66cc99\" stroke-width=\"1.1055520872000002\" points=\"-122.241867,37.765339 -71.0589,42.3601\" opacity=\"0.8\" /></g></svg>"
          },
          "metadata": {
            "tags": []
          },
          "execution_count": 207
        }
      ]
    },
    {
      "cell_type": "code",
      "metadata": {
        "id": "rQV-nEuQOQ4g",
        "colab_type": "code",
        "outputId": "5ba9a73a-77da-4c87-9d52-43e64d5362c4",
        "colab": {
          "base_uri": "https://localhost:8080/",
          "height": 81
        }
      },
      "source": [
        "t = [p1, p2, line]\n",
        "series = gpd.GeoSeries(t)\n",
        "series.plot();"
      ],
      "execution_count": 208,
      "outputs": [
        {
          "output_type": "display_data",
          "data": {
            "image/png": "[encoded data removed]",
            "text/plain": [
              "<Figure size 432x288 with 1 Axes>"
            ]
          },
          "metadata": {
            "tags": []
          }
        }
      ]
    },
    {
      "cell_type": "code",
      "metadata": {
        "id": "DYemAOuotRR3",
        "colab_type": "code",
        "colab": {}
      },
      "source": [
        "# plot the map\n",
        "region.plot(color='white', edgecolor='gray')\n",
        "\n",
        "# plot Alameda, Boston, and the line\n",
        "series.plot();"
      ],
      "execution_count": 0,
      "outputs": []
    },
    {
      "cell_type": "code",
      "metadata": {
        "id": "04Vqhg6qq1Qy",
        "colab_type": "code",
        "outputId": "876220d0-8204-41cd-efac-3c7a49e8f47e",
        "colab": {
          "base_uri": "https://localhost:8080/",
          "height": 124
        }
      },
      "source": [
        "ax = plt.gca()\n",
        "\n",
        "# plot the map\n",
        "region.plot(color='white', edgecolor='gray', ax=ax)\n",
        "\n",
        "# plot Alameda, Boston, and the line\n",
        "series.plot(ax=ax);"
      ],
      "execution_count": 209,
      "outputs": [
        {
          "output_type": "display_data",
          "data": {
            "image/png": "[encoded data removed]",
            "text/plain": [
              "<Figure size 432x288 with 1 Axes>"
            ]
          },
          "metadata": {
            "tags": []
          }
        }
      ]
    },
    {
      "cell_type": "code",
      "metadata": {
        "id": "ukrTxjkKz5ko",
        "colab_type": "code",
        "colab": {
          "base_uri": "https://localhost:8080/",
          "height": 371
        },
        "outputId": "d2c28a9a-79a8-4673-8be8-5ebd1faf5138"
      },
      "source": [
        "plt.figure(figsize=(12, 12))\n",
        "ax = plt.gca()\n",
        "\n",
        "# plot the map\n",
        "world.plot(color='white', edgecolor='gray', ax=ax)\n",
        "\n",
        "# plot Alameda, Boston, and the line\n",
        "series.plot(ax=ax);"
      ],
      "execution_count": 210,
      "outputs": [
        {
          "output_type": "display_data",
          "data": {
            "image/png": "[encoded data removed]",
            "text/plain": [
              "<Figure size 864x864 with 1 Axes>"
            ]
          },
          "metadata": {
            "tags": []
          }
        }
      ]
    }
  ]
}